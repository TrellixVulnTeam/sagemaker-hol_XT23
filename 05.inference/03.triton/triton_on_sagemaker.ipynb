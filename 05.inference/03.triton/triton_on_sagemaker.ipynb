{
 "cells": [
  {
   "cell_type": "markdown",
   "id": "e958fa32",
   "metadata": {},
   "source": [
    "# Inference w/ Triton\n",
    "- NVIDIA Triton 추론 서버로 AI 개발 ‘뚝딱’: https://blogs.nvidia.co.kr/2021/06/04/simplifying-ai-inference-in-production-with-triton/\n",
    "- Triton on SageMaker - NLP Bert: https://github.com/aws/amazon-sagemaker-examples/blob/master/sagemaker-triton/nlp_bert/triton_nlp_bert.ipynb"
   ]
  },
  {
   "cell_type": "markdown",
   "id": "1c75a7a4",
   "metadata": {},
   "source": [
    "## 환경 설정\n",
    "- conda: `conda_python3`"
   ]
  },
  {
   "cell_type": "code",
   "execution_count": 1,
   "id": "7f9de729",
   "metadata": {
    "collapsed": true,
    "jupyter": {
     "outputs_hidden": true
    }
   },
   "outputs": [
    {
     "name": "stdout",
     "output_type": "stream",
     "text": [
      "\u001b[31mERROR: pip's dependency resolver does not currently take into account all the packages that are installed. This behaviour is the source of the following dependency conflicts.\n",
      "aiobotocore 1.3.0 requires botocore<1.20.50,>=1.20.49, but you have botocore 1.23.41 which is incompatible.\u001b[0m\n",
      "Collecting nvidia-pyindex\n",
      "  Downloading nvidia-pyindex-1.0.9.tar.gz (10 kB)\n",
      "  Preparing metadata (setup.py) ... \u001b[?25ldone\n",
      "\u001b[?25hBuilding wheels for collected packages: nvidia-pyindex\n",
      "  Building wheel for nvidia-pyindex (setup.py) ... \u001b[?25ldone\n",
      "\u001b[?25h  Created wheel for nvidia-pyindex: filename=nvidia_pyindex-1.0.9-py3-none-any.whl size=8399 sha256=a5a0b8fe6ed8d3c2324278cf46c42e729885917be2bc852faab2f9fc7fdb4692\n",
      "  Stored in directory: /home/ec2-user/.cache/pip/wheels/1a/79/65/9cb980b5f481843cd9896e1579abc1c1f608b5f9e60ca90e03\n",
      "Successfully built nvidia-pyindex\n",
      "Installing collected packages: nvidia-pyindex\n",
      "Successfully installed nvidia-pyindex-1.0.9\n",
      "Looking in indexes: https://pypi.org/simple, https://pypi.ngc.nvidia.com\n",
      "Collecting tritonclient[http]\n",
      "  Downloading tritonclient-2.17.0-py3-none-manylinux1_x86_64.whl (7.8 MB)\n",
      "     |████████████████████████████████| 7.8 MB 28.6 MB/s            \n",
      "\u001b[?25hRequirement already satisfied: numpy>=1.19.1 in /home/ec2-user/anaconda3/envs/python3/lib/python3.6/site-packages (from tritonclient[http]) (1.19.5)\n",
      "Collecting python-rapidjson>=0.9.1\n",
      "  Downloading python_rapidjson-1.5-cp36-cp36m-manylinux_2_5_x86_64.manylinux1_x86_64.manylinux_2_12_x86_64.manylinux2010_x86_64.whl (1.5 MB)\n",
      "     |████████████████████████████████| 1.5 MB 92.5 MB/s            \n",
      "\u001b[?25hCollecting geventhttpclient>=1.4.4\n",
      "  Downloading geventhttpclient-1.5.3-cp36-cp36m-manylinux_2_5_x86_64.manylinux1_x86_64.manylinux_2_12_x86_64.manylinux2010_x86_64.whl (76 kB)\n",
      "     |████████████████████████████████| 76 kB 88.8 MB/s            \n",
      "\u001b[?25hRequirement already satisfied: six in /home/ec2-user/anaconda3/envs/python3/lib/python3.6/site-packages (from geventhttpclient>=1.4.4->tritonclient[http]) (1.15.0)\n",
      "Collecting brotli\n",
      "  Downloading Brotli-1.0.9-cp36-cp36m-manylinux1_x86_64.whl (357 kB)\n",
      "     |████████████████████████████████| 357 kB 100.5 MB/s            \n",
      "\u001b[?25hRequirement already satisfied: gevent>=0.13 in /home/ec2-user/anaconda3/envs/python3/lib/python3.6/site-packages (from geventhttpclient>=1.4.4->tritonclient[http]) (21.1.2)\n",
      "Requirement already satisfied: certifi in /home/ec2-user/anaconda3/envs/python3/lib/python3.6/site-packages (from geventhttpclient>=1.4.4->tritonclient[http]) (2021.5.30)\n",
      "Requirement already satisfied: greenlet<2.0,>=0.4.17 in /home/ec2-user/anaconda3/envs/python3/lib/python3.6/site-packages (from gevent>=0.13->geventhttpclient>=1.4.4->tritonclient[http]) (0.4.17)\n",
      "Requirement already satisfied: zope.interface in /home/ec2-user/anaconda3/envs/python3/lib/python3.6/site-packages (from gevent>=0.13->geventhttpclient>=1.4.4->tritonclient[http]) (5.2.0)\n",
      "Requirement already satisfied: zope.event in /home/ec2-user/anaconda3/envs/python3/lib/python3.6/site-packages (from gevent>=0.13->geventhttpclient>=1.4.4->tritonclient[http]) (4.5.0)\n",
      "Requirement already satisfied: setuptools in /home/ec2-user/anaconda3/envs/python3/lib/python3.6/site-packages (from gevent>=0.13->geventhttpclient>=1.4.4->tritonclient[http]) (49.6.0.post20210108)\n",
      "Installing collected packages: python-rapidjson, brotli, tritonclient, geventhttpclient\n",
      "Successfully installed brotli-1.0.9 geventhttpclient-1.5.3 python-rapidjson-1.5 tritonclient-2.17.0\n"
     ]
    }
   ],
   "source": [
    "!pip install -qU pip awscli boto3 sagemaker\n",
    "!pip install nvidia-pyindex\n",
    "!pip install tritonclient[http]"
   ]
  },
  {
   "cell_type": "code",
   "execution_count": 2,
   "id": "802bd9e0",
   "metadata": {},
   "outputs": [],
   "source": [
    "import boto3, json, sagemaker, time\n",
    "from sagemaker import get_execution_role\n",
    "\n",
    "sm_client = boto3.client(service_name=\"sagemaker\")\n",
    "runtime_sm_client = boto3.client(\"sagemaker-runtime\")\n",
    "sagemaker_session = sagemaker.Session(boto_session=boto3.Session())\n",
    "\n",
    "role = get_execution_role()"
   ]
  },
  {
   "cell_type": "markdown",
   "id": "19c19222",
   "metadata": {},
   "source": [
    "## Triton inference container image URI 가져오기"
   ]
  },
  {
   "cell_type": "code",
   "execution_count": 11,
   "id": "a29aaa4c",
   "metadata": {},
   "outputs": [],
   "source": [
    "# Not working yet...\n",
    "# [Errno 2] No such file or directory: '/home/ec2-user/anaconda3/envs/python3/lib/python3.6/site-packages/sagemaker/image_uri_config/triton.json'\n",
    "# from sagemaker import image_uris\n",
    "# image_uris.retrieve(framework='triton', region=boto3.Session().region_name, image_scope='inference', version='latest')"
   ]
  },
  {
   "cell_type": "code",
   "execution_count": 12,
   "id": "17f39ccb",
   "metadata": {},
   "outputs": [],
   "source": [
    "account_id_map = {\n",
    "    'us-east-1': '785573368785',\n",
    "    'us-east-2': '007439368137',\n",
    "    'us-west-1': '710691900526',\n",
    "    'us-west-2': '301217895009',\n",
    "    'eu-west-1': '802834080501',\n",
    "    'eu-west-2': '205493899709',\n",
    "    'eu-west-3': '254080097072',\n",
    "    'eu-north-1': '601324751636',\n",
    "    'eu-south-1': '966458181534',\n",
    "    'eu-central-1': '746233611703',\n",
    "    'ap-east-1': '110948597952',\n",
    "    'ap-south-1': '763008648453',\n",
    "    'ap-northeast-1': '941853720454',\n",
    "    'ap-northeast-2': '151534178276',\n",
    "    'ap-southeast-1': '324986816169',\n",
    "    'ap-southeast-2': '355873309152',\n",
    "    'cn-northwest-1': '474822919863',\n",
    "    'cn-north-1': '472730292857',\n",
    "    'sa-east-1': '756306329178',\n",
    "    'ca-central-1': '464438896020',\n",
    "    'me-south-1': '836785723513',\n",
    "    'af-south-1': '774647643957'\n",
    "}"
   ]
  },
  {
   "cell_type": "code",
   "execution_count": 13,
   "id": "cdac72b5",
   "metadata": {},
   "outputs": [],
   "source": [
    "region = boto3.Session().region_name\n",
    "if region not in account_id_map.keys():\n",
    "    raise(\"UNSUPPORTED REGION\")"
   ]
  },
  {
   "cell_type": "code",
   "execution_count": 39,
   "id": "317303e9",
   "metadata": {},
   "outputs": [
    {
     "data": {
      "text/plain": [
       "'785573368785.dkr.ecr.us-east-1.amazonaws.com/sagemaker-tritonserver:21.08-py3'"
      ]
     },
     "execution_count": 39,
     "metadata": {},
     "output_type": "execute_result"
    }
   ],
   "source": [
    "base = \"amazonaws.com.cn\" if region.startswith(\"cn-\") else \"amazonaws.com\"\n",
    "triton_image_uri = \"{account_id}.dkr.ecr.{region}.{base}/sagemaker-tritonserver:21.08-py3\".format(\n",
    "    account_id=account_id_map[region], region=region, base=base\n",
    ")\n",
    "triton_image_uri"
   ]
  },
  {
   "cell_type": "markdown",
   "id": "3ce34fbb",
   "metadata": {},
   "source": [
    "## Add utility methods for preparing request payload\n",
    "\n",
    "The following method transforms the sample text we will be using for inference into the payload that can be sent for inference to the Triton server.\n",
    "\n",
    "The `tritonclient` package provides utility methods to generate the payload without having to know the details of the specification. **We'll use the following methods to convert our inference request into a binary format which provides lower latencies for inference.**\n",
    "\n",
    "#TODO 아래 utility function들을 Client(Lambda?)에서 구현해야 한다."
   ]
  },
  {
   "cell_type": "code",
   "execution_count": 17,
   "id": "f9d93db3",
   "metadata": {},
   "outputs": [],
   "source": [
    "import tritonclient.http as httpclient\n",
    "from transformers import BertTokenizer\n",
    "import numpy as np"
   ]
  },
  {
   "cell_type": "code",
   "execution_count": 33,
   "id": "e203e71e",
   "metadata": {},
   "outputs": [],
   "source": [
    "import tritonclient.http as httpclient\n",
    "from transformers import BertTokenizer\n",
    "import numpy as np\n",
    "\n",
    "\n",
    "def tokenize_text(text):\n",
    "    model = BertTokenizer.from_pretrained(\"bert-base-uncased\", force_download=True) # Subword-based tokenizer, uncased: 소문자\n",
    "    encoded_text = model(text, padding=\"max_length\", max_length=128)\n",
    "    return encoded_text[\"input_ids\"], encoded_text[\"attention_mask\"]\n",
    "\n",
    "\n",
    "def _get_sample_tokenized_text_binary(text, input_names, output_names):\n",
    "    inputs = []\n",
    "    outputs = []\n",
    "    inputs.append(httpclient.InferInput(input_names[0], [1, 128], \"INT32\"))\n",
    "    inputs.append(httpclient.InferInput(input_names[1], [1, 128], \"INT32\"))\n",
    "    indexed_tokens, attention_mask = tokenize_text(text)\n",
    "\n",
    "    indexed_tokens = np.array(indexed_tokens, dtype=np.int32)\n",
    "    indexed_tokens = np.expand_dims(indexed_tokens, axis=0)\n",
    "    inputs[0].set_data_from_numpy(indexed_tokens, binary_data=True)\n",
    "\n",
    "    attention_mask = np.array(attention_mask, dtype=np.int32)\n",
    "    attention_mask = np.expand_dims(attention_mask, axis=0)\n",
    "    inputs[1].set_data_from_numpy(attention_mask, binary_data=True)\n",
    "\n",
    "    outputs.append(httpclient.InferRequestedOutput(output_names[0], binary_data=True))\n",
    "    outputs.append(httpclient.InferRequestedOutput(output_names[1], binary_data=True))\n",
    "    request_body, header_length = httpclient.InferenceServerClient.generate_request_body(\n",
    "        inputs, outputs=outputs\n",
    "    )\n",
    "    return request_body, header_length\n",
    "\n",
    "\n",
    "def get_sample_tokenized_text_binary_pt(text):\n",
    "    return _get_sample_tokenized_text_binary(\n",
    "        text, [\"INPUT__0\", \"INPUT__1\"], [\"OUTPUT__0\", \"1634__1\"]\n",
    "    )\n",
    "\n",
    "\n",
    "def get_sample_tokenized_text_binary_trt(text):\n",
    "    return _get_sample_tokenized_text_binary(text, [\"token_ids\", \"attn_mask\"], [\"output\", \"1634\"])"
   ]
  },
  {
   "cell_type": "code",
   "execution_count": 42,
   "id": "a1a67f4d",
   "metadata": {},
   "outputs": [
    {
     "name": "stdout",
     "output_type": "stream",
     "text": [
      "Unable to find image 'nvcr.io/nvidia/pytorch:21.08-py3' locally\n",
      "21.08-py3: Pulling from nvidia/pytorch\n",
      "\n",
      "\u001b[1B32c2132b: Pulling fs layer \n",
      "\u001b[1Bfc91ca4c: Pulling fs layer \n",
      "\u001b[1Bbfe29823: Pulling fs layer \n",
      "\u001b[1Bbb0f48c6: Pulling fs layer \n",
      "\u001b[1B937ae0b1: Pulling fs layer \n",
      "\u001b[1B47dbb869: Pulling fs layer \n",
      "\u001b[1B9a515d38: Pulling fs layer \n",
      "\u001b[1Bbefddb18: Pulling fs layer \n",
      "\u001b[1Ba5bdde0b: Pulling fs layer \n",
      "\u001b[1B32b6dcb0: Pulling fs layer \n",
      "\u001b[1Bb39618ed: Pulling fs layer \n",
      "\u001b[1B5b7dac39: Pulling fs layer \n",
      "\u001b[1B46f1ce67: Pulling fs layer \n",
      "\u001b[1B46b2b0ee: Pulling fs layer \n",
      "\u001b[1B0f57ab67: Pulling fs layer \n",
      "\u001b[1B010c3f61: Pulling fs layer \n",
      "\u001b[1B920eee68: Pulling fs layer \n",
      "\u001b[1B7fe2ac6f: Pulling fs layer \n",
      "\u001b[1Bec3721d9: Pulling fs layer \n",
      "\u001b[1Baf4d5a99: Pulling fs layer \n",
      "\u001b[1Baee79aa7: Pulling fs layer \n",
      "\u001b[1B9b496fe3: Pulling fs layer \n",
      "\u001b[1B23103b6c: Pulling fs layer \n",
      "\u001b[1Bff55d023: Pulling fs layer \n",
      "\u001b[1Bedee2aea: Pulling fs layer \n",
      "\u001b[1B59107317: Pulling fs layer \n",
      "\u001b[1Bbe386e50: Pulling fs layer \n",
      "\u001b[1Bb3fc277b: Pulling fs layer \n",
      "\u001b[1B9b3d3e1b: Pulling fs layer \n",
      "\u001b[1B82e73914: Pulling fs layer \n",
      "\u001b[1Be2192d85: Pulling fs layer \n",
      "\u001b[1Badce9a47: Pulling fs layer \n",
      "\u001b[1Bc880a223: Pulling fs layer \n",
      "\u001b[1B77788c67: Pulling fs layer \n",
      "\u001b[1B60bd6ccd: Pulling fs layer \n",
      "\u001b[23B6b2b0ee: Waiting fs layer \n",
      "\u001b[1Bd682c501: Pulling fs layer \n",
      "\u001b[1B8c0faf73: Pulling fs layer \n",
      "\u001b[1B75c0138f: Pulling fs layer \n",
      "\u001b[1B1a413c6d: Pulling fs layer \n",
      "\u001b[27Bf57ab67: Waiting fs layer \n",
      "\u001b[27B10c3f61: Waiting fs layer \n",
      "\u001b[27B20eee68: Waiting fs layer \n",
      "\u001b[1B973c1a31: Pulling fs layer \n",
      "\u001b[1B75c115bf: Pulling fs layer \n",
      "\u001b[29Bfe2ac6f: Waiting fs layer \n",
      "\u001b[1B2cd47e40: Pulling fs layer \n",
      "\u001b[1B76362a82: Pulling fs layer \n",
      "\u001b[31Bc3721d9: Waiting fs layer \n",
      "\u001b[1B78ef40ec: Pulling fs layer \n",
      "\u001b[32Bf4d5a99: Waiting fs layer \n",
      "\u001b[1B50010003: Pulling fs layer \n",
      "\u001b[33Bee79aa7: Waiting fs layer \n",
      "\u001b[1Ba689ee3e: Pull complete .62MB/16.62MBB\u001b[54A\u001b[2K\u001b[54A\u001b[2K\u001b[52A\u001b[2K\u001b[54A\u001b[2K\u001b[52A\u001b[2K\u001b[54A\u001b[2K\u001b[51A\u001b[2K\u001b[54A\u001b[2K\u001b[52A\u001b[2K\u001b[52A\u001b[2K\u001b[54A\u001b[2K\u001b[50A\u001b[2K\u001b[54A\u001b[2K\u001b[49A\u001b[2K\u001b[48A\u001b[2K\u001b[47A\u001b[2K\u001b[54A\u001b[2K\u001b[54A\u001b[2K\u001b[53A\u001b[2K\u001b[44A\u001b[2K\u001b[43A\u001b[2K\u001b[53A\u001b[2K\u001b[43A\u001b[2K\u001b[43A\u001b[2K\u001b[41A\u001b[2K\u001b[43A\u001b[2K\u001b[40A\u001b[2K\u001b[43A\u001b[2K\u001b[43A\u001b[2K\u001b[39A\u001b[2K\u001b[43A\u001b[2K\u001b[38A\u001b[2K\u001b[43A\u001b[2K\u001b[38A\u001b[2K\u001b[43A\u001b[2K\u001b[37A\u001b[2K\u001b[43A\u001b[2K\u001b[37A\u001b[2K\u001b[38A\u001b[2K\u001b[37A\u001b[2K\u001b[37A\u001b[2K\u001b[53A\u001b[2K\u001b[37A\u001b[2K\u001b[37A\u001b[2K\u001b[43A\u001b[2K\u001b[53A\u001b[2K\u001b[53A\u001b[2K\u001b[43A\u001b[2K\u001b[34A\u001b[2K\u001b[35A\u001b[2K\u001b[34A\u001b[2K\u001b[35A\u001b[2K\u001b[34A\u001b[2K\u001b[35A\u001b[2K\u001b[53A\u001b[2K\u001b[34A\u001b[2K\u001b[53A\u001b[2K\u001b[43A\u001b[2K\u001b[53A\u001b[2K\u001b[53A\u001b[2K\u001b[43A\u001b[2K\u001b[53A\u001b[2K\u001b[43A\u001b[2K\u001b[53A\u001b[2K\u001b[35A\u001b[2K\u001b[53A\u001b[2K\u001b[35A\u001b[2K\u001b[53A\u001b[2K\u001b[43A\u001b[2K\u001b[43A\u001b[2K\u001b[43A\u001b[2K\u001b[53A\u001b[2K\u001b[43A\u001b[2K\u001b[32A\u001b[2K\u001b[43A\u001b[2K\u001b[32A\u001b[2K\u001b[35A\u001b[2K\u001b[32A\u001b[2K\u001b[35A\u001b[2K\u001b[53A\u001b[2K\u001b[35A\u001b[2K\u001b[32A\u001b[2K\u001b[35A\u001b[2K\u001b[32A\u001b[2K\u001b[43A\u001b[2K\u001b[32A\u001b[2K\u001b[43A\u001b[2K\u001b[32A\u001b[2K\u001b[43A\u001b[2K\u001b[32A\u001b[2K\u001b[43A\u001b[2K\u001b[32A\u001b[2K\u001b[53A\u001b[2K\u001b[31A\u001b[2K\u001b[43A\u001b[2K\u001b[32A\u001b[2K\u001b[43A\u001b[2K\u001b[52A\u001b[2K\u001b[43A\u001b[2K\u001b[52A\u001b[2K\u001b[43A\u001b[2K\u001b[52A\u001b[2K\u001b[43A\u001b[2K\u001b[52A\u001b[2K\u001b[43A\u001b[2K\u001b[32A\u001b[2K\u001b[43A\u001b[2K\u001b[32A\u001b[2K\u001b[52A\u001b[2K\u001b[43A\u001b[2K\u001b[29A\u001b[2K\u001b[32A\u001b[2K\u001b[52A\u001b[2K\u001b[43A\u001b[2K\u001b[29A\u001b[2K\u001b[43A\u001b[2K\u001b[43A\u001b[2K\u001b[52A\u001b[2K\u001b[43A\u001b[2K\u001b[32A\u001b[2K\u001b[43A\u001b[2K\u001b[52A\u001b[2K\u001b[43A\u001b[2K\u001b[32A\u001b[2K\u001b[52A\u001b[2K\u001b[32A\u001b[2K\u001b[52A\u001b[2K\u001b[32A\u001b[2K\u001b[52A\u001b[2K\u001b[32A\u001b[2K\u001b[43A\u001b[2K\u001b[32A\u001b[2K\u001b[43A\u001b[2K\u001b[32A\u001b[2K\u001b[43A\u001b[2K\u001b[52A\u001b[2K\u001b[43A\u001b[2K\u001b[32A\u001b[2K\u001b[52A\u001b[2K\u001b[32A\u001b[2K\u001b[43A\u001b[2K\u001b[32A\u001b[2K\u001b[52A\u001b[2K\u001b[32A\u001b[2K\u001b[43A\u001b[2K\u001b[28A\u001b[2K\u001b[32A\u001b[2K\u001b[28A\u001b[2K\u001b[32A\u001b[2K\u001b[43A\u001b[2K\u001b[32A\u001b[2K\u001b[43A\u001b[2K\u001b[52A\u001b[2K\u001b[43A\u001b[2K\u001b[27A\u001b[2K\u001b[43A\u001b[2K\u001b[32A\u001b[2K\u001b[43A\u001b[2K\u001b[32A\u001b[2K\u001b[43A\u001b[2K\u001b[32A\u001b[2K\u001b[43A\u001b[2K\u001b[32A\u001b[2K\u001b[51A\u001b[2K\u001b[26A\u001b[2K\u001b[43A\u001b[2K\u001b[26A\u001b[2K\u001b[43A\u001b[2K\u001b[26A\u001b[2K\u001b[25A\u001b[2K\u001b[26A\u001b[2K\u001b[25A\u001b[2K\u001b[26A\u001b[2K\u001b[43A\u001b[2K\u001b[26A\u001b[2K\u001b[43A\u001b[2K\u001b[43A\u001b[2K\u001b[43A\u001b[2K\u001b[43A\u001b[2K\u001b[50A\u001b[2K\u001b[43A\u001b[2K\u001b[43A\u001b[2K\u001b[43A\u001b[2K\u001b[23A\u001b[2K\u001b[43A\u001b[2K\u001b[23A\u001b[2K\u001b[49A\u001b[2K\u001b[23A\u001b[2K\u001b[48A\u001b[2K\u001b[23A\u001b[2K\u001b[43A\u001b[2K\u001b[23A\u001b[2K\u001b[43A\u001b[2K\u001b[23A\u001b[2K\u001b[43A\u001b[2K\u001b[23A\u001b[2K\u001b[43A\u001b[2K\u001b[21A\u001b[2K\u001b[48A\u001b[2K\u001b[21A\u001b[2K\u001b[20A\u001b[2K\u001b[21A\u001b[2K\u001b[21A\u001b[2K\u001b[20A\u001b[2K\u001b[47A\u001b[2K\u001b[20A\u001b[2K\u001b[43A\u001b[2K\u001b[20A\u001b[2KVerifying Checksum \u001b[43A\u001b[2K\u001b[21A\u001b[2K\u001b[43A\u001b[2K\u001b[19A\u001b[2K\u001b[43A\u001b[2K\u001b[46A\u001b[2K\u001b[18A\u001b[2K\u001b[17A\u001b[2K\u001b[18A\u001b[2K\u001b[17A\u001b[2K\u001b[43A\u001b[2K\u001b[17A\u001b[2K\u001b[43A\u001b[2K\u001b[43A\u001b[2K\u001b[46A\u001b[2K\u001b[18A\u001b[2K\u001b[17A\u001b[2K\u001b[45A\u001b[2K\u001b[17A\u001b[2K\u001b[18A\u001b[2K\u001b[17A\u001b[2K\u001b[18A\u001b[2K\u001b[18A\u001b[2K\u001b[43A\u001b[2K\u001b[18A\u001b[2K\u001b[18A\u001b[2K\u001b[44A\u001b[2K\u001b[17A\u001b[2K\u001b[43A\u001b[2K\u001b[43A\u001b[2K\u001b[17A\u001b[2K\u001b[43A\u001b[2K\u001b[18A\u001b[2K\u001b[17A\u001b[2K\u001b[18A\u001b[2K\u001b[17A\u001b[2K\u001b[18A\u001b[2K\u001b[17A\u001b[2K\u001b[43A\u001b[2K\u001b[18A\u001b[2K\u001b[17A\u001b[2K\u001b[43A\u001b[2K\u001b[17A\u001b[2K\u001b[43A\u001b[2K\u001b[17A\u001b[2K\u001b[43A\u001b[2K\u001b[17A\u001b[2K\u001b[18A\u001b[2K\u001b[17A\u001b[2K\u001b[18A\u001b[2K\u001b[43A\u001b[2K\u001b[17A\u001b[2K\u001b[43A\u001b[2K\u001b[17A\u001b[2K\u001b[43A\u001b[2K\u001b[17A\u001b[2K\u001b[43A\u001b[2K\u001b[17A\u001b[2KDownloading  142.7MB/796.8MB\u001b[17A\u001b[2K\u001b[43A\u001b[2K\u001b[17A\u001b[2K\u001b[43A\u001b[2K\u001b[17A\u001b[2K\u001b[43A\u001b[2K\u001b[17A\u001b[2K\u001b[18A\u001b[2K\u001b[17A\u001b[2K\u001b[18A\u001b[2K\u001b[43A\u001b[2K\u001b[17A\u001b[2K\u001b[18A\u001b[2K\u001b[17A\u001b[2K\u001b[18A\u001b[2K\u001b[17A\u001b[2K\u001b[43A\u001b[2K\u001b[18A\u001b[2K\u001b[43A\u001b[2K\u001b[18A\u001b[2K\u001b[43A\u001b[2K\u001b[17A\u001b[2K\u001b[43A\u001b[2K\u001b[17A\u001b[2K\u001b[43A\u001b[2K\u001b[18A\u001b[2K\u001b[43A\u001b[2K\u001b[17A\u001b[2K\u001b[43A\u001b[2K\u001b[17A\u001b[2K\u001b[43A\u001b[2K\u001b[17A\u001b[2K\u001b[18A\u001b[2KDownloading  1.436GB/2.356GB\u001b[18A\u001b[2K\u001b[18A\u001b[2K\u001b[17A\u001b[2K\u001b[18A\u001b[2K\u001b[17A\u001b[2K\u001b[18A\u001b[2K\u001b[17A\u001b[2K\u001b[43A\u001b[2K\u001b[17A\u001b[2K\u001b[43A\u001b[2K\u001b[17A\u001b[2K\u001b[43A\u001b[2K\u001b[18A\u001b[2K\u001b[43A\u001b[2K\u001b[18A\u001b[2K\u001b[17A\u001b[2K\u001b[18A\u001b[2K\u001b[17A\u001b[2K\u001b[43A\u001b[2K\u001b[17A\u001b[2K\u001b[43A\u001b[2K\u001b[18A\u001b[2K\u001b[43A\u001b[2K\u001b[18A\u001b[2K\u001b[17A\u001b[2K\u001b[18A\u001b[2K\u001b[43A\u001b[2K\u001b[18A\u001b[2K\u001b[17A\u001b[2K\u001b[18A\u001b[2K\u001b[17A\u001b[2K\u001b[18A\u001b[2K\u001b[17A\u001b[2K\u001b[18A\u001b[2K\u001b[17A\u001b[2K\u001b[43A\u001b[2K\u001b[17A\u001b[2K\u001b[43A\u001b[2K\u001b[18A\u001b[2K\u001b[43A\u001b[2K\u001b[18A\u001b[2K\u001b[17A\u001b[2K\u001b[18A\u001b[2K\u001b[17A\u001b[2K\u001b[43A\u001b[2K\u001b[17A\u001b[2K\u001b[43A\u001b[2K\u001b[18A\u001b[2K\u001b[17A\u001b[2K\u001b[18A\u001b[2K\u001b[43A\u001b[2K\u001b[18A\u001b[2K\u001b[43A\u001b[2K\u001b[18A\u001b[2K\u001b[43A\u001b[2K\u001b[43A\u001b[2K\u001b[18A\u001b[2K\u001b[43A\u001b[2K\u001b[43A\u001b[2K\u001b[43A\u001b[2K\u001b[17A\u001b[2K\u001b[43A\u001b[2K\u001b[18A\u001b[2K\u001b[43A\u001b[2K\u001b[17A\u001b[2K\u001b[43A\u001b[2K\u001b[17A\u001b[2K\u001b[43A\u001b[2K\u001b[17A\u001b[2K\u001b[43A\u001b[2K\u001b[17A\u001b[2K\u001b[18A\u001b[2K\u001b[43A\u001b[2K\u001b[17A\u001b[2K\u001b[43A\u001b[2K\u001b[17A\u001b[2K\u001b[43A\u001b[2K\u001b[17A\u001b[2K\u001b[43A\u001b[2K\u001b[17A\u001b[2K\u001b[43A\u001b[2K\u001b[18A\u001b[2K\u001b[17A\u001b[2K\u001b[43A\u001b[2K\u001b[18A\u001b[2K\u001b[43A\u001b[2K\u001b[18A\u001b[2K\u001b[43A\u001b[2K\u001b[18A\u001b[2K\u001b[17A\u001b[2K\u001b[43A\u001b[2K\u001b[17A\u001b[2K\u001b[43A\u001b[2K\u001b[17A\u001b[2K\u001b[43A\u001b[2K\u001b[18A\u001b[2K\u001b[43A\u001b[2K\u001b[43A\u001b[2K\u001b[17A\u001b[2K\u001b[43A\u001b[2K\u001b[17A\u001b[2K\u001b[43A\u001b[2K\u001b[18A\u001b[2K\u001b[43A\u001b[2K\u001b[18A\u001b[2K\u001b[18A\u001b[2K\u001b[17A\u001b[2K\u001b[43A\u001b[2K\u001b[17A\u001b[2K\u001b[18A\u001b[2K\u001b[18A\u001b[2K\u001b[18A\u001b[2K\u001b[43A\u001b[2K\u001b[18A\u001b[2K\u001b[43A\u001b[2K\u001b[18A\u001b[2K\u001b[43A\u001b[2K\u001b[18A\u001b[2K\u001b[43A\u001b[2K\u001b[17A\u001b[2K\u001b[43A\u001b[2K\u001b[17A\u001b[2K\u001b[18A\u001b[2K\u001b[17A\u001b[2K\u001b[18A\u001b[2K\u001b[43A\u001b[2K\u001b[17A\u001b[2K\u001b[43A\u001b[2K\u001b[17A\u001b[2K\u001b[18A\u001b[2K\u001b[43A\u001b[2K\u001b[18A\u001b[2K\u001b[43A\u001b[2K\u001b[17A\u001b[2K\u001b[43A\u001b[2K\u001b[17A\u001b[2K\u001b[18A\u001b[2K\u001b[17A\u001b[2K\u001b[18A\u001b[2K\u001b[17A\u001b[2K\u001b[43A\u001b[2K\u001b[18A\u001b[2K\u001b[17A\u001b[2K\u001b[43A\u001b[2K\u001b[18A\u001b[2K\u001b[17A\u001b[2K\u001b[43A\u001b[2K\u001b[17A\u001b[2K\u001b[43A\u001b[2K\u001b[17A\u001b[2K\u001b[43A\u001b[2K\u001b[17A\u001b[2K\u001b[43A\u001b[2K\u001b[18A\u001b[2K\u001b[43A\u001b[2K\u001b[18A\u001b[2K\u001b[17A\u001b[2K\u001b[18A\u001b[2K\u001b[17A\u001b[2K\u001b[43A\u001b[2K\u001b[18A\u001b[2K\u001b[17A\u001b[2K\u001b[18A\u001b[2K\u001b[17A\u001b[2K\u001b[43A\u001b[2K\u001b[17A\u001b[2K\u001b[18A\u001b[2K\u001b[17A\u001b[2K\u001b[18A\u001b[2K\u001b[43A\u001b[2K\u001b[18A\u001b[2K\u001b[17A\u001b[2K\u001b[43A\u001b[2K\u001b[17A\u001b[2K\u001b[43A\u001b[2K\u001b[17A\u001b[2K\u001b[43A\u001b[2K\u001b[18A\u001b[2K\u001b[43A\u001b[2K\u001b[18A\u001b[2K\u001b[43A\u001b[2K\u001b[18A\u001b[2K\u001b[17A\u001b[2K\u001b[18A\u001b[2K\u001b[17A\u001b[2K\u001b[43A\u001b[2K\u001b[17A\u001b[2K\u001b[18A\u001b[2K\u001b[17A\u001b[2K\u001b[18A\u001b[2K\u001b[17A\u001b[2K\u001b[17A\u001b[2K\u001b[18A\u001b[2K\u001b[17A\u001b[2K\u001b[18A\u001b[2K\u001b[17A\u001b[2K\u001b[43A\u001b[2K\u001b[17A\u001b[2K\u001b[18A\u001b[2K\u001b[17A\u001b[2K\u001b[18A\u001b[2K\u001b[17A\u001b[2K\u001b[43A\u001b[2K\u001b[18A\u001b[2K\u001b[43A\u001b[2K\u001b[18A\u001b[2K\u001b[43A\u001b[2K\u001b[18A\u001b[2K\u001b[43A\u001b[2K\u001b[17A\u001b[2K\u001b[18A\u001b[2K\u001b[18A\u001b[2K\u001b[17A\u001b[2K\u001b[18A\u001b[2K\u001b[17A\u001b[2K\u001b[18A\u001b[2K\u001b[17A\u001b[2K\u001b[18A\u001b[2K\u001b[17A\u001b[2K\u001b[18A\u001b[2K\u001b[18A\u001b[2K\u001b[17A\u001b[2K\u001b[43A\u001b[2K\u001b[43A\u001b[2K\u001b[17A\u001b[2K\u001b[18A\u001b[2K\u001b[18A\u001b[2K\u001b[17A\u001b[2K\u001b[43A\u001b[2K\u001b[17A\u001b[2K\u001b[43A\u001b[2K\u001b[17A\u001b[2K\u001b[43A\u001b[2K\u001b[18A\u001b[2K\u001b[43A\u001b[2K\u001b[18A\u001b[2K\u001b[43A\u001b[2K\u001b[18A\u001b[2K\u001b[43A\u001b[2K\u001b[18A\u001b[2K\u001b[43A\u001b[2K\u001b[18A\u001b[2K\u001b[18A\u001b[2K\u001b[15A\u001b[2K\u001b[18A\u001b[2K\u001b[43A\u001b[2K\u001b[43A\u001b[2K\u001b[14A\u001b[2K\u001b[43A\u001b[2K\u001b[18A\u001b[2K\u001b[43A\u001b[2K\u001b[18A\u001b[2K\u001b[43A\u001b[2K\u001b[13A\u001b[2K\u001b[18A\u001b[2K\u001b[43A\u001b[2K\u001b[18A\u001b[2K\u001b[43A\u001b[2K\u001b[13A\u001b[2K\u001b[43A\u001b[2K\u001b[12A\u001b[2K\u001b[43A\u001b[2K\u001b[13A\u001b[2K\u001b[43A\u001b[2K\u001b[13A\u001b[2K\u001b[13A\u001b[2K\u001b[13A\u001b[2K\u001b[13A\u001b[2K\u001b[43A\u001b[2K\u001b[13A\u001b[2K\u001b[43A\u001b[2K\u001b[13A\u001b[2K\u001b[43A\u001b[2K\u001b[13A\u001b[2K\u001b[43A\u001b[2K\u001b[9A\u001b[2K\u001b[43A\u001b[2K\u001b[13A\u001b[2K\u001b[9A\u001b[2K\u001b[13A\u001b[2K\u001b[43A\u001b[2K\u001b[13A\u001b[2K\u001b[43A\u001b[2K\u001b[8A\u001b[2K\u001b[43A\u001b[2K\u001b[8A\u001b[2K\u001b[43A\u001b[2K\u001b[8A\u001b[2K\u001b[8A\u001b[2K\u001b[8A\u001b[2K\u001b[13A\u001b[2K\u001b[8A\u001b[2K\u001b[43A\u001b[2K\u001b[8A\u001b[2K\u001b[43A\u001b[2K\u001b[7A\u001b[2K\u001b[7A\u001b[2K\u001b[43A\u001b[2K\u001b[7A\u001b[2K\u001b[7A\u001b[2K\u001b[7A\u001b[2K\u001b[43A\u001b[2K\u001b[7A\u001b[2K\u001b[43A\u001b[2K\u001b[43A\u001b[2K\u001b[4A\u001b[2K\u001b[43A\u001b[2K\u001b[43A\u001b[2K\u001b[43A\u001b[2K\u001b[2A\u001b[2K\u001b[1A\u001b[2K\u001b[1A\u001b[2K\u001b[43A\u001b[2K\u001b[43A\u001b[2K\u001b[43A\u001b[2K\u001b[43A\u001b[2K\u001b[43A\u001b[2K\u001b[43A\u001b[2K\u001b[43A\u001b[2K\u001b[43A\u001b[2K\u001b[43A\u001b[2K\u001b[43A\u001b[2K\u001b[43A\u001b[2K\u001b[43A\u001b[2K\u001b[43A\u001b[2K\u001b[43A\u001b[2K\u001b[43A\u001b[2K\u001b[43A\u001b[2K\u001b[43A\u001b[2K\u001b[43A\u001b[2K\u001b[43A\u001b[2K\u001b[43A\u001b[2K\u001b[43A\u001b[2K\u001b[43A\u001b[2K\u001b[43A\u001b[2K\u001b[43A\u001b[2K\u001b[43A\u001b[2K\u001b[43A\u001b[2K\u001b[43A\u001b[2K\u001b[43A\u001b[2K\u001b[43A\u001b[2K\u001b[43A\u001b[2K\u001b[43A\u001b[2K\u001b[43A\u001b[2K\u001b[43A\u001b[2K\u001b[43A\u001b[2K\u001b[43A\u001b[2K\u001b[43A\u001b[2K\u001b[43A\u001b[2K\u001b[43A\u001b[2K\u001b[43A\u001b[2K\u001b[43A\u001b[2K\u001b[43A\u001b[2K\u001b[43A\u001b[2K\u001b[43A\u001b[2K\u001b[43A\u001b[2K\u001b[43A\u001b[2K\u001b[43A\u001b[2K\u001b[43A\u001b[2K\u001b[43A\u001b[2K\u001b[43A\u001b[2K\u001b[43A\u001b[2K\u001b[43A\u001b[2K\u001b[43A\u001b[2K\u001b[43A\u001b[2K\u001b[43A\u001b[2K\u001b[43A\u001b[2K\u001b[43A\u001b[2K\u001b[43A\u001b[2K\u001b[43A\u001b[2K\u001b[43A\u001b[2K\u001b[43A\u001b[2K\u001b[43A\u001b[2K\u001b[43A\u001b[2K\u001b[43A\u001b[2K\u001b[43A\u001b[2K\u001b[43A\u001b[2K\u001b[43A\u001b[2K\u001b[43A\u001b[2K\u001b[43A\u001b[2K\u001b[43A\u001b[2K\u001b[43A\u001b[2K\u001b[43A\u001b[2K\u001b[43A\u001b[2K\u001b[43A\u001b[2K\u001b[43A\u001b[2K\u001b[43A\u001b[2K\u001b[43A\u001b[2K\u001b[43A\u001b[2K\u001b[43A\u001b[2K\u001b[43A\u001b[2K\u001b[43A\u001b[2K\u001b[43A\u001b[2K\u001b[43A\u001b[2K\u001b[43A\u001b[2K\u001b[43A\u001b[2K\u001b[43A\u001b[2K\u001b[43A\u001b[2K\u001b[43A\u001b[2K\u001b[43A\u001b[2K\u001b[43A\u001b[2K\u001b[43A\u001b[2K\u001b[43A\u001b[2K\u001b[43A\u001b[2K\u001b[43A\u001b[2K\u001b[43A\u001b[2K\u001b[43A\u001b[2K\u001b[43A\u001b[2K\u001b[43A\u001b[2K\u001b[43A\u001b[2K\u001b[43A\u001b[2K\u001b[43A\u001b[2K\u001b[43A\u001b[2K\u001b[43A\u001b[2K\u001b[43A\u001b[2K\u001b[43A\u001b[2K\u001b[43A\u001b[2K\u001b[43A\u001b[2K\u001b[43A\u001b[2K\u001b[43A\u001b[2K\u001b[43A\u001b[2K\u001b[43A\u001b[2K\u001b[43A\u001b[2K\u001b[43A\u001b[2K\u001b[43A\u001b[2K\u001b[43A\u001b[2K\u001b[43A\u001b[2K\u001b[43A\u001b[2K\u001b[43A\u001b[2K\u001b[43A\u001b[2K\u001b[43A\u001b[2K\u001b[43A\u001b[2K\u001b[43A\u001b[2K\u001b[43A\u001b[2K\u001b[43A\u001b[2K\u001b[43A\u001b[2K\u001b[43A\u001b[2K\u001b[43A\u001b[2K\u001b[43A\u001b[2K\u001b[43A\u001b[2K\u001b[43A\u001b[2K\u001b[43A\u001b[2K\u001b[43A\u001b[2K\u001b[43A\u001b[2K\u001b[43A\u001b[2K\u001b[43A\u001b[2K\u001b[43A\u001b[2K\u001b[43A\u001b[2K\u001b[43A\u001b[2K\u001b[43A\u001b[2K\u001b[43A\u001b[2K\u001b[43A\u001b[2K\u001b[43A\u001b[2K\u001b[43A\u001b[2K\u001b[43A\u001b[2K\u001b[43A\u001b[2K\u001b[43A\u001b[2K\u001b[43A\u001b[2K\u001b[43A\u001b[2K\u001b[43A\u001b[2K\u001b[43A\u001b[2K\u001b[43A\u001b[2K\u001b[43A\u001b[2K\u001b[43A\u001b[2K\u001b[43A\u001b[2K\u001b[43A\u001b[2K\u001b[43A\u001b[2K\u001b[43A\u001b[2K\u001b[43A\u001b[2K\u001b[43A\u001b[2K\u001b[43A\u001b[2K\u001b[43A\u001b[2K\u001b[43A\u001b[2K\u001b[43A\u001b[2K\u001b[43A\u001b[2K\u001b[43A\u001b[2K\u001b[43A\u001b[2K\u001b[43A\u001b[2K\u001b[43A\u001b[2K\u001b[43A\u001b[2K\u001b[43A\u001b[2K\u001b[43A\u001b[2K\u001b[43A\u001b[2K\u001b[43A\u001b[2K\u001b[43A\u001b[2K\u001b[43A\u001b[2K\u001b[43A\u001b[2K\u001b[43A\u001b[2K\u001b[43A\u001b[2K\u001b[43A\u001b[2K\u001b[43A\u001b[2K\u001b[43A\u001b[2K\u001b[43A\u001b[2K\u001b[43A\u001b[2K\u001b[43A\u001b[2K\u001b[43A\u001b[2K\u001b[43A\u001b[2K\u001b[43A\u001b[2K\u001b[43A\u001b[2K\u001b[43A\u001b[2K\u001b[43A\u001b[2K\u001b[43A\u001b[2K\u001b[43A\u001b[2K\u001b[43A\u001b[2K\u001b[43A\u001b[2K\u001b[43A\u001b[2K\u001b[43A\u001b[2K\u001b[43A\u001b[2K\u001b[43A\u001b[2K\u001b[43A\u001b[2K\u001b[43A\u001b[2K\u001b[43A\u001b[2K\u001b[43A\u001b[2K\u001b[43A\u001b[2K\u001b[43A\u001b[2K\u001b[43A\u001b[2K\u001b[43A\u001b[2K\u001b[43A\u001b[2K\u001b[43A\u001b[2K\u001b[43A\u001b[2K\u001b[43A\u001b[2K\u001b[43A\u001b[2K\u001b[43A\u001b[2K\u001b[43A\u001b[2K\u001b[43A\u001b[2K\u001b[43A\u001b[2K\u001b[43A\u001b[2K\u001b[43A\u001b[2K\u001b[43A\u001b[2K\u001b[43A\u001b[2K\u001b[43A\u001b[2K\u001b[43A\u001b[2K\u001b[43A\u001b[2K\u001b[43A\u001b[2K\u001b[43A\u001b[2K\u001b[43A\u001b[2K\u001b[43A\u001b[2K\u001b[43A\u001b[2K\u001b[43A\u001b[2K\u001b[43A\u001b[2K\u001b[43A\u001b[2K\u001b[43A\u001b[2K\u001b[43A\u001b[2K\u001b[43A\u001b[2K\u001b[43A\u001b[2K\u001b[43A\u001b[2K\u001b[43A\u001b[2K\u001b[43A\u001b[2K\u001b[43A\u001b[2K\u001b[43A\u001b[2K\u001b[43A\u001b[2K\u001b[43A\u001b[2K\u001b[43A\u001b[2K\u001b[43A\u001b[2K\u001b[43A\u001b[2K\u001b[43A\u001b[2K\u001b[43A\u001b[2K\u001b[43A\u001b[2K\u001b[43A\u001b[2K\u001b[43A\u001b[2K\u001b[43A\u001b[2K\u001b[43A\u001b[2K\u001b[43A\u001b[2K\u001b[43A\u001b[2K\u001b[43A\u001b[2K\u001b[43A\u001b[2K\u001b[43A\u001b[2K\u001b[43A\u001b[2K\u001b[43A\u001b[2K\u001b[43A\u001b[2K\u001b[43A\u001b[2K\u001b[43A\u001b[2K\u001b[43A\u001b[2K\u001b[43A\u001b[2K\u001b[43A\u001b[2K\u001b[43A\u001b[2K\u001b[43A\u001b[2K\u001b[43A\u001b[2K\u001b[43A\u001b[2K\u001b[43A\u001b[2K\u001b[43A\u001b[2K\u001b[43A\u001b[2K\u001b[43A\u001b[2K\u001b[43A\u001b[2K\u001b[43A\u001b[2K\u001b[43A\u001b[2K\u001b[43A\u001b[2K\u001b[43A\u001b[2K\u001b[43A\u001b[2K\u001b[43A\u001b[2K\u001b[43A\u001b[2K\u001b[43A\u001b[2K\u001b[42A\u001b[2K\u001b[42A\u001b[2K\u001b[41A\u001b[2K\u001b[41A\u001b[2K\u001b[40A\u001b[2K\u001b[39A\u001b[2K\u001b[38A\u001b[2K\u001b[38A\u001b[2K\u001b[38A\u001b[2K\u001b[38A\u001b[2K\u001b[38A\u001b[2K\u001b[38A\u001b[2K\u001b[38A\u001b[2K\u001b[38A\u001b[2K\u001b[38A\u001b[2K\u001b[38A\u001b[2K\u001b[38A\u001b[2K\u001b[38A\u001b[2K\u001b[37A\u001b[2K\u001b[37A\u001b[2K\u001b[37A\u001b[2K\u001b[37A\u001b[2K\u001b[37A\u001b[2K\u001b[37A\u001b[2K\u001b[37A\u001b[2K\u001b[37A\u001b[2K\u001b[37A\u001b[2K\u001b[37A\u001b[2K\u001b[37A\u001b[2K\u001b[37A\u001b[2K\u001b[37A\u001b[2K\u001b[37A\u001b[2K\u001b[37A\u001b[2K\u001b[36A\u001b[2K\u001b[36A\u001b[2K\u001b[35A\u001b[2K\u001b[35A\u001b[2K\u001b[35A\u001b[2K\u001b[35A\u001b[2K\u001b[35A\u001b[2KExtracting  28.97MB/238.6MB\u001b[35A\u001b[2K\u001b[35A\u001b[2K\u001b[35A\u001b[2K\u001b[35A\u001b[2K\u001b[35A\u001b[2K\u001b[35A\u001b[2K\u001b[35A\u001b[2K\u001b[35A\u001b[2K\u001b[35A\u001b[2K\u001b[35A\u001b[2K\u001b[35A\u001b[2K\u001b[35A\u001b[2K\u001b[35A\u001b[2K\u001b[35A\u001b[2K\u001b[35A\u001b[2K\u001b[35A\u001b[2K\u001b[35A\u001b[2K\u001b[35A\u001b[2K\u001b[35A\u001b[2K\u001b[35A\u001b[2K\u001b[35A\u001b[2K\u001b[35A\u001b[2K\u001b[35A\u001b[2K\u001b[35A\u001b[2K\u001b[35A\u001b[2K\u001b[35A\u001b[2K\u001b[35A\u001b[2K\u001b[35A\u001b[2K\u001b[35A\u001b[2K\u001b[34A\u001b[2K\u001b[34A\u001b[2K\u001b[34A\u001b[2K\u001b[34A\u001b[2K\u001b[34A\u001b[2K\u001b[34A\u001b[2K\u001b[34A\u001b[2K\u001b[34A\u001b[2K\u001b[34A\u001b[2K\u001b[34A\u001b[2K\u001b[34A\u001b[2K\u001b[34A\u001b[2K\u001b[34A\u001b[2K\u001b[34A\u001b[2K\u001b[34A\u001b[2K\u001b[34A\u001b[2K\u001b[34A\u001b[2K\u001b[34A\u001b[2K\u001b[34A\u001b[2K\u001b[34A\u001b[2K\u001b[34A\u001b[2K\u001b[34A\u001b[2K\u001b[34A\u001b[2K\u001b[34A\u001b[2K\u001b[33A\u001b[2K\u001b[33A\u001b[2K\u001b[33A\u001b[2K\u001b[33A\u001b[2K\u001b[33A\u001b[2K\u001b[33A\u001b[2K\u001b[33A\u001b[2K\u001b[33A\u001b[2K\u001b[33A\u001b[2K\u001b[33A\u001b[2K\u001b[33A\u001b[2K\u001b[33A\u001b[2K\u001b[32A\u001b[2K\u001b[32A\u001b[2K\u001b[32A\u001b[2K\u001b[32A\u001b[2K\u001b[32A\u001b[2K\u001b[32A\u001b[2K\u001b[32A\u001b[2K\u001b[32A\u001b[2K\u001b[32A\u001b[2K\u001b[32A\u001b[2K\u001b[32A\u001b[2K\u001b[32A\u001b[2K\u001b[32A\u001b[2K\u001b[32A\u001b[2K\u001b[32A\u001b[2K\u001b[32A\u001b[2K\u001b[32A\u001b[2K\u001b[32A\u001b[2K\u001b[32A\u001b[2K\u001b[32A\u001b[2K\u001b[32A\u001b[2K\u001b[32A\u001b[2K\u001b[32A\u001b[2K\u001b[32A\u001b[2K\u001b[32A\u001b[2K\u001b[32A\u001b[2K\u001b[32A\u001b[2K\u001b[32A\u001b[2K\u001b[32A\u001b[2K\u001b[32A\u001b[2K\u001b[32A\u001b[2K\u001b[32A\u001b[2K\u001b[32A\u001b[2K\u001b[32A\u001b[2K\u001b[32A\u001b[2K\u001b[32A\u001b[2K\u001b[32A\u001b[2K\u001b[32A\u001b[2K\u001b[32A\u001b[2K\u001b[32A\u001b[2K\u001b[32A\u001b[2K\u001b[32A\u001b[2K\u001b[32A\u001b[2K\u001b[32A\u001b[2K\u001b[32A\u001b[2K\u001b[32A\u001b[2K\u001b[32A\u001b[2K\u001b[32A\u001b[2K\u001b[32A\u001b[2K\u001b[32A\u001b[2K\u001b[32A\u001b[2K\u001b[32A\u001b[2K\u001b[32A\u001b[2K\u001b[32A\u001b[2K\u001b[32A\u001b[2K\u001b[32A\u001b[2K\u001b[32A\u001b[2K\u001b[32A\u001b[2K\u001b[32A\u001b[2K\u001b[32A\u001b[2K\u001b[32A\u001b[2K\u001b[32A\u001b[2K\u001b[32A\u001b[2K\u001b[32A\u001b[2K\u001b[32A\u001b[2K\u001b[32A\u001b[2K\u001b[32A\u001b[2K\u001b[32A\u001b[2K\u001b[32A\u001b[2K\u001b[32A\u001b[2K\u001b[32A\u001b[2K\u001b[32A\u001b[2K\u001b[32A\u001b[2K\u001b[32A\u001b[2K\u001b[32A\u001b[2K\u001b[32A\u001b[2K\u001b[32A\u001b[2K\u001b[32A\u001b[2K\u001b[32A\u001b[2K\u001b[32A\u001b[2K\u001b[32A\u001b[2K\u001b[32A\u001b[2K\u001b[32A\u001b[2K\u001b[32A\u001b[2K\u001b[32A\u001b[2K\u001b[32A\u001b[2K\u001b[32A\u001b[2K\u001b[32A\u001b[2K\u001b[32A\u001b[2K\u001b[32A\u001b[2K\u001b[32A\u001b[2K\u001b[32A\u001b[2K\u001b[32A\u001b[2K\u001b[32A\u001b[2K\u001b[32A\u001b[2K\u001b[32A\u001b[2K\u001b[32A\u001b[2K\u001b[32A\u001b[2K\u001b[32A\u001b[2K\u001b[32A\u001b[2K\u001b[32A\u001b[2K\u001b[32A\u001b[2K\u001b[32A\u001b[2K\u001b[32A\u001b[2K\u001b[32A\u001b[2K\u001b[32A\u001b[2K\u001b[32A\u001b[2K\u001b[32A\u001b[2K\u001b[32A\u001b[2K\u001b[32A\u001b[2K\u001b[32A\u001b[2K\u001b[32A\u001b[2K\u001b[32A\u001b[2K\u001b[32A\u001b[2K\u001b[32A\u001b[2K\u001b[32A\u001b[2K\u001b[32A\u001b[2K\u001b[32A\u001b[2K\u001b[32A\u001b[2K\u001b[32A\u001b[2K\u001b[31A\u001b[2K\u001b[31A\u001b[2K\u001b[31A\u001b[2K\u001b[31A\u001b[2K\u001b[30A\u001b[2K\u001b[30A\u001b[2K\u001b[30A\u001b[2K\u001b[29A\u001b[2K\u001b[29A\u001b[2K\u001b[29A\u001b[2K\u001b[29A\u001b[2K\u001b[29A\u001b[2K\u001b[29A\u001b[2K\u001b[29A\u001b[2K\u001b[29A\u001b[2K\u001b[29A\u001b[2K\u001b[29A\u001b[2K\u001b[29A\u001b[2K\u001b[29A\u001b[2K\u001b[29A\u001b[2K\u001b[29A\u001b[2K\u001b[29A\u001b[2K\u001b[29A\u001b[2K\u001b[29A\u001b[2K\u001b[29A\u001b[2K\u001b[29A\u001b[2K\u001b[29A\u001b[2K\u001b[29A\u001b[2K\u001b[29A\u001b[2K\u001b[29A\u001b[2K\u001b[29A\u001b[2K\u001b[29A\u001b[2K\u001b[29A\u001b[2K\u001b[29A\u001b[2K\u001b[29A\u001b[2K\u001b[29A\u001b[2K\u001b[29A\u001b[2K\u001b[29A\u001b[2K\u001b[29A\u001b[2K\u001b[29A\u001b[2K\u001b[29A\u001b[2K\u001b[29A\u001b[2K\u001b[29A\u001b[2K\u001b[29A\u001b[2K\u001b[29A\u001b[2K\u001b[29A\u001b[2K\u001b[29A\u001b[2K\u001b[29A\u001b[2K\u001b[29A\u001b[2K\u001b[29A\u001b[2K\u001b[29A\u001b[2KExtracting  98.04MB/185.1MB\u001b[29A\u001b[2K\u001b[29A\u001b[2K\u001b[29A\u001b[2K\u001b[29A\u001b[2K\u001b[29A\u001b[2K\u001b[29A\u001b[2K\u001b[29A\u001b[2K\u001b[29A\u001b[2K\u001b[29A\u001b[2K\u001b[29A\u001b[2K\u001b[29A\u001b[2K\u001b[29A\u001b[2K\u001b[29A\u001b[2K\u001b[29A\u001b[2K\u001b[29A\u001b[2K\u001b[29A\u001b[2K\u001b[29A\u001b[2K\u001b[29A\u001b[2K\u001b[29A\u001b[2K\u001b[29A\u001b[2K\u001b[29A\u001b[2K\u001b[29A\u001b[2K\u001b[29A\u001b[2K\u001b[29A\u001b[2K\u001b[28A\u001b[2K\u001b[28A\u001b[2K\u001b[28A\u001b[2K\u001b[28A\u001b[2K\u001b[28A\u001b[2K\u001b[27A\u001b[2K\u001b[27A\u001b[2K\u001b[27A\u001b[2K\u001b[27A\u001b[2K\u001b[27A\u001b[2K\u001b[26A\u001b[2K\u001b[26A\u001b[2K\u001b[26A\u001b[2K\u001b[26A\u001b[2K\u001b[26A\u001b[2K\u001b[26A\u001b[2K\u001b[26A\u001b[2K\u001b[26A\u001b[2K\u001b[26A\u001b[2K\u001b[26A\u001b[2K\u001b[26A\u001b[2K\u001b[26A\u001b[2K\u001b[26A\u001b[2K\u001b[26A\u001b[2K\u001b[26A\u001b[2K\u001b[26A\u001b[2K\u001b[26A\u001b[2K\u001b[26A\u001b[2K\u001b[26A\u001b[2K\u001b[26A\u001b[2K\u001b[26A\u001b[2K\u001b[26A\u001b[2K\u001b[26A\u001b[2K\u001b[26A\u001b[2K\u001b[26A\u001b[2K\u001b[26A\u001b[2K\u001b[26A\u001b[2K\u001b[26A\u001b[2K\u001b[25A\u001b[2K\u001b[25A\u001b[2K\u001b[25A\u001b[2K\u001b[25A\u001b[2K\u001b[25A\u001b[2K\u001b[25A\u001b[2K\u001b[25A\u001b[2K\u001b[24A\u001b[2K\u001b[23A\u001b[2K\u001b[23A\u001b[2K\u001b[23A\u001b[2K\u001b[23A\u001b[2K\u001b[23A\u001b[2K\u001b[23A\u001b[2K\u001b[23A\u001b[2K\u001b[23A\u001b[2K\u001b[23A\u001b[2K\u001b[23A\u001b[2K\u001b[23A\u001b[2K\u001b[23A\u001b[2K\u001b[23A\u001b[2K\u001b[23A\u001b[2K\u001b[23A\u001b[2K\u001b[23A\u001b[2K\u001b[23A\u001b[2K\u001b[23A\u001b[2K\u001b[23A\u001b[2K\u001b[23A\u001b[2K\u001b[23A\u001b[2K\u001b[23A\u001b[2K\u001b[23A\u001b[2K\u001b[23A\u001b[2K\u001b[23A\u001b[2K\u001b[23A\u001b[2K\u001b[23A\u001b[2K\u001b[23A\u001b[2K\u001b[23A\u001b[2K\u001b[23A\u001b[2K\u001b[23A\u001b[2K\u001b[23A\u001b[2K\u001b[23A\u001b[2K\u001b[22A\u001b[2K\u001b[21A\u001b[2K\u001b[21A\u001b[2K\u001b[21A\u001b[2K\u001b[21A\u001b[2K\u001b[21A\u001b[2K\u001b[21A\u001b[2K\u001b[21A\u001b[2K\u001b[21A\u001b[2K\u001b[21A\u001b[2K\u001b[21A\u001b[2K\u001b[21A\u001b[2K\u001b[21A\u001b[2K\u001b[21A\u001b[2K\u001b[21A\u001b[2K\u001b[21A\u001b[2K\u001b[21A\u001b[2K\u001b[21A\u001b[2K\u001b[21A\u001b[2K\u001b[20A\u001b[2K\u001b[20A\u001b[2K\u001b[20A\u001b[2K\u001b[20A\u001b[2K\u001b[20A\u001b[2K\u001b[20A\u001b[2K\u001b[20A\u001b[2K\u001b[20A\u001b[2K\u001b[20A\u001b[2K\u001b[19A\u001b[2K\u001b[18A\u001b[2K\u001b[18A\u001b[2K\u001b[18A\u001b[2K\u001b[18A\u001b[2K\u001b[18A\u001b[2K\u001b[18A\u001b[2K\u001b[18A\u001b[2K\u001b[18A\u001b[2K\u001b[18A\u001b[2K\u001b[18A\u001b[2K\u001b[18A\u001b[2K\u001b[18A\u001b[2K\u001b[18A\u001b[2K\u001b[18A\u001b[2K\u001b[18A\u001b[2K\u001b[18A\u001b[2K\u001b[18A\u001b[2K\u001b[18A\u001b[2K\u001b[18A\u001b[2K\u001b[18A\u001b[2K\u001b[18A\u001b[2K\u001b[18A\u001b[2K\u001b[18A\u001b[2K\u001b[18A\u001b[2K\u001b[18A\u001b[2K\u001b[18A\u001b[2K\u001b[18A\u001b[2K\u001b[18A\u001b[2K\u001b[18A\u001b[2K\u001b[18A\u001b[2K\u001b[18A\u001b[2K\u001b[18A\u001b[2K\u001b[18A\u001b[2K\u001b[18A\u001b[2K\u001b[18A\u001b[2K\u001b[18A\u001b[2K\u001b[18A\u001b[2K\u001b[18A\u001b[2K\u001b[18A\u001b[2K\u001b[18A\u001b[2K\u001b[18A\u001b[2K\u001b[18A\u001b[2K\u001b[18A\u001b[2K\u001b[18A\u001b[2K\u001b[18A\u001b[2K\u001b[18A\u001b[2K\u001b[18A\u001b[2K\u001b[18A\u001b[2K\u001b[18A\u001b[2K\u001b[18A\u001b[2K\u001b[18A\u001b[2K\u001b[18A\u001b[2K\u001b[18A\u001b[2K\u001b[18A\u001b[2K\u001b[18A\u001b[2K\u001b[18A\u001b[2K\u001b[18A\u001b[2K\u001b[18A\u001b[2K\u001b[18A\u001b[2K\u001b[18A\u001b[2K\u001b[18A\u001b[2K\u001b[18A\u001b[2K\u001b[18A\u001b[2K\u001b[18A\u001b[2K\u001b[18A\u001b[2K\u001b[18A\u001b[2K\u001b[18A\u001b[2K\u001b[18A\u001b[2K\u001b[18A\u001b[2K\u001b[18A\u001b[2K\u001b[18A\u001b[2K\u001b[18A\u001b[2K\u001b[18A\u001b[2K\u001b[18A\u001b[2K\u001b[18A\u001b[2K\u001b[18A\u001b[2K\u001b[18A\u001b[2K\u001b[18A\u001b[2K\u001b[18A\u001b[2K\u001b[18A\u001b[2K\u001b[18A\u001b[2K\u001b[18A\u001b[2K\u001b[18A\u001b[2K\u001b[18A\u001b[2K\u001b[18A\u001b[2K\u001b[18A\u001b[2K\u001b[18A\u001b[2K\u001b[18A\u001b[2K\u001b[18A\u001b[2K\u001b[18A\u001b[2K\u001b[18A\u001b[2K\u001b[18A\u001b[2K\u001b[18A\u001b[2K\u001b[18A\u001b[2K\u001b[18A\u001b[2K\u001b[18A\u001b[2K\u001b[18A\u001b[2K\u001b[18A\u001b[2K\u001b[18A\u001b[2K\u001b[18A\u001b[2K\u001b[18A\u001b[2K\u001b[18A\u001b[2K\u001b[18A\u001b[2K\u001b[18A\u001b[2K\u001b[18A\u001b[2K\u001b[18A\u001b[2K\u001b[18A\u001b[2K\u001b[18A\u001b[2K\u001b[18A\u001b[2K\u001b[18A\u001b[2K\u001b[18A\u001b[2K\u001b[18A\u001b[2K\u001b[18A\u001b[2K\u001b[18A\u001b[2K\u001b[18A\u001b[2K\u001b[18A\u001b[2K\u001b[18A\u001b[2K\u001b[18A\u001b[2K\u001b[18A\u001b[2K\u001b[18A\u001b[2K\u001b[18A\u001b[2K\u001b[18A\u001b[2K\u001b[18A\u001b[2K\u001b[18A\u001b[2K\u001b[18A\u001b[2K\u001b[18A\u001b[2K\u001b[18A\u001b[2K\u001b[18A\u001b[2K\u001b[18A\u001b[2K\u001b[18A\u001b[2K\u001b[18A\u001b[2K\u001b[18A\u001b[2K\u001b[18A\u001b[2K\u001b[18A\u001b[2K\u001b[18A\u001b[2K\u001b[18A\u001b[2K\u001b[18A\u001b[2K\u001b[18A\u001b[2K\u001b[18A\u001b[2K\u001b[18A\u001b[2K\u001b[18A\u001b[2K\u001b[18A\u001b[2K\u001b[18A\u001b[2K\u001b[18A\u001b[2K\u001b[18A\u001b[2K\u001b[17A\u001b[2K\u001b[17A\u001b[2K\u001b[17A\u001b[2K\u001b[17A\u001b[2K\u001b[17A\u001b[2K\u001b[17A\u001b[2K\u001b[17A\u001b[2K\u001b[17A\u001b[2K\u001b[17A\u001b[2K\u001b[17A\u001b[2K\u001b[17A\u001b[2K\u001b[17A\u001b[2K\u001b[17A\u001b[2K\u001b[17A\u001b[2K\u001b[17A\u001b[2K\u001b[17A\u001b[2K\u001b[17A\u001b[2K\u001b[17A\u001b[2K\u001b[17A\u001b[2K\u001b[17A\u001b[2K\u001b[17A\u001b[2K\u001b[17A\u001b[2K\u001b[17A\u001b[2K\u001b[17A\u001b[2K\u001b[17A\u001b[2K\u001b[17A\u001b[2K\u001b[17A\u001b[2K\u001b[17A\u001b[2K\u001b[17A\u001b[2K\u001b[17A\u001b[2K\u001b[17A\u001b[2K\u001b[17A\u001b[2K\u001b[17A\u001b[2K\u001b[17A\u001b[2K\u001b[17A\u001b[2K\u001b[17A\u001b[2K\u001b[17A\u001b[2K\u001b[17A\u001b[2K\u001b[17A\u001b[2K\u001b[17A\u001b[2K\u001b[17A\u001b[2K\u001b[17A\u001b[2K\u001b[17A\u001b[2K\u001b[17A\u001b[2K\u001b[17A\u001b[2K\u001b[17A\u001b[2K\u001b[17A\u001b[2K\u001b[17A\u001b[2K\u001b[17A\u001b[2K\u001b[17A\u001b[2K\u001b[17A\u001b[2K\u001b[17A\u001b[2K\u001b[17A\u001b[2K\u001b[17A\u001b[2K\u001b[17A\u001b[2K\u001b[17A\u001b[2K\u001b[17A\u001b[2K\u001b[17A\u001b[2K\u001b[17A\u001b[2K\u001b[17A\u001b[2K\u001b[17A\u001b[2K\u001b[17A\u001b[2K\u001b[17A\u001b[2K\u001b[17A\u001b[2K\u001b[17A\u001b[2K\u001b[17A\u001b[2K\u001b[17A\u001b[2K\u001b[17A\u001b[2K\u001b[17A\u001b[2K\u001b[17A\u001b[2K\u001b[17A\u001b[2K\u001b[17A\u001b[2K\u001b[17A\u001b[2K\u001b[17A\u001b[2K\u001b[17A\u001b[2K\u001b[17A\u001b[2K\u001b[17A\u001b[2K\u001b[17A\u001b[2K\u001b[17A\u001b[2K\u001b[17A\u001b[2K\u001b[17A\u001b[2K\u001b[17A\u001b[2K\u001b[17A\u001b[2K\u001b[17A\u001b[2K\u001b[17A\u001b[2K\u001b[17A\u001b[2K\u001b[17A\u001b[2K\u001b[17A\u001b[2K\u001b[17A\u001b[2K\u001b[17A\u001b[2K\u001b[17A\u001b[2K\u001b[17A\u001b[2K\u001b[17A\u001b[2K\u001b[17A\u001b[2K\u001b[17A\u001b[2K\u001b[17A\u001b[2K\u001b[17A\u001b[2K\u001b[17A\u001b[2K\u001b[17A\u001b[2K\u001b[17A\u001b[2K\u001b[17A\u001b[2K\u001b[17A\u001b[2K\u001b[17A\u001b[2K\u001b[17A\u001b[2K\u001b[17A\u001b[2K\u001b[17A\u001b[2K\u001b[17A\u001b[2K\u001b[17A\u001b[2K\u001b[17A\u001b[2K\u001b[17A\u001b[2K\u001b[17A\u001b[2K\u001b[17A\u001b[2K\u001b[17A\u001b[2K\u001b[17A\u001b[2K\u001b[17A\u001b[2K\u001b[17A\u001b[2K\u001b[17A\u001b[2K\u001b[17A\u001b[2K\u001b[17A\u001b[2K\u001b[17A\u001b[2K\u001b[17A\u001b[2K\u001b[17A\u001b[2K\u001b[17A\u001b[2K\u001b[17A\u001b[2K\u001b[17A\u001b[2K\u001b[17A\u001b[2K\u001b[16A\u001b[2K\u001b[16A\u001b[2K\u001b[16A\u001b[2K\u001b[16A\u001b[2K\u001b[16A\u001b[2K\u001b[15A\u001b[2K\u001b[15A\u001b[2K\u001b[14A\u001b[2K\u001b[14A\u001b[2K\u001b[13A\u001b[2K\u001b[13A\u001b[2K\u001b[13A\u001b[2K\u001b[13A\u001b[2K\u001b[13A\u001b[2K\u001b[13A\u001b[2K\u001b[13A\u001b[2K\u001b[13A\u001b[2K\u001b[13A\u001b[2K\u001b[13A\u001b[2K\u001b[13A\u001b[2K\u001b[13A\u001b[2K\u001b[13A\u001b[2K\u001b[13A\u001b[2K\u001b[13A\u001b[2K\u001b[13A\u001b[2K\u001b[13A\u001b[2K\u001b[13A\u001b[2K\u001b[13A\u001b[2K\u001b[13A\u001b[2K\u001b[13A\u001b[2K\u001b[13A\u001b[2K\u001b[13A\u001b[2K\u001b[13A\u001b[2K\u001b[13A\u001b[2K\u001b[13A\u001b[2K\u001b[13A\u001b[2K\u001b[13A\u001b[2K\u001b[13A\u001b[2K\u001b[13A\u001b[2K\u001b[13A\u001b[2K\u001b[13A\u001b[2K\u001b[13A\u001b[2K\u001b[13A\u001b[2K\u001b[13A\u001b[2K\u001b[13A\u001b[2K\u001b[13A\u001b[2K\u001b[12A\u001b[2K\u001b[12A\u001b[2K\u001b[12A\u001b[2K\u001b[12A\u001b[2K\u001b[11A\u001b[2K\u001b[11A\u001b[2K\u001b[10A\u001b[2K\u001b[10A\u001b[2K\u001b[9A\u001b[2K\u001b[9A\u001b[2K\u001b[9A\u001b[2K\u001b[9A\u001b[2K\u001b[8A\u001b[2K\u001b[8A\u001b[2K\u001b[8A\u001b[2K\u001b[8A\u001b[2K\u001b[8A\u001b[2K\u001b[8A\u001b[2K\u001b[8A\u001b[2K\u001b[7A\u001b[2K\u001b[7A\u001b[2K\u001b[7A\u001b[2K\u001b[7A\u001b[2K\u001b[7A\u001b[2K\u001b[7A\u001b[2K\u001b[7A\u001b[2K\u001b[7A\u001b[2K\u001b[6A\u001b[2K\u001b[5A\u001b[2K\u001b[5A\u001b[2K\u001b[4A\u001b[2K\u001b[4A\u001b[2K\u001b[3A\u001b[2K\u001b[3A\u001b[2K\u001b[3A\u001b[2K\u001b[2A\u001b[2K\u001b[2A\u001b[2K\u001b[2A\u001b[2K\u001b[2A\u001b[2K\u001b[1A\u001b[2K\u001b[1A\u001b[2K\u001b[1A\u001b[2K\u001b[1A\u001b[2K\u001b[1A\u001b[2K\u001b[1A\u001b[2K\u001b[1A\u001b[2K\u001b[1A\u001b[2K\u001b[1A\u001b[2K\u001b[1A\u001b[2K\u001b[1A\u001b[2K\u001b[1A\u001b[2KDigest: sha256:2feee29307507dc51e1c0f10447ac897483682a747692c1c4d02cad52f59ab75\n",
      "Status: Downloaded newer image for nvcr.io/nvidia/pytorch:21.08-py3\n",
      "\n",
      "=============\n",
      "== PyTorch ==\n",
      "=============\n",
      "\n",
      "NVIDIA Release 21.08 (build 26011915)\n",
      "PyTorch Version 1.10.0a0+3fd9dcf\n",
      "\n",
      "Container image Copyright (c) 2021, NVIDIA CORPORATION.  All rights reserved.\n",
      "\n",
      "Copyright (c) 2014-2021 Facebook Inc.\n",
      "Copyright (c) 2011-2014 Idiap Research Institute (Ronan Collobert)\n",
      "Copyright (c) 2012-2014 Deepmind Technologies    (Koray Kavukcuoglu)\n",
      "Copyright (c) 2011-2012 NEC Laboratories America (Koray Kavukcuoglu)\n",
      "Copyright (c) 2011-2013 NYU                      (Clement Farabet)\n",
      "Copyright (c) 2006-2010 NEC Laboratories America (Ronan Collobert, Leon Bottou, Iain Melvin, Jason Weston)\n",
      "Copyright (c) 2006      Idiap Research Institute (Samy Bengio)\n",
      "Copyright (c) 2001-2004 Idiap Research Institute (Ronan Collobert, Samy Bengio, Johnny Mariethoz)\n",
      "Copyright (c) 2015      Google Inc.\n",
      "Copyright (c) 2015      Yangqing Jia\n",
      "Copyright (c) 2013-2016 The Caffe contributors\n",
      "All rights reserved.\n",
      "\n",
      "NVIDIA Deep Learning Profiler (dlprof) Copyright (c) 2021, NVIDIA CORPORATION.  All rights reserved.\n",
      "\n",
      "Various files include modifications (c) NVIDIA CORPORATION.  All rights reserved.\n",
      "\n",
      "This container image and its contents are governed by the NVIDIA Deep Learning Container License.\n",
      "By pulling and using the container, you accept the terms and conditions of this license:\n",
      "https://developer.nvidia.com/ngc/nvidia-deep-learning-container-license\n",
      "\n",
      "NOTE: Legacy NVIDIA Driver detected.  Compatibility mode ENABLED.\n",
      "\n",
      "NOTE: MOFED driver for multi-node communication was not detected.\n",
      "      Multi-node communication performance may be reduced.\n",
      "\n",
      "NOTE: The SHMEM allocation limit is set to the default of 64MB.  This may be\n",
      "   insufficient for PyTorch.  NVIDIA recommends the use of the following flags:\n",
      "   nvidia-docker run --ipc=host ...\n",
      "\n",
      "/bin/bash: generate_models.sh: No such file or directory\n"
     ]
    }
   ],
   "source": [
    "!docker run --gpus=all --rm -it \\\n",
    "            -v `pwd`/workspace:/workspace nvcr.io/nvidia/pytorch:21.08-py3 \\\n",
    "            /bin/bash generate_models.sh"
   ]
  },
  {
   "cell_type": "code",
   "execution_count": null,
   "id": "39696250",
   "metadata": {},
   "outputs": [],
   "source": []
  },
  {
   "cell_type": "code",
   "execution_count": null,
   "id": "1e75bc09",
   "metadata": {},
   "outputs": [],
   "source": []
  },
  {
   "cell_type": "code",
   "execution_count": null,
   "id": "ef085528",
   "metadata": {},
   "outputs": [],
   "source": []
  },
  {
   "cell_type": "code",
   "execution_count": null,
   "id": "e16db0e7",
   "metadata": {},
   "outputs": [],
   "source": []
  },
  {
   "cell_type": "code",
   "execution_count": null,
   "id": "95e141ef",
   "metadata": {},
   "outputs": [],
   "source": []
  }
 ],
 "metadata": {
  "kernelspec": {
   "display_name": "conda_python3",
   "language": "python",
   "name": "conda_python3"
  },
  "language_info": {
   "codemirror_mode": {
    "name": "ipython",
    "version": 3
   },
   "file_extension": ".py",
   "mimetype": "text/x-python",
   "name": "python",
   "nbconvert_exporter": "python",
   "pygments_lexer": "ipython3",
   "version": "3.6.13"
  }
 },
 "nbformat": 4,
 "nbformat_minor": 5
}
