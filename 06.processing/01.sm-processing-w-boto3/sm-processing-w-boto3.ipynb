{
 "cells": [
  {
   "cell_type": "markdown",
   "id": "c66a9a5b",
   "metadata": {},
   "source": [
    "# (1) SageMaker Processing w/ SageMaker Python SDK\n",
    "- Source: https://github.com/mullue/sm-tf2/blob/master/tf-2-workflow.ipynb\n",
    "- Kernel: `conda_tensorflow2_p36`"
   ]
  },
  {
   "cell_type": "code",
   "execution_count": 1,
   "id": "99de43fd",
   "metadata": {},
   "outputs": [
    {
     "name": "stdout",
     "output_type": "stream",
     "text": [
      "WARNING:tensorflow:From /home/ec2-user/anaconda3/envs/tensorflow_p36/gpu_cuda10.0/lib/python3.6/site-packages/tensorflow_core/__init__.py:1473: The name tf.estimator.inputs is deprecated. Please use tf.compat.v1.estimator.inputs instead.\n",
      "\n"
     ]
    }
   ],
   "source": [
    "import os\n",
    "import sagemaker\n",
    "import tensorflow as tf\n",
    "from time import gmtime, strftime "
   ]
  },
  {
   "cell_type": "code",
   "execution_count": 2,
   "id": "b91fde2c",
   "metadata": {},
   "outputs": [],
   "source": [
    "sess = sagemaker.Session()\n",
    "bucket = sess.default_bucket() \n",
    "\n",
    "data_dir = os.path.join(os.getcwd(), 'data')\n",
    "os.makedirs(data_dir, exist_ok=True)\n",
    "\n",
    "train_dir = os.path.join(os.getcwd(), 'data/train')\n",
    "os.makedirs(train_dir, exist_ok=True)\n",
    "\n",
    "test_dir = os.path.join(os.getcwd(), 'data/test')\n",
    "os.makedirs(test_dir, exist_ok=True)\n",
    "\n",
    "raw_dir = os.path.join(os.getcwd(), 'data/raw')\n",
    "os.makedirs(raw_dir, exist_ok=True)"
   ]
  },
  {
   "cell_type": "code",
   "execution_count": 3,
   "id": "9ad21eda",
   "metadata": {},
   "outputs": [
    {
     "name": "stdout",
     "output_type": "stream",
     "text": [
      "raw data location: s3://sagemaker-us-east-1-889750940888/sm-processing-demo/data/raw\n"
     ]
    }
   ],
   "source": [
    "import numpy as np\n",
    "from tensorflow.python.keras.datasets import boston_housing\n",
    "from sklearn.preprocessing import StandardScaler\n",
    "\n",
    "(x_train, y_train), (x_test, y_test) = boston_housing.load_data()\n",
    "\n",
    "np.save(os.path.join(raw_dir, 'x_train.npy'), x_train)\n",
    "np.save(os.path.join(raw_dir, 'x_test.npy'), x_test)\n",
    "np.save(os.path.join(train_dir, 'y_train.npy'), y_train)\n",
    "np.save(os.path.join(test_dir, 'y_test.npy'), y_test)\n",
    "\n",
    "s3_prefix = 'sm-processing-demo'\n",
    "\n",
    "rawdata_s3_prefix = '{}/data/raw'.format(s3_prefix)\n",
    "train_s3_prefix = '{}/data/train'.format(s3_prefix)\n",
    "test_s3_prefix = '{}/data/test'.format(s3_prefix)\n",
    "\n",
    "raw_s3 = sess.upload_data(path='./data/raw/', key_prefix=rawdata_s3_prefix)\n",
    "y_train = sess.upload_data(path='./data/train/y_train.npy', key_prefix=train_s3_prefix)\n",
    "y_test = sess.upload_data(path='./data/test/y_test.npy', key_prefix=test_s3_prefix)\n",
    "\n",
    "print('raw data location: {}'.format(raw_s3))"
   ]
  },
  {
   "cell_type": "code",
   "execution_count": 4,
   "id": "ac2a025c",
   "metadata": {},
   "outputs": [
    {
     "name": "stdout",
     "output_type": "stream",
     "text": [
      "2022-01-06 07:04:19        846 sm-processing-demo-06-07-04-17/input/code/preprocessing.py\n",
      "2022-01-06 11:03:06        846 sm-processing-demo/code/preprocessing.py\n",
      "2022-01-06 12:15:36      10736 sm-processing-demo/data/raw/x_test.npy\n",
      "2022-01-06 12:15:36      42144 sm-processing-demo/data/raw/x_train.npy\n",
      "2022-01-06 11:15:47      10736 sm-processing-demo/data/test/x_test.npy\n",
      "2022-01-06 12:15:36        944 sm-processing-demo/data/test/y_test.npy\n",
      "2022-01-06 12:15:36       3360 sm-processing-demo/data/train/y_train.npy\n",
      "2022-01-06 06:00:00        846 sm-processing-democode/preprocessing.py\n"
     ]
    }
   ],
   "source": [
    "!aws s3 ls s3://{bucket}/{s3_prefix} --recursive"
   ]
  },
  {
   "cell_type": "code",
   "execution_count": 5,
   "id": "9299f944",
   "metadata": {},
   "outputs": [
    {
     "name": "stdout",
     "output_type": "stream",
     "text": [
      "Overwriting preprocessing.py\n"
     ]
    }
   ],
   "source": [
    "%%writefile preprocessing.py\n",
    "\n",
    "import glob\n",
    "import numpy as np\n",
    "import os\n",
    "from sklearn.preprocessing import StandardScaler\n",
    "\n",
    "if __name__=='__main__':\n",
    "    \n",
    "    input_files = glob.glob('{}/*.npy'.format('/opt/ml/processing/input'))\n",
    "    print('\\nINPUT FILE LIST: \\n{}\\n'.format(input_files))\n",
    "    \n",
    "    scaler = StandardScaler()\n",
    "    \n",
    "    for file in input_files:\n",
    "        raw = np.load(file)\n",
    "        transformed = scaler.fit_transform(raw)\n",
    "        \n",
    "        if 'train' in file:\n",
    "            output_path = os.path.join('/opt/ml/processing/train', 'x_train.npy')\n",
    "          \n",
    "            np.save(output_path, transformed)\n",
    "            print('SAVED TRANSFORMED TRAINING DATA FILE\\n')\n",
    "        else:\n",
    "            output_path = os.path.join('/opt/ml/processing/test', 'x_test.npy')\n",
    "            \n",
    "            np.save(output_path, transformed)\n",
    "            print('SAVED TRANSFORMED TEST DATA FILE\\n')"
   ]
  },
  {
   "cell_type": "code",
   "execution_count": 6,
   "id": "74f2ecb3",
   "metadata": {},
   "outputs": [],
   "source": [
    "# from sagemaker import get_execution_role\n",
    "# from sagemaker.sklearn.processing import SKLearnProcessor\n",
    "\n",
    "# sklearn_processor = SKLearnProcessor(framework_version='0.20.0',\n",
    "#                                      role=get_execution_role(),\n",
    "#                                      instance_type='ml.m5.xlarge',\n",
    "#                                      instance_count=2)"
   ]
  },
  {
   "cell_type": "code",
   "execution_count": 7,
   "id": "805d1de7",
   "metadata": {},
   "outputs": [],
   "source": [
    "# from sagemaker.processing import ProcessingInput, ProcessingOutput\n",
    "# from time import gmtime, strftime \n",
    "\n",
    "# processing_job_name = \"sm-processing-demo-{}\".format(strftime(\"%d-%H-%M-%S\", gmtime()))\n",
    "# output_destination = 's3://{}/{}/data'.format(bucket, s3_prefix)\n",
    "\n",
    "# sklearn_processor.run(code='preprocessing.py',\n",
    "#                       job_name=processing_job_name,\n",
    "#                       inputs=[ProcessingInput(\n",
    "#                         source=raw_s3,\n",
    "#                         destination='/opt/ml/processing/input',\n",
    "#                         s3_data_distribution_type='ShardedByS3Key')],\n",
    "#                       outputs=[ProcessingOutput(output_name='train',\n",
    "#                                                 destination='{}/train'.format(output_destination),\n",
    "#                                                 source='/opt/ml/processing/train'),\n",
    "#                                ProcessingOutput(output_name='test',\n",
    "#                                                 destination='{}/test'.format(output_destination),\n",
    "#                                                 source='/opt/ml/processing/test')])\n",
    "\n",
    "# preprocessing_job_description = sklearn_processor.jobs[-1].describe()"
   ]
  },
  {
   "cell_type": "markdown",
   "id": "c851829c",
   "metadata": {},
   "source": [
    "# (2) SageMaker Processing w/ boto3\n",
    "- Reference: https://boto3.amazonaws.com/v1/documentation/api/latest/reference/services/sagemaker.html#SageMaker.Client.create_processing_job"
   ]
  },
  {
   "cell_type": "code",
   "execution_count": 8,
   "id": "08b6022a",
   "metadata": {},
   "outputs": [
    {
     "data": {
      "text/plain": [
       "'s3://sagemaker-us-east-1-889750940888/sm-processing-demo/code/preprocessing.py'"
      ]
     },
     "execution_count": 8,
     "metadata": {},
     "output_type": "execute_result"
    }
   ],
   "source": [
    "# Upload preprocessing.py to S3\n",
    "preprocessing_code = sess.upload_data(path='./preprocessing.py', key_prefix=s3_prefix + '/code')\n",
    "preprocessing_code"
   ]
  },
  {
   "cell_type": "code",
   "execution_count": 9,
   "id": "68c31d77",
   "metadata": {},
   "outputs": [
    {
     "name": "stdout",
     "output_type": "stream",
     "text": [
      "s3://sagemaker-us-east-1-889750940888/sm-processing-demo/code\n",
      "s3://sagemaker-us-east-1-889750940888/sm-processing-demo/data/raw\n",
      "s3://sagemaker-us-east-1-889750940888/sm-processing-demo/data/train\n",
      "s3://sagemaker-us-east-1-889750940888/sm-processing-demo/data/test\n"
     ]
    }
   ],
   "source": [
    "# input, output S3 paths\n",
    "code_location = 's3://{}/{}/code'.format(bucket, s3_prefix)\n",
    "input_data = 's3://{}/{}/data/raw'.format(bucket, s3_prefix)\n",
    "output_train = 's3://{}/{}/data/train'.format(bucket, s3_prefix)\n",
    "output_test = 's3://{}/{}/data/test'.format(bucket, s3_prefix)\n",
    "\n",
    "print(code_location + '\\n' + input_data + '\\n' + output_train + '\\n' + output_test)"
   ]
  },
  {
   "cell_type": "code",
   "execution_count": 10,
   "id": "c31b90f4",
   "metadata": {},
   "outputs": [
    {
     "name": "stdout",
     "output_type": "stream",
     "text": [
      "2022-01-06 12:15:37        846 sm-processing-demo/code/preprocessing.py\n"
     ]
    }
   ],
   "source": [
    "!aws s3 ls {code_location} --recursive"
   ]
  },
  {
   "cell_type": "code",
   "execution_count": 11,
   "id": "bdc68813",
   "metadata": {},
   "outputs": [],
   "source": [
    "import boto3\n",
    "\n",
    "sm_client = boto3.client('sagemaker')"
   ]
  },
  {
   "cell_type": "code",
   "execution_count": 12,
   "id": "318bec0d",
   "metadata": {},
   "outputs": [
    {
     "data": {
      "text/plain": [
       "'683313688378.dkr.ecr.us-east-1.amazonaws.com/sagemaker-scikit-learn:0.20.0-cpu-py3'"
      ]
     },
     "execution_count": 12,
     "metadata": {},
     "output_type": "execute_result"
    }
   ],
   "source": [
    "# Processing container image uri\n",
    "# SageMaker Python SDK를 사용하지 않는다면 Hard coding\n",
    "# https://docs.aws.amazon.com/sagemaker/latest/dg/ecr-ap-northeast-2.html\n",
    "\n",
    "from sagemaker import image_uris\n",
    "container_image = image_uris.retrieve(framework='sklearn',region='us-east-1',version='0.20.0',image_scope='training')\n",
    "container_image"
   ]
  },
  {
   "cell_type": "code",
   "execution_count": 38,
   "id": "57da2c4f",
   "metadata": {},
   "outputs": [
    {
     "name": "stdout",
     "output_type": "stream",
     "text": [
      "2022-01-06 12:27:56      10736 sm-processing-demo/data/test/x_test.npy\n",
      "2022-01-06 12:15:36        944 sm-processing-demo/data/test/y_test.npy\n"
     ]
    }
   ],
   "source": [
    "!aws s3 ls {output_test} --recursive"
   ]
  },
  {
   "cell_type": "code",
   "execution_count": 40,
   "id": "0e449513",
   "metadata": {},
   "outputs": [],
   "source": [
    "# Other Parameters\n",
    "processingjob_name = \"sm-processing-demo-{}\".format(strftime(\"%d-%H-%M-%S\", gmtime()))\n",
    "\n",
    "param_input_code = {\n",
    "    'InputName': 'code',\n",
    "    'S3Input': {\n",
    "        'S3Uri': code_location,\n",
    "        'LocalPath': '/opt/ml/processing/input/code',\n",
    "        'S3DataType': 'S3Prefix',\n",
    "        'S3InputMode': 'File',\n",
    "        'S3DataDistributionType': 'FullyReplicated',\n",
    "        'S3CompressionType': 'None'\n",
    "    }\n",
    "}\n",
    "\n",
    "param_input_data = {\n",
    "    'InputName': 'input',\n",
    "    'S3Input': {\n",
    "        'S3Uri': input_data,\n",
    "        'LocalPath': '/opt/ml/processing/input',\n",
    "        'S3DataType': 'S3Prefix',\n",
    "        'S3InputMode': 'File',\n",
    "        'S3DataDistributionType': 'ShardedByS3Key',\n",
    "        'S3CompressionType': 'None'\n",
    "    }\n",
    "}\n",
    "\n",
    "param_output_train = {\n",
    "    'OutputName': 'output_train',\n",
    "    'S3Output': {\n",
    "        'S3Uri': output_train,\n",
    "        'LocalPath': '/opt/ml/processing/train',\n",
    "        'S3UploadMode': 'EndOfJob'\n",
    "    }\n",
    "}\n",
    "\n",
    "param_output_test = {\n",
    "    'OutputName': 'output_test',\n",
    "    'S3Output': {\n",
    "        'S3Uri': output_test,\n",
    "        'LocalPath': '/opt/ml/processing/test',\n",
    "        'S3UploadMode': 'EndOfJob'\n",
    "    }\n",
    "}\n",
    "\n",
    "# role = sagemaker.get_execution_role()  # If you're using SageMaker Python SDK\n",
    "role = 'arn:aws:iam::889750940888:role/service-role/AmazonSageMaker-ExecutionRole-20200219T104989' # If you're not using SageMaker Python SDK"
   ]
  },
  {
   "cell_type": "code",
   "execution_count": 41,
   "id": "70c9df85",
   "metadata": {},
   "outputs": [],
   "source": [
    "response = sm_client.create_processing_job(\n",
    "    ProcessingJobName=processingjob_name,\n",
    "    ProcessingInputs=[\n",
    "        param_input_code, \n",
    "        param_input_data\n",
    "    ],\n",
    "    ProcessingOutputConfig={\n",
    "        'Outputs': [\n",
    "            param_output_train,\n",
    "            param_output_test\n",
    "        ]\n",
    "    },\n",
    "    ProcessingResources={\n",
    "        'ClusterConfig': {\n",
    "            'InstanceCount': 2,\n",
    "            'InstanceType': 'ml.t3.medium',\n",
    "            'VolumeSizeInGB': 5\n",
    "        }\n",
    "    },\n",
    "    StoppingCondition={\n",
    "        'MaxRuntimeInSeconds': 3600\n",
    "    },\n",
    "    AppSpecification={\n",
    "        'ImageUri': container_image,\n",
    "        'ContainerEntrypoint': [\n",
    "            'python3',\n",
    "            '/opt/ml/processing/input/code/preprocessing.py'\n",
    "        ]\n",
    "    },\n",
    "    RoleArn=role\n",
    ")"
   ]
  },
  {
   "cell_type": "code",
   "execution_count": 42,
   "id": "a0d9afd3",
   "metadata": {},
   "outputs": [
    {
     "data": {
      "text/plain": [
       "{'ProcessingInputs': [{'InputName': 'code',\n",
       "   'AppManaged': False,\n",
       "   'S3Input': {'S3Uri': 's3://sagemaker-us-east-1-889750940888/sm-processing-demo/code',\n",
       "    'LocalPath': '/opt/ml/processing/input/code',\n",
       "    'S3DataType': 'S3Prefix',\n",
       "    'S3InputMode': 'File',\n",
       "    'S3DataDistributionType': 'FullyReplicated',\n",
       "    'S3CompressionType': 'None'}},\n",
       "  {'InputName': 'input',\n",
       "   'AppManaged': False,\n",
       "   'S3Input': {'S3Uri': 's3://sagemaker-us-east-1-889750940888/sm-processing-demo/data/raw',\n",
       "    'LocalPath': '/opt/ml/processing/input',\n",
       "    'S3DataType': 'S3Prefix',\n",
       "    'S3InputMode': 'File',\n",
       "    'S3DataDistributionType': 'ShardedByS3Key',\n",
       "    'S3CompressionType': 'None'}}],\n",
       " 'ProcessingOutputConfig': {'Outputs': [{'OutputName': 'output_train',\n",
       "    'S3Output': {'S3Uri': 's3://sagemaker-us-east-1-889750940888/sm-processing-demo/data/train',\n",
       "     'LocalPath': '/opt/ml/processing/train',\n",
       "     'S3UploadMode': 'EndOfJob'},\n",
       "    'AppManaged': False},\n",
       "   {'OutputName': 'output_test',\n",
       "    'S3Output': {'S3Uri': 's3://sagemaker-us-east-1-889750940888/sm-processing-demo/data/test',\n",
       "     'LocalPath': '/opt/ml/processing/test',\n",
       "     'S3UploadMode': 'EndOfJob'},\n",
       "    'AppManaged': False}]},\n",
       " 'ProcessingJobName': 'sm-processing-demo-06-12-56-58',\n",
       " 'ProcessingResources': {'ClusterConfig': {'InstanceCount': 2,\n",
       "   'InstanceType': 'ml.t3.medium',\n",
       "   'VolumeSizeInGB': 5}},\n",
       " 'StoppingCondition': {'MaxRuntimeInSeconds': 3600},\n",
       " 'AppSpecification': {'ImageUri': '683313688378.dkr.ecr.us-east-1.amazonaws.com/sagemaker-scikit-learn:0.20.0-cpu-py3',\n",
       "  'ContainerEntrypoint': ['python3',\n",
       "   '/opt/ml/processing/input/code/preprocessing.py']},\n",
       " 'RoleArn': 'arn:aws:iam::889750940888:role/service-role/AmazonSageMaker-ExecutionRole-20200219T104989',\n",
       " 'ProcessingJobArn': 'arn:aws:sagemaker:us-east-1:889750940888:processing-job/sm-processing-demo-06-12-56-58',\n",
       " 'ProcessingJobStatus': 'InProgress',\n",
       " 'LastModifiedTime': datetime.datetime(2022, 1, 6, 12, 56, 59, 528000, tzinfo=tzlocal()),\n",
       " 'CreationTime': datetime.datetime(2022, 1, 6, 12, 56, 59, 528000, tzinfo=tzlocal()),\n",
       " 'ResponseMetadata': {'RequestId': 'c1838968-f7d8-4809-8189-0a8038ce5c79',\n",
       "  'HTTPStatusCode': 200,\n",
       "  'HTTPHeaders': {'x-amzn-requestid': 'c1838968-f7d8-4809-8189-0a8038ce5c79',\n",
       "   'content-type': 'application/x-amz-json-1.1',\n",
       "   'content-length': '1757',\n",
       "   'date': 'Thu, 06 Jan 2022 12:57:00 GMT'},\n",
       "  'RetryAttempts': 0}}"
      ]
     },
     "execution_count": 42,
     "metadata": {},
     "output_type": "execute_result"
    }
   ],
   "source": [
    "processing_job_status = sm_client.describe_processing_job(\n",
    "    ProcessingJobName=response['ProcessingJobArn'].split('/')[1]\n",
    ")\n",
    "processing_job_status"
   ]
  },
  {
   "cell_type": "markdown",
   "id": "4cba9ea7",
   "metadata": {},
   "source": [
    "# (3) SageMaker Processing w/ SM Pipelines\n",
    "- Source: https://github.com/gonsoomoon-ml/SageMaker-Pipelines-Step-By-Step/blob/main/scratch/3.1.Preprocess-Pipeline.ipynb"
   ]
  },
  {
   "cell_type": "code",
   "execution_count": 46,
   "id": "fb58eb37",
   "metadata": {},
   "outputs": [
    {
     "name": "stdout",
     "output_type": "stream",
     "text": [
      "2022-01-06 12:15:36       3360 sm-processing-demo/data/train/y_train.npy\n"
     ]
    }
   ],
   "source": [
    "# # input, output S3 paths\n",
    "# code_location = 's3://{}/{}/code'.format(bucket, s3_prefix)\n",
    "input_data = 's3://{}/{}/data/raw'.format(bucket, s3_prefix)\n",
    "input_data\n",
    "# output_train = 's3://{}/{}/data/train'.format(bucket, s3_prefix)\n",
    "# output_test = 's3://{}/{}/data/test'.format(bucket, s3_prefix)\n",
    "\n",
    "!aws s3 ls {output_train} --recursive"
   ]
  },
  {
   "cell_type": "code",
   "execution_count": 17,
   "id": "81459ba2",
   "metadata": {},
   "outputs": [],
   "source": [
    "from sagemaker.workflow.parameters import (\n",
    "    ParameterInteger,\n",
    "    ParameterString,\n",
    ")\n",
    "\n",
    "processing_instance_count = ParameterInteger(\n",
    "    name=\"ProcessingInstanceCount\",\n",
    "    default_value=1\n",
    ")\n",
    "processing_instance_type = ParameterString(\n",
    "    name=\"ProcessingInstanceType\",\n",
    "    default_value=\"ml.m5.xlarge\"\n",
    ")\n",
    "\n",
    "processing_input_data = ParameterString(\n",
    "    name=\"ProcessingInputData\",\n",
    "    default_value=input_data,\n",
    ")"
   ]
  },
  {
   "cell_type": "code",
   "execution_count": 18,
   "id": "4b2dfca2",
   "metadata": {},
   "outputs": [
    {
     "name": "stdout",
     "output_type": "stream",
     "text": [
      "input_data: \n",
      " s3://sagemaker-us-east-1-889750940888/sm-processing-demo/data/raw\n"
     ]
    }
   ],
   "source": [
    "from sagemaker.sklearn.processing import SKLearnProcessor\n",
    "\n",
    "framework_version = \"0.23-1\"\n",
    "\n",
    "sklearn_processor = SKLearnProcessor(\n",
    "    framework_version=framework_version,\n",
    "    instance_type=processing_instance_type,\n",
    "    instance_count=processing_instance_count,\n",
    "    base_job_name=\"sm-processing-demo\",\n",
    "    role=role,\n",
    ")\n",
    "print(\"input_data: \\n\", input_data)"
   ]
  },
  {
   "cell_type": "code",
   "execution_count": 48,
   "id": "a6042deb",
   "metadata": {},
   "outputs": [],
   "source": [
    "from sagemaker.processing import ProcessingInput, ProcessingOutput\n",
    "from sagemaker.workflow.steps import ProcessingStep\n",
    "    \n",
    "\n",
    "step_process = ProcessingStep(\n",
    "    name=\"SMProcessDemo\",\n",
    "    processor=sklearn_processor,\n",
    "    inputs=[\n",
    "        ProcessingInput(source=input_data,\n",
    "                        destination='/opt/ml/processing/input'),\n",
    "    ],\n",
    "    outputs=[ProcessingOutput(output_name=\"train\",\n",
    "                              source='/opt/ml/processing/train',\n",
    "                              destination=output_train),\n",
    "             ProcessingOutput(output_name=\"test\",\n",
    "                              source='/opt/ml/processing/test',\n",
    "                              destination=output_test)],\n",
    "    code='preprocessing.py'\n",
    ")"
   ]
  },
  {
   "cell_type": "code",
   "execution_count": 49,
   "id": "159f404a",
   "metadata": {},
   "outputs": [],
   "source": [
    "from sagemaker.workflow.pipeline import Pipeline\n",
    "\n",
    "pipeline_name = 'sagemaker-pipeline-demo'\n",
    "pipeline = Pipeline(\n",
    "    name=pipeline_name,\n",
    "    parameters=[\n",
    "        processing_instance_type, \n",
    "        processing_instance_count,\n",
    "        processing_input_data,\n",
    "    ],\n",
    "    steps=[step_process],\n",
    ")"
   ]
  },
  {
   "cell_type": "code",
   "execution_count": 50,
   "id": "1943ed34",
   "metadata": {},
   "outputs": [
    {
     "data": {
      "text/plain": [
       "{'Version': '2020-12-01',\n",
       " 'Metadata': {},\n",
       " 'Parameters': [{'Name': 'ProcessingInstanceType',\n",
       "   'Type': 'String',\n",
       "   'DefaultValue': 'ml.m5.xlarge'},\n",
       "  {'Name': 'ProcessingInstanceCount', 'Type': 'Integer', 'DefaultValue': 1},\n",
       "  {'Name': 'ProcessingInputData',\n",
       "   'Type': 'String',\n",
       "   'DefaultValue': 's3://sagemaker-us-east-1-889750940888/sm-processing-demo/data/raw'}],\n",
       " 'PipelineExperimentConfig': {'ExperimentName': {'Get': 'Execution.PipelineName'},\n",
       "  'TrialName': {'Get': 'Execution.PipelineExecutionId'}},\n",
       " 'Steps': [{'Name': 'SMProcessDemo',\n",
       "   'Type': 'Processing',\n",
       "   'Arguments': {'ProcessingResources': {'ClusterConfig': {'InstanceType': {'Get': 'Parameters.ProcessingInstanceType'},\n",
       "      'InstanceCount': {'Get': 'Parameters.ProcessingInstanceCount'},\n",
       "      'VolumeSizeInGB': 30}},\n",
       "    'AppSpecification': {'ImageUri': '683313688378.dkr.ecr.us-east-1.amazonaws.com/sagemaker-scikit-learn:0.23-1-cpu-py3',\n",
       "     'ContainerEntrypoint': ['python3',\n",
       "      '/opt/ml/processing/input/code/preprocessing.py']},\n",
       "    'RoleArn': 'arn:aws:iam::889750940888:role/service-role/AmazonSageMaker-ExecutionRole-20200219T104989',\n",
       "    'ProcessingInputs': [{'InputName': 'input-1',\n",
       "      'AppManaged': False,\n",
       "      'S3Input': {'S3Uri': 's3://sagemaker-us-east-1-889750940888/sm-processing-demo/data/raw',\n",
       "       'LocalPath': '/opt/ml/processing/input',\n",
       "       'S3DataType': 'S3Prefix',\n",
       "       'S3InputMode': 'File',\n",
       "       'S3DataDistributionType': 'FullyReplicated',\n",
       "       'S3CompressionType': 'None'}},\n",
       "     {'InputName': 'code',\n",
       "      'AppManaged': False,\n",
       "      'S3Input': {'S3Uri': 's3://sagemaker-us-east-1-889750940888/SMProcessDemo-fda0d5b7d2f956416604dc1ad86fbf94/input/code/preprocessing.py',\n",
       "       'LocalPath': '/opt/ml/processing/input/code',\n",
       "       'S3DataType': 'S3Prefix',\n",
       "       'S3InputMode': 'File',\n",
       "       'S3DataDistributionType': 'FullyReplicated',\n",
       "       'S3CompressionType': 'None'}}],\n",
       "    'ProcessingOutputConfig': {'Outputs': [{'OutputName': 'train',\n",
       "       'AppManaged': False,\n",
       "       'S3Output': {'S3Uri': 's3://sagemaker-us-east-1-889750940888/sm-processing-demo/data/train',\n",
       "        'LocalPath': '/opt/ml/processing/train',\n",
       "        'S3UploadMode': 'EndOfJob'}},\n",
       "      {'OutputName': 'test',\n",
       "       'AppManaged': False,\n",
       "       'S3Output': {'S3Uri': 's3://sagemaker-us-east-1-889750940888/sm-processing-demo/data/test',\n",
       "        'LocalPath': '/opt/ml/processing/test',\n",
       "        'S3UploadMode': 'EndOfJob'}}]}}}]}"
      ]
     },
     "execution_count": 50,
     "metadata": {},
     "output_type": "execute_result"
    }
   ],
   "source": [
    "import json\n",
    "\n",
    "definition = json.loads(pipeline.definition())\n",
    "definition"
   ]
  },
  {
   "cell_type": "code",
   "execution_count": 51,
   "id": "9004f7a0",
   "metadata": {},
   "outputs": [
    {
     "data": {
      "text/plain": [
       "{'PipelineArn': 'arn:aws:sagemaker:us-east-1:889750940888:pipeline/sagemaker-pipeline-demo',\n",
       " 'ResponseMetadata': {'RequestId': '62e365c4-cd3e-4af3-ab63-167a5a7d43df',\n",
       "  'HTTPStatusCode': 200,\n",
       "  'HTTPHeaders': {'x-amzn-requestid': '62e365c4-cd3e-4af3-ab63-167a5a7d43df',\n",
       "   'content-type': 'application/x-amz-json-1.1',\n",
       "   'content-length': '91',\n",
       "   'date': 'Thu, 06 Jan 2022 13:26:37 GMT'},\n",
       "  'RetryAttempts': 0}}"
      ]
     },
     "execution_count": 51,
     "metadata": {},
     "output_type": "execute_result"
    }
   ],
   "source": [
    "pipeline.upsert(role_arn=role)"
   ]
  },
  {
   "cell_type": "code",
   "execution_count": 52,
   "id": "ac2f8749",
   "metadata": {},
   "outputs": [],
   "source": [
    "execution = pipeline.start()"
   ]
  },
  {
   "cell_type": "code",
   "execution_count": 53,
   "id": "ec295076",
   "metadata": {},
   "outputs": [],
   "source": [
    "execution.describe()\n",
    "execution.wait()"
   ]
  },
  {
   "cell_type": "code",
   "execution_count": 54,
   "id": "e4c6362e",
   "metadata": {},
   "outputs": [
    {
     "data": {
      "text/plain": [
       "[{'StepName': 'SMProcessDemo',\n",
       "  'StartTime': datetime.datetime(2022, 1, 6, 13, 26, 39, 931000, tzinfo=tzlocal()),\n",
       "  'EndTime': datetime.datetime(2022, 1, 6, 13, 30, 55, 172000, tzinfo=tzlocal()),\n",
       "  'StepStatus': 'Succeeded',\n",
       "  'AttemptCount': 0,\n",
       "  'Metadata': {'ProcessingJob': {'Arn': 'arn:aws:sagemaker:us-east-1:889750940888:processing-job/pipelines-dw8wqbx201u4-smprocessdemo-xnsnheajek'}}}]"
      ]
     },
     "execution_count": 54,
     "metadata": {},
     "output_type": "execute_result"
    }
   ],
   "source": [
    "execution.list_steps()"
   ]
  },
  {
   "cell_type": "markdown",
   "id": "6dc7d913",
   "metadata": {},
   "source": [
    "## Execute SM Pipelines via boto3"
   ]
  },
  {
   "cell_type": "code",
   "execution_count": 26,
   "id": "49045975",
   "metadata": {},
   "outputs": [],
   "source": [
    "pipeline_execution_response = sm_client.start_pipeline_execution(\n",
    "    PipelineName='sagemaker-pipeline-demo',\n",
    "    PipelineExecutionDisplayName='execution-via-boto3',\n",
    "    PipelineParameters=[\n",
    "        {\n",
    "            'Name': 'ProcessingInstanceType',\n",
    "            'Value': 'ml.c5.xlarge'\n",
    "        },\n",
    "        {\n",
    "            'Name': 'ProcessingInstanceCount',\n",
    "            'Value': '2'\n",
    "        },\n",
    "        {\n",
    "            'Name': 'ProcessingInputData',\n",
    "            'Value': 's3://sagemaker-us-east-1-889750940888/sm-processing-demo/data/raw'\n",
    "        }\n",
    "    ],\n",
    "#     PipelineExecutionDescription='string',\n",
    "#     ClientRequestToken='string',\n",
    "#     ParallelismConfiguration={\n",
    "#         'MaxParallelExecutionSteps': 123\n",
    "#     }\n",
    ")"
   ]
  },
  {
   "cell_type": "code",
   "execution_count": 27,
   "id": "3af36345",
   "metadata": {},
   "outputs": [
    {
     "data": {
      "text/plain": [
       "{'PipelineExecutionArn': 'arn:aws:sagemaker:us-east-1:889750940888:pipeline/sagemaker-pipeline-demo/execution/ccojvcn2s7n0',\n",
       " 'ResponseMetadata': {'RequestId': '0992c1f3-6bc8-49a9-8915-d6c997fd5af5',\n",
       "  'HTTPStatusCode': 200,\n",
       "  'HTTPHeaders': {'x-amzn-requestid': '0992c1f3-6bc8-49a9-8915-d6c997fd5af5',\n",
       "   'content-type': 'application/x-amz-json-1.1',\n",
       "   'content-length': '123',\n",
       "   'date': 'Thu, 06 Jan 2022 12:20:40 GMT'},\n",
       "  'RetryAttempts': 0}}"
      ]
     },
     "execution_count": 27,
     "metadata": {},
     "output_type": "execute_result"
    }
   ],
   "source": [
    "pipeline_execution_response"
   ]
  },
  {
   "cell_type": "code",
   "execution_count": null,
   "id": "b009a2eb",
   "metadata": {},
   "outputs": [],
   "source": []
  }
 ],
 "metadata": {
  "kernelspec": {
   "display_name": "conda_tensorflow_p36",
   "language": "python",
   "name": "conda_tensorflow_p36"
  },
  "language_info": {
   "codemirror_mode": {
    "name": "ipython",
    "version": 3
   },
   "file_extension": ".py",
   "mimetype": "text/x-python",
   "name": "python",
   "nbconvert_exporter": "python",
   "pygments_lexer": "ipython3",
   "version": "3.6.13"
  }
 },
 "nbformat": 4,
 "nbformat_minor": 5
}
