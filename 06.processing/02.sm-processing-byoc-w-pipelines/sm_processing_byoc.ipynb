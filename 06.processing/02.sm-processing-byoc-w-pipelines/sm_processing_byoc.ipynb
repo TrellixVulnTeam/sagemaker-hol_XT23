{
 "cells": [
  {
   "cell_type": "markdown",
   "id": "55e14ebe",
   "metadata": {},
   "source": [
    "# Customer container를 활용한 SageMaker Processing\n",
    "\n",
    "References\n",
    "- Run Scripts with Your Own Processing Container: https://docs.aws.amazon.com/sagemaker/latest/dg/processing-container-run-scripts.html"
   ]
  },
  {
   "cell_type": "markdown",
   "id": "0fc026f9",
   "metadata": {},
   "source": [
    "## Input data 준비"
   ]
  },
  {
   "cell_type": "code",
   "execution_count": 13,
   "id": "db0cb127",
   "metadata": {},
   "outputs": [],
   "source": [
    "import sagemaker\n",
    "import os"
   ]
  },
  {
   "cell_type": "code",
   "execution_count": 14,
   "id": "7241f36d",
   "metadata": {},
   "outputs": [],
   "source": [
    "sess = sagemaker.Session()\n",
    "bucket = sess.default_bucket() \n",
    "\n",
    "data_dir = os.path.join(os.getcwd(), 'data')\n",
    "os.makedirs(data_dir, exist_ok=True)\n",
    "\n",
    "train_dir = os.path.join(os.getcwd(), 'data/train')\n",
    "os.makedirs(train_dir, exist_ok=True)\n",
    "\n",
    "test_dir = os.path.join(os.getcwd(), 'data/test')\n",
    "os.makedirs(test_dir, exist_ok=True)\n",
    "\n",
    "raw_dir = os.path.join(os.getcwd(), 'data/raw')\n",
    "os.makedirs(raw_dir, exist_ok=True)"
   ]
  },
  {
   "cell_type": "code",
   "execution_count": 26,
   "id": "bacad65e",
   "metadata": {},
   "outputs": [
    {
     "name": "stdout",
     "output_type": "stream",
     "text": [
      "raw data location: s3://sagemaker-us-east-1-889750940888/sm-processing-demo/data/raw\n"
     ]
    }
   ],
   "source": [
    "import numpy as np\n",
    "from tensorflow.python.keras.datasets import boston_housing\n",
    "from sklearn.preprocessing import StandardScaler\n",
    "\n",
    "(x_train, y_train), (x_test, y_test) = boston_housing.load_data()\n",
    "\n",
    "np.save(os.path.join(raw_dir, 'x_train.npy'), x_train)\n",
    "np.save(os.path.join(raw_dir, 'x_test.npy'), x_test)\n",
    "np.save(os.path.join(train_dir, 'y_train.npy'), y_train)\n",
    "np.save(os.path.join(test_dir, 'y_test.npy'), y_test)\n",
    "\n",
    "s3_prefix = 'sm-processing-demo'\n",
    "\n",
    "rawdata_s3_prefix = '{}/data/raw'.format(s3_prefix)\n",
    "train_s3_prefix = '{}/data/train'.format(s3_prefix)\n",
    "test_s3_prefix = '{}/data/test'.format(s3_prefix)\n",
    "\n",
    "raw_s3 = sess.upload_data(path='./data/raw/', key_prefix=rawdata_s3_prefix)\n",
    "y_train = sess.upload_data(path='./data/train/y_train.npy', key_prefix=train_s3_prefix)\n",
    "y_test = sess.upload_data(path='./data/test/y_test.npy', key_prefix=test_s3_prefix)\n",
    "\n",
    "print('raw data location: {}'.format(raw_s3))"
   ]
  },
  {
   "cell_type": "code",
   "execution_count": 27,
   "id": "ac4ecffe",
   "metadata": {},
   "outputs": [
    {
     "name": "stdout",
     "output_type": "stream",
     "text": [
      "2022-04-29 02:50:07        846 sm-processing-demo-29-02-50-06/input/code/preprocessing.py\n",
      "2022-04-29 02:51:08        846 sm-processing-demo-29-02-51-07/input/code/preprocessing.py\n",
      "2022-04-29 02:52:30      10736 sm-processing-demo/data/raw/x_test.npy\n",
      "2022-04-29 02:52:30      42144 sm-processing-demo/data/raw/x_train.npy\n",
      "2022-04-29 02:52:30        944 sm-processing-demo/data/test/y_test.npy\n",
      "2022-04-29 02:52:30       3360 sm-processing-demo/data/train/y_train.npy\n"
     ]
    }
   ],
   "source": [
    "# !aws s3 rm s3://{bucket}/{s3_prefix} --recursive\n",
    "!aws s3 ls s3://{bucket}/{s3_prefix} --recursive"
   ]
  },
  {
   "cell_type": "markdown",
   "id": "473eba5b",
   "metadata": {},
   "source": [
    "## Processing code 작성"
   ]
  },
  {
   "cell_type": "code",
   "execution_count": 12,
   "id": "51fd5ede",
   "metadata": {},
   "outputs": [
    {
     "name": "stdout",
     "output_type": "stream",
     "text": [
      "Writing code/preprocessing.py\n"
     ]
    }
   ],
   "source": [
    "%%writefile code/preprocessing.py\n",
    "\n",
    "import glob\n",
    "import numpy as np\n",
    "import os\n",
    "from sklearn.preprocessing import StandardScaler\n",
    "\n",
    "if __name__=='__main__':\n",
    "    \n",
    "    input_files = glob.glob('{}/*.npy'.format('/opt/ml/processing/input'))\n",
    "    print('\\nINPUT FILE LIST: \\n{}\\n'.format(input_files))\n",
    "    \n",
    "    scaler = StandardScaler()\n",
    "    \n",
    "    for file in input_files:\n",
    "        raw = np.load(file)\n",
    "        transformed = scaler.fit_transform(raw)\n",
    "        \n",
    "        if 'train' in file:\n",
    "            output_path = os.path.join('/opt/ml/processing/train', 'x_train.npy')\n",
    "          \n",
    "            np.save(output_path, transformed)\n",
    "            print('SAVED TRANSFORMED TRAINING DATA FILE\\n')\n",
    "        else:\n",
    "            output_path = os.path.join('/opt/ml/processing/test', 'x_test.npy')\n",
    "            \n",
    "            np.save(output_path, transformed)\n",
    "            print('SAVED TRANSFORMED TEST DATA FILE\\n')"
   ]
  },
  {
   "cell_type": "markdown",
   "id": "adbcab0a",
   "metadata": {},
   "source": [
    "## Dockerfile 작성"
   ]
  },
  {
   "cell_type": "code",
   "execution_count": 1,
   "id": "b5bd5221",
   "metadata": {},
   "outputs": [
    {
     "name": "stdout",
     "output_type": "stream",
     "text": [
      "Overwriting Dockerfile\n"
     ]
    }
   ],
   "source": [
    "%%writefile Dockerfile\n",
    "\n",
    "FROM nvcr.io/nvidia/pytorch:21.08-py3\n",
    "\n",
    "RUN pip3 install onnx pandas\n",
    "ENV PYTHONUNBUFFERED=TRUE\n",
    "\n",
    "ENTRYPOINT [\"python3\"]"
   ]
  },
  {
   "cell_type": "markdown",
   "id": "e3889d4f",
   "metadata": {},
   "source": [
    "## Build & Push"
   ]
  },
  {
   "cell_type": "code",
   "execution_count": 5,
   "id": "67d33e98",
   "metadata": {},
   "outputs": [],
   "source": [
    "import boto3\n",
    "\n",
    "account_id = boto3.client('sts').get_caller_identity().get('Account')\n",
    "region = boto3.Session().region_name\n",
    "ecr_repository = 'sagemaker-processing-container'\n",
    "tag = ':latest'\n",
    "processing_repository_uri = '{}.dkr.ecr.{}.amazonaws.com/{}'.format(account_id, region, ecr_repository + tag)"
   ]
  },
  {
   "cell_type": "code",
   "execution_count": 7,
   "id": "bca4c175",
   "metadata": {
    "collapsed": true,
    "jupyter": {
     "outputs_hidden": true
    }
   },
   "outputs": [
    {
     "name": "stdout",
     "output_type": "stream",
     "text": [
      "Sending build context to Docker daemon   12.8kB\n",
      "Step 1/4 : FROM nvcr.io/nvidia/pytorch:21.08-py3\n",
      "21.08-py3: Pulling from nvidia/pytorch\n",
      "\n",
      "\u001b[1B32c2132b: Pulling fs layer \n",
      "\u001b[1Bfc91ca4c: Pulling fs layer \n",
      "\u001b[1Bbfe29823: Pulling fs layer \n",
      "\u001b[1Bbb0f48c6: Pulling fs layer \n",
      "\u001b[1B937ae0b1: Pulling fs layer \n",
      "\u001b[1B47dbb869: Pulling fs layer \n",
      "\u001b[1B9a515d38: Pulling fs layer \n",
      "\u001b[1Bbefddb18: Pulling fs layer \n",
      "\u001b[1Ba5bdde0b: Pulling fs layer \n",
      "\u001b[1B32b6dcb0: Pulling fs layer \n",
      "\u001b[1Bb39618ed: Pulling fs layer \n",
      "\u001b[1B5b7dac39: Pulling fs layer \n",
      "\u001b[1B46f1ce67: Pulling fs layer \n",
      "\u001b[1B46b2b0ee: Pulling fs layer \n",
      "\u001b[10B7dbb869: Waiting fs layer \n",
      "\u001b[1B010c3f61: Pulling fs layer \n",
      "\u001b[11Ba515d38: Waiting fs layer \n",
      "\u001b[1B7fe2ac6f: Pulling fs layer \n",
      "\u001b[12Befddb18: Waiting fs layer \n",
      "\u001b[1Baf4d5a99: Pulling fs layer \n",
      "\u001b[1Baee79aa7: Pulling fs layer \n",
      "\u001b[1B9b496fe3: Pulling fs layer \n",
      "\u001b[1B23103b6c: Pulling fs layer \n",
      "\u001b[1Bff55d023: Pulling fs layer \n",
      "\u001b[1Bedee2aea: Pulling fs layer \n",
      "\u001b[1B59107317: Pulling fs layer \n",
      "\u001b[1Bbe386e50: Pulling fs layer \n",
      "\u001b[1Bb3fc277b: Pulling fs layer \n",
      "\u001b[1B9b3d3e1b: Pulling fs layer \n",
      "\u001b[1B82e73914: Pulling fs layer \n",
      "\u001b[1Be2192d85: Pulling fs layer \n",
      "\u001b[1Badce9a47: Pulling fs layer \n",
      "\u001b[1Bc880a223: Pulling fs layer \n",
      "\u001b[1B77788c67: Pulling fs layer \n",
      "\u001b[1B60bd6ccd: Pulling fs layer \n",
      "\u001b[33Bb0f48c6: Waiting fs layer \n",
      "\u001b[33B37ae0b1: Waiting fs layer \n",
      "\u001b[1B8c0faf73: Pulling fs layer \n",
      "\u001b[1B75c0138f: Pulling fs layer \n",
      "\u001b[1B1a413c6d: Pulling fs layer \n",
      "\u001b[33B5bdde0b: Waiting fs layer \n",
      "\u001b[1B5634de97: Pulling fs layer \n",
      "\u001b[34B2b6dcb0: Waiting fs layer \n",
      "\u001b[1B973c1a31: Pulling fs layer \n",
      "\u001b[28Bfe2ac6f: Waiting fs layer \n",
      "\u001b[35Bb7dac39: Waiting fs layer \n",
      "\u001b[1B2cd47e40: Pulling fs layer \n",
      "\u001b[36B6f1ce67: Waiting fs layer \n",
      "\u001b[1Bcf9b41c8: Pulling fs layer \n",
      "\u001b[28B3103b6c: Waiting fs layer \n",
      "\u001b[1Bc18e802f: Pulling fs layer \n",
      "\u001b[29Bf55d023: Waiting fs layer \n",
      "\u001b[32Bb496fe3: Waiting fs layer \n",
      "\u001b[1BDigest: sha256:2feee29307507dc51e1c0f10447ac897483682a747692c1c4d02cad52f59ab75\u001b[2K\u001b[53A\u001b[2K\u001b[54A\u001b[2K\u001b[53A\u001b[2K\u001b[54A\u001b[2K\u001b[53A\u001b[2K\u001b[54A\u001b[2K\u001b[53A\u001b[2K\u001b[54A\u001b[2K\u001b[53A\u001b[2K\u001b[53A\u001b[2K\u001b[51A\u001b[2K\u001b[52A\u001b[2K\u001b[52A\u001b[2K\u001b[52A\u001b[2K\u001b[50A\u001b[2K\u001b[53A\u001b[2K\u001b[53A\u001b[2K\u001b[53A\u001b[2K\u001b[49A\u001b[2K\u001b[54A\u001b[2K\u001b[53A\u001b[2K\u001b[53A\u001b[2K\u001b[48A\u001b[2K\u001b[52A\u001b[2K\u001b[53A\u001b[2K\u001b[52A\u001b[2K\u001b[47A\u001b[2K\u001b[53A\u001b[2K\u001b[46A\u001b[2K\u001b[53A\u001b[2K\u001b[45A\u001b[2K\u001b[53A\u001b[2K\u001b[44A\u001b[2K\u001b[43A\u001b[2K\u001b[43A\u001b[2K\u001b[43A\u001b[2K\u001b[41A\u001b[2K\u001b[53A\u001b[2K\u001b[40A\u001b[2K\u001b[53A\u001b[2K\u001b[39A\u001b[2K\u001b[53A\u001b[2K\u001b[43A\u001b[2K\u001b[38A\u001b[2K\u001b[53A\u001b[2K\u001b[38A\u001b[2K\u001b[43A\u001b[2K\u001b[38A\u001b[2K\u001b[43A\u001b[2K\u001b[38A\u001b[2K\u001b[53A\u001b[2K\u001b[38A\u001b[2K\u001b[43A\u001b[2K\u001b[53A\u001b[2K\u001b[43A\u001b[2K\u001b[38A\u001b[2K\u001b[37A\u001b[2K\u001b[38A\u001b[2K\u001b[37A\u001b[2K\u001b[53A\u001b[2K\u001b[43A\u001b[2K\u001b[53A\u001b[2K\u001b[43A\u001b[2K\u001b[53A\u001b[2K\u001b[36A\u001b[2K\u001b[43A\u001b[2K\u001b[53A\u001b[2K\u001b[43A\u001b[2K\u001b[52A\u001b[2K\u001b[52A\u001b[2K\u001b[35A\u001b[2K\u001b[52A\u001b[2K\u001b[35A\u001b[2K\u001b[52A\u001b[2K\u001b[35A\u001b[2K\u001b[52A\u001b[2K\u001b[37A\u001b[2K\u001b[52A\u001b[2K\u001b[37A\u001b[2K\u001b[52A\u001b[2K\u001b[43A\u001b[2K\u001b[35A\u001b[2K\u001b[43A\u001b[2K\u001b[52A\u001b[2K\u001b[43A\u001b[2K\u001b[52A\u001b[2K\u001b[35A\u001b[2K\u001b[52A\u001b[2K\u001b[43A\u001b[2K\u001b[43A\u001b[2K\u001b[43A\u001b[2K\u001b[52A\u001b[2K\u001b[52A\u001b[2K\u001b[52A\u001b[2K\u001b[52A\u001b[2K\u001b[35A\u001b[2K\u001b[43A\u001b[2K\u001b[35A\u001b[2K\u001b[43A\u001b[2K\u001b[35A\u001b[2K\u001b[43A\u001b[2K\u001b[35A\u001b[2K\u001b[52A\u001b[2K\u001b[35A\u001b[2K\u001b[43A\u001b[2K\u001b[35A\u001b[2K\u001b[43A\u001b[2K\u001b[35A\u001b[2K\u001b[50A\u001b[2K\u001b[43A\u001b[2K\u001b[50A\u001b[2K\u001b[35A\u001b[2K\u001b[43A\u001b[2K\u001b[35A\u001b[2K\u001b[33A\u001b[2K\u001b[35A\u001b[2K\u001b[48A\u001b[2K\u001b[35A\u001b[2K\u001b[43A\u001b[2K\u001b[47A\u001b[2K\u001b[43A\u001b[2K\u001b[32A\u001b[2K\u001b[35A\u001b[2K\u001b[32A\u001b[2K\u001b[35A\u001b[2K\u001b[43A\u001b[2K\u001b[35A\u001b[2K\u001b[43A\u001b[2K\u001b[44A\u001b[2K\u001b[35A\u001b[2K\u001b[43A\u001b[2K\u001b[43A\u001b[2K\u001b[43A\u001b[2K\u001b[32A\u001b[2K\u001b[35A\u001b[2K\u001b[43A\u001b[2K\u001b[43A\u001b[2K\u001b[43A\u001b[2K\u001b[35A\u001b[2K\u001b[43A\u001b[2K\u001b[43A\u001b[2K\u001b[35A\u001b[2K\u001b[43A\u001b[2K\u001b[32A\u001b[2K\u001b[43A\u001b[2K\u001b[32A\u001b[2K\u001b[35A\u001b[2K\u001b[32A\u001b[2K\u001b[35A\u001b[2K\u001b[32A\u001b[2K\u001b[35A\u001b[2K\u001b[43A\u001b[2K\u001b[32A\u001b[2K\u001b[43A\u001b[2K\u001b[32A\u001b[2K\u001b[43A\u001b[2K\u001b[32A\u001b[2K\u001b[43A\u001b[2K\u001b[32A\u001b[2K\u001b[43A\u001b[2K\u001b[32A\u001b[2K\u001b[43A\u001b[2K\u001b[32A\u001b[2K\u001b[43A\u001b[2K\u001b[32A\u001b[2K\u001b[43A\u001b[2K\u001b[35A\u001b[2K\u001b[43A\u001b[2K\u001b[35A\u001b[2KDownloading  119.9MB/532.9MB\u001b[35A\u001b[2K\u001b[43A\u001b[2K\u001b[35A\u001b[2K\u001b[32A\u001b[2K\u001b[35A\u001b[2K\u001b[43A\u001b[2K\u001b[32A\u001b[2K\u001b[43A\u001b[2K\u001b[32A\u001b[2K\u001b[35A\u001b[2K\u001b[32A\u001b[2K\u001b[35A\u001b[2K\u001b[32A\u001b[2K\u001b[32A\u001b[2K\u001b[32A\u001b[2K\u001b[35A\u001b[2K\u001b[32A\u001b[2K\u001b[35A\u001b[2K\u001b[32A\u001b[2K\u001b[43A\u001b[2K\u001b[32A\u001b[2K\u001b[43A\u001b[2K\u001b[35A\u001b[2K\u001b[43A\u001b[2K\u001b[35A\u001b[2K\u001b[43A\u001b[2K\u001b[43A\u001b[2K\u001b[32A\u001b[2K\u001b[43A\u001b[2K\u001b[32A\u001b[2K\u001b[43A\u001b[2K\u001b[32A\u001b[2K\u001b[43A\u001b[2K\u001b[32A\u001b[2K\u001b[43A\u001b[2K\u001b[32A\u001b[2K\u001b[43A\u001b[2K\u001b[32A\u001b[2K\u001b[43A\u001b[2K\u001b[35A\u001b[2K\u001b[43A\u001b[2K\u001b[35A\u001b[2K\u001b[43A\u001b[2K\u001b[35A\u001b[2K\u001b[43A\u001b[2K\u001b[35A\u001b[2K\u001b[43A\u001b[2K\u001b[32A\u001b[2K\u001b[35A\u001b[2K\u001b[32A\u001b[2K\u001b[43A\u001b[2K\u001b[35A\u001b[2K\u001b[43A\u001b[2K\u001b[32A\u001b[2K\u001b[43A\u001b[2K\u001b[32A\u001b[2K\u001b[35A\u001b[2K\u001b[32A\u001b[2K\u001b[43A\u001b[2K\u001b[32A\u001b[2K\u001b[43A\u001b[2K\u001b[32A\u001b[2K\u001b[43A\u001b[2K\u001b[35A\u001b[2K\u001b[43A\u001b[2K\u001b[35A\u001b[2K\u001b[43A\u001b[2K\u001b[35A\u001b[2K\u001b[32A\u001b[2K\u001b[35A\u001b[2K\u001b[32A\u001b[2K\u001b[43A\u001b[2K\u001b[32A\u001b[2K\u001b[43A\u001b[2K\u001b[32A\u001b[2K\u001b[43A\u001b[2K\u001b[32A\u001b[2K\u001b[43A\u001b[2K\u001b[32A\u001b[2K\u001b[35A\u001b[2K\u001b[32A\u001b[2K\u001b[35A\u001b[2K\u001b[32A\u001b[2K\u001b[35A\u001b[2K\u001b[43A\u001b[2K\u001b[35A\u001b[2K\u001b[43A\u001b[2K\u001b[43A\u001b[2K\u001b[43A\u001b[2K\u001b[43A\u001b[2K\u001b[35A\u001b[2K\u001b[32A\u001b[2K\u001b[43A\u001b[2K\u001b[32A\u001b[2K\u001b[43A\u001b[2K\u001b[35A\u001b[2K\u001b[43A\u001b[2K\u001b[35A\u001b[2K\u001b[43A\u001b[2K\u001b[32A\u001b[2K\u001b[43A\u001b[2K\u001b[35A\u001b[2K\u001b[43A\u001b[2K\u001b[35A\u001b[2K\u001b[43A\u001b[2K\u001b[35A\u001b[2K\u001b[43A\u001b[2K\u001b[32A\u001b[2K\u001b[35A\u001b[2K\u001b[32A\u001b[2K\u001b[35A\u001b[2K\u001b[43A\u001b[2K\u001b[32A\u001b[2K\u001b[32A\u001b[2K\u001b[35A\u001b[2K\u001b[32A\u001b[2K\u001b[35A\u001b[2K\u001b[43A\u001b[2K\u001b[32A\u001b[2K\u001b[43A\u001b[2K\u001b[32A\u001b[2K\u001b[35A\u001b[2K\u001b[32A\u001b[2K\u001b[35A\u001b[2K\u001b[32A\u001b[2K\u001b[43A\u001b[2K\u001b[32A\u001b[2K\u001b[35A\u001b[2K\u001b[32A\u001b[2K\u001b[43A\u001b[2K\u001b[32A\u001b[2K\u001b[35A\u001b[2K\u001b[32A\u001b[2K\u001b[43A\u001b[2K\u001b[35A\u001b[2K\u001b[32A\u001b[2K\u001b[35A\u001b[2K\u001b[32A\u001b[2K\u001b[35A\u001b[2K\u001b[43A\u001b[2K\u001b[32A\u001b[2K\u001b[43A\u001b[2K\u001b[32A\u001b[2K\u001b[43A\u001b[2K\u001b[32A\u001b[2K\u001b[43A\u001b[2K\u001b[32A\u001b[2K\u001b[43A\u001b[2K\u001b[35A\u001b[2K\u001b[43A\u001b[2K\u001b[35A\u001b[2K\u001b[32A\u001b[2K\u001b[35A\u001b[2K\u001b[43A\u001b[2K\u001b[43A\u001b[2K\u001b[31A\u001b[2K\u001b[43A\u001b[2K\u001b[43A\u001b[2K\u001b[32A\u001b[2K\u001b[43A\u001b[2K\u001b[30A\u001b[2K\u001b[43A\u001b[2K\u001b[32A\u001b[2K\u001b[43A\u001b[2K\u001b[32A\u001b[2K\u001b[43A\u001b[2K\u001b[29A\u001b[2K\u001b[32A\u001b[2K\u001b[29A\u001b[2K\u001b[32A\u001b[2K\u001b[29A\u001b[2K\u001b[32A\u001b[2K\u001b[29A\u001b[2K\u001b[32A\u001b[2K\u001b[29A\u001b[2K\u001b[32A\u001b[2K\u001b[29A\u001b[2K\u001b[32A\u001b[2K\u001b[29A\u001b[2K\u001b[43A\u001b[2K\u001b[29A\u001b[2K\u001b[29A\u001b[2K\u001b[28A\u001b[2K\u001b[29A\u001b[2K\u001b[28A\u001b[2K\u001b[29A\u001b[2K\u001b[28A\u001b[2K\u001b[29A\u001b[2K\u001b[43A\u001b[2K\u001b[29A\u001b[2K\u001b[43A\u001b[2K\u001b[29A\u001b[2K\u001b[43A\u001b[2K\u001b[29A\u001b[2K\u001b[27A\u001b[2K\u001b[29A\u001b[2K\u001b[27A\u001b[2K\u001b[29A\u001b[2K\u001b[43A\u001b[2K\u001b[29A\u001b[2K\u001b[29A\u001b[2K\u001b[43A\u001b[2K\u001b[29A\u001b[2K\u001b[43A\u001b[2K\u001b[29A\u001b[2K\u001b[43A\u001b[2K\u001b[29A\u001b[2K\u001b[43A\u001b[2K\u001b[29A\u001b[2K\u001b[43A\u001b[2K\u001b[29A\u001b[2K\u001b[43A\u001b[2K\u001b[29A\u001b[2K\u001b[43A\u001b[2K\u001b[29A\u001b[2K\u001b[43A\u001b[2K\u001b[29A\u001b[2K\u001b[43A\u001b[2K\u001b[29A\u001b[2K\u001b[43A\u001b[2K\u001b[29A\u001b[2K\u001b[26A\u001b[2K\u001b[29A\u001b[2K\u001b[26A\u001b[2K\u001b[29A\u001b[2K\u001b[26A\u001b[2K\u001b[29A\u001b[2K\u001b[26A\u001b[2K\u001b[29A\u001b[2K\u001b[26A\u001b[2K\u001b[29A\u001b[2K\u001b[26A\u001b[2K\u001b[43A\u001b[2K\u001b[29A\u001b[2K\u001b[26A\u001b[2K\u001b[29A\u001b[2K\u001b[26A\u001b[2K\u001b[29A\u001b[2K\u001b[26A\u001b[2K\u001b[29A\u001b[2K\u001b[26A\u001b[2K\u001b[29A\u001b[2K\u001b[43A\u001b[2K\u001b[29A\u001b[2K\u001b[25A\u001b[2K\u001b[29A\u001b[2K\u001b[25A\u001b[2K\u001b[29A\u001b[2K\u001b[25A\u001b[2K\u001b[29A\u001b[2K\u001b[25A\u001b[2K\u001b[29A\u001b[2K\u001b[29A\u001b[2K\u001b[43A\u001b[2K\u001b[43A\u001b[2K\u001b[24A\u001b[2K\u001b[43A\u001b[2K\u001b[43A\u001b[2K\u001b[22A\u001b[2K\u001b[43A\u001b[2K\u001b[23A\u001b[2K\u001b[43A\u001b[2K\u001b[23A\u001b[2K\u001b[21A\u001b[2K\u001b[23A\u001b[2K\u001b[21A\u001b[2K\u001b[23A\u001b[2K\u001b[21A\u001b[2K\u001b[23A\u001b[2K\u001b[23A\u001b[2K\u001b[21A\u001b[2K\u001b[23A\u001b[2K\u001b[21A\u001b[2K\u001b[23A\u001b[2K\u001b[21A\u001b[2K\u001b[43A\u001b[2K\u001b[21A\u001b[2K\u001b[23A\u001b[2K\u001b[21A\u001b[2K\u001b[23A\u001b[2K\u001b[21A\u001b[2K\u001b[23A\u001b[2K\u001b[21A\u001b[2K\u001b[43A\u001b[2K\u001b[21A\u001b[2K\u001b[43A\u001b[2K\u001b[21A\u001b[2K\u001b[23A\u001b[2K\u001b[43A\u001b[2K\u001b[23A\u001b[2K\u001b[43A\u001b[2K\u001b[23A\u001b[2K\u001b[43A\u001b[2K\u001b[21A\u001b[2K\u001b[43A\u001b[2K\u001b[21A\u001b[2K\u001b[43A\u001b[2K\u001b[21A\u001b[2K\u001b[43A\u001b[2K\u001b[21A\u001b[2K\u001b[43A\u001b[2K\u001b[21A\u001b[2K\u001b[43A\u001b[2K\u001b[21A\u001b[2K\u001b[43A\u001b[2K\u001b[21A\u001b[2K\u001b[43A\u001b[2K\u001b[21A\u001b[2K\u001b[43A\u001b[2K\u001b[20A\u001b[2K\u001b[43A\u001b[2K\u001b[20A\u001b[2K\u001b[21A\u001b[2K\u001b[20A\u001b[2K\u001b[21A\u001b[2K\u001b[20A\u001b[2K\u001b[21A\u001b[2K\u001b[20A\u001b[2K\u001b[43A\u001b[2K\u001b[20A\u001b[2K\u001b[43A\u001b[2K\u001b[43A\u001b[2K\u001b[21A\u001b[2K\u001b[43A\u001b[2K\u001b[19A\u001b[2K\u001b[43A\u001b[2K\u001b[43A\u001b[2K\u001b[43A\u001b[2K\u001b[43A\u001b[2K\u001b[43A\u001b[2K\u001b[43A\u001b[2K\u001b[18A\u001b[2K\u001b[43A\u001b[2K\u001b[17A\u001b[2K\u001b[43A\u001b[2K\u001b[18A\u001b[2K\u001b[18A\u001b[2K\u001b[18A\u001b[2K\u001b[18A\u001b[2K\u001b[17A\u001b[2K\u001b[18A\u001b[2K\u001b[43A\u001b[2K\u001b[18A\u001b[2K\u001b[43A\u001b[2K\u001b[18A\u001b[2K\u001b[18A\u001b[2K\u001b[17A\u001b[2K\u001b[18A\u001b[2K\u001b[17A\u001b[2K\u001b[18A\u001b[2K\u001b[17A\u001b[2K\u001b[43A\u001b[2K\u001b[17A\u001b[2K\u001b[43A\u001b[2K\u001b[17A\u001b[2K\u001b[43A\u001b[2K\u001b[43A\u001b[2K\u001b[43A\u001b[2K\u001b[43A\u001b[2K\u001b[43A\u001b[2K\u001b[18A\u001b[2K\u001b[43A\u001b[2K\u001b[17A\u001b[2K\u001b[43A\u001b[2K\u001b[17A\u001b[2K\u001b[43A\u001b[2K\u001b[17A\u001b[2K\u001b[43A\u001b[2K\u001b[17A\u001b[2K\u001b[18A\u001b[2K\u001b[17A\u001b[2K\u001b[18A\u001b[2K\u001b[17A\u001b[2K\u001b[18A\u001b[2K\u001b[17A\u001b[2K\u001b[18A\u001b[2K\u001b[43A\u001b[2K\u001b[18A\u001b[2K\u001b[43A\u001b[2K\u001b[18A\u001b[2K\u001b[17A\u001b[2K\u001b[18A\u001b[2K\u001b[43A\u001b[2K\u001b[18A\u001b[2K\u001b[43A\u001b[2K\u001b[18A\u001b[2K\u001b[17A\u001b[2K\u001b[18A\u001b[2K\u001b[17A\u001b[2K\u001b[18A\u001b[2K\u001b[17A\u001b[2K\u001b[18A\u001b[2K\u001b[18A\u001b[2K\u001b[43A\u001b[2K\u001b[18A\u001b[2K\u001b[43A\u001b[2K\u001b[18A\u001b[2K\u001b[43A\u001b[2K\u001b[18A\u001b[2K\u001b[43A\u001b[2K\u001b[18A\u001b[2K\u001b[43A\u001b[2K\u001b[18A\u001b[2K\u001b[43A\u001b[2K\u001b[15A\u001b[2K\u001b[43A\u001b[2K\u001b[18A\u001b[2K\u001b[43A\u001b[2K\u001b[17A\u001b[2K\u001b[18A\u001b[2K\u001b[14A\u001b[2K\u001b[18A\u001b[2K\u001b[17A\u001b[2K\u001b[18A\u001b[2K\u001b[17A\u001b[2K\u001b[13A\u001b[2K\u001b[17A\u001b[2K\u001b[43A\u001b[2K\u001b[18A\u001b[2K\u001b[43A\u001b[2K\u001b[18A\u001b[2K\u001b[17A\u001b[2K\u001b[17A\u001b[2K\u001b[13A\u001b[2K\u001b[17A\u001b[2K\u001b[43A\u001b[2K\u001b[17A\u001b[2K\u001b[43A\u001b[2K\u001b[13A\u001b[2K\u001b[43A\u001b[2K\u001b[13A\u001b[2K\u001b[43A\u001b[2K\u001b[18A\u001b[2K\u001b[43A\u001b[2K\u001b[43A\u001b[2K\u001b[13A\u001b[2K\u001b[43A\u001b[2K\u001b[13A\u001b[2K\u001b[18A\u001b[2K\u001b[17A\u001b[2K\u001b[18A\u001b[2K\u001b[18A\u001b[2K\u001b[18A\u001b[2K\u001b[18A\u001b[2K\u001b[18A\u001b[2K\u001b[43A\u001b[2K\u001b[18A\u001b[2K\u001b[43A\u001b[2K\u001b[17A\u001b[2K\u001b[43A\u001b[2K\u001b[17A\u001b[2K\u001b[13A\u001b[2K\u001b[17A\u001b[2K\u001b[13A\u001b[2K\u001b[17A\u001b[2K\u001b[18A\u001b[2K\u001b[17A\u001b[2K\u001b[18A\u001b[2K\u001b[17A\u001b[2K\u001b[18A\u001b[2K\u001b[18A\u001b[2K\u001b[13A\u001b[2K\u001b[18A\u001b[2K\u001b[43A\u001b[2K\u001b[18A\u001b[2K\u001b[17A\u001b[2K\u001b[18A\u001b[2K\u001b[17A\u001b[2K\u001b[12A\u001b[2K\u001b[17A\u001b[2K\u001b[18A\u001b[2K\u001b[17A\u001b[2K\u001b[18A\u001b[2K\u001b[11A\u001b[2K\u001b[17A\u001b[2K\u001b[17A\u001b[2K\u001b[18A\u001b[2K\u001b[17A\u001b[2K\u001b[18A\u001b[2K\u001b[10A\u001b[2K\u001b[18A\u001b[2K\u001b[17A\u001b[2K\u001b[18A\u001b[2K\u001b[17A\u001b[2K\u001b[18A\u001b[2K\u001b[18A\u001b[2K\u001b[9A\u001b[2K\u001b[18A\u001b[2K\u001b[43A\u001b[2K\u001b[18A\u001b[2K\u001b[17A\u001b[2K\u001b[8A\u001b[2K\u001b[8A\u001b[2K\u001b[43A\u001b[2K\u001b[8A\u001b[2K\u001b[17A\u001b[2K\u001b[8A\u001b[2K\u001b[43A\u001b[2K\u001b[8A\u001b[2K\u001b[43A\u001b[2K\u001b[8A\u001b[2K\u001b[43A\u001b[2K\u001b[43A\u001b[2K\u001b[43A\u001b[2K\u001b[43A\u001b[2K\u001b[7A\u001b[2K\u001b[43A\u001b[2K\u001b[7A\u001b[2K\u001b[43A\u001b[2K\u001b[17A\u001b[2K\u001b[43A\u001b[2K\u001b[7A\u001b[2K\u001b[43A\u001b[2K\u001b[17A\u001b[2K\u001b[43A\u001b[2K\u001b[17A\u001b[2K\u001b[43A\u001b[2K\u001b[43A\u001b[2K\u001b[7A\u001b[2K\u001b[43A\u001b[2K\u001b[18A\u001b[2K\u001b[43A\u001b[2K\u001b[18A\u001b[2KDownloading  528.2MB/796.8MB\u001b[18A\u001b[2K\u001b[17A\u001b[2K\u001b[18A\u001b[2K\u001b[17A\u001b[2K\u001b[18A\u001b[2K\u001b[17A\u001b[2K\u001b[18A\u001b[2K\u001b[17A\u001b[2K\u001b[18A\u001b[2K\u001b[17A\u001b[2K\u001b[18A\u001b[2K\u001b[17A\u001b[2K\u001b[18A\u001b[2K\u001b[4A\u001b[2K\u001b[18A\u001b[2K\u001b[17A\u001b[2K\u001b[18A\u001b[2K\u001b[17A\u001b[2K\u001b[18A\u001b[2K\u001b[17A\u001b[2K\u001b[43A\u001b[2K\u001b[17A\u001b[2K\u001b[43A\u001b[2K\u001b[18A\u001b[2K\u001b[43A\u001b[2K\u001b[18A\u001b[2K\u001b[2A\u001b[2K\u001b[2A\u001b[2K\u001b[17A\u001b[2K\u001b[18A\u001b[2K\u001b[17A\u001b[2K\u001b[18A\u001b[2K\u001b[43A\u001b[2K\u001b[18A\u001b[2K\u001b[18A\u001b[2K\u001b[18A\u001b[2K\u001b[1A\u001b[2K\u001b[18A\u001b[2K\u001b[17A\u001b[2K\u001b[18A\u001b[2K\u001b[17A\u001b[2K\u001b[43A\u001b[2K\u001b[17A\u001b[2K\u001b[18A\u001b[2K\u001b[17A\u001b[2K\u001b[43A\u001b[2K\u001b[17A\u001b[2K\u001b[43A\u001b[2K\u001b[17A\u001b[2K\u001b[43A\u001b[2K\u001b[18A\u001b[2K\u001b[43A\u001b[2K\u001b[18A\u001b[2K\u001b[43A\u001b[2K\u001b[18A\u001b[2K\u001b[43A\u001b[2K\u001b[18A\u001b[2K\u001b[43A\u001b[2K\u001b[18A\u001b[2K\u001b[17A\u001b[2K\u001b[18A\u001b[2K\u001b[17A\u001b[2K\u001b[18A\u001b[2K\u001b[43A\u001b[2K\u001b[18A\u001b[2K\u001b[43A\u001b[2K\u001b[18A\u001b[2K\u001b[43A\u001b[2K\u001b[18A\u001b[2K\u001b[43A\u001b[2K\u001b[18A\u001b[2K\u001b[43A\u001b[2K\u001b[17A\u001b[2K\u001b[43A\u001b[2K\u001b[17A\u001b[2K\u001b[43A\u001b[2K\u001b[17A\u001b[2K\u001b[43A\u001b[2K\u001b[17A\u001b[2K\u001b[43A\u001b[2K\u001b[17A\u001b[2K\u001b[43A\u001b[2K\u001b[18A\u001b[2K\u001b[43A\u001b[2K\u001b[18A\u001b[2K\u001b[17A\u001b[2K\u001b[18A\u001b[2K\u001b[17A\u001b[2K\u001b[18A\u001b[2K\u001b[18A\u001b[2K\u001b[17A\u001b[2K\u001b[18A\u001b[2K\u001b[18A\u001b[2K\u001b[18A\u001b[2K\u001b[18A\u001b[2K\u001b[18A\u001b[2K\u001b[43A\u001b[2K\u001b[18A\u001b[2K\u001b[18A\u001b[2K\u001b[17A\u001b[2K\u001b[18A\u001b[2K\u001b[17A\u001b[2K\u001b[43A\u001b[2K\u001b[43A\u001b[2K\u001b[43A\u001b[2K\u001b[43A\u001b[2K\u001b[43A\u001b[2K\u001b[43A\u001b[2K\u001b[17A\u001b[2K\u001b[43A\u001b[2K\u001b[43A\u001b[2K\u001b[43A\u001b[2K\u001b[43A\u001b[2K\u001b[43A\u001b[2K\u001b[18A\u001b[2K\u001b[43A\u001b[2K\u001b[18A\u001b[2K\u001b[43A\u001b[2K\u001b[18A\u001b[2K\u001b[43A\u001b[2K\u001b[18A\u001b[2K\u001b[43A\u001b[2K\u001b[18A\u001b[2K\u001b[43A\u001b[2K\u001b[18A\u001b[2K\u001b[43A\u001b[2K\u001b[18A\u001b[2K\u001b[43A\u001b[2K\u001b[18A\u001b[2K\u001b[43A\u001b[2K\u001b[18A\u001b[2K\u001b[43A\u001b[2K\u001b[43A\u001b[2K\u001b[18A\u001b[2K\u001b[18A\u001b[2K\u001b[18A\u001b[2K\u001b[18A\u001b[2K\u001b[18A\u001b[2K\u001b[43A\u001b[2K\u001b[18A\u001b[2K\u001b[43A\u001b[2K\u001b[43A\u001b[2K\u001b[43A\u001b[2K\u001b[43A\u001b[2K\u001b[43A\u001b[2K\u001b[43A\u001b[2K\u001b[18A\u001b[2K\u001b[43A\u001b[2K\u001b[18A\u001b[2K\u001b[43A\u001b[2K\u001b[18A\u001b[2K\u001b[43A\u001b[2K\u001b[18A\u001b[2K\u001b[43A\u001b[2K\u001b[18A\u001b[2K\u001b[43A\u001b[2K\u001b[43A\u001b[2K\u001b[43A\u001b[2K\u001b[43A\u001b[2K\u001b[43A\u001b[2K\u001b[43A\u001b[2K\u001b[43A\u001b[2K\u001b[43A\u001b[2K\u001b[43A\u001b[2K\u001b[43A\u001b[2K\u001b[43A\u001b[2K\u001b[43A\u001b[2K\u001b[43A\u001b[2K\u001b[43A\u001b[2K\u001b[43A\u001b[2K\u001b[43A\u001b[2K\u001b[43A\u001b[2K\u001b[43A\u001b[2K\u001b[43A\u001b[2K\u001b[43A\u001b[2K\u001b[43A\u001b[2K\u001b[43A\u001b[2K\u001b[43A\u001b[2K\u001b[43A\u001b[2K\u001b[43A\u001b[2K\u001b[43A\u001b[2K\u001b[43A\u001b[2K\u001b[43A\u001b[2K\u001b[43A\u001b[2K\u001b[43A\u001b[2K\u001b[43A\u001b[2K\u001b[43A\u001b[2K\u001b[43A\u001b[2K\u001b[43A\u001b[2K\u001b[43A\u001b[2K\u001b[43A\u001b[2K\u001b[43A\u001b[2K\u001b[43A\u001b[2K\u001b[43A\u001b[2K\u001b[43A\u001b[2K\u001b[43A\u001b[2K\u001b[43A\u001b[2K\u001b[43A\u001b[2K\u001b[43A\u001b[2K\u001b[43A\u001b[2K\u001b[43A\u001b[2K\u001b[43A\u001b[2K\u001b[43A\u001b[2K\u001b[43A\u001b[2K\u001b[43A\u001b[2K\u001b[43A\u001b[2K\u001b[43A\u001b[2K\u001b[43A\u001b[2K\u001b[43A\u001b[2K\u001b[43A\u001b[2K\u001b[43A\u001b[2K\u001b[43A\u001b[2K\u001b[43A\u001b[2K\u001b[43A\u001b[2K\u001b[43A\u001b[2K\u001b[43A\u001b[2K\u001b[43A\u001b[2K\u001b[43A\u001b[2K\u001b[43A\u001b[2K\u001b[43A\u001b[2K\u001b[43A\u001b[2K\u001b[43A\u001b[2K\u001b[43A\u001b[2K\u001b[43A\u001b[2K\u001b[43A\u001b[2K\u001b[43A\u001b[2K\u001b[43A\u001b[2K\u001b[43A\u001b[2K\u001b[43A\u001b[2K\u001b[43A\u001b[2K\u001b[43A\u001b[2K\u001b[43A\u001b[2K\u001b[43A\u001b[2K\u001b[43A\u001b[2K\u001b[43A\u001b[2K\u001b[43A\u001b[2K\u001b[43A\u001b[2K\u001b[43A\u001b[2K\u001b[43A\u001b[2K\u001b[43A\u001b[2K\u001b[43A\u001b[2K\u001b[43A\u001b[2K\u001b[43A\u001b[2K\u001b[43A\u001b[2K\u001b[43A\u001b[2K\u001b[43A\u001b[2K\u001b[43A\u001b[2K\u001b[43A\u001b[2K\u001b[43A\u001b[2K\u001b[43A\u001b[2K\u001b[43A\u001b[2K\u001b[43A\u001b[2K\u001b[43A\u001b[2K\u001b[43A\u001b[2K\u001b[43A\u001b[2K\u001b[43A\u001b[2K\u001b[43A\u001b[2K\u001b[43A\u001b[2K\u001b[43A\u001b[2K\u001b[43A\u001b[2K\u001b[43A\u001b[2K\u001b[43A\u001b[2K\u001b[43A\u001b[2K\u001b[43A\u001b[2K\u001b[43A\u001b[2K\u001b[43A\u001b[2K\u001b[43A\u001b[2K\u001b[43A\u001b[2K\u001b[43A\u001b[2K\u001b[43A\u001b[2K\u001b[43A\u001b[2K\u001b[43A\u001b[2K\u001b[43A\u001b[2K\u001b[43A\u001b[2K\u001b[43A\u001b[2K\u001b[43A\u001b[2K\u001b[43A\u001b[2K\u001b[43A\u001b[2K\u001b[43A\u001b[2K\u001b[43A\u001b[2K\u001b[43A\u001b[2K\u001b[43A\u001b[2K\u001b[43A\u001b[2K\u001b[43A\u001b[2K\u001b[43A\u001b[2K\u001b[43A\u001b[2K\u001b[43A\u001b[2K\u001b[43A\u001b[2K\u001b[42A\u001b[2K\u001b[41A\u001b[2K\u001b[41A\u001b[2K\u001b[40A\u001b[2K\u001b[39A\u001b[2K\u001b[38A\u001b[2K\u001b[38A\u001b[2K\u001b[38A\u001b[2K\u001b[38A\u001b[2K\u001b[38A\u001b[2K\u001b[38A\u001b[2K\u001b[38A\u001b[2K\u001b[38A\u001b[2K\u001b[38A\u001b[2K\u001b[38A\u001b[2K\u001b[38A\u001b[2K\u001b[38A\u001b[2K\u001b[37A\u001b[2K\u001b[37A\u001b[2K\u001b[37A\u001b[2K\u001b[37A\u001b[2K\u001b[37A\u001b[2K\u001b[37A\u001b[2K\u001b[37A\u001b[2K\u001b[37A\u001b[2K\u001b[37A\u001b[2K\u001b[37A\u001b[2K\u001b[37A\u001b[2K\u001b[37A\u001b[2K\u001b[37A\u001b[2K\u001b[37A\u001b[2K\u001b[36A\u001b[2K\u001b[35A\u001b[2K\u001b[35A\u001b[2K\u001b[35A\u001b[2K\u001b[35A\u001b[2K\u001b[35A\u001b[2K\u001b[35A\u001b[2K\u001b[35A\u001b[2K\u001b[35A\u001b[2K\u001b[35A\u001b[2K\u001b[35A\u001b[2K\u001b[35A\u001b[2K\u001b[35A\u001b[2K\u001b[35A\u001b[2K\u001b[35A\u001b[2K\u001b[35A\u001b[2K\u001b[35A\u001b[2K\u001b[35A\u001b[2K\u001b[35A\u001b[2K\u001b[35A\u001b[2K\u001b[35A\u001b[2K\u001b[35A\u001b[2K\u001b[35A\u001b[2K\u001b[35A\u001b[2K\u001b[35A\u001b[2K\u001b[35A\u001b[2K\u001b[35A\u001b[2K\u001b[35A\u001b[2K\u001b[35A\u001b[2K\u001b[35A\u001b[2K\u001b[35A\u001b[2K\u001b[35A\u001b[2K\u001b[35A\u001b[2K\u001b[35A\u001b[2K\u001b[34A\u001b[2K\u001b[34A\u001b[2K\u001b[34A\u001b[2K\u001b[34A\u001b[2K\u001b[34A\u001b[2K\u001b[34A\u001b[2K\u001b[34A\u001b[2K\u001b[34A\u001b[2K\u001b[34A\u001b[2K\u001b[34A\u001b[2K\u001b[34A\u001b[2K\u001b[34A\u001b[2K\u001b[34A\u001b[2K\u001b[34A\u001b[2K\u001b[34A\u001b[2K\u001b[34A\u001b[2K\u001b[34A\u001b[2K\u001b[34A\u001b[2K\u001b[34A\u001b[2K\u001b[34A\u001b[2K\u001b[34A\u001b[2K\u001b[34A\u001b[2K\u001b[34A\u001b[2K\u001b[34A\u001b[2K\u001b[34A\u001b[2K\u001b[33A\u001b[2K\u001b[33A\u001b[2K\u001b[33A\u001b[2K\u001b[33A\u001b[2K\u001b[33A\u001b[2K\u001b[33A\u001b[2K\u001b[33A\u001b[2K\u001b[33A\u001b[2K\u001b[33A\u001b[2K\u001b[33A\u001b[2K\u001b[33A\u001b[2K\u001b[33A\u001b[2K\u001b[32A\u001b[2K\u001b[32A\u001b[2K\u001b[32A\u001b[2K\u001b[32A\u001b[2K\u001b[32A\u001b[2K\u001b[32A\u001b[2K\u001b[32A\u001b[2K\u001b[32A\u001b[2K\u001b[32A\u001b[2K\u001b[32A\u001b[2K\u001b[32A\u001b[2K\u001b[32A\u001b[2K\u001b[32A\u001b[2K\u001b[32A\u001b[2K\u001b[32A\u001b[2K\u001b[32A\u001b[2K\u001b[32A\u001b[2K\u001b[32A\u001b[2K\u001b[32A\u001b[2K\u001b[32A\u001b[2K\u001b[32A\u001b[2K\u001b[32A\u001b[2K\u001b[32A\u001b[2K\u001b[32A\u001b[2K\u001b[32A\u001b[2K\u001b[32A\u001b[2K\u001b[32A\u001b[2K\u001b[32A\u001b[2K\u001b[32A\u001b[2K\u001b[32A\u001b[2K\u001b[32A\u001b[2K\u001b[32A\u001b[2K\u001b[32A\u001b[2K\u001b[32A\u001b[2K\u001b[32A\u001b[2K\u001b[32A\u001b[2K\u001b[32A\u001b[2K\u001b[32A\u001b[2K\u001b[32A\u001b[2K\u001b[32A\u001b[2K\u001b[32A\u001b[2K\u001b[32A\u001b[2K\u001b[32A\u001b[2K\u001b[32A\u001b[2K\u001b[32A\u001b[2K\u001b[32A\u001b[2K\u001b[32A\u001b[2K\u001b[32A\u001b[2K\u001b[32A\u001b[2K\u001b[32A\u001b[2K\u001b[32A\u001b[2K\u001b[32A\u001b[2K\u001b[32A\u001b[2K\u001b[32A\u001b[2K\u001b[32A\u001b[2K\u001b[32A\u001b[2K\u001b[32A\u001b[2K\u001b[32A\u001b[2K\u001b[32A\u001b[2K\u001b[32A\u001b[2K\u001b[32A\u001b[2K\u001b[32A\u001b[2K\u001b[32A\u001b[2K\u001b[32A\u001b[2K\u001b[32A\u001b[2K\u001b[32A\u001b[2K\u001b[32A\u001b[2K\u001b[32A\u001b[2K\u001b[32A\u001b[2K\u001b[32A\u001b[2K\u001b[32A\u001b[2K\u001b[32A\u001b[2K\u001b[32A\u001b[2K\u001b[32A\u001b[2K\u001b[32A\u001b[2K\u001b[32A\u001b[2K\u001b[32A\u001b[2K\u001b[32A\u001b[2K\u001b[32A\u001b[2K\u001b[32A\u001b[2K\u001b[32A\u001b[2K\u001b[32A\u001b[2K\u001b[32A\u001b[2K\u001b[32A\u001b[2K\u001b[32A\u001b[2K\u001b[32A\u001b[2K\u001b[32A\u001b[2K\u001b[32A\u001b[2K\u001b[32A\u001b[2K\u001b[32A\u001b[2K\u001b[32A\u001b[2K\u001b[32A\u001b[2K\u001b[32A\u001b[2K\u001b[32A\u001b[2K\u001b[32A\u001b[2K\u001b[32A\u001b[2K\u001b[32A\u001b[2K\u001b[32A\u001b[2K\u001b[32A\u001b[2K\u001b[32A\u001b[2K\u001b[32A\u001b[2K\u001b[32A\u001b[2K\u001b[32A\u001b[2K\u001b[32A\u001b[2K\u001b[32A\u001b[2K\u001b[32A\u001b[2K\u001b[32A\u001b[2K\u001b[32A\u001b[2K\u001b[32A\u001b[2K\u001b[32A\u001b[2K\u001b[32A\u001b[2K\u001b[32A\u001b[2K\u001b[32A\u001b[2K\u001b[32A\u001b[2K\u001b[32A\u001b[2K\u001b[32A\u001b[2K\u001b[32A\u001b[2K\u001b[32A\u001b[2K\u001b[32A\u001b[2K\u001b[32A\u001b[2K\u001b[32A\u001b[2K\u001b[31A\u001b[2K\u001b[31A\u001b[2K\u001b[30A\u001b[2K\u001b[30A\u001b[2K\u001b[29A\u001b[2K\u001b[29A\u001b[2K\u001b[29A\u001b[2K\u001b[29A\u001b[2K\u001b[29A\u001b[2K\u001b[29A\u001b[2K\u001b[29A\u001b[2K\u001b[29A\u001b[2K\u001b[29A\u001b[2K\u001b[29A\u001b[2K\u001b[29A\u001b[2K\u001b[29A\u001b[2K\u001b[29A\u001b[2K\u001b[29A\u001b[2K\u001b[29A\u001b[2K\u001b[29A\u001b[2K\u001b[29A\u001b[2K\u001b[29A\u001b[2K\u001b[29A\u001b[2K\u001b[29A\u001b[2K\u001b[29A\u001b[2K\u001b[29A\u001b[2K\u001b[29A\u001b[2K\u001b[29A\u001b[2K\u001b[29A\u001b[2K\u001b[29A\u001b[2K\u001b[29A\u001b[2K\u001b[29A\u001b[2K\u001b[29A\u001b[2K\u001b[29A\u001b[2K\u001b[29A\u001b[2K\u001b[29A\u001b[2K\u001b[29A\u001b[2K\u001b[29A\u001b[2K\u001b[29A\u001b[2K\u001b[29A\u001b[2K\u001b[29A\u001b[2K\u001b[29A\u001b[2K\u001b[29A\u001b[2K\u001b[29A\u001b[2K\u001b[29A\u001b[2K\u001b[29A\u001b[2K\u001b[29A\u001b[2K\u001b[29A\u001b[2K\u001b[29A\u001b[2K\u001b[29A\u001b[2K\u001b[29A\u001b[2K\u001b[29A\u001b[2K\u001b[29A\u001b[2K\u001b[29A\u001b[2K\u001b[29A\u001b[2K\u001b[29A\u001b[2K\u001b[29A\u001b[2K\u001b[29A\u001b[2K\u001b[29A\u001b[2K\u001b[29A\u001b[2K\u001b[29A\u001b[2K\u001b[29A\u001b[2K\u001b[29A\u001b[2K\u001b[29A\u001b[2K\u001b[29A\u001b[2K\u001b[29A\u001b[2K\u001b[29A\u001b[2K\u001b[29A\u001b[2K\u001b[29A\u001b[2K\u001b[29A\u001b[2K\u001b[29A\u001b[2K\u001b[29A\u001b[2K\u001b[29A\u001b[2K\u001b[29A\u001b[2K\u001b[29A\u001b[2K\u001b[28A\u001b[2K\u001b[28A\u001b[2K\u001b[28A\u001b[2K\u001b[28A\u001b[2K\u001b[28A\u001b[2K\u001b[27A\u001b[2K\u001b[27A\u001b[2K\u001b[27A\u001b[2K\u001b[27A\u001b[2K\u001b[26A\u001b[2K\u001b[26A\u001b[2K\u001b[26A\u001b[2K\u001b[26A\u001b[2K\u001b[26A\u001b[2K\u001b[26A\u001b[2K\u001b[26A\u001b[2K\u001b[26A\u001b[2K\u001b[26A\u001b[2K\u001b[26A\u001b[2K\u001b[26A\u001b[2K\u001b[26A\u001b[2K\u001b[26A\u001b[2K\u001b[26A\u001b[2K\u001b[26A\u001b[2K\u001b[26A\u001b[2K\u001b[26A\u001b[2K\u001b[26A\u001b[2K\u001b[26A\u001b[2K\u001b[26A\u001b[2K\u001b[26A\u001b[2K\u001b[26A\u001b[2K\u001b[26A\u001b[2K\u001b[26A\u001b[2K\u001b[26A\u001b[2K\u001b[26A\u001b[2K\u001b[26A\u001b[2K\u001b[25A\u001b[2K\u001b[25A\u001b[2K\u001b[25A\u001b[2K\u001b[25A\u001b[2K\u001b[25A\u001b[2K\u001b[25A\u001b[2K\u001b[25A\u001b[2K\u001b[24A\u001b[2K\u001b[23A\u001b[2K\u001b[23A\u001b[2K\u001b[23A\u001b[2K\u001b[23A\u001b[2K\u001b[23A\u001b[2K\u001b[23A\u001b[2K\u001b[23A\u001b[2K\u001b[23A\u001b[2K\u001b[23A\u001b[2K\u001b[23A\u001b[2K\u001b[23A\u001b[2K\u001b[23A\u001b[2K\u001b[23A\u001b[2K\u001b[23A\u001b[2K\u001b[23A\u001b[2K\u001b[23A\u001b[2K\u001b[23A\u001b[2K\u001b[23A\u001b[2K\u001b[23A\u001b[2K\u001b[23A\u001b[2K\u001b[23A\u001b[2K\u001b[23A\u001b[2K\u001b[23A\u001b[2K\u001b[23A\u001b[2K\u001b[23A\u001b[2K\u001b[23A\u001b[2K\u001b[23A\u001b[2K\u001b[23A\u001b[2K\u001b[23A\u001b[2K\u001b[23A\u001b[2K\u001b[23A\u001b[2K\u001b[23A\u001b[2K\u001b[22A\u001b[2K\u001b[21A\u001b[2K\u001b[21A\u001b[2K\u001b[21A\u001b[2K\u001b[21A\u001b[2K\u001b[21A\u001b[2K\u001b[21A\u001b[2K\u001b[21A\u001b[2K\u001b[21A\u001b[2K\u001b[21A\u001b[2K\u001b[21A\u001b[2K\u001b[21A\u001b[2K\u001b[21A\u001b[2K\u001b[21A\u001b[2K\u001b[21A\u001b[2K\u001b[21A\u001b[2K\u001b[21A\u001b[2K\u001b[21A\u001b[2K\u001b[21A\u001b[2K\u001b[20A\u001b[2K\u001b[20A\u001b[2K\u001b[20A\u001b[2K\u001b[20A\u001b[2K\u001b[20A\u001b[2K\u001b[20A\u001b[2K\u001b[20A\u001b[2K\u001b[20A\u001b[2K\u001b[20A\u001b[2K\u001b[20A\u001b[2K\u001b[19A\u001b[2K\u001b[18A\u001b[2K\u001b[18A\u001b[2K\u001b[18A\u001b[2K\u001b[18A\u001b[2K\u001b[18A\u001b[2K\u001b[18A\u001b[2K\u001b[18A\u001b[2K\u001b[18A\u001b[2K\u001b[18A\u001b[2K\u001b[18A\u001b[2K\u001b[18A\u001b[2K\u001b[18A\u001b[2K\u001b[18A\u001b[2K\u001b[18A\u001b[2K\u001b[18A\u001b[2K\u001b[18A\u001b[2K\u001b[18A\u001b[2K\u001b[18A\u001b[2K\u001b[18A\u001b[2K\u001b[18A\u001b[2K\u001b[18A\u001b[2K\u001b[18A\u001b[2K\u001b[18A\u001b[2K\u001b[18A\u001b[2K\u001b[18A\u001b[2K\u001b[18A\u001b[2K\u001b[18A\u001b[2K\u001b[18A\u001b[2K\u001b[18A\u001b[2K\u001b[18A\u001b[2K\u001b[18A\u001b[2K\u001b[18A\u001b[2K\u001b[18A\u001b[2K\u001b[18A\u001b[2K\u001b[18A\u001b[2K\u001b[18A\u001b[2K\u001b[18A\u001b[2K\u001b[18A\u001b[2K\u001b[18A\u001b[2K\u001b[18A\u001b[2K\u001b[18A\u001b[2K\u001b[18A\u001b[2K\u001b[18A\u001b[2K\u001b[18A\u001b[2K\u001b[18A\u001b[2K\u001b[18A\u001b[2K\u001b[18A\u001b[2K\u001b[18A\u001b[2K\u001b[18A\u001b[2K\u001b[18A\u001b[2K\u001b[18A\u001b[2K\u001b[18A\u001b[2K\u001b[18A\u001b[2K\u001b[18A\u001b[2K\u001b[18A\u001b[2K\u001b[18A\u001b[2K\u001b[18A\u001b[2K\u001b[18A\u001b[2K\u001b[18A\u001b[2K\u001b[18A\u001b[2K\u001b[18A\u001b[2K\u001b[18A\u001b[2K\u001b[18A\u001b[2K\u001b[18A\u001b[2K\u001b[18A\u001b[2K\u001b[18A\u001b[2K\u001b[18A\u001b[2K\u001b[18A\u001b[2K\u001b[18A\u001b[2K\u001b[18A\u001b[2K\u001b[18A\u001b[2K\u001b[18A\u001b[2K\u001b[18A\u001b[2K\u001b[18A\u001b[2KExtracting  480.7MB/920.3MB\u001b[18A\u001b[2K\u001b[18A\u001b[2K\u001b[18A\u001b[2K\u001b[18A\u001b[2K\u001b[18A\u001b[2K\u001b[18A\u001b[2K\u001b[18A\u001b[2K\u001b[18A\u001b[2K\u001b[18A\u001b[2K\u001b[18A\u001b[2K\u001b[18A\u001b[2K\u001b[18A\u001b[2K\u001b[18A\u001b[2K\u001b[18A\u001b[2K\u001b[18A\u001b[2K\u001b[18A\u001b[2K\u001b[18A\u001b[2K\u001b[18A\u001b[2K\u001b[18A\u001b[2K\u001b[18A\u001b[2K\u001b[18A\u001b[2K\u001b[18A\u001b[2K\u001b[18A\u001b[2K\u001b[18A\u001b[2K\u001b[18A\u001b[2K\u001b[18A\u001b[2K\u001b[18A\u001b[2K\u001b[18A\u001b[2K\u001b[18A\u001b[2K\u001b[18A\u001b[2K\u001b[18A\u001b[2K\u001b[18A\u001b[2K\u001b[18A\u001b[2K\u001b[18A\u001b[2K\u001b[18A\u001b[2K\u001b[18A\u001b[2K\u001b[18A\u001b[2K\u001b[18A\u001b[2K\u001b[18A\u001b[2K\u001b[18A\u001b[2K\u001b[18A\u001b[2K\u001b[18A\u001b[2K\u001b[18A\u001b[2K\u001b[18A\u001b[2K\u001b[18A\u001b[2K\u001b[18A\u001b[2K\u001b[18A\u001b[2K\u001b[18A\u001b[2K\u001b[18A\u001b[2K\u001b[18A\u001b[2K\u001b[18A\u001b[2K\u001b[18A\u001b[2K\u001b[18A\u001b[2K\u001b[18A\u001b[2K\u001b[18A\u001b[2K\u001b[18A\u001b[2K\u001b[17A\u001b[2K\u001b[17A\u001b[2K\u001b[17A\u001b[2K\u001b[17A\u001b[2K\u001b[17A\u001b[2K\u001b[17A\u001b[2K\u001b[17A\u001b[2K\u001b[17A\u001b[2K\u001b[17A\u001b[2K\u001b[17A\u001b[2K\u001b[17A\u001b[2K\u001b[17A\u001b[2K\u001b[17A\u001b[2K\u001b[17A\u001b[2K\u001b[17A\u001b[2K\u001b[17A\u001b[2K\u001b[17A\u001b[2K\u001b[17A\u001b[2K\u001b[17A\u001b[2K\u001b[17A\u001b[2K\u001b[17A\u001b[2K\u001b[17A\u001b[2K\u001b[17A\u001b[2K\u001b[17A\u001b[2K\u001b[17A\u001b[2K\u001b[17A\u001b[2K\u001b[17A\u001b[2K\u001b[17A\u001b[2K\u001b[17A\u001b[2K\u001b[17A\u001b[2K\u001b[17A\u001b[2K\u001b[17A\u001b[2K\u001b[17A\u001b[2K\u001b[17A\u001b[2K\u001b[17A\u001b[2K\u001b[17A\u001b[2K\u001b[17A\u001b[2K\u001b[17A\u001b[2K\u001b[17A\u001b[2K\u001b[17A\u001b[2K\u001b[17A\u001b[2K\u001b[17A\u001b[2K\u001b[17A\u001b[2K\u001b[17A\u001b[2K\u001b[17A\u001b[2K\u001b[17A\u001b[2K\u001b[17A\u001b[2K\u001b[17A\u001b[2K\u001b[17A\u001b[2K\u001b[17A\u001b[2K\u001b[17A\u001b[2K\u001b[17A\u001b[2K\u001b[17A\u001b[2K\u001b[17A\u001b[2K\u001b[17A\u001b[2K\u001b[17A\u001b[2K\u001b[17A\u001b[2K\u001b[17A\u001b[2K\u001b[17A\u001b[2K\u001b[17A\u001b[2K\u001b[17A\u001b[2K\u001b[17A\u001b[2K\u001b[17A\u001b[2K\u001b[17A\u001b[2K\u001b[17A\u001b[2K\u001b[17A\u001b[2K\u001b[17A\u001b[2K\u001b[17A\u001b[2K\u001b[17A\u001b[2K\u001b[17A\u001b[2K\u001b[17A\u001b[2K\u001b[17A\u001b[2K\u001b[17A\u001b[2K\u001b[17A\u001b[2K\u001b[17A\u001b[2K\u001b[17A\u001b[2K\u001b[17A\u001b[2K\u001b[17A\u001b[2K\u001b[17A\u001b[2K\u001b[17A\u001b[2K\u001b[17A\u001b[2K\u001b[17A\u001b[2K\u001b[16A\u001b[2K\u001b[16A\u001b[2K\u001b[16A\u001b[2K\u001b[16A\u001b[2K\u001b[15A\u001b[2K\u001b[14A\u001b[2K\u001b[13A\u001b[2K\u001b[13A\u001b[2K\u001b[13A\u001b[2K\u001b[13A\u001b[2K\u001b[13A\u001b[2K\u001b[13A\u001b[2K\u001b[13A\u001b[2K\u001b[13A\u001b[2K\u001b[13A\u001b[2K\u001b[13A\u001b[2K\u001b[13A\u001b[2K\u001b[13A\u001b[2K\u001b[13A\u001b[2K\u001b[13A\u001b[2K\u001b[13A\u001b[2K\u001b[13A\u001b[2K\u001b[13A\u001b[2K\u001b[13A\u001b[2K\u001b[13A\u001b[2K\u001b[13A\u001b[2K\u001b[13A\u001b[2K\u001b[13A\u001b[2K\u001b[13A\u001b[2K\u001b[13A\u001b[2K\u001b[13A\u001b[2K\u001b[13A\u001b[2K\u001b[13A\u001b[2K\u001b[13A\u001b[2K\u001b[13A\u001b[2K\u001b[13A\u001b[2K\u001b[13A\u001b[2K\u001b[13A\u001b[2K\u001b[13A\u001b[2K\u001b[12A\u001b[2K\u001b[12A\u001b[2K\u001b[12A\u001b[2K\u001b[11A\u001b[2K\u001b[10A\u001b[2K\u001b[9A\u001b[2K\u001b[9A\u001b[2K\u001b[9A\u001b[2K\u001b[8A\u001b[2K\u001b[8A\u001b[2K\u001b[8A\u001b[2K\u001b[8A\u001b[2K\u001b[8A\u001b[2K\u001b[7A\u001b[2K\u001b[7A\u001b[2K\u001b[7A\u001b[2K\u001b[7A\u001b[2K\u001b[7A\u001b[2K\u001b[7A\u001b[2K\u001b[6A\u001b[2K\u001b[5A\u001b[2K\u001b[4A\u001b[2K\u001b[4A\u001b[2K\u001b[3A\u001b[2K\u001b[3A\u001b[2K\u001b[2A\u001b[2K\u001b[2A\u001b[2K\u001b[2A\u001b[2K\u001b[1A\u001b[2K\u001b[1A\u001b[2K\u001b[1A\u001b[2K\u001b[1A\u001b[2K\u001b[1A\u001b[2K\u001b[1A\u001b[2K\u001b[1A\u001b[2K\u001b[1A\u001b[2K\u001b[1A\u001b[2K\u001b[1A\u001b[2K\n",
      "Status: Downloaded newer image for nvcr.io/nvidia/pytorch:21.08-py3\n",
      " ---> 9f34357dd551\n",
      "Step 2/4 : RUN pip3 install onnx\n",
      " ---> Running in 77f3d6514204\n",
      "Requirement already satisfied: onnx in /opt/conda/lib/python3.8/site-packages (1.8.204)\n",
      "Requirement already satisfied: protobuf in /opt/conda/lib/python3.8/site-packages (from onnx) (3.17.3)\n",
      "Requirement already satisfied: typing-extensions>=3.6.2.1 in /opt/conda/lib/python3.8/site-packages (from onnx) (3.10.0.0)\n",
      "Requirement already satisfied: numpy>=1.16.6 in /opt/conda/lib/python3.8/site-packages (from onnx) (1.21.2)\n",
      "Requirement already satisfied: six in /opt/conda/lib/python3.8/site-packages (from onnx) (1.16.0)\n",
      "\u001b[91mWARNING: Running pip as the 'root' user can result in broken permissions and conflicting behaviour with the system package manager. It is recommended to use a virtual environment instead: https://pip.pypa.io/warnings/venv\n",
      "\u001b[0mRemoving intermediate container 77f3d6514204\n",
      " ---> 206a3bff4f77\n",
      "Step 3/4 : ENV PYTHONUNBUFFERED=TRUE\n",
      " ---> Running in f3b60b4d46e3\n",
      "Removing intermediate container f3b60b4d46e3\n",
      " ---> f2b25dda2a3e\n",
      "Step 4/4 : ENTRYPOINT [\"python3\"]\n",
      " ---> Running in 49856b53ee5f\n",
      "Removing intermediate container 49856b53ee5f\n",
      " ---> 3ff0f704ccbf\n",
      "Successfully built 3ff0f704ccbf\n",
      "Successfully tagged sagemaker-processing-container:latest\n",
      "WARNING! Your password will be stored unencrypted in /home/ec2-user/.docker/config.json.\n",
      "Configure a credential helper to remove this warning. See\n",
      "https://docs.docker.com/engine/reference/commandline/login/#credentials-store\n",
      "\n",
      "Login Succeeded\n",
      "\n",
      "An error occurred (RepositoryAlreadyExistsException) when calling the CreateRepository operation: The repository with name 'sagemaker-processing-container' already exists in the registry with id '889750940888'\n",
      "The push refers to repository [889750940888.dkr.ecr.us-east-1.amazonaws.com/sagemaker-processing-container]\n",
      "\n",
      "\u001b[1Bde20f9e8: Preparing \n",
      "\u001b[1Be49560f4: Preparing \n",
      "\u001b[1Bd25f174d: Preparing \n",
      "\u001b[1Bd2739ebc: Preparing \n",
      "\u001b[1B89c0e32e: Preparing \n",
      "\u001b[1Be7fcd053: Preparing \n",
      "\u001b[1B690e0bc9: Preparing \n",
      "\u001b[1Bcc333a29: Preparing \n",
      "\u001b[1B114c45fe: Preparing \n",
      "\u001b[1Bcc604df1: Preparing \n",
      "\u001b[1Bfaa3ffa0: Preparing \n",
      "\u001b[1B8b5e773b: Preparing \n",
      "\u001b[1B0c3e6e23: Preparing \n",
      "\u001b[1Baca6bff9: Preparing \n",
      "\u001b[1B61fa5a5e: Preparing \n",
      "\u001b[1B20170f56: Preparing \n",
      "\u001b[1B7cc6acb0: Preparing \n",
      "\u001b[1B3de6118a: Preparing \n",
      "\u001b[1B7bf5117e: Preparing \n",
      "\u001b[1B225f9ea7: Preparing \n",
      "\u001b[1B1905abf0: Preparing \n",
      "\u001b[1Ba6743bf3: Preparing \n",
      "\u001b[1Bbcc3c4d3: Preparing \n",
      "\u001b[1B2ca10adc: Preparing \n",
      "\u001b[1Be3e5131e: Preparing \n",
      "\u001b[1Bc1c014f3: Preparing \n",
      "\u001b[1Ba88b663b: Preparing \n",
      "\u001b[1B14bd6d2f: Preparing \n",
      "\u001b[1B49415b95: Preparing \n",
      "\u001b[1Bd67f276d: Preparing \n",
      "\u001b[24Bc333a29: Waiting g \n",
      "\u001b[1B410715cb: Preparing \n",
      "\u001b[25B14c45fe: Waiting g \n",
      "\u001b[25Bc604df1: Waiting g \n",
      "\u001b[1B07bad8cb: Preparing \n",
      "\u001b[26Baa3ffa0: Waiting g \n",
      "\u001b[1B7fb87820: Preparing \n",
      "\u001b[20Bbf5117e: Waiting g \n",
      "\u001b[28Bb5e773b: Waiting g \n",
      "\u001b[1B87334476: Preparing \n",
      "\u001b[22B25f9ea7: Waiting g \n",
      "\u001b[22B905abf0: Waiting g \n",
      "\u001b[1Bb0c22213: Preparing \n",
      "\u001b[23B6743bf3: Waiting g \n",
      "\u001b[1B6ce8634c: Preparing \n",
      "\u001b[24Bcc3c4d3: Waiting g \n",
      "\u001b[1Baec16cb1: Preparing \n",
      "\u001b[24B3e5131e: Waiting g \n",
      "\u001b[24B1c014f3: Waiting g \n",
      "\u001b[24B88b663b: Waiting g \n",
      "\u001b[1B0c3208a1: Preparing \n",
      "\u001b[1B110f4cd5: Preparing \n",
      "\u001b[41Bc3e6e23: Waiting g \n",
      "\u001b[1B3582aff4: Preparing \n",
      "\u001b[12B30e0411: Pushed   3.932GB/3.932GB\u001b[52A\u001b[2K\u001b[51A\u001b[2K\u001b[52A\u001b[2K\u001b[53A\u001b[2K\u001b[52A\u001b[2K\u001b[55A\u001b[2K\u001b[53A\u001b[2K\u001b[53A\u001b[2K\u001b[50A\u001b[2K\u001b[49A\u001b[2K\u001b[54A\u001b[2K\u001b[54A\u001b[2K\u001b[48A\u001b[2K\u001b[50A\u001b[2K\u001b[48A\u001b[2K\u001b[49A\u001b[2K\u001b[47A\u001b[2K\u001b[48A\u001b[2K\u001b[46A\u001b[2K\u001b[48A\u001b[2K\u001b[46A\u001b[2K\u001b[53A\u001b[2K\u001b[46A\u001b[2K\u001b[47A\u001b[2K\u001b[54A\u001b[2K\u001b[47A\u001b[2K\u001b[54A\u001b[2K\u001b[47A\u001b[2K\u001b[54A\u001b[2K\u001b[47A\u001b[2K\u001b[54A\u001b[2K\u001b[48A\u001b[2K\u001b[47A\u001b[2K\u001b[48A\u001b[2K\u001b[47A\u001b[2K\u001b[54A\u001b[2K\u001b[47A\u001b[2K\u001b[46A\u001b[2K\u001b[47A\u001b[2K\u001b[46A\u001b[2K\u001b[47A\u001b[2K\u001b[46A\u001b[2K\u001b[47A\u001b[2K\u001b[46A\u001b[2K\u001b[47A\u001b[2K\u001b[48A\u001b[2K\u001b[54A\u001b[2K\u001b[44A\u001b[2K\u001b[54A\u001b[2K\u001b[48A\u001b[2K\u001b[54A\u001b[2K\u001b[48A\u001b[2K\u001b[54A\u001b[2K\u001b[48A\u001b[2K\u001b[47A\u001b[2K\u001b[44A\u001b[2K\u001b[54A\u001b[2K\u001b[48A\u001b[2K\u001b[54A\u001b[2K\u001b[48A\u001b[2K\u001b[42A\u001b[2K\u001b[48A\u001b[2K\u001b[42A\u001b[2K\u001b[54A\u001b[2K\u001b[42A\u001b[2K\u001b[54A\u001b[2K\u001b[54A\u001b[2K\u001b[47A\u001b[2K\u001b[42A\u001b[2K\u001b[43A\u001b[2K\u001b[42A\u001b[2K\u001b[42A\u001b[2K\u001b[54A\u001b[2K\u001b[42A\u001b[2K\u001b[42A\u001b[2K\u001b[40A\u001b[2K\u001b[42A\u001b[2K\u001b[39A\u001b[2K\u001b[42A\u001b[2K\u001b[39A\u001b[2K\u001b[40A\u001b[2K\u001b[38A\u001b[2K\u001b[42A\u001b[2K\u001b[39A\u001b[2K\u001b[37A\u001b[2K\u001b[36A\u001b[2K\u001b[37A\u001b[2K\u001b[39A\u001b[2K\u001b[42A\u001b[2K\u001b[39A\u001b[2K\u001b[38A\u001b[2K\u001b[37A\u001b[2K\u001b[38A\u001b[2K\u001b[39A\u001b[2K\u001b[38A\u001b[2K\u001b[39A\u001b[2K\u001b[38A\u001b[2K\u001b[39A\u001b[2K\u001b[38A\u001b[2K\u001b[36A\u001b[2K\u001b[42A\u001b[2K\u001b[42A\u001b[2K\u001b[38A\u001b[2K\u001b[42A\u001b[2K\u001b[37A\u001b[2K\u001b[42A\u001b[2K\u001b[42A\u001b[2K\u001b[35A\u001b[2K\u001b[42A\u001b[2K\u001b[38A\u001b[2K\u001b[35A\u001b[2K\u001b[37A\u001b[2K\u001b[42A\u001b[2K\u001b[37A\u001b[2K\u001b[42A\u001b[2K\u001b[37A\u001b[2K\u001b[38A\u001b[2K\u001b[35A\u001b[2K\u001b[34A\u001b[2K\u001b[35A\u001b[2K\u001b[37A\u001b[2K\u001b[37A\u001b[2K\u001b[35A\u001b[2K\u001b[37A\u001b[2K\u001b[42A\u001b[2K\u001b[42A\u001b[2K\u001b[42A\u001b[2K\u001b[37A\u001b[2K\u001b[42A\u001b[2K\u001b[35A\u001b[2K\u001b[37A\u001b[2K\u001b[35A\u001b[2K\u001b[37A\u001b[2K\u001b[42A\u001b[2K\u001b[37A\u001b[2K\u001b[42A\u001b[2K\u001b[38A\u001b[2K\u001b[35A\u001b[2K\u001b[38A\u001b[2K\u001b[42A\u001b[2K\u001b[38A\u001b[2K\u001b[35A\u001b[2K\u001b[38A\u001b[2K\u001b[35A\u001b[2K\u001b[38A\u001b[2K\u001b[42A\u001b[2K\u001b[35A\u001b[2K\u001b[38A\u001b[2K\u001b[37A\u001b[2K\u001b[38A\u001b[2K\u001b[37A\u001b[2K\u001b[38A\u001b[2K\u001b[35A\u001b[2K\u001b[37A\u001b[2K\u001b[35A\u001b[2K\u001b[37A\u001b[2K\u001b[37A\u001b[2K\u001b[35A\u001b[2K\u001b[42A\u001b[2K\u001b[35A\u001b[2K\u001b[38A\u001b[2K\u001b[35A\u001b[2K\u001b[38A\u001b[2K\u001b[35A\u001b[2K\u001b[38A\u001b[2K\u001b[42A\u001b[2K\u001b[35A\u001b[2K\u001b[42A\u001b[2K\u001b[35A\u001b[2K\u001b[37A\u001b[2K\u001b[34A\u001b[2K\u001b[42A\u001b[2K\u001b[37A\u001b[2K\u001b[38A\u001b[2K\u001b[37A\u001b[2K\u001b[38A\u001b[2K\u001b[38A\u001b[2K\u001b[42A\u001b[2K\u001b[38A\u001b[2K\u001b[38A\u001b[2K\u001b[35A\u001b[2K\u001b[38A\u001b[2K\u001b[42A\u001b[2K\u001b[42A\u001b[2K\u001b[34A\u001b[2K\u001b[42A\u001b[2K\u001b[34A\u001b[2K\u001b[38A\u001b[2K\u001b[42A\u001b[2K\u001b[38A\u001b[2K\u001b[37A\u001b[2K\u001b[34A\u001b[2K\u001b[37A\u001b[2K\u001b[34A\u001b[2K\u001b[37A\u001b[2K\u001b[35A\u001b[2K\u001b[34A\u001b[2K\u001b[35A\u001b[2K\u001b[42A\u001b[2K\u001b[37A\u001b[2K\u001b[35A\u001b[2K\u001b[37A\u001b[2K\u001b[34A\u001b[2K\u001b[37A\u001b[2K\u001b[34A\u001b[2K\u001b[37A\u001b[2K\u001b[42A\u001b[2K\u001b[37A\u001b[2K\u001b[35A\u001b[2K\u001b[42A\u001b[2K\u001b[35A\u001b[2K\u001b[42A\u001b[2K\u001b[35A\u001b[2K\u001b[38A\u001b[2K\u001b[35A\u001b[2K\u001b[38A\u001b[2K\u001b[35A\u001b[2K\u001b[42A\u001b[2K\u001b[35A\u001b[2K\u001b[42A\u001b[2K\u001b[35A\u001b[2K\u001b[37A\u001b[2K\u001b[34A\u001b[2K\u001b[38A\u001b[2K\u001b[35A\u001b[2K\u001b[38A\u001b[2K\u001b[35A\u001b[2K\u001b[42A\u001b[2K\u001b[34A\u001b[2K\u001b[42A\u001b[2K\u001b[38A\u001b[2K\u001b[42A\u001b[2K\u001b[37A\u001b[2K\u001b[42A\u001b[2K\u001b[38A\u001b[2K\u001b[42A\u001b[2K\u001b[34A\u001b[2K\u001b[37A\u001b[2K\u001b[42A\u001b[2K\u001b[37A\u001b[2K\u001b[34A\u001b[2K\u001b[38A\u001b[2K\u001b[42A\u001b[2K\u001b[38A\u001b[2K\u001b[42A\u001b[2K\u001b[38A\u001b[2K\u001b[37A\u001b[2K\u001b[38A\u001b[2K\u001b[37A\u001b[2K\u001b[34A\u001b[2K\u001b[37A\u001b[2K\u001b[34A\u001b[2K\u001b[37A\u001b[2K\u001b[38A\u001b[2K\u001b[42A\u001b[2K\u001b[38A\u001b[2K\u001b[34A\u001b[2K\u001b[38A\u001b[2K\u001b[34A\u001b[2K\u001b[38A\u001b[2K\u001b[34A\u001b[2K\u001b[38A\u001b[2K\u001b[37A\u001b[2K\u001b[34A\u001b[2K\u001b[37A\u001b[2K\u001b[42A\u001b[2K\u001b[37A\u001b[2K\u001b[38A\u001b[2K\u001b[34A\u001b[2K\u001b[37A\u001b[2K\u001b[34A\u001b[2K\u001b[37A\u001b[2K\u001b[34A\u001b[2K\u001b[42A\u001b[2K\u001b[38A\u001b[2K\u001b[42A\u001b[2K\u001b[38A\u001b[2K\u001b[34A\u001b[2K\u001b[38A\u001b[2K\u001b[34A\u001b[2K\u001b[38A\u001b[2K\u001b[37A\u001b[2K\u001b[38A\u001b[2K\u001b[42A\u001b[2K\u001b[32A\u001b[2K\u001b[42A\u001b[2K\u001b[32A\u001b[2K\u001b[38A\u001b[2K\u001b[32A\u001b[2K\u001b[37A\u001b[2K\u001b[32A\u001b[2K\u001b[32A\u001b[2K\u001b[32A\u001b[2K\u001b[38A\u001b[2K\u001b[37A\u001b[2K\u001b[38A\u001b[2K\u001b[37A\u001b[2K\u001b[38A\u001b[2K\u001b[37A\u001b[2K\u001b[32A\u001b[2K\u001b[37A\u001b[2K\u001b[32A\u001b[2K\u001b[34A\u001b[2K\u001b[38A\u001b[2K\u001b[34A\u001b[2K\u001b[37A\u001b[2K\u001b[34A\u001b[2K\u001b[42A\u001b[2K\u001b[32A\u001b[2K\u001b[34A\u001b[2K\u001b[32A\u001b[2K\u001b[34A\u001b[2K\u001b[37A\u001b[2K\u001b[32A\u001b[2K\u001b[37A\u001b[2K\u001b[32A\u001b[2K\u001b[34A\u001b[2K\u001b[32A\u001b[2K\u001b[38A\u001b[2K\u001b[32A\u001b[2K\u001b[32A\u001b[2K\u001b[34A\u001b[2K\u001b[37A\u001b[2K\u001b[34A\u001b[2K\u001b[34A\u001b[2K\u001b[38A\u001b[2K\u001b[34A\u001b[2K\u001b[37A\u001b[2K\u001b[32A\u001b[2K\u001b[37A\u001b[2K\u001b[32A\u001b[2K\u001b[34A\u001b[2K\u001b[34A\u001b[2K\u001b[37A\u001b[2K\u001b[34A\u001b[2K\u001b[37A\u001b[2K\u001b[34A\u001b[2K\u001b[32A\u001b[2K\u001b[38A\u001b[2K\u001b[37A\u001b[2K\u001b[38A\u001b[2K\u001b[34A\u001b[2K\u001b[37A\u001b[2K\u001b[34A\u001b[2K\u001b[37A\u001b[2K\u001b[32A\u001b[2K\u001b[37A\u001b[2K\u001b[38A\u001b[2K\u001b[34A\u001b[2K\u001b[38A\u001b[2K\u001b[34A\u001b[2K\u001b[38A\u001b[2K\u001b[42A\u001b[2K\u001b[34A\u001b[2K\u001b[34A\u001b[2K\u001b[34A\u001b[2K\u001b[38A\u001b[2K\u001b[34A\u001b[2K\u001b[38A\u001b[2K\u001b[32A\u001b[2K\u001b[38A\u001b[2K\u001b[34A\u001b[2K\u001b[37A\u001b[2K\u001b[42A\u001b[2K\u001b[37A\u001b[2K\u001b[42A\u001b[2K\u001b[38A\u001b[2K\u001b[38A\u001b[2K\u001b[42A\u001b[2K\u001b[38A\u001b[2K\u001b[37A\u001b[2K\u001b[42A\u001b[2K\u001b[37A\u001b[2K\u001b[42A\u001b[2K\u001b[37A\u001b[2K\u001b[42A\u001b[2K\u001b[34A\u001b[2K\u001b[37A\u001b[2K\u001b[38A\u001b[2K\u001b[42A\u001b[2K\u001b[38A\u001b[2K\u001b[42A\u001b[2K\u001b[37A\u001b[2K\u001b[32A\u001b[2K\u001b[37A\u001b[2K\u001b[32A\u001b[2K\u001b[38A\u001b[2K\u001b[32A\u001b[2K\u001b[34A\u001b[2K\u001b[38A\u001b[2K\u001b[37A\u001b[2K\u001b[37A\u001b[2K\u001b[34A\u001b[2K\u001b[38A\u001b[2K\u001b[34A\u001b[2K\u001b[38A\u001b[2K\u001b[37A\u001b[2K\u001b[34A\u001b[2K\u001b[37A\u001b[2K\u001b[42A\u001b[2K\u001b[38A\u001b[2K\u001b[38A\u001b[2K\u001b[42A\u001b[2K\u001b[38A\u001b[2K\u001b[37A\u001b[2K\u001b[32A\u001b[2K\u001b[37A\u001b[2K\u001b[42A\u001b[2K\u001b[38A\u001b[2K\u001b[37A\u001b[2K\u001b[34A\u001b[2K\u001b[42A\u001b[2K\u001b[34A\u001b[2K\u001b[42A\u001b[2K\u001b[34A\u001b[2K\u001b[38A\u001b[2K\u001b[37A\u001b[2K\u001b[38A\u001b[2K\u001b[42A\u001b[2K\u001b[38A\u001b[2K\u001b[34A\u001b[2K\u001b[38A\u001b[2K\u001b[38A\u001b[2K\u001b[37A\u001b[2K\u001b[38A\u001b[2K\u001b[42A\u001b[2K\u001b[38A\u001b[2K\u001b[32A\u001b[2K\u001b[34A\u001b[2K\u001b[34A\u001b[2K\u001b[34A\u001b[2K\u001b[38A\u001b[2K\u001b[34A\u001b[2K\u001b[38A\u001b[2K\u001b[34A\u001b[2K\u001b[32A\u001b[2K\u001b[38A\u001b[2K\u001b[37A\u001b[2K\u001b[32A\u001b[2K\u001b[37A\u001b[2K\u001b[42A\u001b[2K\u001b[37A\u001b[2K\u001b[38A\u001b[2K\u001b[37A\u001b[2K\u001b[32A\u001b[2K\u001b[37A\u001b[2K\u001b[32A\u001b[2K\u001b[37A\u001b[2K\u001b[32A\u001b[2K\u001b[34A\u001b[2K\u001b[37A\u001b[2K\u001b[32A\u001b[2K\u001b[42A\u001b[2K\u001b[31A\u001b[2K\u001b[32A\u001b[2K\u001b[32A\u001b[2K\u001b[42A\u001b[2K\u001b[32A\u001b[2K\u001b[42A\u001b[2K\u001b[37A\u001b[2K\u001b[38A\u001b[2K\u001b[37A\u001b[2K\u001b[32A\u001b[2K\u001b[42A\u001b[2K\u001b[32A\u001b[2K\u001b[42A\u001b[2K\u001b[32A\u001b[2K\u001b[42A\u001b[2K\u001b[32A\u001b[2K\u001b[42A\u001b[2K\u001b[42A\u001b[2K\u001b[32A\u001b[2K\u001b[30A\u001b[2K\u001b[32A\u001b[2K\u001b[38A\u001b[2K\u001b[42A\u001b[2K\u001b[38A\u001b[2K\u001b[37A\u001b[2K\u001b[30A\u001b[2K\u001b[37A\u001b[2K\u001b[42A\u001b[2K\u001b[38A\u001b[2K\u001b[42A\u001b[2K\u001b[37A\u001b[2K\u001b[30A\u001b[2K\u001b[42A\u001b[2K\u001b[38A\u001b[2K\u001b[42A\u001b[2K\u001b[38A\u001b[2K\u001b[30A\u001b[2K\u001b[32A\u001b[2K\u001b[37A\u001b[2K\u001b[42A\u001b[2K\u001b[32A\u001b[2K\u001b[30A\u001b[2K\u001b[37A\u001b[2K\u001b[38A\u001b[2K\u001b[42A\u001b[2K\u001b[37A\u001b[2K\u001b[30A\u001b[2K\u001b[37A\u001b[2K\u001b[32A\u001b[2K\u001b[37A\u001b[2K\u001b[30A\u001b[2K\u001b[37A\u001b[2K\u001b[30A\u001b[2K\u001b[37A\u001b[2K\u001b[42A\u001b[2K\u001b[30A\u001b[2K\u001b[38A\u001b[2K\u001b[37A\u001b[2K\u001b[30A\u001b[2K\u001b[37A\u001b[2K\u001b[30A\u001b[2K\u001b[38A\u001b[2K\u001b[30A\u001b[2K\u001b[32A\u001b[2K\u001b[38A\u001b[2K\u001b[30A\u001b[2K\u001b[37A\u001b[2K\u001b[32A\u001b[2K\u001b[37A\u001b[2K\u001b[37A\u001b[2K\u001b[42A\u001b[2K\u001b[32A\u001b[2K\u001b[42A\u001b[2K\u001b[32A\u001b[2K\u001b[37A\u001b[2K\u001b[32A\u001b[2K\u001b[42A\u001b[2K\u001b[42A\u001b[2K\u001b[42A\u001b[2K\u001b[32A\u001b[2K\u001b[42A\u001b[2K\u001b[37A\u001b[2K\u001b[42A\u001b[2K\u001b[37A\u001b[2K\u001b[38A\u001b[2K\u001b[42A\u001b[2K\u001b[32A\u001b[2K\u001b[38A\u001b[2K\u001b[30A\u001b[2K\u001b[37A\u001b[2K\u001b[30A\u001b[2K\u001b[37A\u001b[2K\u001b[30A\u001b[2K\u001b[37A\u001b[2K\u001b[30A\u001b[2K\u001b[42A\u001b[2K\u001b[30A\u001b[2K\u001b[37A\u001b[2K\u001b[38A\u001b[2K\u001b[37A\u001b[2K\u001b[38A\u001b[2K\u001b[30A\u001b[2K\u001b[38A\u001b[2K\u001b[42A\u001b[2K\u001b[32A\u001b[2K\u001b[30A\u001b[2K\u001b[42A\u001b[2K\u001b[37A\u001b[2K\u001b[38A\u001b[2K\u001b[30A\u001b[2K\u001b[32A\u001b[2K\u001b[38A\u001b[2K\u001b[42A\u001b[2K\u001b[37A\u001b[2K\u001b[38A\u001b[2K\u001b[32A\u001b[2K\u001b[30A\u001b[2K\u001b[32A\u001b[2K\u001b[30A\u001b[2K\u001b[38A\u001b[2K\u001b[37A\u001b[2K\u001b[38A\u001b[2K\u001b[37A\u001b[2K\u001b[32A\u001b[2K\u001b[37A\u001b[2K\u001b[42A\u001b[2K\u001b[37A\u001b[2K\u001b[42A\u001b[2K\u001b[37A\u001b[2K\u001b[42A\u001b[2K\u001b[32A\u001b[2K\u001b[42A\u001b[2K\u001b[32A\u001b[2K\u001b[38A\u001b[2K\u001b[32A\u001b[2K\u001b[42A\u001b[2K\u001b[32A\u001b[2K\u001b[38A\u001b[2K\u001b[37A\u001b[2K\u001b[32A\u001b[2K\u001b[37A\u001b[2K\u001b[30A\u001b[2K\u001b[37A\u001b[2K\u001b[42A\u001b[2K\u001b[37A\u001b[2K\u001b[32A\u001b[2K\u001b[38A\u001b[2K\u001b[42A\u001b[2K\u001b[42A\u001b[2K\u001b[37A\u001b[2K\u001b[42A\u001b[2K\u001b[37A\u001b[2K\u001b[42A\u001b[2K\u001b[37A\u001b[2K\u001b[42A\u001b[2K\u001b[29A\u001b[2K\u001b[42A\u001b[2K\u001b[37A\u001b[2K\u001b[29A\u001b[2K\u001b[37A\u001b[2K\u001b[42A\u001b[2K\u001b[37A\u001b[2K\u001b[42A\u001b[2K\u001b[37A\u001b[2K\u001b[38A\u001b[2K\u001b[37A\u001b[2K\u001b[38A\u001b[2K\u001b[37A\u001b[2K\u001b[32A\u001b[2K\u001b[38A\u001b[2K\u001b[37A\u001b[2K\u001b[32A\u001b[2K\u001b[37A\u001b[2K\u001b[42A\u001b[2K\u001b[32A\u001b[2K\u001b[42A\u001b[2K\u001b[29A\u001b[2K\u001b[42A\u001b[2K\u001b[42A\u001b[2K\u001b[32A\u001b[2K\u001b[42A\u001b[2K\u001b[29A\u001b[2K\u001b[37A\u001b[2K\u001b[38A\u001b[2K\u001b[32A\u001b[2K\u001b[38A\u001b[2K\u001b[29A\u001b[2K\u001b[37A\u001b[2K\u001b[37A\u001b[2K\u001b[37A\u001b[2K\u001b[38A\u001b[2K\u001b[37A\u001b[2K\u001b[38A\u001b[2K\u001b[37A\u001b[2K\u001b[32A\u001b[2K\u001b[37A\u001b[2K\u001b[32A\u001b[2K\u001b[42A\u001b[2K\u001b[29A\u001b[2K\u001b[37A\u001b[2K\u001b[42A\u001b[2K\u001b[29A\u001b[2K\u001b[42A\u001b[2K\u001b[32A\u001b[2K\u001b[37A\u001b[2K\u001b[32A\u001b[2K\u001b[29A\u001b[2K\u001b[38A\u001b[2K\u001b[37A\u001b[2K\u001b[38A\u001b[2K\u001b[37A\u001b[2K\u001b[38A\u001b[2K\u001b[37A\u001b[2K\u001b[38A\u001b[2K\u001b[37A\u001b[2K\u001b[29A\u001b[2K\u001b[38A\u001b[2K\u001b[29A\u001b[2K\u001b[32A\u001b[2K\u001b[29A\u001b[2K\u001b[32A\u001b[2K\u001b[29A\u001b[2K\u001b[32A\u001b[2K\u001b[38A\u001b[2K\u001b[29A\u001b[2K\u001b[32A\u001b[2K\u001b[38A\u001b[2K\u001b[32A\u001b[2K\u001b[38A\u001b[2K\u001b[32A\u001b[2K\u001b[38A\u001b[2K\u001b[32A\u001b[2K\u001b[29A\u001b[2K\u001b[29A\u001b[2K\u001b[29A\u001b[2K\u001b[37A\u001b[2K\u001b[38A\u001b[2K\u001b[38A\u001b[2K\u001b[29A\u001b[2K\u001b[32A\u001b[2K\u001b[38A\u001b[2K\u001b[29A\u001b[2K\u001b[38A\u001b[2K\u001b[37A\u001b[2K\u001b[38A\u001b[2K\u001b[37A\u001b[2K\u001b[38A\u001b[2K\u001b[29A\u001b[2K\u001b[32A\u001b[2K\u001b[29A\u001b[2K\u001b[32A\u001b[2K\u001b[37A\u001b[2K\u001b[32A\u001b[2K\u001b[38A\u001b[2K\u001b[29A\u001b[2K\u001b[38A\u001b[2K\u001b[32A\u001b[2K\u001b[29A\u001b[2K\u001b[37A\u001b[2K\u001b[38A\u001b[2K\u001b[28A\u001b[2K\u001b[32A\u001b[2K\u001b[28A\u001b[2K\u001b[32A\u001b[2K\u001b[28A\u001b[2K\u001b[32A\u001b[2K\u001b[28A\u001b[2K\u001b[32A\u001b[2K\u001b[28A\u001b[2K\u001b[32A\u001b[2K\u001b[38A\u001b[2K\u001b[32A\u001b[2K\u001b[38A\u001b[2K\u001b[29A\u001b[2K\u001b[37A\u001b[2K\u001b[28A\u001b[2K\u001b[37A\u001b[2K\u001b[28A\u001b[2K\u001b[29A\u001b[2K\u001b[38A\u001b[2K\u001b[29A\u001b[2K\u001b[38A\u001b[2K\u001b[32A\u001b[2K\u001b[29A\u001b[2K\u001b[32A\u001b[2K\u001b[29A\u001b[2K\u001b[32A\u001b[2K\u001b[37A\u001b[2K\u001b[38A\u001b[2K\u001b[37A\u001b[2K\u001b[38A\u001b[2K\u001b[29A\u001b[2K\u001b[38A\u001b[2K\u001b[37A\u001b[2K\u001b[28A\u001b[2K\u001b[38A\u001b[2K\u001b[38A\u001b[2K\u001b[32A\u001b[2K\u001b[38A\u001b[2K\u001b[29A\u001b[2K\u001b[38A\u001b[2K\u001b[32A\u001b[2K\u001b[37A\u001b[2K\u001b[32A\u001b[2K\u001b[37A\u001b[2K\u001b[32A\u001b[2K\u001b[29A\u001b[2K\u001b[38A\u001b[2K\u001b[29A\u001b[2K\u001b[28A\u001b[2K\u001b[29A\u001b[2K\u001b[38A\u001b[2K\u001b[29A\u001b[2K\u001b[38A\u001b[2K\u001b[32A\u001b[2K\u001b[29A\u001b[2K\u001b[37A\u001b[2K\u001b[29A\u001b[2K\u001b[27A\u001b[2K\u001b[32A\u001b[2K\u001b[27A\u001b[2K\u001b[29A\u001b[2K\u001b[38A\u001b[2K\u001b[29A\u001b[2K\u001b[38A\u001b[2K\u001b[37A\u001b[2K\u001b[32A\u001b[2K\u001b[37A\u001b[2K\u001b[27A\u001b[2K\u001b[38A\u001b[2K\u001b[29A\u001b[2K\u001b[38A\u001b[2K\u001b[27A\u001b[2K\u001b[29A\u001b[2K\u001b[27A\u001b[2K\u001b[29A\u001b[2K\u001b[27A\u001b[2K\u001b[29A\u001b[2K\u001b[27A\u001b[2K\u001b[29A\u001b[2K\u001b[27A\u001b[2K\u001b[38A\u001b[2K\u001b[32A\u001b[2K\u001b[37A\u001b[2K\u001b[29A\u001b[2K\u001b[37A\u001b[2K\u001b[29A\u001b[2K\u001b[27A\u001b[2K\u001b[29A\u001b[2K\u001b[27A\u001b[2K\u001b[29A\u001b[2K\u001b[26A\u001b[2K\u001b[38A\u001b[2K\u001b[27A\u001b[2K\u001b[26A\u001b[2K\u001b[38A\u001b[2K\u001b[38A\u001b[2K\u001b[37A\u001b[2K\u001b[38A\u001b[2K\u001b[37A\u001b[2K\u001b[27A\u001b[2K\u001b[27A\u001b[2K\u001b[27A\u001b[2K\u001b[38A\u001b[2K\u001b[29A\u001b[2K\u001b[38A\u001b[2K\u001b[29A\u001b[2K\u001b[37A\u001b[2K\u001b[27A\u001b[2K\u001b[37A\u001b[2K\u001b[38A\u001b[2K\u001b[37A\u001b[2K\u001b[38A\u001b[2K\u001b[29A\u001b[2K\u001b[38A\u001b[2K\u001b[26A\u001b[2K\u001b[37A\u001b[2K\u001b[38A\u001b[2K\u001b[37A\u001b[2K\u001b[38A\u001b[2K\u001b[37A\u001b[2K\u001b[38A\u001b[2K\u001b[37A\u001b[2K\u001b[29A\u001b[2K\u001b[37A\u001b[2K\u001b[38A\u001b[2K\u001b[26A\u001b[2K\u001b[38A\u001b[2K\u001b[29A\u001b[2K\u001b[38A\u001b[2K\u001b[29A\u001b[2K\u001b[37A\u001b[2K\u001b[25A\u001b[2K\u001b[37A\u001b[2K\u001b[38A\u001b[2K\u001b[29A\u001b[2K\u001b[38A\u001b[2K\u001b[29A\u001b[2K\u001b[38A\u001b[2K\u001b[29A\u001b[2K\u001b[38A\u001b[2K\u001b[29A\u001b[2K\u001b[38A\u001b[2K\u001b[38A\u001b[2K\u001b[37A\u001b[2K\u001b[24A\u001b[2K\u001b[37A\u001b[2K\u001b[24A\u001b[2K\u001b[38A\u001b[2K\u001b[26A\u001b[2K\u001b[38A\u001b[2K\u001b[29A\u001b[2K\u001b[26A\u001b[2K\u001b[29A\u001b[2K\u001b[37A\u001b[2K\u001b[29A\u001b[2K\u001b[38A\u001b[2K\u001b[26A\u001b[2K\u001b[37A\u001b[2K\u001b[26A\u001b[2K\u001b[37A\u001b[2K\u001b[38A\u001b[2K\u001b[29A\u001b[2K\u001b[38A\u001b[2K\u001b[29A\u001b[2K\u001b[37A\u001b[2K\u001b[29A\u001b[2K\u001b[37A\u001b[2K\u001b[29A\u001b[2K\u001b[23A\u001b[2K\u001b[38A\u001b[2K\u001b[23A\u001b[2K\u001b[29A\u001b[2K\u001b[37A\u001b[2K\u001b[29A\u001b[2K\u001b[37A\u001b[2K\u001b[29A\u001b[2K\u001b[38A\u001b[2K\u001b[29A\u001b[2K\u001b[29A\u001b[2K\u001b[37A\u001b[2K\u001b[23A\u001b[2K\u001b[37A\u001b[2K\u001b[29A\u001b[2K\u001b[38A\u001b[2K\u001b[23A\u001b[2K\u001b[38A\u001b[2K\u001b[29A\u001b[2K\u001b[38A\u001b[2K\u001b[23A\u001b[2K\u001b[37A\u001b[2K\u001b[38A\u001b[2K\u001b[37A\u001b[2K\u001b[38A\u001b[2K\u001b[29A\u001b[2K\u001b[37A\u001b[2K\u001b[26A\u001b[2K\u001b[37A\u001b[2K\u001b[38A\u001b[2K\u001b[37A\u001b[2K\u001b[23A\u001b[2K\u001b[37A\u001b[2K\u001b[38A\u001b[2K\u001b[23A\u001b[2K\u001b[26A\u001b[2K\u001b[23A\u001b[2K\u001b[37A\u001b[2K\u001b[38A\u001b[2K\u001b[37A\u001b[2K\u001b[29A\u001b[2K\u001b[37A\u001b[2K\u001b[26A\u001b[2K\u001b[23A\u001b[2K\u001b[26A\u001b[2K\u001b[38A\u001b[2K\u001b[26A\u001b[2K\u001b[37A\u001b[2K\u001b[23A\u001b[2K\u001b[37A\u001b[2K\u001b[23A\u001b[2K\u001b[37A\u001b[2K\u001b[23A\u001b[2K\u001b[26A\u001b[2K\u001b[38A\u001b[2K\u001b[29A\u001b[2K\u001b[38A\u001b[2K\u001b[26A\u001b[2K\u001b[23A\u001b[2K\u001b[37A\u001b[2K\u001b[23A\u001b[2K\u001b[38A\u001b[2K\u001b[26A\u001b[2K\u001b[38A\u001b[2K\u001b[26A\u001b[2K\u001b[23A\u001b[2K\u001b[37A\u001b[2K\u001b[23A\u001b[2K\u001b[23A\u001b[2K\u001b[29A\u001b[2K\u001b[23A\u001b[2K\u001b[26A\u001b[2K\u001b[38A\u001b[2K\u001b[26A\u001b[2K\u001b[37A\u001b[2K\u001b[23A\u001b[2K\u001b[26A\u001b[2K\u001b[38A\u001b[2K\u001b[23A\u001b[2K\u001b[38A\u001b[2K\u001b[29A\u001b[2K\u001b[23A\u001b[2K\u001b[37A\u001b[2K\u001b[26A\u001b[2K\u001b[38A\u001b[2K\u001b[29A\u001b[2K\u001b[23A\u001b[2K\u001b[29A\u001b[2K\u001b[23A\u001b[2K\u001b[38A\u001b[2K\u001b[23A\u001b[2K\u001b[38A\u001b[2K\u001b[23A\u001b[2K\u001b[38A\u001b[2K\u001b[23A\u001b[2K\u001b[29A\u001b[2K\u001b[23A\u001b[2K\u001b[29A\u001b[2K\u001b[37A\u001b[2K\u001b[23A\u001b[2K\u001b[29A\u001b[2K\u001b[23A\u001b[2K\u001b[29A\u001b[2K\u001b[37A\u001b[2K\u001b[29A\u001b[2K\u001b[38A\u001b[2K\u001b[29A\u001b[2K\u001b[26A\u001b[2K\u001b[38A\u001b[2K\u001b[37A\u001b[2K\u001b[23A\u001b[2K\u001b[37A\u001b[2K\u001b[38A\u001b[2K\u001b[37A\u001b[2K\u001b[29A\u001b[2K\u001b[37A\u001b[2K\u001b[26A\u001b[2K\u001b[38A\u001b[2K\u001b[26A\u001b[2K\u001b[23A\u001b[2K\u001b[38A\u001b[2K\u001b[23A\u001b[2K\u001b[29A\u001b[2K\u001b[38A\u001b[2K\u001b[29A\u001b[2K\u001b[37A\u001b[2K\u001b[29A\u001b[2K\u001b[37A\u001b[2K\u001b[29A\u001b[2K\u001b[38A\u001b[2K\u001b[29A\u001b[2K\u001b[38A\u001b[2K\u001b[23A\u001b[2K\u001b[29A\u001b[2K\u001b[23A\u001b[2K\u001b[29A\u001b[2K\u001b[37A\u001b[2K\u001b[29A\u001b[2K\u001b[37A\u001b[2K\u001b[29A\u001b[2K\u001b[23A\u001b[2K\u001b[23A\u001b[2K\u001b[26A\u001b[2K\u001b[23A\u001b[2K\u001b[26A\u001b[2K\u001b[23A\u001b[2K\u001b[26A\u001b[2K\u001b[37A\u001b[2K\u001b[38A\u001b[2K\u001b[26A\u001b[2K\u001b[38A\u001b[2K\u001b[37A\u001b[2K\u001b[38A\u001b[2K\u001b[26A\u001b[2K\u001b[38A\u001b[2K\u001b[37A\u001b[2K\u001b[38A\u001b[2K\u001b[26A\u001b[2K\u001b[38A\u001b[2K\u001b[22A\u001b[2K\u001b[38A\u001b[2K\u001b[23A\u001b[2K\u001b[38A\u001b[2K\u001b[26A\u001b[2K\u001b[37A\u001b[2K\u001b[22A\u001b[2K\u001b[38A\u001b[2K\u001b[37A\u001b[2K\u001b[26A\u001b[2K\u001b[23A\u001b[2K\u001b[26A\u001b[2K\u001b[38A\u001b[2K\u001b[37A\u001b[2K\u001b[38A\u001b[2K\u001b[37A\u001b[2K\u001b[38A\u001b[2K\u001b[37A\u001b[2K\u001b[22A\u001b[2K\u001b[37A\u001b[2K\u001b[23A\u001b[2K\u001b[26A\u001b[2K\u001b[23A\u001b[2K\u001b[22A\u001b[2K\u001b[23A\u001b[2K\u001b[22A\u001b[2K\u001b[23A\u001b[2K\u001b[22A\u001b[2K\u001b[26A\u001b[2K\u001b[37A\u001b[2K\u001b[22A\u001b[2K\u001b[23A\u001b[2K\u001b[22A\u001b[2K\u001b[23A\u001b[2K\u001b[26A\u001b[2K\u001b[23A\u001b[2K\u001b[37A\u001b[2K\u001b[26A\u001b[2K\u001b[37A\u001b[2K\u001b[23A\u001b[2K\u001b[37A\u001b[2K\u001b[22A\u001b[2K\u001b[38A\u001b[2K\u001b[23A\u001b[2K\u001b[37A\u001b[2K\u001b[26A\u001b[2K\u001b[22A\u001b[2K\u001b[37A\u001b[2K\u001b[37A\u001b[2K\u001b[23A\u001b[2K\u001b[37A\u001b[2K\u001b[23A\u001b[2K\u001b[26A\u001b[2K\u001b[22A\u001b[2K\u001b[23A\u001b[2K\u001b[26A\u001b[2K\u001b[23A\u001b[2K\u001b[22A\u001b[2K\u001b[26A\u001b[2K\u001b[23A\u001b[2K\u001b[22A\u001b[2K\u001b[26A\u001b[2K\u001b[23A\u001b[2K\u001b[22A\u001b[2K\u001b[38A\u001b[2K\u001b[22A\u001b[2K\u001b[26A\u001b[2K\u001b[22A\u001b[2K\u001b[37A\u001b[2K\u001b[22A\u001b[2K\u001b[23A\u001b[2K\u001b[38A\u001b[2K\u001b[26A\u001b[2K\u001b[38A\u001b[2K\u001b[23A\u001b[2K\u001b[38A\u001b[2K\u001b[22A\u001b[2K\u001b[37A\u001b[2K\u001b[26A\u001b[2K\u001b[37A\u001b[2K\u001b[38A\u001b[2K\u001b[22A\u001b[2K\u001b[37A\u001b[2K\u001b[22A\u001b[2K\u001b[37A\u001b[2K\u001b[26A\u001b[2K\u001b[37A\u001b[2K\u001b[23A\u001b[2K\u001b[37A\u001b[2K\u001b[38A\u001b[2K\u001b[37A\u001b[2K\u001b[26A\u001b[2K\u001b[37A\u001b[2K\u001b[26A\u001b[2K\u001b[22A\u001b[2K\u001b[22A\u001b[2K\u001b[37A\u001b[2K\u001b[22A\u001b[2K\u001b[26A\u001b[2K\u001b[22A\u001b[2K\u001b[38A\u001b[2K\u001b[37A\u001b[2K\u001b[22A\u001b[2K\u001b[23A\u001b[2K\u001b[26A\u001b[2K\u001b[23A\u001b[2K\u001b[38A\u001b[2K\u001b[22A\u001b[2K\u001b[23A\u001b[2K\u001b[37A\u001b[2K\u001b[26A\u001b[2K\u001b[37A\u001b[2K\u001b[22A\u001b[2K\u001b[37A\u001b[2K\u001b[38A\u001b[2K\u001b[37A\u001b[2K\u001b[37A\u001b[2K\u001b[26A\u001b[2K\u001b[22A\u001b[2K\u001b[23A\u001b[2K\u001b[22A\u001b[2K\u001b[23A\u001b[2K\u001b[38A\u001b[2K\u001b[23A\u001b[2K\u001b[22A\u001b[2K\u001b[23A\u001b[2K\u001b[38A\u001b[2K\u001b[37A\u001b[2K\u001b[38A\u001b[2K\u001b[22A\u001b[2K\u001b[26A\u001b[2K\u001b[22A\u001b[2K\u001b[23A\u001b[2K\u001b[22A\u001b[2K\u001b[23A\u001b[2K\u001b[22A\u001b[2K\u001b[23A\u001b[2K\u001b[22A\u001b[2K\u001b[38A\u001b[2K\u001b[23A\u001b[2K\u001b[38A\u001b[2K\u001b[23A\u001b[2K\u001b[38A\u001b[2K\u001b[23A\u001b[2K\u001b[37A\u001b[2K\u001b[23A\u001b[2K\u001b[38A\u001b[2K\u001b[23A\u001b[2K\u001b[37A\u001b[2K\u001b[22A\u001b[2K\u001b[37A\u001b[2K\u001b[26A\u001b[2K\u001b[23A\u001b[2K\u001b[38A\u001b[2K\u001b[23A\u001b[2K\u001b[38A\u001b[2K\u001b[23A\u001b[2K\u001b[26A\u001b[2K\u001b[23A\u001b[2K\u001b[23A\u001b[2K\u001b[22A\u001b[2K\u001b[23A\u001b[2K\u001b[22A\u001b[2K\u001b[37A\u001b[2K\u001b[22A\u001b[2K\u001b[38A\u001b[2K\u001b[22A\u001b[2K\u001b[38A\u001b[2K\u001b[23A\u001b[2K\u001b[22A\u001b[2K\u001b[22A\u001b[2K\u001b[37A\u001b[2K\u001b[37A\u001b[2K\u001b[26A\u001b[2K\u001b[37A\u001b[2K\u001b[26A\u001b[2K\u001b[37A\u001b[2K\u001b[26A\u001b[2K\u001b[37A\u001b[2K\u001b[26A\u001b[2K\u001b[37A\u001b[2K\u001b[26A\u001b[2K\u001b[23A\u001b[2K\u001b[26A\u001b[2K\u001b[23A\u001b[2K\u001b[37A\u001b[2K\u001b[22A\u001b[2K\u001b[38A\u001b[2K\u001b[23A\u001b[2K\u001b[38A\u001b[2K\u001b[38A\u001b[2K\u001b[37A\u001b[2K\u001b[23A\u001b[2K\u001b[21A\u001b[2K\u001b[23A\u001b[2K\u001b[21A\u001b[2K\u001b[23A\u001b[2K\u001b[37A\u001b[2K\u001b[21A\u001b[2K\u001b[23A\u001b[2K\u001b[23A\u001b[2K\u001b[26A\u001b[2K\u001b[37A\u001b[2K\u001b[26A\u001b[2K\u001b[37A\u001b[2K\u001b[21A\u001b[2K\u001b[26A\u001b[2K\u001b[38A\u001b[2K\u001b[21A\u001b[2K\u001b[37A\u001b[2K\u001b[38A\u001b[2K\u001b[23A\u001b[2K\u001b[38A\u001b[2K\u001b[37A\u001b[2K\u001b[37A\u001b[2K\u001b[38A\u001b[2K\u001b[21A\u001b[2K\u001b[37A\u001b[2K\u001b[21A\u001b[2K\u001b[26A\u001b[2K\u001b[21A\u001b[2K\u001b[23A\u001b[2K\u001b[21A\u001b[2K\u001b[23A\u001b[2K\u001b[21A\u001b[2K\u001b[23A\u001b[2K\u001b[21A\u001b[2K\u001b[38A\u001b[2K\u001b[23A\u001b[2K\u001b[38A\u001b[2K\u001b[23A\u001b[2K\u001b[37A\u001b[2K\u001b[38A\u001b[2K\u001b[21A\u001b[2K\u001b[38A\u001b[2K\u001b[21A\u001b[2K\u001b[26A\u001b[2K\u001b[21A\u001b[2K\u001b[37A\u001b[2K\u001b[26A\u001b[2K\u001b[37A\u001b[2K\u001b[38A\u001b[2K\u001b[23A\u001b[2K\u001b[38A\u001b[2K\u001b[23A\u001b[2K\u001b[38A\u001b[2K\u001b[23A\u001b[2K\u001b[21A\u001b[2K\u001b[38A\u001b[2K\u001b[21A\u001b[2K\u001b[38A\u001b[2K\u001b[26A\u001b[2K\u001b[37A\u001b[2K\u001b[21A\u001b[2K\u001b[37A\u001b[2K\u001b[23A\u001b[2K\u001b[37A\u001b[2K\u001b[23A\u001b[2K\u001b[21A\u001b[2K\u001b[23A\u001b[2K\u001b[21A\u001b[2K\u001b[23A\u001b[2K\u001b[38A\u001b[2K\u001b[23A\u001b[2K\u001b[38A\u001b[2K\u001b[21A\u001b[2K\u001b[38A\u001b[2K\u001b[21A\u001b[2K\u001b[37A\u001b[2K\u001b[23A\u001b[2K\u001b[26A\u001b[2K\u001b[38A\u001b[2K\u001b[23A\u001b[2K\u001b[37A\u001b[2K\u001b[23A\u001b[2K\u001b[37A\u001b[2K\u001b[23A\u001b[2K\u001b[37A\u001b[2K\u001b[38A\u001b[2K\u001b[21A\u001b[2K\u001b[23A\u001b[2K\u001b[21A\u001b[2K\u001b[26A\u001b[2K\u001b[37A\u001b[2K\u001b[21A\u001b[2K\u001b[26A\u001b[2K\u001b[23A\u001b[2K\u001b[38A\u001b[2K\u001b[37A\u001b[2K\u001b[23A\u001b[2K\u001b[37A\u001b[2K\u001b[26A\u001b[2K\u001b[37A\u001b[2K\u001b[26A\u001b[2K\u001b[37A\u001b[2K\u001b[38A\u001b[2K\u001b[37A\u001b[2K\u001b[38A\u001b[2K\u001b[26A\u001b[2K\u001b[38A\u001b[2K\u001b[21A\u001b[2K\u001b[37A\u001b[2K\u001b[23A\u001b[2K\u001b[37A\u001b[2K\u001b[38A\u001b[2K\u001b[37A\u001b[2K\u001b[23A\u001b[2K\u001b[37A\u001b[2K\u001b[26A\u001b[2K\u001b[37A\u001b[2K\u001b[38A\u001b[2K\u001b[23A\u001b[2K\u001b[37A\u001b[2K\u001b[38A\u001b[2K\u001b[37A\u001b[2K\u001b[38A\u001b[2K\u001b[23A\u001b[2K\u001b[26A\u001b[2K\u001b[38A\u001b[2K\u001b[38A\u001b[2K\u001b[26A\u001b[2K\u001b[37A\u001b[2K\u001b[38A\u001b[2K\u001b[23A\u001b[2K\u001b[38A\u001b[2K\u001b[23A\u001b[2K\u001b[38A\u001b[2K\u001b[23A\u001b[2K\u001b[21A\u001b[2K\u001b[26A\u001b[2K\u001b[38A\u001b[2K\u001b[21A\u001b[2K\u001b[37A\u001b[2K\u001b[21A\u001b[2K\u001b[23A\u001b[2K\u001b[21A\u001b[2K\u001b[23A\u001b[2K\u001b[23A\u001b[2K\u001b[37A\u001b[2K\u001b[23A\u001b[2K\u001b[38A\u001b[2K\u001b[23A\u001b[2K\u001b[26A\u001b[2K\u001b[23A\u001b[2K\u001b[26A\u001b[2K\u001b[37A\u001b[2K\u001b[26A\u001b[2K\u001b[21A\u001b[2K\u001b[26A\u001b[2K\u001b[37A\u001b[2K\u001b[26A\u001b[2K\u001b[23A\u001b[2K\u001b[21A\u001b[2K\u001b[38A\u001b[2K\u001b[38A\u001b[2K\u001b[26A\u001b[2K\u001b[38A\u001b[2K\u001b[21A\u001b[2K\u001b[38A\u001b[2K\u001b[37A\u001b[2K\u001b[23A\u001b[2K\u001b[21A\u001b[2K\u001b[23A\u001b[2K\u001b[38A\u001b[2K\u001b[23A\u001b[2K\u001b[38A\u001b[2K\u001b[23A\u001b[2K\u001b[38A\u001b[2K\u001b[23A\u001b[2K\u001b[21A\u001b[2K\u001b[38A\u001b[2K\u001b[37A\u001b[2K\u001b[38A\u001b[2K\u001b[37A\u001b[2K\u001b[38A\u001b[2K\u001b[37A\u001b[2K\u001b[38A\u001b[2K\u001b[37A\u001b[2K\u001b[38A\u001b[2K\u001b[37A\u001b[2K\u001b[38A\u001b[2K\u001b[37A\u001b[2K\u001b[23A\u001b[2K\u001b[37A\u001b[2K\u001b[23A\u001b[2K\u001b[37A\u001b[2K\u001b[26A\u001b[2K\u001b[37A\u001b[2K\u001b[26A\u001b[2K\u001b[23A\u001b[2K\u001b[26A\u001b[2K\u001b[23A\u001b[2K\u001b[37A\u001b[2K\u001b[38A\u001b[2K\u001b[37A\u001b[2K\u001b[23A\u001b[2K\u001b[37A\u001b[2K\u001b[26A\u001b[2K\u001b[21A\u001b[2K\u001b[23A\u001b[2K\u001b[38A\u001b[2K\u001b[23A\u001b[2K\u001b[38A\u001b[2K\u001b[37A\u001b[2K\u001b[26A\u001b[2K\u001b[37A\u001b[2K\u001b[38A\u001b[2K\u001b[23A\u001b[2K\u001b[26A\u001b[2K\u001b[23A\u001b[2K\u001b[37A\u001b[2K\u001b[38A\u001b[2K\u001b[37A\u001b[2K\u001b[38A\u001b[2K\u001b[37A\u001b[2K\u001b[26A\u001b[2K\u001b[37A\u001b[2K\u001b[21A\u001b[2K\u001b[37A\u001b[2K\u001b[21A\u001b[2K\u001b[37A\u001b[2K\u001b[23A\u001b[2K\u001b[26A\u001b[2K\u001b[38A\u001b[2K\u001b[23A\u001b[2K\u001b[37A\u001b[2K\u001b[38A\u001b[2K\u001b[37A\u001b[2K\u001b[23A\u001b[2K\u001b[37A\u001b[2K\u001b[21A\u001b[2K\u001b[37A\u001b[2K\u001b[21A\u001b[2K\u001b[23A\u001b[2K\u001b[37A\u001b[2K\u001b[38A\u001b[2K\u001b[37A\u001b[2K\u001b[38A\u001b[2K\u001b[23A\u001b[2K\u001b[38A\u001b[2K\u001b[23A\u001b[2K\u001b[21A\u001b[2K\u001b[38A\u001b[2K\u001b[37A\u001b[2K\u001b[23A\u001b[2K\u001b[26A\u001b[2K\u001b[23A\u001b[2K\u001b[26A\u001b[2K\u001b[23A\u001b[2K\u001b[21A\u001b[2K\u001b[37A\u001b[2K\u001b[26A\u001b[2K\u001b[21A\u001b[2K\u001b[23A\u001b[2K\u001b[37A\u001b[2K\u001b[21A\u001b[2K\u001b[37A\u001b[2K\u001b[26A\u001b[2K\u001b[37A\u001b[2K\u001b[23A\u001b[2K\u001b[37A\u001b[2K\u001b[21A\u001b[2K\u001b[37A\u001b[2K\u001b[26A\u001b[2K\u001b[21A\u001b[2K\u001b[23A\u001b[2K\u001b[26A\u001b[2K\u001b[20A\u001b[2K\u001b[26A\u001b[2K\u001b[20A\u001b[2K\u001b[26A\u001b[2K\u001b[37A\u001b[2K\u001b[23A\u001b[2K\u001b[37A\u001b[2K\u001b[23A\u001b[2K\u001b[37A\u001b[2K\u001b[23A\u001b[2K\u001b[26A\u001b[2K\u001b[23A\u001b[2K\u001b[21A\u001b[2K\u001b[26A\u001b[2K\u001b[21A\u001b[2K\u001b[20A\u001b[2K\u001b[21A\u001b[2K\u001b[20A\u001b[2K\u001b[21A\u001b[2K\u001b[20A\u001b[2K\u001b[26A\u001b[2K\u001b[20A\u001b[2K\u001b[23A\u001b[2K\u001b[37A\u001b[2K\u001b[26A\u001b[2K\u001b[37A\u001b[2K\u001b[20A\u001b[2K\u001b[37A\u001b[2K\u001b[26A\u001b[2K\u001b[37A\u001b[2K\u001b[23A\u001b[2K\u001b[20A\u001b[2K\u001b[23A\u001b[2K\u001b[20A\u001b[2K\u001b[23A\u001b[2K\u001b[37A\u001b[2K\u001b[20A\u001b[2K\u001b[26A\u001b[2K\u001b[21A\u001b[2K\u001b[20A\u001b[2K\u001b[23A\u001b[2K\u001b[26A\u001b[2K\u001b[23A\u001b[2K\u001b[20A\u001b[2K\u001b[23A\u001b[2K\u001b[20A\u001b[2K\u001b[37A\u001b[2K\u001b[20A\u001b[2K\u001b[37A\u001b[2K\u001b[23A\u001b[2K\u001b[20A\u001b[2K\u001b[37A\u001b[2K\u001b[21A\u001b[2K\u001b[20A\u001b[2K\u001b[23A\u001b[2K\u001b[20A\u001b[2K\u001b[26A\u001b[2K\u001b[37A\u001b[2K\u001b[26A\u001b[2K\u001b[37A\u001b[2K\u001b[21A\u001b[2K\u001b[26A\u001b[2K\u001b[20A\u001b[2K\u001b[21A\u001b[2K\u001b[37A\u001b[2K\u001b[23A\u001b[2K\u001b[20A\u001b[2K\u001b[26A\u001b[2K\u001b[37A\u001b[2K\u001b[20A\u001b[2K\u001b[26A\u001b[2K\u001b[23A\u001b[2K\u001b[20A\u001b[2K\u001b[26A\u001b[2K\u001b[23A\u001b[2K\u001b[20A\u001b[2K\u001b[21A\u001b[2K\u001b[37A\u001b[2K\u001b[21A\u001b[2K\u001b[26A\u001b[2K\u001b[23A\u001b[2K\u001b[37A\u001b[2K\u001b[23A\u001b[2K\u001b[20A\u001b[2K\u001b[21A\u001b[2K\u001b[37A\u001b[2K\u001b[26A\u001b[2K\u001b[37A\u001b[2K\u001b[23A\u001b[2K\u001b[21A\u001b[2K\u001b[23A\u001b[2K\u001b[37A\u001b[2K\u001b[26A\u001b[2K\u001b[23A\u001b[2K\u001b[37A\u001b[2K\u001b[26A\u001b[2K\u001b[20A\u001b[2K\u001b[23A\u001b[2K\u001b[37A\u001b[2K\u001b[20A\u001b[2K\u001b[23A\u001b[2K\u001b[21A\u001b[2K\u001b[20A\u001b[2K\u001b[21A\u001b[2K\u001b[20A\u001b[2K\u001b[21A\u001b[2K\u001b[37A\u001b[2K\u001b[21A\u001b[2K\u001b[23A\u001b[2K\u001b[37A\u001b[2K\u001b[20A\u001b[2K\u001b[37A\u001b[2K\u001b[21A\u001b[2K\u001b[37A\u001b[2K\u001b[21A\u001b[2K\u001b[23A\u001b[2K\u001b[21A\u001b[2K\u001b[37A\u001b[2K\u001b[23A\u001b[2K\u001b[20A\u001b[2K\u001b[23A\u001b[2K\u001b[20A\u001b[2K\u001b[23A\u001b[2K\u001b[20A\u001b[2K\u001b[21A\u001b[2K\u001b[20A\u001b[2K\u001b[21A\u001b[2K\u001b[23A\u001b[2K\u001b[37A\u001b[2K\u001b[20A\u001b[2K\u001b[37A\u001b[2K\u001b[21A\u001b[2K\u001b[23A\u001b[2K\u001b[21A\u001b[2K\u001b[20A\u001b[2K\u001b[37A\u001b[2K\u001b[23A\u001b[2K\u001b[37A\u001b[2K\u001b[20A\u001b[2K\u001b[37A\u001b[2K\u001b[21A\u001b[2K\u001b[23A\u001b[2K\u001b[21A\u001b[2K\u001b[20A\u001b[2K\u001b[21A\u001b[2K\u001b[37A\u001b[2K\u001b[23A\u001b[2K\u001b[21A\u001b[2K\u001b[20A\u001b[2K\u001b[26A\u001b[2K\u001b[20A\u001b[2K\u001b[37A\u001b[2K\u001b[26A\u001b[2K\u001b[37A\u001b[2K\u001b[20A\u001b[2K\u001b[26A\u001b[2K\u001b[23A\u001b[2K\u001b[26A\u001b[2K\u001b[20A\u001b[2K\u001b[37A\u001b[2K\u001b[21A\u001b[2K\u001b[23A\u001b[2K\u001b[37A\u001b[2K\u001b[23A\u001b[2K\u001b[21A\u001b[2K\u001b[23A\u001b[2K\u001b[20A\u001b[2K\u001b[37A\u001b[2K\u001b[26A\u001b[2K\u001b[21A\u001b[2K\u001b[21A\u001b[2K\u001b[21A\u001b[2K\u001b[37A\u001b[2K\u001b[21A\u001b[2K\u001b[37A\u001b[2K\u001b[37A\u001b[2K\u001b[26A\u001b[2K\u001b[37A\u001b[2K\u001b[26A\u001b[2K\u001b[20A\u001b[2K\u001b[23A\u001b[2K\u001b[20A\u001b[2K\u001b[21A\u001b[2K\u001b[23A\u001b[2K\u001b[37A\u001b[2K\u001b[26A\u001b[2K\u001b[37A\u001b[2K\u001b[26A\u001b[2K\u001b[37A\u001b[2K\u001b[20A\u001b[2K\u001b[37A\u001b[2K\u001b[26A\u001b[2K\u001b[37A\u001b[2K\u001b[20A\u001b[2K\u001b[23A\u001b[2K\u001b[20A\u001b[2K\u001b[23A\u001b[2K\u001b[20A\u001b[2K\u001b[23A\u001b[2K\u001b[19A\u001b[2K\u001b[23A\u001b[2K\u001b[23A\u001b[2K\u001b[20A\u001b[2K\u001b[23A\u001b[2K\u001b[26A\u001b[2K\u001b[20A\u001b[2K\u001b[37A\u001b[2K\u001b[20A\u001b[2K\u001b[23A\u001b[2K\u001b[26A\u001b[2K\u001b[37A\u001b[2K\u001b[20A\u001b[2K\u001b[26A\u001b[2K\u001b[20A\u001b[2K\u001b[26A\u001b[2K\u001b[20A\u001b[2K\u001b[23A\u001b[2K\u001b[37A\u001b[2K\u001b[26A\u001b[2K\u001b[23A\u001b[2K\u001b[20A\u001b[2K\u001b[23A\u001b[2K\u001b[20A\u001b[2K\u001b[26A\u001b[2K\u001b[37A\u001b[2K\u001b[18A\u001b[2K\u001b[37A\u001b[2K\u001b[20A\u001b[2K\u001b[18A\u001b[2K\u001b[20A\u001b[2K\u001b[20A\u001b[2K\u001b[23A\u001b[2K\u001b[18A\u001b[2K\u001b[37A\u001b[2K\u001b[18A\u001b[2K\u001b[37A\u001b[2K\u001b[18A\u001b[2K\u001b[37A\u001b[2K\u001b[23A\u001b[2K\u001b[20A\u001b[2K\u001b[23A\u001b[2K\u001b[20A\u001b[2K\u001b[26A\u001b[2K\u001b[18A\u001b[2K\u001b[23A\u001b[2K\u001b[20A\u001b[2K\u001b[26A\u001b[2K\u001b[23A\u001b[2K\u001b[20A\u001b[2K\u001b[37A\u001b[2K\u001b[26A\u001b[2K\u001b[37A\u001b[2K\u001b[23A\u001b[2K\u001b[26A\u001b[2K\u001b[20A\u001b[2K\u001b[26A\u001b[2K\u001b[18A\u001b[2K\u001b[26A\u001b[2K\u001b[20A\u001b[2K\u001b[37A\u001b[2K\u001b[26A\u001b[2K\u001b[23A\u001b[2K\u001b[26A\u001b[2K\u001b[18A\u001b[2K\u001b[37A\u001b[2K\u001b[26A\u001b[2K\u001b[37A\u001b[2K\u001b[20A\u001b[2K\u001b[37A\u001b[2K\u001b[20A\u001b[2K\u001b[37A\u001b[2K\u001b[18A\u001b[2K\u001b[26A\u001b[2K\u001b[18A\u001b[2K\u001b[37A\u001b[2K\u001b[18A\u001b[2K\u001b[37A\u001b[2K\u001b[18A\u001b[2K\u001b[23A\u001b[2K\u001b[18A\u001b[2K\u001b[23A\u001b[2K\u001b[18A\u001b[2K\u001b[37A\u001b[2K\u001b[18A\u001b[2K\u001b[37A\u001b[2K\u001b[20A\u001b[2K\u001b[37A\u001b[2K\u001b[20A\u001b[2K\u001b[18A\u001b[2K\u001b[23A\u001b[2K\u001b[18A\u001b[2K\u001b[23A\u001b[2K\u001b[20A\u001b[2K\u001b[37A\u001b[2K\u001b[20A\u001b[2K\u001b[37A\u001b[2K\u001b[20A\u001b[2K\u001b[18A\u001b[2K\u001b[20A\u001b[2K\u001b[37A\u001b[2K\u001b[20A\u001b[2K\u001b[18A\u001b[2K\u001b[23A\u001b[2K\u001b[18A\u001b[2K\u001b[23A\u001b[2K\u001b[20A\u001b[2K\u001b[23A\u001b[2K\u001b[18A\u001b[2K\u001b[18A\u001b[2K\u001b[18A\u001b[2K\u001b[18A\u001b[2K\u001b[20A\u001b[2K\u001b[18A\u001b[2K\u001b[20A\u001b[2K\u001b[18A\u001b[2K\u001b[37A\u001b[2K\u001b[18A\u001b[2K\u001b[23A\u001b[2K\u001b[18A\u001b[2K\u001b[23A\u001b[2K\u001b[23A\u001b[2K\u001b[18A\u001b[2K\u001b[20A\u001b[2K\u001b[23A\u001b[2K\u001b[20A\u001b[2K\u001b[26A\u001b[2K\u001b[37A\u001b[2K\u001b[23A\u001b[2K\u001b[18A\u001b[2K\u001b[37A\u001b[2K\u001b[26A\u001b[2K\u001b[37A\u001b[2K\u001b[20A\u001b[2K\u001b[37A\u001b[2K\u001b[23A\u001b[2K\u001b[37A\u001b[2K\u001b[18A\u001b[2K\u001b[37A\u001b[2K\u001b[18A\u001b[2K\u001b[23A\u001b[2K\u001b[37A\u001b[2K\u001b[18A\u001b[2K\u001b[37A\u001b[2K\u001b[18A\u001b[2K\u001b[23A\u001b[2K\u001b[20A\u001b[2K\u001b[23A\u001b[2K\u001b[20A\u001b[2K\u001b[23A\u001b[2K\u001b[37A\u001b[2K\u001b[23A\u001b[2K\u001b[37A\u001b[2K\u001b[18A\u001b[2K\u001b[37A\u001b[2K\u001b[18A\u001b[2K\u001b[37A\u001b[2K\u001b[20A\u001b[2K\u001b[23A\u001b[2K\u001b[20A\u001b[2K\u001b[23A\u001b[2K\u001b[26A\u001b[2K\u001b[23A\u001b[2K\u001b[37A\u001b[2K\u001b[23A\u001b[2K\u001b[18A\u001b[2K\u001b[20A\u001b[2K\u001b[23A\u001b[2K\u001b[37A\u001b[2K\u001b[23A\u001b[2K\u001b[18A\u001b[2K\u001b[20A\u001b[2K\u001b[37A\u001b[2K\u001b[37A\u001b[2K\u001b[37A\u001b[2K\u001b[18A\u001b[2K\u001b[26A\u001b[2K\u001b[18A\u001b[2K\u001b[23A\u001b[2K\u001b[18A\u001b[2K\u001b[23A\u001b[2K\u001b[20A\u001b[2K\u001b[18A\u001b[2K\u001b[23A\u001b[2K\u001b[18A\u001b[2K\u001b[20A\u001b[2K\u001b[18A\u001b[2K\u001b[20A\u001b[2K\u001b[20A\u001b[2K\u001b[18A\u001b[2K\u001b[20A\u001b[2K\u001b[37A\u001b[2K\u001b[23A\u001b[2K\u001b[37A\u001b[2K\u001b[23A\u001b[2K\u001b[37A\u001b[2K\u001b[18A\u001b[2K\u001b[37A\u001b[2K\u001b[20A\u001b[2K\u001b[37A\u001b[2K\u001b[18A\u001b[2K\u001b[20A\u001b[2K\u001b[23A\u001b[2K\u001b[20A\u001b[2K\u001b[23A\u001b[2K\u001b[18A\u001b[2K\u001b[26A\u001b[2K\u001b[20A\u001b[2K\u001b[23A\u001b[2K\u001b[18A\u001b[2K\u001b[26A\u001b[2K\u001b[23A\u001b[2K\u001b[20A\u001b[2K\u001b[18A\u001b[2K\u001b[26A\u001b[2K\u001b[18A\u001b[2K\u001b[23A\u001b[2K\u001b[20A\u001b[2K\u001b[18A\u001b[2K\u001b[20A\u001b[2K\u001b[23A\u001b[2K\u001b[23A\u001b[2K\u001b[18A\u001b[2K\u001b[20A\u001b[2K\u001b[18A\u001b[2K\u001b[20A\u001b[2K\u001b[37A\u001b[2K\u001b[20A\u001b[2K\u001b[18A\u001b[2K\u001b[26A\u001b[2K\u001b[23A\u001b[2K\u001b[20A\u001b[2K\u001b[23A\u001b[2K\u001b[18A\u001b[2K\u001b[20A\u001b[2K\u001b[18A\u001b[2K\u001b[26A\u001b[2K\u001b[20A\u001b[2K\u001b[37A\u001b[2K\u001b[26A\u001b[2K\u001b[23A\u001b[2K\u001b[20A\u001b[2K\u001b[18A\u001b[2K\u001b[20A\u001b[2K\u001b[23A\u001b[2K\u001b[20A\u001b[2K\u001b[26A\u001b[2K\u001b[18A\u001b[2K\u001b[20A\u001b[2K\u001b[18A\u001b[2K\u001b[18A\u001b[2K\u001b[20A\u001b[2K\u001b[37A\u001b[2K\u001b[20A\u001b[2K\u001b[18A\u001b[2K\u001b[20A\u001b[2K\u001b[37A\u001b[2K\u001b[18A\u001b[2K\u001b[37A\u001b[2K\u001b[20A\u001b[2K\u001b[37A\u001b[2K\u001b[20A\u001b[2K\u001b[37A\u001b[2K\u001b[20A\u001b[2K\u001b[37A\u001b[2K\u001b[20A\u001b[2K\u001b[18A\u001b[2K\u001b[23A\u001b[2K\u001b[20A\u001b[2K\u001b[37A\u001b[2K\u001b[20A\u001b[2K\u001b[37A\u001b[2K\u001b[20A\u001b[2K\u001b[37A\u001b[2K\u001b[20A\u001b[2K\u001b[37A\u001b[2K\u001b[23A\u001b[2K\u001b[20A\u001b[2K\u001b[37A\u001b[2K\u001b[23A\u001b[2K\u001b[37A\u001b[2K\u001b[23A\u001b[2K\u001b[20A\u001b[2K\u001b[26A\u001b[2K\u001b[20A\u001b[2K\u001b[23A\u001b[2K\u001b[37A\u001b[2K\u001b[23A\u001b[2K\u001b[26A\u001b[2K\u001b[23A\u001b[2K\u001b[18A\u001b[2K\u001b[20A\u001b[2K\u001b[23A\u001b[2K\u001b[18A\u001b[2K\u001b[23A\u001b[2K\u001b[37A\u001b[2K\u001b[23A\u001b[2K\u001b[37A\u001b[2K\u001b[20A\u001b[2K\u001b[37A\u001b[2K\u001b[18A\u001b[2K\u001b[37A\u001b[2K\u001b[18A\u001b[2K\u001b[18A\u001b[2K\u001b[26A\u001b[2K\u001b[20A\u001b[2K\u001b[26A\u001b[2K\u001b[37A\u001b[2K\u001b[20A\u001b[2K\u001b[37A\u001b[2K\u001b[23A\u001b[2K\u001b[26A\u001b[2K\u001b[20A\u001b[2K\u001b[23A\u001b[2K\u001b[20A\u001b[2K\u001b[37A\u001b[2K\u001b[20A\u001b[2K\u001b[26A\u001b[2K\u001b[20A\u001b[2K\u001b[26A\u001b[2K\u001b[23A\u001b[2K\u001b[37A\u001b[2K\u001b[23A\u001b[2K\u001b[26A\u001b[2K\u001b[23A\u001b[2K\u001b[18A\u001b[2K\u001b[37A\u001b[2K\u001b[23A\u001b[2K\u001b[37A\u001b[2K\u001b[23A\u001b[2K\u001b[37A\u001b[2K\u001b[26A\u001b[2K\u001b[37A\u001b[2K\u001b[23A\u001b[2K\u001b[20A\u001b[2K\u001b[37A\u001b[2K\u001b[23A\u001b[2K\u001b[17A\u001b[2K\u001b[20A\u001b[2K\u001b[23A\u001b[2K\u001b[20A\u001b[2K\u001b[37A\u001b[2K\u001b[23A\u001b[2K\u001b[20A\u001b[2K\u001b[23A\u001b[2K\u001b[26A\u001b[2K\u001b[26A\u001b[2K\u001b[37A\u001b[2K\u001b[26A\u001b[2K\u001b[20A\u001b[2K\u001b[26A\u001b[2K\u001b[20A\u001b[2K\u001b[37A\u001b[2K\u001b[20A\u001b[2K\u001b[37A\u001b[2K\u001b[23A\u001b[2K\u001b[37A\u001b[2K\u001b[23A\u001b[2K\u001b[17A\u001b[2K\u001b[20A\u001b[2K\u001b[37A\u001b[2K\u001b[20A\u001b[2K\u001b[26A\u001b[2K\u001b[20A\u001b[2K\u001b[17A\u001b[2K\u001b[37A\u001b[2K\u001b[17A\u001b[2K\u001b[37A\u001b[2K\u001b[17A\u001b[2K\u001b[37A\u001b[2K\u001b[23A\u001b[2K\u001b[37A\u001b[2K\u001b[20A\u001b[2K\u001b[17A\u001b[2K\u001b[20A\u001b[2K\u001b[23A\u001b[2K\u001b[37A\u001b[2K\u001b[23A\u001b[2K\u001b[26A\u001b[2K\u001b[23A\u001b[2K\u001b[37A\u001b[2K\u001b[20A\u001b[2K\u001b[37A\u001b[2K\u001b[20A\u001b[2K\u001b[37A\u001b[2K\u001b[17A\u001b[2K\u001b[23A\u001b[2K\u001b[37A\u001b[2K\u001b[17A\u001b[2K\u001b[37A\u001b[2K\u001b[17A\u001b[2K\u001b[37A\u001b[2K\u001b[20A\u001b[2K\u001b[17A\u001b[2K\u001b[23A\u001b[2K\u001b[17A\u001b[2K\u001b[23A\u001b[2K\u001b[20A\u001b[2K\u001b[37A\u001b[2K\u001b[23A\u001b[2K\u001b[37A\u001b[2K\u001b[26A\u001b[2K\u001b[20A\u001b[2K\u001b[23A\u001b[2K\u001b[17A\u001b[2K\u001b[26A\u001b[2K\u001b[23A\u001b[2K\u001b[17A\u001b[2K\u001b[26A\u001b[2K\u001b[17A\u001b[2K\u001b[23A\u001b[2K\u001b[37A\u001b[2K\u001b[23A\u001b[2K\u001b[20A\u001b[2K\u001b[17A\u001b[2K\u001b[20A\u001b[2K\u001b[17A\u001b[2K\u001b[20A\u001b[2K\u001b[17A\u001b[2K\u001b[23A\u001b[2K\u001b[26A\u001b[2K\u001b[23A\u001b[2K\u001b[37A\u001b[2K\u001b[17A\u001b[2K\u001b[20A\u001b[2K\u001b[17A\u001b[2K\u001b[26A\u001b[2K\u001b[23A\u001b[2K\u001b[20A\u001b[2K\u001b[17A\u001b[2K\u001b[23A\u001b[2K\u001b[17A\u001b[2K\u001b[23A\u001b[2K\u001b[20A\u001b[2K\u001b[23A\u001b[2K\u001b[17A\u001b[2K\u001b[23A\u001b[2K\u001b[20A\u001b[2K\u001b[23A\u001b[2K\u001b[17A\u001b[2K\u001b[37A\u001b[2K\u001b[20A\u001b[2K\u001b[37A\u001b[2K\u001b[26A\u001b[2K\u001b[37A\u001b[2K\u001b[26A\u001b[2K\u001b[20A\u001b[2K\u001b[17A\u001b[2K\u001b[26A\u001b[2K\u001b[20A\u001b[2K\u001b[23A\u001b[2K\u001b[20A\u001b[2K\u001b[37A\u001b[2K\u001b[26A\u001b[2K\u001b[17A\u001b[2K\u001b[26A\u001b[2K\u001b[37A\u001b[2K\u001b[17A\u001b[2K\u001b[37A\u001b[2K\u001b[37A\u001b[2K\u001b[26A\u001b[2K\u001b[37A\u001b[2K\u001b[26A\u001b[2K\u001b[20A\u001b[2K\u001b[17A\u001b[2K\u001b[26A\u001b[2K\u001b[23A\u001b[2K\u001b[17A\u001b[2K\u001b[20A\u001b[2K\u001b[23A\u001b[2K\u001b[20A\u001b[2K\u001b[26A\u001b[2K\u001b[20A\u001b[2K\u001b[37A\u001b[2K\u001b[26A\u001b[2K\u001b[20A\u001b[2K\u001b[26A\u001b[2K\u001b[20A\u001b[2K\u001b[23A\u001b[2K\u001b[26A\u001b[2K\u001b[37A\u001b[2K\u001b[23A\u001b[2K\u001b[17A\u001b[2K\u001b[23A\u001b[2K\u001b[26A\u001b[2K\u001b[37A\u001b[2K\u001b[20A\u001b[2K\u001b[37A\u001b[2K\u001b[23A\u001b[2K\u001b[37A\u001b[2K\u001b[23A\u001b[2K\u001b[17A\u001b[2K\u001b[23A\u001b[2K\u001b[26A\u001b[2K\u001b[37A\u001b[2K\u001b[17A\u001b[2K\u001b[26A\u001b[2K\u001b[17A\u001b[2K\u001b[37A\u001b[2K\u001b[17A\u001b[2K\u001b[37A\u001b[2K\u001b[23A\u001b[2K\u001b[37A\u001b[2K\u001b[26A\u001b[2K\u001b[37A\u001b[2K\u001b[23A\u001b[2K\u001b[17A\u001b[2K\u001b[37A\u001b[2K\u001b[26A\u001b[2K\u001b[37A\u001b[2K\u001b[17A\u001b[2K\u001b[26A\u001b[2K\u001b[26A\u001b[2K\u001b[37A\u001b[2K\u001b[26A\u001b[2K\u001b[17A\u001b[2K\u001b[26A\u001b[2K\u001b[23A\u001b[2K\u001b[26A\u001b[2K\u001b[23A\u001b[2K\u001b[16A\u001b[2K\u001b[23A\u001b[2K\u001b[26A\u001b[2K\u001b[37A\u001b[2K\u001b[23A\u001b[2K\u001b[37A\u001b[2K\u001b[15A\u001b[2K\u001b[37A\u001b[2K\u001b[15A\u001b[2K\u001b[23A\u001b[2K\u001b[17A\u001b[2K\u001b[26A\u001b[2K\u001b[23A\u001b[2K\u001b[23A\u001b[2K\u001b[37A\u001b[2K\u001b[23A\u001b[2K\u001b[26A\u001b[2K\u001b[23A\u001b[2K\u001b[26A\u001b[2K\u001b[23A\u001b[2K\u001b[37A\u001b[2K\u001b[17A\u001b[2K\u001b[37A\u001b[2K\u001b[26A\u001b[2K\u001b[15A\u001b[2K\u001b[26A\u001b[2K\u001b[17A\u001b[2K\u001b[26A\u001b[2K\u001b[23A\u001b[2K\u001b[14A\u001b[2K\u001b[23A\u001b[2K\u001b[26A\u001b[2K\u001b[23A\u001b[2K\u001b[26A\u001b[2K\u001b[17A\u001b[2K\u001b[26A\u001b[2K\u001b[26A\u001b[2K\u001b[17A\u001b[2K\u001b[26A\u001b[2K\u001b[23A\u001b[2K\u001b[14A\u001b[2K\u001b[37A\u001b[2K\u001b[17A\u001b[2K\u001b[26A\u001b[2K\u001b[13A\u001b[2K\u001b[26A\u001b[2K\u001b[23A\u001b[2K\u001b[26A\u001b[2K\u001b[23A\u001b[2K\u001b[26A\u001b[2K\u001b[13A\u001b[2K\u001b[23A\u001b[2K\u001b[37A\u001b[2K\u001b[23A\u001b[2K\u001b[26A\u001b[2K\u001b[12A\u001b[2K\u001b[26A\u001b[2K\u001b[12A\u001b[2K\u001b[37A\u001b[2K\u001b[17A\u001b[2K\u001b[26A\u001b[2K\u001b[12A\u001b[2K\u001b[26A\u001b[2K\u001b[23A\u001b[2K\u001b[26A\u001b[2K\u001b[23A\u001b[2K\u001b[26A\u001b[2K\u001b[23A\u001b[2K\u001b[12A\u001b[2K\u001b[23A\u001b[2K\u001b[12A\u001b[2K\u001b[26A\u001b[2K\u001b[23A\u001b[2K\u001b[26A\u001b[2K\u001b[23A\u001b[2K\u001b[9A\u001b[2K\u001b[23A\u001b[2K\u001b[26A\u001b[2K\u001b[12A\u001b[2K\u001b[23A\u001b[2K\u001b[12A\u001b[2K\u001b[8A\u001b[2K\u001b[12A\u001b[2K\u001b[23A\u001b[2K\u001b[12A\u001b[2K\u001b[23A\u001b[2K\u001b[12A\u001b[2K\u001b[23A\u001b[2K\u001b[12A\u001b[2K\u001b[23A\u001b[2K\u001b[12A\u001b[2K\u001b[7A\u001b[2K\u001b[23A\u001b[2K\u001b[5A\u001b[2K\u001b[23A\u001b[2K\u001b[12A\u001b[2K\u001b[6A\u001b[2K\u001b[23A\u001b[2K\u001b[26A\u001b[2K\u001b[4A\u001b[2K\u001b[23A\u001b[2K\u001b[23A\u001b[2K\u001b[3A\u001b[2K\u001b[23A\u001b[2K\u001b[26A\u001b[2K\u001b[12A\u001b[2K\u001b[12A\u001b[2K\u001b[23A\u001b[2K\u001b[12A\u001b[2K\u001b[3A\u001b[2K\u001b[12A\u001b[2K\u001b[3A\u001b[2K\u001b[26A\u001b[2K\u001b[3A\u001b[2K\u001b[26A\u001b[2K\u001b[3A\u001b[2K\u001b[12A\u001b[2K\u001b[3A\u001b[2K\u001b[23A\u001b[2K\u001b[12A\u001b[2K\u001b[3A\u001b[2K\u001b[12A\u001b[2K\u001b[26A\u001b[2K\u001b[12A\u001b[2K\u001b[3A\u001b[2K\u001b[12A\u001b[2K\u001b[3A\u001b[2K\u001b[12A\u001b[2K\u001b[3A\u001b[2K\u001b[12A\u001b[2K\u001b[3A\u001b[2K\u001b[12A\u001b[2K\u001b[2A\u001b[2K\u001b[3A\u001b[2K\u001b[2A\u001b[2K\u001b[26A\u001b[2K\u001b[3A\u001b[2K\u001b[26A\u001b[2K\u001b[3A\u001b[2K\u001b[26A\u001b[2K\u001b[3A\u001b[2K\u001b[23A\u001b[2K\u001b[12A\u001b[2K\u001b[3A\u001b[2K\u001b[12A\u001b[2K\u001b[26A\u001b[2K\u001b[3A\u001b[2K\u001b[23A\u001b[2K\u001b[2A\u001b[2K\u001b[3A\u001b[2K\u001b[2A\u001b[2K\u001b[3A\u001b[2K\u001b[12A\u001b[2K\u001b[3A\u001b[2K\u001b[26A\u001b[2K\u001b[3A\u001b[2K\u001b[26A\u001b[2K\u001b[3A\u001b[2K\u001b[23A\u001b[2K\u001b[3A\u001b[2K\u001b[26A\u001b[2K\u001b[12A\u001b[2K\u001b[26A\u001b[2K\u001b[2A\u001b[2K\u001b[26A\u001b[2K\u001b[3A\u001b[2K\u001b[12A\u001b[2K\u001b[3A\u001b[2K\u001b[2A\u001b[2K\u001b[26A\u001b[2K\u001b[2A\u001b[2K\u001b[12A\u001b[2K\u001b[3A\u001b[2K\u001b[12A\u001b[2K\u001b[23A\u001b[2K\u001b[3A\u001b[2K\u001b[2A\u001b[2K\u001b[12A\u001b[2K\u001b[23A\u001b[2K\u001b[2A\u001b[2K\u001b[3A\u001b[2K\u001b[2A\u001b[2K\u001b[12A\u001b[2K\u001b[26A\u001b[2K\u001b[12A\u001b[2K\u001b[2A\u001b[2K\u001b[12A\u001b[2K\u001b[26A\u001b[2K\u001b[3A\u001b[2K\u001b[23A\u001b[2K\u001b[26A\u001b[2K\u001b[3A\u001b[2K\u001b[2A\u001b[2K\u001b[12A\u001b[2K\u001b[26A\u001b[2K\u001b[2A\u001b[2K\u001b[3A\u001b[2K\u001b[23A\u001b[2K\u001b[3A\u001b[2K\u001b[23A\u001b[2K\u001b[3A\u001b[2K\u001b[26A\u001b[2K\u001b[23A\u001b[2K\u001b[12A\u001b[2K\u001b[2A\u001b[2K\u001b[12A\u001b[2K\u001b[3A\u001b[2K\u001b[23A\u001b[2K\u001b[3A\u001b[2K\u001b[12A\u001b[2K\u001b[3A\u001b[2K\u001b[12A\u001b[2K\u001b[12A\u001b[2K\u001b[23A\u001b[2K\u001b[12A\u001b[2K\u001b[23A\u001b[2K\u001b[12A\u001b[2K\u001b[3A\u001b[2K\u001b[12A\u001b[2K\u001b[2A\u001b[2K\u001b[23A\u001b[2K\u001b[2A\u001b[2K\u001b[3A\u001b[2K\u001b[12A\u001b[2K\u001b[2A\u001b[2K\u001b[3A\u001b[2K\u001b[2A\u001b[2K\u001b[12A\u001b[2K\u001b[12A\u001b[2K\u001b[23A\u001b[2K\u001b[12A\u001b[2K\u001b[23A\u001b[2K\u001b[2A\u001b[2K\u001b[12A\u001b[2K\u001b[3A\u001b[2K\u001b[12A\u001b[2K\u001b[3A\u001b[2K\u001b[23A\u001b[2K\u001b[3A\u001b[2K\u001b[12A\u001b[2K\u001b[2A\u001b[2K\u001b[23A\u001b[2K\u001b[3A\u001b[2K\u001b[2A\u001b[2K\u001b[12A\u001b[2K\u001b[2A\u001b[2K\u001b[3A\u001b[2K\u001b[1A\u001b[2K\u001b[3A\u001b[2K\u001b[12A\u001b[2K\u001b[2A\u001b[2K\u001b[12A\u001b[2K\u001b[1A\u001b[2K\u001b[12A\u001b[2K\u001b[1A\u001b[2K\u001b[12A\u001b[2K\u001b[23A\u001b[2K\u001b[2A\u001b[2K\u001b[23A\u001b[2K\u001b[2A\u001b[2K\u001b[23A\u001b[2K\u001b[12A\u001b[2K\u001b[3A\u001b[2K\u001b[12A\u001b[2K\u001b[3A\u001b[2K\u001b[12A\u001b[2K\u001b[23A\u001b[2K\u001b[12A\u001b[2K\u001b[23A\u001b[2K\u001b[1A\u001b[2K\u001b[3A\u001b[2K\u001b[23A\u001b[2K\u001b[2A\u001b[2K\u001b[12A\u001b[2K\u001b[1A\u001b[2K\u001b[3A\u001b[2K\u001b[2A\u001b[2K\u001b[1A\u001b[2K\u001b[3A\u001b[2K\u001b[3A\u001b[2K\u001b[23A\u001b[2K\u001b[3A\u001b[2K\u001b[1A\u001b[2K\u001b[3A\u001b[2K\u001b[12A\u001b[2K\u001b[3A\u001b[2K\u001b[12A\u001b[2K\u001b[3A\u001b[2K\u001b[23A\u001b[2K\u001b[12A\u001b[2K\u001b[3A\u001b[2K\u001b[12A\u001b[2K\u001b[2A\u001b[2K\u001b[23A\u001b[2K\u001b[12A\u001b[2K\u001b[3A\u001b[2K\u001b[12A\u001b[2K\u001b[3A\u001b[2K\u001b[12A\u001b[2K\u001b[1A\u001b[2K\u001b[3A\u001b[2K\u001b[12A\u001b[2K\u001b[1A\u001b[2K\u001b[3A\u001b[2K\u001b[1A\u001b[2K\u001b[12A\u001b[2K\u001b[23A\u001b[2K\u001b[12A\u001b[2K\u001b[23A\u001b[2K\u001b[23A\u001b[2K\u001b[2A\u001b[2K\u001b[2A\u001b[2K\u001b[23A\u001b[2K\u001b[2A\u001b[2K\u001b[12A\u001b[2K\u001b[2A\u001b[2K\u001b[3A\u001b[2K\u001b[2A\u001b[2K\u001b[12A\u001b[2K\u001b[3A\u001b[2K\u001b[12A\u001b[2K\u001b[3A\u001b[2K\u001b[2A\u001b[2K\u001b[1A\u001b[2K\u001b[12A\u001b[2K\u001b[1A\u001b[2K\u001b[3A\u001b[2K\u001b[2A\u001b[2K\u001b[1A\u001b[2K\u001b[12A\u001b[2K\u001b[1A\u001b[2K\u001b[12A\u001b[2K\u001b[1A\u001b[2K\u001b[2A\u001b[2K\u001b[1A\u001b[2K\u001b[2A\u001b[2K\u001b[3A\u001b[2K\u001b[2A\u001b[2K\u001b[3A\u001b[2K\u001b[1A\u001b[2K\u001b[3A\u001b[2K\u001b[2A\u001b[2K\u001b[12A\u001b[2K\u001b[3A\u001b[2K\u001b[23A\u001b[2K\u001b[12A\u001b[2K\u001b[12A\u001b[2K\u001b[2A\u001b[2K\u001b[3A\u001b[2K\u001b[12A\u001b[2K\u001b[1A\u001b[2K\u001b[12A\u001b[2K\u001b[1A\u001b[2K\u001b[12A\u001b[2K\u001b[2A\u001b[2K\u001b[12A\u001b[2K\u001b[23A\u001b[2K\u001b[3A\u001b[2K\u001b[2A\u001b[2K\u001b[3A\u001b[2K\u001b[23A\u001b[2K\u001b[12A\u001b[2K\u001b[3A\u001b[2K\u001b[2A\u001b[2K\u001b[2A\u001b[2K\u001b[1A\u001b[2K\u001b[2A\u001b[2K\u001b[3A\u001b[2K\u001b[2A\u001b[2K\u001b[1A\u001b[2K\u001b[3A\u001b[2K\u001b[23A\u001b[2K\u001b[2A\u001b[2K\u001b[23A\u001b[2K\u001b[2A\u001b[2K\u001b[23A\u001b[2K\u001b[2A\u001b[2K\u001b[1A\u001b[2K\u001b[2A\u001b[2K\u001b[12A\u001b[2K\u001b[12A\u001b[2K\u001b[1A\u001b[2K\u001b[12A\u001b[2K\u001b[3A\u001b[2K\u001b[1A\u001b[2K\u001b[23A\u001b[2K\u001b[23A\u001b[2K\u001b[23A\u001b[2K\u001b[2A\u001b[2K\u001b[23A\u001b[2K\u001b[2A\u001b[2K\u001b[12A\u001b[2K\u001b[2A\u001b[2K\u001b[2A\u001b[2K\u001b[23A\u001b[2K\u001b[2A\u001b[2K\u001b[12A\u001b[2K\u001b[2A\u001b[2K\u001b[12A\u001b[2K\u001b[23A\u001b[2K\u001b[2A\u001b[2K\u001b[12A\u001b[2K\u001b[2A\u001b[2K\u001b[23A\u001b[2K\u001b[2A\u001b[2K\u001b[2A\u001b[2K\u001b[2A\u001b[2K\u001b[23A\u001b[2K\u001b[2A\u001b[2K\u001b[12A\u001b[2K\u001b[23A\u001b[2K\u001b[12A\u001b[2K\u001b[23A\u001b[2K\u001b[2A\u001b[2K\u001b[12A\u001b[2K\u001b[2A\u001b[2K\u001b[12A\u001b[2K\u001b[2A\u001b[2K\u001b[23A\u001b[2K\u001b[2A\u001b[2K\u001b[23A\u001b[2K\u001b[2A\u001b[2K\u001b[23A\u001b[2K\u001b[12A\u001b[2K\u001b[23A\u001b[2K\u001b[12A\u001b[2K\u001b[23A\u001b[2K\u001b[12A\u001b[2K\u001b[2A\u001b[2K\u001b[23A\u001b[2K\u001b[12A\u001b[2K\u001b[12A\u001b[2K\u001b[23A\u001b[2K\u001b[2A\u001b[2K\u001b[23A\u001b[2K\u001b[12A\u001b[2K\u001b[23A\u001b[2K\u001b[23A\u001b[2K\u001b[12A\u001b[2K\u001b[23A\u001b[2K\u001b[23A\u001b[2K\u001b[2A\u001b[2K\u001b[2A\u001b[2K\u001b[23A\u001b[2K\u001b[23A\u001b[2K\u001b[2A\u001b[2K\u001b[23A\u001b[2K\u001b[23A\u001b[2K\u001b[12A\u001b[2K\u001b[23A\u001b[2K\u001b[2A\u001b[2K\u001b[23A\u001b[2K\u001b[2A\u001b[2K\u001b[23A\u001b[2K\u001b[2A\u001b[2K\u001b[12A\u001b[2K\u001b[23A\u001b[2K\u001b[12A\u001b[2K\u001b[23A\u001b[2K\u001b[12A\u001b[2K\u001b[23A\u001b[2K\u001b[23A\u001b[2K\u001b[12A\u001b[2K\u001b[23A\u001b[2K\u001b[12A\u001b[2K\u001b[2A\u001b[2K\u001b[23A\u001b[2K\u001b[12A\u001b[2K\u001b[23A\u001b[2K\u001b[12A\u001b[2K\u001b[23A\u001b[2K\u001b[12A\u001b[2K\u001b[23A\u001b[2K\u001b[12A\u001b[2K\u001b[23A\u001b[2K\u001b[23A\u001b[2K\u001b[12A\u001b[2K\u001b[23A\u001b[2K\u001b[12A\u001b[2K\u001b[23A\u001b[2K\u001b[12A\u001b[2K\u001b[23A\u001b[2K\u001b[12A\u001b[2K\u001b[12A\u001b[2K\u001b[23A\u001b[2K\u001b[12A\u001b[2K\u001b[23A\u001b[2K\u001b[12A\u001b[2K\u001b[23A\u001b[2K\u001b[12A\u001b[2K\u001b[23A\u001b[2K\u001b[12A\u001b[2K\u001b[23A\u001b[2K\u001b[23A\u001b[2K\u001b[23A\u001b[2K\u001b[23A\u001b[2K\u001b[23A\u001b[2K\u001b[23A\u001b[2K\u001b[12A\u001b[2K\u001b[12A\u001b[2K\u001b[23A\u001b[2K\u001b[12A\u001b[2K\u001b[23A\u001b[2K\u001b[12A\u001b[2K\u001b[23A\u001b[2K\u001b[12A\u001b[2K\u001b[12A\u001b[2K\u001b[12A\u001b[2K\u001b[12A\u001b[2K\u001b[12A\u001b[2K\u001b[12A\u001b[2K\u001b[12A\u001b[2K\u001b[23A\u001b[2K\u001b[12A\u001b[2K\u001b[23A\u001b[2K\u001b[12A\u001b[2K\u001b[23A\u001b[2K\u001b[12A\u001b[2K\u001b[12A\u001b[2K\u001b[12A\u001b[2K\u001b[23A\u001b[2K\u001b[12A\u001b[2K\u001b[12A\u001b[2K\u001b[12A\u001b[2K\u001b[23A\u001b[2K\u001b[12A\u001b[2K\u001b[23A\u001b[2K\u001b[12A\u001b[2K\u001b[12A\u001b[2K\u001b[12A\u001b[2K\u001b[23A\u001b[2K\u001b[12A\u001b[2K\u001b[23A\u001b[2K\u001b[12A\u001b[2K\u001b[12A\u001b[2K\u001b[23A\u001b[2K\u001b[12A\u001b[2K\u001b[23A\u001b[2K\u001b[12A\u001b[2K\u001b[23A\u001b[2K\u001b[12A\u001b[2K\u001b[23A\u001b[2K\u001b[12A\u001b[2K\u001b[23A\u001b[2K\u001b[23A\u001b[2K\u001b[12A\u001b[2K\u001b[23A\u001b[2K\u001b[12A\u001b[2K\u001b[23A\u001b[2K\u001b[12A\u001b[2K\u001b[12A\u001b[2K\u001b[12A\u001b[2K\u001b[12A\u001b[2K\u001b[12A\u001b[2K\u001b[12A\u001b[2K\u001b[12A\u001b[2K\u001b[12A\u001b[2K\u001b[23A\u001b[2K\u001b[12A\u001b[2K\u001b[23A\u001b[2K\u001b[12A\u001b[2K\u001b[23A\u001b[2K\u001b[12A\u001b[2K\u001b[23A\u001b[2K\u001b[12A\u001b[2K\u001b[23A\u001b[2K\u001b[12A\u001b[2K\u001b[23A\u001b[2K\u001b[12A\u001b[2K\u001b[12A\u001b[2K\u001b[12A\u001b[2K\u001b[23A\u001b[2K\u001b[12A\u001b[2K\u001b[23A\u001b[2K\u001b[12A\u001b[2K\u001b[12A\u001b[2K\u001b[23A\u001b[2K\u001b[12A\u001b[2K\u001b[23A\u001b[2K\u001b[12A\u001b[2K\u001b[23A\u001b[2K\u001b[12A\u001b[2K\u001b[23A\u001b[2K\u001b[12A\u001b[2K\u001b[23A\u001b[2K\u001b[12A\u001b[2K\u001b[23A\u001b[2K\u001b[12A\u001b[2K\u001b[23A\u001b[2K\u001b[23A\u001b[2K\u001b[12A\u001b[2K\u001b[12A\u001b[2K\u001b[23A\u001b[2K\u001b[12A\u001b[2K\u001b[23A\u001b[2K\u001b[12A\u001b[2K\u001b[23A\u001b[2K\u001b[23A\u001b[2K\u001b[12A\u001b[2K\u001b[23A\u001b[2K\u001b[12A\u001b[2K\u001b[23A\u001b[2K\u001b[12A\u001b[2K\u001b[23A\u001b[2K\u001b[12A\u001b[2K\u001b[12A\u001b[2K\u001b[23A\u001b[2K\u001b[23A\u001b[2K\u001b[23A\u001b[2K\u001b[12A\u001b[2K\u001b[12A\u001b[2K\u001b[12A\u001b[2K\u001b[23A\u001b[2K\u001b[23A\u001b[2K\u001b[12A\u001b[2K\u001b[12A\u001b[2K\u001b[23A\u001b[2K\u001b[12A\u001b[2K\u001b[23A\u001b[2K\u001b[12A\u001b[2K\u001b[12A\u001b[2K\u001b[23A\u001b[2K\u001b[12A\u001b[2K\u001b[23A\u001b[2K\u001b[23A\u001b[2K\u001b[12A\u001b[2K\u001b[23A\u001b[2K\u001b[12A\u001b[2K\u001b[12A\u001b[2K\u001b[12A\u001b[2K\u001b[23A\u001b[2K\u001b[12A\u001b[2K\u001b[12A\u001b[2K\u001b[12A\u001b[2K\u001b[23A\u001b[2K\u001b[12A\u001b[2K\u001b[23A\u001b[2K\u001b[12A\u001b[2K\u001b[12A\u001b[2K\u001b[12A\u001b[2K\u001b[23A\u001b[2K\u001b[12A\u001b[2K\u001b[23A\u001b[2K\u001b[23A\u001b[2K\u001b[23A\u001b[2K\u001b[12A\u001b[2K\u001b[23A\u001b[2K\u001b[23A\u001b[2K\u001b[12A\u001b[2K\u001b[12A\u001b[2K\u001b[12A\u001b[2K\u001b[12A\u001b[2K\u001b[12A\u001b[2K\u001b[23A\u001b[2K\u001b[12A\u001b[2K\u001b[23A\u001b[2K\u001b[12A\u001b[2K\u001b[23A\u001b[2K\u001b[12A\u001b[2K\u001b[12A\u001b[2K\u001b[23A\u001b[2K\u001b[12A\u001b[2K\u001b[23A\u001b[2K\u001b[12A\u001b[2K\u001b[23A\u001b[2K\u001b[12A\u001b[2K\u001b[23A\u001b[2K\u001b[12A\u001b[2K\u001b[23A\u001b[2K\u001b[12A\u001b[2K\u001b[12A\u001b[2K\u001b[23A\u001b[2K\u001b[12A\u001b[2K\u001b[23A\u001b[2K\u001b[12A\u001b[2K\u001b[23A\u001b[2K\u001b[12A\u001b[2K\u001b[23A\u001b[2K\u001b[12A\u001b[2K\u001b[23A\u001b[2K\u001b[12A\u001b[2K\u001b[12A\u001b[2K\u001b[12A\u001b[2K\u001b[12A\u001b[2K\u001b[23A\u001b[2K\u001b[12A\u001b[2K\u001b[23A\u001b[2K\u001b[12A\u001b[2K\u001b[23A\u001b[2K\u001b[12A\u001b[2K\u001b[12A\u001b[2K\u001b[23A\u001b[2K\u001b[12A\u001b[2K\u001b[23A\u001b[2K\u001b[12A\u001b[2K\u001b[23A\u001b[2K\u001b[12A\u001b[2K\u001b[23A\u001b[2K\u001b[23A\u001b[2K\u001b[23A\u001b[2K\u001b[12A\u001b[2K\u001b[12A\u001b[2K\u001b[12A\u001b[2K\u001b[12A\u001b[2K\u001b[12A\u001b[2K\u001b[23A\u001b[2K\u001b[12A\u001b[2K\u001b[12A\u001b[2K\u001b[12A\u001b[2K\u001b[12A\u001b[2K\u001b[12A\u001b[2K\u001b[12A\u001b[2K\u001b[12A\u001b[2K\u001b[12A\u001b[2K\u001b[12A\u001b[2K\u001b[12A\u001b[2K\u001b[12A\u001b[2K\u001b[12A\u001b[2K\u001b[12A\u001b[2K\u001b[12A\u001b[2K\u001b[12A\u001b[2K\u001b[12A\u001b[2K\u001b[12A\u001b[2K\u001b[12A\u001b[2K\u001b[12A\u001b[2K\u001b[12A\u001b[2K\u001b[12A\u001b[2K\u001b[12A\u001b[2K\u001b[12A\u001b[2K\u001b[12A\u001b[2K\u001b[12A\u001b[2K\u001b[12A\u001b[2K\u001b[12A\u001b[2K\u001b[12A\u001b[2K\u001b[12A\u001b[2K\u001b[12A\u001b[2K\u001b[12A\u001b[2K\u001b[12A\u001b[2K\u001b[12A\u001b[2K\u001b[12A\u001b[2K\u001b[12A\u001b[2K\u001b[12A\u001b[2K\u001b[12A\u001b[2K\u001b[12A\u001b[2K\u001b[12A\u001b[2K\u001b[12A\u001b[2K\u001b[12A\u001b[2K\u001b[12A\u001b[2K\u001b[12A\u001b[2K\u001b[12A\u001b[2K\u001b[12A\u001b[2K\u001b[12A\u001b[2K\u001b[12A\u001b[2K\u001b[12A\u001b[2K\u001b[12A\u001b[2K\u001b[12A\u001b[2K\u001b[12A\u001b[2K\u001b[12A\u001b[2K\u001b[12A\u001b[2K\u001b[12A\u001b[2K\u001b[12A\u001b[2K\u001b[12A\u001b[2K\u001b[12A\u001b[2K\u001b[12A\u001b[2K\u001b[12A\u001b[2K\u001b[12A\u001b[2K\u001b[12A\u001b[2K\u001b[12A\u001b[2K\u001b[12A\u001b[2K\u001b[12A\u001b[2K\u001b[12A\u001b[2K\u001b[12A\u001b[2K\u001b[12A\u001b[2K\u001b[12A\u001b[2K\u001b[12A\u001b[2K\u001b[12A\u001b[2K\u001b[12A\u001b[2K\u001b[12A\u001b[2K\u001b[12A\u001b[2K\u001b[12A\u001b[2K\u001b[12A\u001b[2K\u001b[12A\u001b[2K\u001b[12A\u001b[2K\u001b[12A\u001b[2K\u001b[12A\u001b[2K\u001b[12A\u001b[2K\u001b[12A\u001b[2K\u001b[12A\u001b[2K\u001b[12A\u001b[2K\u001b[12A\u001b[2K\u001b[12A\u001b[2K\u001b[12A\u001b[2K\u001b[12A\u001b[2K\u001b[12A\u001b[2K\u001b[12A\u001b[2K\u001b[12A\u001b[2K\u001b[12A\u001b[2K\u001b[12A\u001b[2K\u001b[12A\u001b[2K\u001b[12A\u001b[2K\u001b[12A\u001b[2K\u001b[12A\u001b[2K\u001b[12A\u001b[2K\u001b[12A\u001b[2K\u001b[12A\u001b[2K\u001b[12A\u001b[2K\u001b[12A\u001b[2K\u001b[12A\u001b[2K\u001b[12A\u001b[2K\u001b[12A\u001b[2K\u001b[12A\u001b[2K\u001b[12A\u001b[2K\u001b[12A\u001b[2K\u001b[12A\u001b[2K\u001b[12A\u001b[2K\u001b[12A\u001b[2K\u001b[12A\u001b[2K\u001b[12A\u001b[2K\u001b[12A\u001b[2K\u001b[12A\u001b[2K\u001b[12A\u001b[2K\u001b[12A\u001b[2K\u001b[12A\u001b[2K\u001b[12A\u001b[2K\u001b[12A\u001b[2K\u001b[12A\u001b[2K\u001b[12A\u001b[2K\u001b[12A\u001b[2K\u001b[12A\u001b[2K\u001b[12A\u001b[2K\u001b[12A\u001b[2K\u001b[12A\u001b[2K\u001b[12A\u001b[2K\u001b[12A\u001b[2K\u001b[12A\u001b[2K\u001b[12A\u001b[2K\u001b[12A\u001b[2K\u001b[12A\u001b[2K\u001b[12A\u001b[2K\u001b[12A\u001b[2K\u001b[12A\u001b[2K\u001b[12A\u001b[2K\u001b[12A\u001b[2K\u001b[12A\u001b[2K\u001b[12A\u001b[2K\u001b[12A\u001b[2K\u001b[12A\u001b[2K\u001b[12A\u001b[2K\u001b[12A\u001b[2K\u001b[12A\u001b[2K\u001b[12A\u001b[2KPushing  1.253GB/3.932GB\u001b[12A\u001b[2K\u001b[12A\u001b[2K\u001b[12A\u001b[2K\u001b[12A\u001b[2K\u001b[12A\u001b[2K\u001b[12A\u001b[2K\u001b[12A\u001b[2K\u001b[12A\u001b[2K\u001b[12A\u001b[2K\u001b[12A\u001b[2K\u001b[12A\u001b[2K\u001b[12A\u001b[2K\u001b[12A\u001b[2K\u001b[12A\u001b[2K\u001b[12A\u001b[2K\u001b[12A\u001b[2K\u001b[12A\u001b[2K\u001b[12A\u001b[2K\u001b[12A\u001b[2K\u001b[12A\u001b[2K\u001b[12A\u001b[2K\u001b[12A\u001b[2K\u001b[12A\u001b[2K\u001b[12A\u001b[2K\u001b[12A\u001b[2K\u001b[12A\u001b[2K\u001b[12A\u001b[2K\u001b[12A\u001b[2K\u001b[12A\u001b[2K\u001b[12A\u001b[2K\u001b[12A\u001b[2K\u001b[12A\u001b[2K\u001b[12A\u001b[2K\u001b[12A\u001b[2K\u001b[12A\u001b[2K\u001b[12A\u001b[2K\u001b[12A\u001b[2K\u001b[12A\u001b[2K\u001b[12A\u001b[2K\u001b[12A\u001b[2K\u001b[12A\u001b[2K\u001b[12A\u001b[2K\u001b[12A\u001b[2K\u001b[12A\u001b[2K\u001b[12A\u001b[2K\u001b[12A\u001b[2K\u001b[12A\u001b[2K\u001b[12A\u001b[2K\u001b[12A\u001b[2K\u001b[12A\u001b[2K\u001b[12A\u001b[2K\u001b[12A\u001b[2K\u001b[12A\u001b[2K\u001b[12A\u001b[2K\u001b[12A\u001b[2K\u001b[12A\u001b[2K\u001b[12A\u001b[2K\u001b[12A\u001b[2K\u001b[12A\u001b[2K\u001b[12A\u001b[2K\u001b[12A\u001b[2K\u001b[12A\u001b[2K\u001b[12A\u001b[2K\u001b[12A\u001b[2K\u001b[12A\u001b[2K\u001b[12A\u001b[2K\u001b[12A\u001b[2K\u001b[12A\u001b[2K\u001b[12A\u001b[2K\u001b[12A\u001b[2K\u001b[12A\u001b[2K\u001b[12A\u001b[2K\u001b[12A\u001b[2K\u001b[12A\u001b[2K\u001b[12A\u001b[2K\u001b[12A\u001b[2K\u001b[12A\u001b[2K\u001b[12A\u001b[2K\u001b[12A\u001b[2K\u001b[12A\u001b[2K\u001b[12A\u001b[2K\u001b[12A\u001b[2K\u001b[12A\u001b[2K\u001b[12A\u001b[2K\u001b[12A\u001b[2K\u001b[12A\u001b[2K\u001b[12A\u001b[2K\u001b[12A\u001b[2K\u001b[12A\u001b[2K\u001b[12A\u001b[2K\u001b[12A\u001b[2K\u001b[12A\u001b[2K\u001b[12A\u001b[2K\u001b[12A\u001b[2K\u001b[12A\u001b[2K\u001b[12A\u001b[2K\u001b[12A\u001b[2K\u001b[12A\u001b[2K\u001b[12A\u001b[2K\u001b[12A\u001b[2K\u001b[12A\u001b[2K\u001b[12A\u001b[2K\u001b[12A\u001b[2K\u001b[12A\u001b[2K\u001b[12A\u001b[2K\u001b[12A\u001b[2K\u001b[12A\u001b[2K\u001b[12A\u001b[2K\u001b[12A\u001b[2K\u001b[12A\u001b[2K\u001b[12A\u001b[2K\u001b[12A\u001b[2K\u001b[12A\u001b[2K\u001b[12A\u001b[2K\u001b[12A\u001b[2K\u001b[12A\u001b[2K\u001b[12A\u001b[2K\u001b[12A\u001b[2K\u001b[12A\u001b[2K\u001b[12A\u001b[2K\u001b[12A\u001b[2K\u001b[12A\u001b[2K\u001b[12A\u001b[2K\u001b[12A\u001b[2K\u001b[12A\u001b[2K\u001b[12A\u001b[2K\u001b[12A\u001b[2K\u001b[12A\u001b[2K\u001b[12A\u001b[2K\u001b[12A\u001b[2K\u001b[12A\u001b[2K\u001b[12A\u001b[2K\u001b[12A\u001b[2K\u001b[12A\u001b[2K\u001b[12A\u001b[2K\u001b[12A\u001b[2K\u001b[12A\u001b[2K\u001b[12A\u001b[2K\u001b[12A\u001b[2K\u001b[12A\u001b[2K\u001b[12A\u001b[2K\u001b[12A\u001b[2K\u001b[12A\u001b[2K\u001b[12A\u001b[2K\u001b[12A\u001b[2K\u001b[12A\u001b[2K\u001b[12A\u001b[2K\u001b[12A\u001b[2K\u001b[12A\u001b[2K\u001b[12A\u001b[2K\u001b[12A\u001b[2K\u001b[12A\u001b[2K\u001b[12A\u001b[2K\u001b[12A\u001b[2K\u001b[12A\u001b[2K\u001b[12A\u001b[2K\u001b[12A\u001b[2K\u001b[12A\u001b[2K\u001b[12A\u001b[2K\u001b[12A\u001b[2K\u001b[12A\u001b[2K\u001b[12A\u001b[2K\u001b[12A\u001b[2K\u001b[12A\u001b[2K\u001b[12A\u001b[2K\u001b[12A\u001b[2K\u001b[12A\u001b[2K\u001b[12A\u001b[2K\u001b[12A\u001b[2K\u001b[12A\u001b[2K\u001b[12A\u001b[2K\u001b[12A\u001b[2K\u001b[12A\u001b[2K\u001b[12A\u001b[2K\u001b[12A\u001b[2K\u001b[12A\u001b[2K\u001b[12A\u001b[2K\u001b[12A\u001b[2K\u001b[12A\u001b[2K\u001b[12A\u001b[2K\u001b[12A\u001b[2K\u001b[12A\u001b[2K\u001b[12A\u001b[2K\u001b[12A\u001b[2K\u001b[12A\u001b[2K\u001b[12A\u001b[2K\u001b[12A\u001b[2K\u001b[12A\u001b[2K\u001b[12A\u001b[2K\u001b[12A\u001b[2K\u001b[12A\u001b[2K\u001b[12A\u001b[2K\u001b[12A\u001b[2K\u001b[12A\u001b[2K\u001b[12A\u001b[2K\u001b[12A\u001b[2K\u001b[12A\u001b[2K\u001b[12A\u001b[2K\u001b[12A\u001b[2K\u001b[12A\u001b[2K\u001b[12A\u001b[2K\u001b[12A\u001b[2K\u001b[12A\u001b[2K\u001b[12A\u001b[2K\u001b[12A\u001b[2K\u001b[12A\u001b[2K\u001b[12A\u001b[2K\u001b[12A\u001b[2K\u001b[12A\u001b[2K\u001b[12A\u001b[2K\u001b[12A\u001b[2K\u001b[12A\u001b[2K\u001b[12A\u001b[2K\u001b[12A\u001b[2K\u001b[12A\u001b[2K\u001b[12A\u001b[2K\u001b[12A\u001b[2K\u001b[12A\u001b[2K\u001b[12A\u001b[2K\u001b[12A\u001b[2K\u001b[12A\u001b[2K\u001b[12A\u001b[2K\u001b[12A\u001b[2K\u001b[12A\u001b[2K\u001b[12A\u001b[2K\u001b[12A\u001b[2K\u001b[12A\u001b[2K\u001b[12A\u001b[2K\u001b[12A\u001b[2K\u001b[12A\u001b[2K\u001b[12A\u001b[2K\u001b[12A\u001b[2K\u001b[12A\u001b[2K\u001b[12A\u001b[2K\u001b[12A\u001b[2K\u001b[12A\u001b[2K\u001b[12A\u001b[2K\u001b[12A\u001b[2K\u001b[12A\u001b[2K\u001b[12A\u001b[2K\u001b[12A\u001b[2K\u001b[12A\u001b[2K\u001b[12A\u001b[2K\u001b[12A\u001b[2K\u001b[12A\u001b[2K\u001b[12A\u001b[2K\u001b[12A\u001b[2K\u001b[12A\u001b[2K\u001b[12A\u001b[2K\u001b[12A\u001b[2K\u001b[12A\u001b[2K\u001b[12A\u001b[2K\u001b[12A\u001b[2K\u001b[12A\u001b[2K\u001b[12A\u001b[2K\u001b[12A\u001b[2K\u001b[12A\u001b[2K\u001b[12A\u001b[2K\u001b[12A\u001b[2K\u001b[12A\u001b[2K\u001b[12A\u001b[2K\u001b[12A\u001b[2K\u001b[12A\u001b[2K\u001b[12A\u001b[2K\u001b[12A\u001b[2K\u001b[12A\u001b[2K\u001b[12A\u001b[2K\u001b[12A\u001b[2K\u001b[12A\u001b[2K\u001b[12A\u001b[2K\u001b[12A\u001b[2K\u001b[12A\u001b[2K\u001b[12A\u001b[2K\u001b[12A\u001b[2K\u001b[12A\u001b[2K\u001b[12A\u001b[2K\u001b[12A\u001b[2K\u001b[12A\u001b[2K\u001b[12A\u001b[2K\u001b[12A\u001b[2K\u001b[12A\u001b[2K\u001b[12A\u001b[2K\u001b[12A\u001b[2K\u001b[12A\u001b[2K\u001b[12A\u001b[2K\u001b[12A\u001b[2K\u001b[12A\u001b[2K\u001b[12A\u001b[2K\u001b[12A\u001b[2K\u001b[12A\u001b[2K\u001b[12A\u001b[2K\u001b[12A\u001b[2K\u001b[12A\u001b[2K\u001b[12A\u001b[2K\u001b[12A\u001b[2K\u001b[12A\u001b[2K\u001b[12A\u001b[2K\u001b[12A\u001b[2K\u001b[12A\u001b[2K\u001b[12A\u001b[2K\u001b[12A\u001b[2K\u001b[12A\u001b[2K\u001b[12A\u001b[2K\u001b[12A\u001b[2K\u001b[12A\u001b[2K\u001b[12A\u001b[2K\u001b[12A\u001b[2K\u001b[12A\u001b[2K\u001b[12A\u001b[2K\u001b[12A\u001b[2K\u001b[12A\u001b[2K\u001b[12A\u001b[2K\u001b[12A\u001b[2K\u001b[12A\u001b[2K\u001b[12A\u001b[2K\u001b[12A\u001b[2K\u001b[12A\u001b[2K\u001b[12A\u001b[2K\u001b[12A\u001b[2K\u001b[12A\u001b[2K\u001b[12A\u001b[2K\u001b[12A\u001b[2K\u001b[12A\u001b[2K\u001b[12A\u001b[2K\u001b[12A\u001b[2K\u001b[12A\u001b[2K\u001b[12A\u001b[2K\u001b[12A\u001b[2K\u001b[12A\u001b[2K\u001b[12A\u001b[2K\u001b[12A\u001b[2K\u001b[12A\u001b[2K\u001b[12A\u001b[2K\u001b[12A\u001b[2K\u001b[12A\u001b[2K\u001b[12A\u001b[2K\u001b[12A\u001b[2K\u001b[12A\u001b[2K\u001b[12A\u001b[2K\u001b[12A\u001b[2K\u001b[12A\u001b[2K\u001b[12A\u001b[2K\u001b[12A\u001b[2K\u001b[12A\u001b[2K\u001b[12A\u001b[2K\u001b[12A\u001b[2K\u001b[12A\u001b[2K\u001b[12A\u001b[2K\u001b[12A\u001b[2K\u001b[12A\u001b[2K\u001b[12A\u001b[2K\u001b[12A\u001b[2K\u001b[12A\u001b[2K\u001b[12A\u001b[2K\u001b[12A\u001b[2K\u001b[12A\u001b[2K\u001b[12A\u001b[2K\u001b[12A\u001b[2K\u001b[12A\u001b[2K\u001b[12A\u001b[2K\u001b[12A\u001b[2K\u001b[12A\u001b[2K\u001b[12A\u001b[2K\u001b[12A\u001b[2K\u001b[12A\u001b[2K\u001b[12A\u001b[2K\u001b[12A\u001b[2K\u001b[12A\u001b[2K\u001b[12A\u001b[2K\u001b[12A\u001b[2K\u001b[12A\u001b[2K\u001b[12A\u001b[2K\u001b[12A\u001b[2K\u001b[12A\u001b[2K\u001b[12A\u001b[2K\u001b[12A\u001b[2K\u001b[12A\u001b[2K\u001b[12A\u001b[2K\u001b[12A\u001b[2K\u001b[12A\u001b[2K\u001b[12A\u001b[2K\u001b[12A\u001b[2K\u001b[12A\u001b[2K\u001b[12A\u001b[2K\u001b[12A\u001b[2K\u001b[12A\u001b[2K\u001b[12A\u001b[2K\u001b[12A\u001b[2K\u001b[12A\u001b[2K\u001b[12A\u001b[2K\u001b[12A\u001b[2K\u001b[12A\u001b[2K\u001b[12A\u001b[2K\u001b[12A\u001b[2K\u001b[12A\u001b[2K\u001b[12A\u001b[2K\u001b[12A\u001b[2K\u001b[12A\u001b[2K\u001b[12A\u001b[2K\u001b[12A\u001b[2K\u001b[12A\u001b[2K\u001b[12A\u001b[2K\u001b[12A\u001b[2K\u001b[12A\u001b[2K\u001b[12A\u001b[2K\u001b[12A\u001b[2K\u001b[12A\u001b[2K\u001b[12A\u001b[2K\u001b[12A\u001b[2K\u001b[12A\u001b[2K\u001b[12A\u001b[2K\u001b[12A\u001b[2K\u001b[12A\u001b[2K\u001b[12A\u001b[2K\u001b[12A\u001b[2K\u001b[12A\u001b[2K\u001b[12A\u001b[2K\u001b[12A\u001b[2K\u001b[12A\u001b[2K\u001b[12A\u001b[2K\u001b[12A\u001b[2K\u001b[12A\u001b[2K\u001b[12A\u001b[2K\u001b[12A\u001b[2K\u001b[12A\u001b[2K\u001b[12A\u001b[2K\u001b[12A\u001b[2K\u001b[12A\u001b[2K\u001b[12A\u001b[2K\u001b[12A\u001b[2K\u001b[12A\u001b[2K\u001b[12A\u001b[2K\u001b[12A\u001b[2K\u001b[12A\u001b[2K\u001b[12A\u001b[2K\u001b[12A\u001b[2K\u001b[12A\u001b[2K\u001b[12A\u001b[2K\u001b[12A\u001b[2K\u001b[12A\u001b[2K\u001b[12A\u001b[2K\u001b[12A\u001b[2K\u001b[12A\u001b[2K\u001b[12A\u001b[2K\u001b[12A\u001b[2K\u001b[12A\u001b[2K\u001b[12A\u001b[2K\u001b[12A\u001b[2K\u001b[12A\u001b[2K\u001b[12A\u001b[2K\u001b[12A\u001b[2K\u001b[12A\u001b[2K\u001b[12A\u001b[2K\u001b[12A\u001b[2K\u001b[12A\u001b[2K\u001b[12A\u001b[2K\u001b[12A\u001b[2K\u001b[12A\u001b[2K\u001b[12A\u001b[2K\u001b[12A\u001b[2K\u001b[12A\u001b[2K\u001b[12A\u001b[2K\u001b[12A\u001b[2K\u001b[12A\u001b[2K\u001b[12A\u001b[2K\u001b[12A\u001b[2K\u001b[12A\u001b[2K\u001b[12A\u001b[2K\u001b[12A\u001b[2K\u001b[12A\u001b[2K\u001b[12A\u001b[2K\u001b[12A\u001b[2K\u001b[12A\u001b[2K\u001b[12A\u001b[2K\u001b[12A\u001b[2K\u001b[12A\u001b[2K\u001b[12A\u001b[2K\u001b[12A\u001b[2K\u001b[12A\u001b[2K\u001b[12A\u001b[2K\u001b[12A\u001b[2K\u001b[12A\u001b[2K\u001b[12A\u001b[2K\u001b[12A\u001b[2K\u001b[12A\u001b[2K\u001b[12A\u001b[2K\u001b[12A\u001b[2K\u001b[12A\u001b[2K\u001b[12A\u001b[2K\u001b[12A\u001b[2K\u001b[12A\u001b[2K\u001b[12A\u001b[2K\u001b[12A\u001b[2K\u001b[12A\u001b[2K\u001b[12A\u001b[2K\u001b[12A\u001b[2K\u001b[12A\u001b[2K\u001b[12A\u001b[2K\u001b[12A\u001b[2K\u001b[12A\u001b[2K\u001b[12A\u001b[2K\u001b[12A\u001b[2K\u001b[12A\u001b[2K\u001b[12A\u001b[2K\u001b[12A\u001b[2K\u001b[12A\u001b[2K\u001b[12A\u001b[2K\u001b[12A\u001b[2K\u001b[12A\u001b[2K\u001b[12A\u001b[2K\u001b[12A\u001b[2K\u001b[12A\u001b[2K\u001b[12A\u001b[2K\u001b[12A\u001b[2K\u001b[12A\u001b[2K\u001b[12A\u001b[2K\u001b[12A\u001b[2K\u001b[12A\u001b[2K\u001b[12A\u001b[2K\u001b[12A\u001b[2K\u001b[12A\u001b[2K\u001b[12A\u001b[2K\u001b[12A\u001b[2K\u001b[12A\u001b[2K\u001b[12A\u001b[2K\u001b[12A\u001b[2K\u001b[12A\u001b[2K\u001b[12A\u001b[2K\u001b[12A\u001b[2K\u001b[12A\u001b[2K\u001b[12A\u001b[2K\u001b[12A\u001b[2K\u001b[12A\u001b[2K\u001b[12A\u001b[2K\u001b[12A\u001b[2K\u001b[12A\u001b[2K\u001b[12A\u001b[2K\u001b[12A\u001b[2K\u001b[12A\u001b[2K\u001b[12A\u001b[2K\u001b[12A\u001b[2K\u001b[12A\u001b[2K\u001b[12A\u001b[2K\u001b[12A\u001b[2K\u001b[12A\u001b[2K\u001b[12A\u001b[2K\u001b[12A\u001b[2K\u001b[12A\u001b[2K\u001b[12A\u001b[2K\u001b[12A\u001b[2K\u001b[12A\u001b[2K\u001b[12A\u001b[2K\u001b[12A\u001b[2K\u001b[12A\u001b[2K\u001b[12A\u001b[2K\u001b[12A\u001b[2K\u001b[12A\u001b[2K\u001b[12A\u001b[2K\u001b[12A\u001b[2K\u001b[12A\u001b[2K\u001b[12A\u001b[2K\u001b[12A\u001b[2K\u001b[12A\u001b[2K\u001b[12A\u001b[2K\u001b[12A\u001b[2K\u001b[12A\u001b[2K\u001b[12A\u001b[2K\u001b[12A\u001b[2K\u001b[12A\u001b[2K\u001b[12A\u001b[2K\u001b[12A\u001b[2K\u001b[12A\u001b[2K\u001b[12A\u001b[2K\u001b[12A\u001b[2K\u001b[12A\u001b[2K\u001b[12A\u001b[2K\u001b[12A\u001b[2K\u001b[12A\u001b[2K\u001b[12A\u001b[2K\u001b[12A\u001b[2K\u001b[12A\u001b[2K\u001b[12A\u001b[2K\u001b[12A\u001b[2K\u001b[12A\u001b[2K\u001b[12A\u001b[2K\u001b[12A\u001b[2K\u001b[12A\u001b[2K\u001b[12A\u001b[2K\u001b[12A\u001b[2K\u001b[12A\u001b[2K\u001b[12A\u001b[2K\u001b[12A\u001b[2K\u001b[12A\u001b[2K\u001b[12A\u001b[2K\u001b[12A\u001b[2K\u001b[12A\u001b[2K\u001b[12A\u001b[2K\u001b[12A\u001b[2K\u001b[12A\u001b[2K\u001b[12A\u001b[2K\u001b[12A\u001b[2K\u001b[12A\u001b[2K\u001b[12A\u001b[2K\u001b[12A\u001b[2K\u001b[12A\u001b[2K\u001b[12A\u001b[2K\u001b[12A\u001b[2K\u001b[12A\u001b[2K\u001b[12A\u001b[2K\u001b[12A\u001b[2K\u001b[12A\u001b[2K\u001b[12A\u001b[2K\u001b[12A\u001b[2K\u001b[12A\u001b[2K\u001b[12A\u001b[2K\u001b[12A\u001b[2K\u001b[12A\u001b[2K\u001b[12A\u001b[2K\u001b[12A\u001b[2K\u001b[12A\u001b[2K\u001b[12A\u001b[2K\u001b[12A\u001b[2K\u001b[12A\u001b[2K\u001b[12A\u001b[2K\u001b[12A\u001b[2K\u001b[12A\u001b[2K\u001b[12A\u001b[2K\u001b[12A\u001b[2K\u001b[12A\u001b[2K\u001b[12A\u001b[2K\u001b[12A\u001b[2K\u001b[12A\u001b[2K\u001b[12A\u001b[2K\u001b[12A\u001b[2K\u001b[12A\u001b[2K\u001b[12A\u001b[2K\u001b[12A\u001b[2K\u001b[12A\u001b[2K\u001b[12A\u001b[2K\u001b[12A\u001b[2K\u001b[12A\u001b[2K\u001b[12A\u001b[2K\u001b[12A\u001b[2K\u001b[12A\u001b[2K\u001b[12A\u001b[2K\u001b[12A\u001b[2K\u001b[12A\u001b[2K\u001b[12A\u001b[2K\u001b[12A\u001b[2K\u001b[12A\u001b[2K\u001b[12A\u001b[2K\u001b[12A\u001b[2K\u001b[12A\u001b[2K\u001b[12A\u001b[2K\u001b[12A\u001b[2K\u001b[12A\u001b[2K\u001b[12A\u001b[2K\u001b[12A\u001b[2K\u001b[12A\u001b[2K\u001b[12A\u001b[2K\u001b[12A\u001b[2K\u001b[12A\u001b[2K\u001b[12A\u001b[2K\u001b[12A\u001b[2K\u001b[12A\u001b[2K\u001b[12A\u001b[2K\u001b[12A\u001b[2K\u001b[12A\u001b[2K\u001b[12A\u001b[2K\u001b[12A\u001b[2K\u001b[12A\u001b[2K\u001b[12A\u001b[2K\u001b[12A\u001b[2K\u001b[12A\u001b[2K\u001b[12A\u001b[2K\u001b[12A\u001b[2K\u001b[12A\u001b[2K\u001b[12A\u001b[2K\u001b[12A\u001b[2K\u001b[12A\u001b[2K\u001b[12A\u001b[2K\u001b[12A\u001b[2K\u001b[12A\u001b[2K\u001b[12A\u001b[2K\u001b[12A\u001b[2K\u001b[12A\u001b[2K\u001b[12A\u001b[2K\u001b[12A\u001b[2K\u001b[12A\u001b[2K\u001b[12A\u001b[2K\u001b[12A\u001b[2K\u001b[12A\u001b[2K\u001b[12A\u001b[2K\u001b[12A\u001b[2K\u001b[12A\u001b[2K\u001b[12A\u001b[2K\u001b[12A\u001b[2K\u001b[12A\u001b[2K\u001b[12A\u001b[2K\u001b[12A\u001b[2K\u001b[12A\u001b[2K\u001b[12A\u001b[2K\u001b[12A\u001b[2K\u001b[12A\u001b[2K\u001b[12A\u001b[2K\u001b[12A\u001b[2K\u001b[12A\u001b[2K\u001b[12A\u001b[2K\u001b[12A\u001b[2K\u001b[12A\u001b[2K\u001b[12A\u001b[2K\u001b[12A\u001b[2K\u001b[12A\u001b[2K\u001b[12A\u001b[2K\u001b[12A\u001b[2K\u001b[12A\u001b[2K\u001b[12A\u001b[2K\u001b[12A\u001b[2K\u001b[12A\u001b[2K\u001b[12A\u001b[2K\u001b[12A\u001b[2K\u001b[12A\u001b[2K\u001b[12A\u001b[2K\u001b[12A\u001b[2K\u001b[12A\u001b[2K\u001b[12A\u001b[2K\u001b[12A\u001b[2K\u001b[12A\u001b[2K\u001b[12A\u001b[2K\u001b[12A\u001b[2K\u001b[12A\u001b[2K\u001b[12A\u001b[2K\u001b[12A\u001b[2K\u001b[12A\u001b[2K\u001b[12A\u001b[2K\u001b[12A\u001b[2K\u001b[12A\u001b[2K\u001b[12A\u001b[2K\u001b[12A\u001b[2K\u001b[12A\u001b[2K\u001b[12A\u001b[2K\u001b[12A\u001b[2K\u001b[12A\u001b[2K\u001b[12A\u001b[2K\u001b[12A\u001b[2K\u001b[12A\u001b[2K\u001b[12A\u001b[2K\u001b[12A\u001b[2K\u001b[12A\u001b[2K\u001b[12A\u001b[2K\u001b[12A\u001b[2K\u001b[12A\u001b[2K\u001b[12A\u001b[2K\u001b[12A\u001b[2K\u001b[12A\u001b[2K\u001b[12A\u001b[2K\u001b[12A\u001b[2K\u001b[12A\u001b[2K\u001b[12A\u001b[2K\u001b[12A\u001b[2K\u001b[12A\u001b[2K\u001b[12A\u001b[2K\u001b[12A\u001b[2K\u001b[12A\u001b[2K\u001b[12A\u001b[2K\u001b[12A\u001b[2K\u001b[12A\u001b[2K\u001b[12A\u001b[2K\u001b[12A\u001b[2K\u001b[12A\u001b[2K\u001b[12A\u001b[2K\u001b[12A\u001b[2K\u001b[12A\u001b[2K\u001b[12A\u001b[2K\u001b[12A\u001b[2K\u001b[12A\u001b[2K\u001b[12A\u001b[2K\u001b[12A\u001b[2K\u001b[12A\u001b[2K\u001b[12A\u001b[2K\u001b[12A\u001b[2K\u001b[12A\u001b[2K\u001b[12A\u001b[2K\u001b[12A\u001b[2K\u001b[12A\u001b[2K\u001b[12A\u001b[2K\u001b[12A\u001b[2K\u001b[12A\u001b[2K\u001b[12A\u001b[2K\u001b[12A\u001b[2K\u001b[12A\u001b[2K\u001b[12A\u001b[2K\u001b[12A\u001b[2K\u001b[12A\u001b[2K\u001b[12A\u001b[2K\u001b[12A\u001b[2K\u001b[12A\u001b[2K\u001b[12A\u001b[2K\u001b[12A\u001b[2K\u001b[12A\u001b[2K\u001b[12A\u001b[2K\u001b[12A\u001b[2K\u001b[12A\u001b[2K\u001b[12A\u001b[2K\u001b[12A\u001b[2K\u001b[12A\u001b[2K\u001b[12A\u001b[2K\u001b[12A\u001b[2K\u001b[12A\u001b[2K\u001b[12A\u001b[2K\u001b[12A\u001b[2K\u001b[12A\u001b[2K\u001b[12A\u001b[2K\u001b[12A\u001b[2K\u001b[12A\u001b[2K\u001b[12A\u001b[2K\u001b[12A\u001b[2K\u001b[12A\u001b[2K\u001b[12A\u001b[2K\u001b[12A\u001b[2K\u001b[12A\u001b[2K\u001b[12A\u001b[2K\u001b[12A\u001b[2K\u001b[12A\u001b[2K\u001b[12A\u001b[2K\u001b[12A\u001b[2K\u001b[12A\u001b[2K\u001b[12A\u001b[2K\u001b[12A\u001b[2K\u001b[12A\u001b[2K\u001b[12A\u001b[2K\u001b[12A\u001b[2K\u001b[12A\u001b[2K\u001b[12A\u001b[2K\u001b[12A\u001b[2K\u001b[12A\u001b[2K\u001b[12A\u001b[2K\u001b[12A\u001b[2K\u001b[12A\u001b[2K\u001b[12A\u001b[2K\u001b[12A\u001b[2K\u001b[12A\u001b[2K\u001b[12A\u001b[2K\u001b[12A\u001b[2K\u001b[12A\u001b[2K\u001b[12A\u001b[2K\u001b[12A\u001b[2K\u001b[12A\u001b[2K\u001b[12A\u001b[2K\u001b[12A\u001b[2K\u001b[12A\u001b[2K\u001b[12A\u001b[2K\u001b[12A\u001b[2K\u001b[12A\u001b[2K\u001b[12A\u001b[2K\u001b[12A\u001b[2K\u001b[12A\u001b[2K\u001b[12A\u001b[2K\u001b[12A\u001b[2K\u001b[12A\u001b[2K\u001b[12A\u001b[2K\u001b[12A\u001b[2K\u001b[12A\u001b[2K\u001b[12A\u001b[2K\u001b[12A\u001b[2K\u001b[12A\u001b[2K\u001b[12A\u001b[2K\u001b[12A\u001b[2K\u001b[12A\u001b[2K\u001b[12A\u001b[2K\u001b[12A\u001b[2K\u001b[12A\u001b[2K\u001b[12A\u001b[2K\u001b[12A\u001b[2K\u001b[12A\u001b[2K\u001b[12A\u001b[2K\u001b[12A\u001b[2K\u001b[12A\u001b[2K\u001b[12A\u001b[2K\u001b[12A\u001b[2K\u001b[12A\u001b[2K\u001b[12A\u001b[2K\u001b[12A\u001b[2K\u001b[12A\u001b[2K\u001b[12A\u001b[2K\u001b[12A\u001b[2K\u001b[12A\u001b[2K\u001b[12A\u001b[2K\u001b[12A\u001b[2K\u001b[12A\u001b[2K\u001b[12A\u001b[2K\u001b[12A\u001b[2K\u001b[12A\u001b[2K\u001b[12A\u001b[2K\u001b[12A\u001b[2K\u001b[12A\u001b[2K\u001b[12A\u001b[2K\u001b[12A\u001b[2K\u001b[12A\u001b[2K\u001b[12A\u001b[2K\u001b[12A\u001b[2K\u001b[12A\u001b[2K\u001b[12A\u001b[2K\u001b[12A\u001b[2K\u001b[12A\u001b[2K\u001b[12A\u001b[2K\u001b[12A\u001b[2K\u001b[12A\u001b[2K\u001b[12A\u001b[2K\u001b[12A\u001b[2K\u001b[12A\u001b[2K\u001b[12A\u001b[2K\u001b[12A\u001b[2K\u001b[12A\u001b[2K\u001b[12A\u001b[2K\u001b[12A\u001b[2K\u001b[12A\u001b[2K\u001b[12A\u001b[2K\u001b[12A\u001b[2K\u001b[12A\u001b[2K\u001b[12A\u001b[2K\u001b[12A\u001b[2K\u001b[12A\u001b[2K\u001b[12A\u001b[2K\u001b[12A\u001b[2K\u001b[12A\u001b[2K\u001b[12A\u001b[2K\u001b[12A\u001b[2K\u001b[12A\u001b[2K\u001b[12A\u001b[2K\u001b[12A\u001b[2K\u001b[12A\u001b[2K\u001b[12A\u001b[2K\u001b[12A\u001b[2K\u001b[12A\u001b[2K\u001b[12A\u001b[2K\u001b[12A\u001b[2K\u001b[12A\u001b[2K\u001b[12A\u001b[2K\u001b[12A\u001b[2K\u001b[12A\u001b[2K\u001b[12A\u001b[2K\u001b[12A\u001b[2K\u001b[12A\u001b[2K\u001b[12A\u001b[2K\u001b[12A\u001b[2K\u001b[12A\u001b[2K\u001b[12A\u001b[2K\u001b[12A\u001b[2K\u001b[12A\u001b[2K\u001b[12A\u001b[2K\u001b[12A\u001b[2K\u001b[12A\u001b[2K\u001b[12A\u001b[2K\u001b[12A\u001b[2K\u001b[12A\u001b[2K\u001b[12A\u001b[2K\u001b[12A\u001b[2K\u001b[12A\u001b[2K\u001b[12A\u001b[2K\u001b[12A\u001b[2K\u001b[12A\u001b[2K\u001b[12A\u001b[2K\u001b[12A\u001b[2K\u001b[12A\u001b[2K\u001b[12A\u001b[2K\u001b[12A\u001b[2K\u001b[12A\u001b[2K\u001b[12A\u001b[2K\u001b[12A\u001b[2K\u001b[12A\u001b[2K\u001b[12A\u001b[2K\u001b[12A\u001b[2K\u001b[12A\u001b[2K\u001b[12A\u001b[2K\u001b[12A\u001b[2K\u001b[12A\u001b[2K\u001b[12A\u001b[2K\u001b[12A\u001b[2K\u001b[12A\u001b[2K\u001b[12A\u001b[2K\u001b[12A\u001b[2K\u001b[12A\u001b[2K\u001b[12A\u001b[2K\u001b[12A\u001b[2K\u001b[12A\u001b[2K\u001b[12A\u001b[2K\u001b[12A\u001b[2K\u001b[12A\u001b[2KPushing  3.871GB/3.932GB\u001b[12A\u001b[2K\u001b[12A\u001b[2K\u001b[12A\u001b[2K\u001b[12A\u001b[2K\u001b[12A\u001b[2K\u001b[12A\u001b[2K\u001b[12A\u001b[2K\u001b[12A\u001b[2K\u001b[12A\u001b[2K\u001b[12A\u001b[2K\u001b[12A\u001b[2K\u001b[12A\u001b[2K\u001b[12A\u001b[2K\u001b[12A\u001b[2K\u001b[12A\u001b[2K\u001b[12A\u001b[2K\u001b[12A\u001b[2K\u001b[12A\u001b[2K\u001b[12A\u001b[2K\u001b[12A\u001b[2K\u001b[12A\u001b[2K\u001b[12A\u001b[2K\u001b[12A\u001b[2Klatest: digest: sha256:9199bf05937ab23bf053997b281e5f754b9ba3b84e56b5457c4d1e8f476b7850 size: 11884\n"
     ]
    }
   ],
   "source": [
    "# Create ECR repository and push docker image\n",
    "!docker build -t $ecr_repository .\n",
    "!aws ecr get-login-password --region {region} | docker login --username AWS --password-stdin {account_id}.dkr.ecr.{region}.amazonaws.com\n",
    "!aws ecr create-repository --repository-name $ecr_repository\n",
    "!docker tag {ecr_repository + tag} $processing_repository_uri\n",
    "!docker push $processing_repository_uri"
   ]
  },
  {
   "cell_type": "markdown",
   "id": "2e7ff090",
   "metadata": {},
   "source": [
    "## SageMaker Processing w/ SageMaker Python SDK"
   ]
  },
  {
   "cell_type": "markdown",
   "id": "39212a6f",
   "metadata": {},
   "source": [
    "### Local mode for debugging"
   ]
  },
  {
   "cell_type": "code",
   "execution_count": 10,
   "id": "f4b6ca21",
   "metadata": {},
   "outputs": [],
   "source": [
    "role = sagemaker.get_execution_role()\n",
    "instance_type = 'local'"
   ]
  },
  {
   "cell_type": "code",
   "execution_count": 11,
   "id": "63cc0bc2",
   "metadata": {},
   "outputs": [],
   "source": [
    "from sagemaker.processing import ScriptProcessor, ProcessingInput, ProcessingOutput\n",
    "\n",
    "script_processor_local = ScriptProcessor(command=['python3'],\n",
    "                image_uri=processing_repository_uri,\n",
    "                role=role,\n",
    "                instance_count=1,\n",
    "                instance_type=instance_type)"
   ]
  },
  {
   "cell_type": "code",
   "execution_count": 28,
   "id": "d04a3f0c",
   "metadata": {},
   "outputs": [
    {
     "name": "stdout",
     "output_type": "stream",
     "text": [
      "\n",
      "Job Name:  sm-processing-demo-29-02-52-39\n",
      "Inputs:  [{'InputName': 'input-1', 'AppManaged': False, 'S3Input': {'S3Uri': 's3://sagemaker-us-east-1-889750940888/sm-processing-demo/data/raw', 'LocalPath': '/opt/ml/processing/input', 'S3DataType': 'S3Prefix', 'S3InputMode': 'File', 'S3DataDistributionType': 'FullyReplicated', 'S3CompressionType': 'None'}}, {'InputName': 'code', 'AppManaged': False, 'S3Input': {'S3Uri': 's3://sagemaker-us-east-1-889750940888/sm-processing-demo-29-02-52-39/input/code/preprocessing.py', 'LocalPath': '/opt/ml/processing/input/code', 'S3DataType': 'S3Prefix', 'S3InputMode': 'File', 'S3DataDistributionType': 'FullyReplicated', 'S3CompressionType': 'None'}}]\n",
      "Outputs:  [{'OutputName': 'train', 'AppManaged': False, 'S3Output': {'S3Uri': 's3://sagemaker-us-east-1-889750940888/sm-processing-demo/data/train', 'LocalPath': '/opt/ml/processing/train', 'S3UploadMode': 'EndOfJob'}}, {'OutputName': 'test', 'AppManaged': False, 'S3Output': {'S3Uri': 's3://sagemaker-us-east-1-889750940888/sm-processing-demo/data/test', 'LocalPath': '/opt/ml/processing/test', 'S3UploadMode': 'EndOfJob'}}]\n",
      "Creating k4kc1j4vji-algo-1-8rhtz ... \n",
      "Creating k4kc1j4vji-algo-1-8rhtz ... done\n",
      "Attaching to k4kc1j4vji-algo-1-8rhtz\n",
      "\u001b[36mk4kc1j4vji-algo-1-8rhtz |\u001b[0m \n",
      "\u001b[36mk4kc1j4vji-algo-1-8rhtz |\u001b[0m INPUT FILE LIST: \n",
      "\u001b[36mk4kc1j4vji-algo-1-8rhtz |\u001b[0m ['/opt/ml/processing/input/x_train.npy', '/opt/ml/processing/input/x_test.npy']\n",
      "\u001b[36mk4kc1j4vji-algo-1-8rhtz |\u001b[0m \n",
      "\u001b[36mk4kc1j4vji-algo-1-8rhtz |\u001b[0m SAVED TRANSFORMED TRAINING DATA FILE\n",
      "\u001b[36mk4kc1j4vji-algo-1-8rhtz |\u001b[0m \n",
      "\u001b[36mk4kc1j4vji-algo-1-8rhtz |\u001b[0m SAVED TRANSFORMED TEST DATA FILE\n",
      "\u001b[36mk4kc1j4vji-algo-1-8rhtz |\u001b[0m \n",
      "\u001b[36mk4kc1j4vji-algo-1-8rhtz exited with code 0\n",
      "\u001b[0mAborting on container exit...\n",
      "===== Job Complete =====\n"
     ]
    }
   ],
   "source": [
    "from sagemaker.processing import ProcessingInput, ProcessingOutput\n",
    "from time import gmtime, strftime \n",
    "\n",
    "processing_job_name = \"sm-processing-demo-{}\".format(strftime(\"%d-%H-%M-%S\", gmtime()))\n",
    "output_destination = 's3://{}/{}/data'.format(bucket, s3_prefix)\n",
    "\n",
    "script_processor_local.run(code='code/preprocessing.py',\n",
    "                      job_name=processing_job_name,\n",
    "                      inputs=[ProcessingInput(\n",
    "                        source=raw_s3,\n",
    "                        destination='/opt/ml/processing/input',\n",
    "                      # s3_data_distribution_type='ShardedByS3Key')], # ShardedByS3Key is not currently supported in Local Mode\n",
    "                        s3_data_distribution_type='FullyReplicated')],\n",
    "                      outputs=[ProcessingOutput(output_name='train',\n",
    "                                                destination='{}/train'.format(output_destination),\n",
    "                                                source='/opt/ml/processing/train'),\n",
    "                               ProcessingOutput(output_name='test',\n",
    "                                                destination='{}/test'.format(output_destination),\n",
    "                                                source='/opt/ml/processing/test')])\n",
    "\n",
    "preprocessing_job_description = script_processor_local.jobs[-1].describe()"
   ]
  },
  {
   "cell_type": "markdown",
   "id": "afaadecd",
   "metadata": {},
   "source": [
    "### SageMaker processing"
   ]
  },
  {
   "cell_type": "code",
   "execution_count": 30,
   "id": "20031330",
   "metadata": {},
   "outputs": [],
   "source": [
    "instance_type = 'ml.m5.xlarge'"
   ]
  },
  {
   "cell_type": "code",
   "execution_count": 31,
   "id": "8c2b40c8",
   "metadata": {},
   "outputs": [],
   "source": [
    "script_processor = ScriptProcessor(command=['python3'],\n",
    "                image_uri=processing_repository_uri,\n",
    "                role=role,\n",
    "                instance_count=2,\n",
    "                instance_type=instance_type)"
   ]
  },
  {
   "cell_type": "code",
   "execution_count": 32,
   "id": "81eda6fa",
   "metadata": {},
   "outputs": [
    {
     "name": "stdout",
     "output_type": "stream",
     "text": [
      "\n",
      "Job Name:  sm-processing-demo-29-02-52-39\n",
      "Inputs:  [{'InputName': 'input-1', 'AppManaged': False, 'S3Input': {'S3Uri': 's3://sagemaker-us-east-1-889750940888/sm-processing-demo/data/raw', 'LocalPath': '/opt/ml/processing/input', 'S3DataType': 'S3Prefix', 'S3InputMode': 'File', 'S3DataDistributionType': 'ShardedByS3Key', 'S3CompressionType': 'None'}}, {'InputName': 'code', 'AppManaged': False, 'S3Input': {'S3Uri': 's3://sagemaker-us-east-1-889750940888/sm-processing-demo-29-02-52-39/input/code/preprocessing.py', 'LocalPath': '/opt/ml/processing/input/code', 'S3DataType': 'S3Prefix', 'S3InputMode': 'File', 'S3DataDistributionType': 'FullyReplicated', 'S3CompressionType': 'None'}}]\n",
      "Outputs:  [{'OutputName': 'train', 'AppManaged': False, 'S3Output': {'S3Uri': 's3://sagemaker-us-east-1-889750940888/sm-processing-demo/data/train', 'LocalPath': '/opt/ml/processing/train', 'S3UploadMode': 'EndOfJob'}}, {'OutputName': 'test', 'AppManaged': False, 'S3Output': {'S3Uri': 's3://sagemaker-us-east-1-889750940888/sm-processing-demo/data/test', 'LocalPath': '/opt/ml/processing/test', 'S3UploadMode': 'EndOfJob'}}]\n",
      "........................................\u001b[34mINPUT FILE LIST: \u001b[0m\n",
      "\u001b[34m['/opt/ml/processing/input/x_train.npy']\u001b[0m\n",
      "\u001b[34mSAVED TRANSFORMED TRAINING DATA FILE\u001b[0m\n",
      "\n",
      "\u001b[34mINPUT FILE LIST: \u001b[0m\n",
      "\u001b[34m['/opt/ml/processing/input/x_test.npy']\u001b[0m\n",
      "\u001b[34mSAVED TRANSFORMED TEST DATA FILE\u001b[0m\n"
     ]
    }
   ],
   "source": [
    "script_processor.run(code='code/preprocessing.py',\n",
    "                      job_name=processing_job_name,\n",
    "                      inputs=[ProcessingInput(\n",
    "                        source=raw_s3,\n",
    "                        destination='/opt/ml/processing/input',\n",
    "                        s3_data_distribution_type='ShardedByS3Key')], # ShardedByS3Key is not currently supported in Local Mode\n",
    "#                         s3_data_distribution_type='FullyReplicated')],\n",
    "                      outputs=[ProcessingOutput(output_name='train',\n",
    "                                                destination='{}/train'.format(output_destination),\n",
    "                                                source='/opt/ml/processing/train'),\n",
    "                               ProcessingOutput(output_name='test',\n",
    "                                                destination='{}/test'.format(output_destination),\n",
    "                                                source='/opt/ml/processing/test')])\n",
    "\n",
    "preprocessing_job_description = script_processor.jobs[-1].describe()"
   ]
  },
  {
   "cell_type": "markdown",
   "id": "f29f2261",
   "metadata": {},
   "source": [
    "## SageMaker Pipelines"
   ]
  },
  {
   "cell_type": "code",
   "execution_count": 41,
   "id": "2ed095b5",
   "metadata": {},
   "outputs": [],
   "source": [
    "# # input, output S3 paths\n",
    "# code_location = 's3://{}/{}/code'.format(bucket, s3_prefix)\n",
    "input_data = 's3://{}/{}/data/raw'.format(bucket, s3_prefix)\n",
    "\n",
    "output_train = 's3://{}/{}/data/train'.format(bucket, s3_prefix)\n",
    "output_test = 's3://{}/{}/data/test'.format(bucket, s3_prefix)"
   ]
  },
  {
   "cell_type": "code",
   "execution_count": 37,
   "id": "6b4edf60",
   "metadata": {},
   "outputs": [
    {
     "name": "stdout",
     "output_type": "stream",
     "text": [
      "\n",
      "Parameter validation failed:\n",
      "Invalid bucket name \"{code_location}\": Bucket name must match the regex \"^[a-zA-Z0-9.\\-_]{1,255}$\" or be an ARN matching the regex \"^arn:(aws).*:(s3|s3-object-lambda):[a-z\\-0-9]*:[0-9]{12}:accesspoint[/:][a-zA-Z0-9\\-.]{1,63}$|^arn:(aws).*:s3-outposts:[a-z\\-0-9]+:[0-9]{12}:outpost[/:][a-zA-Z0-9\\-]{1,63}[/:]accesspoint[/:][a-zA-Z0-9\\-]{1,63}$\"\n"
     ]
    }
   ],
   "source": [
    "!aws s3 ls {code_location} --recursive"
   ]
  },
  {
   "cell_type": "code",
   "execution_count": 38,
   "id": "d9df1827",
   "metadata": {},
   "outputs": [],
   "source": [
    "from sagemaker.workflow.parameters import (\n",
    "    ParameterInteger,\n",
    "    ParameterString,\n",
    ")\n",
    "\n",
    "processing_instance_count = ParameterInteger(\n",
    "    name=\"ProcessingInstanceCount\",\n",
    "    default_value=1\n",
    ")\n",
    "processing_instance_type = ParameterString(\n",
    "    name=\"ProcessingInstanceType\",\n",
    "    default_value=\"ml.m5.xlarge\"\n",
    ")\n",
    "\n",
    "processing_input_data = ParameterString(\n",
    "    name=\"ProcessingInputData\",\n",
    "    default_value=input_data,\n",
    ")"
   ]
  },
  {
   "cell_type": "code",
   "execution_count": 39,
   "id": "db7b59ee",
   "metadata": {},
   "outputs": [],
   "source": [
    "from sagemaker.processing import ScriptProcessor\n",
    "\n",
    "script_processor = ScriptProcessor(command=['python3'],\n",
    "                image_uri=processing_repository_uri,\n",
    "                role=role,\n",
    "                instance_type=processing_instance_type,\n",
    "                instance_count=processing_instance_count)"
   ]
  },
  {
   "cell_type": "code",
   "execution_count": 42,
   "id": "a5b128cc",
   "metadata": {},
   "outputs": [],
   "source": [
    "from sagemaker.processing import ProcessingInput, ProcessingOutput\n",
    "from sagemaker.workflow.steps import ProcessingStep\n",
    "\n",
    "step_process = ProcessingStep(\n",
    "    name=\"SMProcessDemo\",\n",
    "    processor=script_processor,\n",
    "    inputs=[\n",
    "        ProcessingInput(source=input_data,\n",
    "                        destination='/opt/ml/processing/input'),\n",
    "    ],\n",
    "    outputs=[ProcessingOutput(output_name=\"train\",\n",
    "                              source='/opt/ml/processing/train',\n",
    "                              destination=output_train),\n",
    "             ProcessingOutput(output_name=\"test\",\n",
    "                              source='/opt/ml/processing/test',\n",
    "                              destination=output_test)],\n",
    "    code='code/preprocessing.py'\n",
    ")"
   ]
  },
  {
   "cell_type": "code",
   "execution_count": 43,
   "id": "b3e242bc",
   "metadata": {},
   "outputs": [],
   "source": [
    "from sagemaker.workflow.pipeline import Pipeline\n",
    "\n",
    "pipeline_name = 'sagemaker-pipeline-byoc-demo'\n",
    "pipeline = Pipeline(\n",
    "    name=pipeline_name,\n",
    "    parameters=[\n",
    "        processing_instance_type, \n",
    "        processing_instance_count,\n",
    "        processing_input_data,\n",
    "    ],\n",
    "    steps=[step_process],\n",
    ")"
   ]
  },
  {
   "cell_type": "code",
   "execution_count": 44,
   "id": "5118290a",
   "metadata": {},
   "outputs": [
    {
     "data": {
      "text/plain": [
       "{'Version': '2020-12-01',\n",
       " 'Metadata': {},\n",
       " 'Parameters': [{'Name': 'ProcessingInstanceType',\n",
       "   'Type': 'String',\n",
       "   'DefaultValue': 'ml.m5.xlarge'},\n",
       "  {'Name': 'ProcessingInstanceCount', 'Type': 'Integer', 'DefaultValue': 1},\n",
       "  {'Name': 'ProcessingInputData',\n",
       "   'Type': 'String',\n",
       "   'DefaultValue': 's3://sagemaker-us-east-1-889750940888/sm-processing-demo/data/raw'}],\n",
       " 'PipelineExperimentConfig': {'ExperimentName': {'Get': 'Execution.PipelineName'},\n",
       "  'TrialName': {'Get': 'Execution.PipelineExecutionId'}},\n",
       " 'Steps': [{'Name': 'SMProcessDemo',\n",
       "   'Type': 'Processing',\n",
       "   'Arguments': {'ProcessingResources': {'ClusterConfig': {'InstanceType': {'Get': 'Parameters.ProcessingInstanceType'},\n",
       "      'InstanceCount': {'Get': 'Parameters.ProcessingInstanceCount'},\n",
       "      'VolumeSizeInGB': 30}},\n",
       "    'AppSpecification': {'ImageUri': '889750940888.dkr.ecr.us-east-1.amazonaws.com/sagemaker-processing-container:latest',\n",
       "     'ContainerEntrypoint': ['python3',\n",
       "      '/opt/ml/processing/input/code/preprocessing.py']},\n",
       "    'RoleArn': 'arn:aws:iam::889750940888:role/service-role/AmazonSageMaker-ExecutionRole-20200219T104989',\n",
       "    'ProcessingInputs': [{'InputName': 'input-1',\n",
       "      'AppManaged': False,\n",
       "      'S3Input': {'S3Uri': 's3://sagemaker-us-east-1-889750940888/sm-processing-demo/data/raw',\n",
       "       'LocalPath': '/opt/ml/processing/input',\n",
       "       'S3DataType': 'S3Prefix',\n",
       "       'S3InputMode': 'File',\n",
       "       'S3DataDistributionType': 'FullyReplicated',\n",
       "       'S3CompressionType': 'None'}},\n",
       "     {'InputName': 'code',\n",
       "      'AppManaged': False,\n",
       "      'S3Input': {'S3Uri': 's3://sagemaker-us-east-1-889750940888/SMProcessDemo-fda0d5b7d2f956416604dc1ad86fbf94/input/code/preprocessing.py',\n",
       "       'LocalPath': '/opt/ml/processing/input/code',\n",
       "       'S3DataType': 'S3Prefix',\n",
       "       'S3InputMode': 'File',\n",
       "       'S3DataDistributionType': 'FullyReplicated',\n",
       "       'S3CompressionType': 'None'}}],\n",
       "    'ProcessingOutputConfig': {'Outputs': [{'OutputName': 'train',\n",
       "       'AppManaged': False,\n",
       "       'S3Output': {'S3Uri': 's3://sagemaker-us-east-1-889750940888/sm-processing-demo/data/train',\n",
       "        'LocalPath': '/opt/ml/processing/train',\n",
       "        'S3UploadMode': 'EndOfJob'}},\n",
       "      {'OutputName': 'test',\n",
       "       'AppManaged': False,\n",
       "       'S3Output': {'S3Uri': 's3://sagemaker-us-east-1-889750940888/sm-processing-demo/data/test',\n",
       "        'LocalPath': '/opt/ml/processing/test',\n",
       "        'S3UploadMode': 'EndOfJob'}}]}}}]}"
      ]
     },
     "execution_count": 44,
     "metadata": {},
     "output_type": "execute_result"
    }
   ],
   "source": [
    "import json\n",
    "\n",
    "definition = json.loads(pipeline.definition())\n",
    "definition"
   ]
  },
  {
   "cell_type": "code",
   "execution_count": 45,
   "id": "53495666",
   "metadata": {},
   "outputs": [
    {
     "data": {
      "text/plain": [
       "{'PipelineArn': 'arn:aws:sagemaker:us-east-1:889750940888:pipeline/sagemaker-pipeline-byoc-demo',\n",
       " 'ResponseMetadata': {'RequestId': '8a0067b5-473c-46c9-accd-c132ef37aedd',\n",
       "  'HTTPStatusCode': 200,\n",
       "  'HTTPHeaders': {'x-amzn-requestid': '8a0067b5-473c-46c9-accd-c132ef37aedd',\n",
       "   'content-type': 'application/x-amz-json-1.1',\n",
       "   'content-length': '96',\n",
       "   'date': 'Fri, 29 Apr 2022 03:08:18 GMT'},\n",
       "  'RetryAttempts': 0}}"
      ]
     },
     "execution_count": 45,
     "metadata": {},
     "output_type": "execute_result"
    }
   ],
   "source": [
    "pipeline.upsert(role_arn=role)"
   ]
  },
  {
   "cell_type": "code",
   "execution_count": 52,
   "id": "7c780a34",
   "metadata": {},
   "outputs": [],
   "source": [
    "execution = pipeline.start(\n",
    "    parameters=dict(\n",
    "        ProcessingInstanceType='ml.c5.xlarge',\n",
    "        ProcessingInstanceCount='2',\n",
    "    )\n",
    ")"
   ]
  },
  {
   "cell_type": "code",
   "execution_count": null,
   "id": "445fe13d",
   "metadata": {},
   "outputs": [],
   "source": [
    "execution.describe()\n",
    "execution.wait()"
   ]
  },
  {
   "cell_type": "code",
   "execution_count": null,
   "id": "95b24e2c",
   "metadata": {},
   "outputs": [],
   "source": [
    "execution.list_steps()"
   ]
  },
  {
   "cell_type": "code",
   "execution_count": null,
   "id": "9abeb22c",
   "metadata": {},
   "outputs": [],
   "source": []
  }
 ],
 "metadata": {
  "kernelspec": {
   "display_name": "conda_tensorflow2_p36",
   "language": "python",
   "name": "conda_tensorflow2_p36"
  },
  "language_info": {
   "codemirror_mode": {
    "name": "ipython",
    "version": 3
   },
   "file_extension": ".py",
   "mimetype": "text/x-python",
   "name": "python",
   "nbconvert_exporter": "python",
   "pygments_lexer": "ipython3",
   "version": "3.6.13"
  }
 },
 "nbformat": 4,
 "nbformat_minor": 5
}
