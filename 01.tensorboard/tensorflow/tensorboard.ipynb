{
 "cells": [
  {
   "cell_type": "markdown",
   "id": "722db4ab",
   "metadata": {},
   "source": [
    "# CIFAR-10 image classification w/ Tensorboard\n",
    "\n",
    "- Source: https://github.com/aws/amazon-sagemaker-examples/tree/master/sagemaker-python-sdk/tensorboard_keras/source_dir"
   ]
  },
  {
   "cell_type": "markdown",
   "id": "f089c628",
   "metadata": {},
   "source": [
    "## Set up the environment"
   ]
  },
  {
   "cell_type": "code",
   "execution_count": 1,
   "id": "e6619117",
   "metadata": {},
   "outputs": [
    {
     "name": "stdout",
     "output_type": "stream",
     "text": [
      "Bucket: sagemaker-us-east-1-889750940888\n",
      "SageMaker ver: 2.81.0\n",
      "Tensorflow ver: 2.6.2\n"
     ]
    }
   ],
   "source": [
    "import os\n",
    "import sagemaker\n",
    "from sagemaker import get_execution_role\n",
    "import tensorflow as tf\n",
    "from tensorflow import keras\n",
    "\n",
    "sagemaker_session = sagemaker.Session()\n",
    "\n",
    "role = get_execution_role()\n",
    "\n",
    "bucket = sagemaker_session.default_bucket()\n",
    "prefix = \"tensorboard_keras_cifar10\"\n",
    "tensorflow_logs_path = \"s3://{}/{}/logs\".format(bucket, prefix) # Key points\n",
    "\n",
    "print(\"Bucket: {}\".format(bucket))\n",
    "print(\"SageMaker ver: \" + sagemaker.__version__)\n",
    "print(\"Tensorflow ver: \" + tf.__version__)"
   ]
  },
  {
   "cell_type": "markdown",
   "id": "3e5d9173",
   "metadata": {},
   "source": [
    "## Download the CIFAR-10 dataset"
   ]
  },
  {
   "cell_type": "code",
   "execution_count": 2,
   "id": "8d3c1899",
   "metadata": {},
   "outputs": [
    {
     "name": "stdout",
     "output_type": "stream",
     "text": [
      "Downloading data from https://www.cs.toronto.edu/~kriz/cifar-10-python.tar.gz\n",
      "170500096/170498071 [==============================] - 2s 0us/step\n",
      "170508288/170498071 [==============================] - 2s 0us/step\n",
      "x_train shape: (50000, 32, 32, 3)\n",
      "50000 train samples\n",
      "10000 test samples\n"
     ]
    }
   ],
   "source": [
    "from tensorflow.keras.datasets import cifar10\n",
    "\n",
    "(x_train, y_train), (x_test, y_test) = cifar10.load_data()\n",
    "print(\"x_train shape:\", x_train.shape)\n",
    "print(x_train.shape[0], \"train samples\")\n",
    "print(x_test.shape[0], \"test samples\")"
   ]
  },
  {
   "cell_type": "markdown",
   "id": "98083b44",
   "metadata": {},
   "source": [
    "Converting dataset into TFRecord files to allow us to use SageMaker Pipe Mode."
   ]
  },
  {
   "cell_type": "code",
   "execution_count": 3,
   "id": "0b181c02",
   "metadata": {},
   "outputs": [],
   "source": [
    "import os\n",
    "\n",
    "if not os.path.exists(\"./data/validation\"):\n",
    "    os.makedirs(\"./data/validation\")\n",
    "\n",
    "if not os.path.exists(\"./data/train\"):\n",
    "    os.makedirs(\"./data/train\")\n",
    "\n",
    "\n",
    "def write_tfrecords(x, y, filename):\n",
    "    writer = tf.io.TFRecordWriter(filename)\n",
    "\n",
    "    for image, label in zip(x, y):\n",
    "        example = tf.train.Example(\n",
    "            features=tf.train.Features(\n",
    "                feature={\n",
    "                    \"image\": tf.train.Feature(\n",
    "                        bytes_list=tf.train.BytesList(value=[image.tobytes()])\n",
    "                    ),\n",
    "                    \"label\": tf.train.Feature(int64_list=tf.train.Int64List(value=[label])),\n",
    "                }\n",
    "            )\n",
    "        )\n",
    "        writer.write(example.SerializeToString())\n",
    "\n",
    "\n",
    "write_tfrecords(x_test, y_test, \"./data/validation/validation.tfrecords\")\n",
    "\n",
    "write_tfrecords(x_train, y_train, \"./data/train/train.tfrecords\")"
   ]
  },
  {
   "cell_type": "markdown",
   "id": "9bb64c60",
   "metadata": {},
   "source": [
    "## Uploading the data to s3"
   ]
  },
  {
   "cell_type": "code",
   "execution_count": 4,
   "id": "d6afe01c",
   "metadata": {},
   "outputs": [],
   "source": [
    "train_location = 's3://{}/{}/train'.format(bucket, prefix)\n",
    "validation_location = 's3://{}/{}/validation'.format(bucket, prefix)"
   ]
  },
  {
   "cell_type": "code",
   "execution_count": 5,
   "id": "de65403e",
   "metadata": {},
   "outputs": [
    {
     "name": "stdout",
     "output_type": "stream",
     "text": [
      "upload: data/validation/validation.tfrecords to s3://sagemaker-us-east-1-889750940888/tensorboard_keras_cifar10/validation/validation.tfrecords\n",
      "upload: data/train/train.tfrecords to s3://sagemaker-us-east-1-889750940888/tensorboard_keras_cifar10/train/train.tfrecords\n"
     ]
    }
   ],
   "source": [
    "!aws s3 sync ./data s3://{bucket}/{prefix}"
   ]
  },
  {
   "cell_type": "code",
   "execution_count": 6,
   "id": "77fb5226",
   "metadata": {},
   "outputs": [
    {
     "name": "stdout",
     "output_type": "stream",
     "text": [
      "2022-03-31 06:34:23  156300000 tensorboard_keras_cifar10/train/train.tfrecords\n"
     ]
    }
   ],
   "source": [
    "!aws s3 ls {train_location} --recursive"
   ]
  },
  {
   "cell_type": "code",
   "execution_count": 7,
   "id": "de07e398",
   "metadata": {},
   "outputs": [
    {
     "name": "stdout",
     "output_type": "stream",
     "text": [
      "2022-03-31 06:34:23   31260000 tensorboard_keras_cifar10/validation/validation.tfrecords\n"
     ]
    }
   ],
   "source": [
    "!aws s3 ls {validation_location} --recursive"
   ]
  },
  {
   "cell_type": "markdown",
   "id": "007f8187",
   "metadata": {},
   "source": [
    "## Local mode training"
   ]
  },
  {
   "cell_type": "code",
   "execution_count": 9,
   "id": "ce67d454",
   "metadata": {},
   "outputs": [],
   "source": [
    "keras_metric_definition = [\n",
    "    {\"Name\": \"train:loss\", \"Regex\": \".*loss: ([0-9\\\\.]+) - accuracy: [0-9\\\\.]+.*\"},\n",
    "    {\"Name\": \"train:accuracy\", \"Regex\": \".*loss: [0-9\\\\.]+ - accuracy: ([0-9\\\\.]+).*\"},\n",
    "    {\n",
    "        \"Name\": \"validation:accuracy\",\n",
    "        \"Regex\": \".*step - loss: [0-9\\\\.]+ - accuracy: [0-9\\\\.]+ - val_loss: [0-9\\\\.]+ - val_accuracy: ([0-9\\\\.]+).*\",\n",
    "    }]"
   ]
  },
  {
   "cell_type": "code",
   "execution_count": 15,
   "id": "ebe4cc8c",
   "metadata": {},
   "outputs": [
    {
     "name": "stdout",
     "output_type": "stream",
     "text": [
      "Creating 5j7xsmbzwt-algo-1-srffm ... \n",
      "Creating 5j7xsmbzwt-algo-1-srffm ... done\n",
      "Attaching to 5j7xsmbzwt-algo-1-srffm\n",
      "\u001b[36m5j7xsmbzwt-algo-1-srffm |\u001b[0m 2022-03-31 06:41:24.278129: W tensorflow/core/profiler/internal/smprofiler_timeline.cc:425] Initializing the SageMaker Profiler.\n",
      "\u001b[36m5j7xsmbzwt-algo-1-srffm |\u001b[0m 2022-03-31 06:41:24.278282: W tensorflow/core/profiler/internal/smprofiler_timeline.cc:106] SageMaker Profiler is not enabled. The timeline writer thread will not be started, future recorded events will be dropped.\n",
      "\u001b[36m5j7xsmbzwt-algo-1-srffm |\u001b[0m 2022-03-31 06:41:24.299803: W tensorflow/core/profiler/internal/smprofiler_timeline.cc:425] Initializing the SageMaker Profiler.\n",
      "\u001b[36m5j7xsmbzwt-algo-1-srffm |\u001b[0m 2022-03-31 06:41:25,774 sagemaker-training-toolkit INFO     Imported framework sagemaker_tensorflow_container.training\n",
      "\u001b[36m5j7xsmbzwt-algo-1-srffm |\u001b[0m 2022-03-31 06:41:25,782 sagemaker-training-toolkit INFO     No GPUs detected (normal if no gpus installed)\n",
      "\u001b[36m5j7xsmbzwt-algo-1-srffm |\u001b[0m 2022-03-31 06:41:26,023 sagemaker-training-toolkit INFO     Installing dependencies from requirements.txt:\n",
      "\u001b[36m5j7xsmbzwt-algo-1-srffm |\u001b[0m /usr/local/bin/python3.7 -m pip install -r requirements.txt\n",
      "\u001b[36m5j7xsmbzwt-algo-1-srffm |\u001b[0m Collecting matplotlib==3.2.1\n",
      "\u001b[36m5j7xsmbzwt-algo-1-srffm |\u001b[0m   Downloading matplotlib-3.2.1-cp37-cp37m-manylinux1_x86_64.whl (12.4 MB)\n",
      "\u001b[K     |████████████████████████████████| 12.4 MB 26.0 MB/s eta 0:00:01\n",
      "\u001b[36m5j7xsmbzwt-algo-1-srffm |\u001b[0m \u001b[?25hRequirement already satisfied: pyparsing!=2.0.4,!=2.1.2,!=2.1.6,>=2.0.1 in /usr/local/lib/python3.7/site-packages (from matplotlib==3.2.1->-r requirements.txt (line 1)) (2.4.7)\n",
      "\u001b[36m5j7xsmbzwt-algo-1-srffm |\u001b[0m Collecting kiwisolver>=1.0.1\n",
      "\u001b[36m5j7xsmbzwt-algo-1-srffm |\u001b[0m   Downloading kiwisolver-1.4.2-cp37-cp37m-manylinux_2_5_x86_64.manylinux1_x86_64.whl (1.1 MB)\n",
      "\u001b[K     |████████████████████████████████| 1.1 MB 48.2 MB/s eta 0:00:01\n",
      "\u001b[36m5j7xsmbzwt-algo-1-srffm |\u001b[0m \u001b[?25hCollecting cycler>=0.10\n",
      "\u001b[36m5j7xsmbzwt-algo-1-srffm |\u001b[0m   Downloading cycler-0.11.0-py3-none-any.whl (6.4 kB)\n",
      "\u001b[36m5j7xsmbzwt-algo-1-srffm |\u001b[0m Requirement already satisfied: python-dateutil>=2.1 in /usr/local/lib/python3.7/site-packages (from matplotlib==3.2.1->-r requirements.txt (line 1)) (2.8.1)\n",
      "\u001b[36m5j7xsmbzwt-algo-1-srffm |\u001b[0m Requirement already satisfied: numpy>=1.11 in /usr/local/lib/python3.7/site-packages (from matplotlib==3.2.1->-r requirements.txt (line 1)) (1.18.5)\n",
      "\u001b[36m5j7xsmbzwt-algo-1-srffm |\u001b[0m Collecting typing-extensions; python_version < \"3.8\"\n",
      "\u001b[36m5j7xsmbzwt-algo-1-srffm |\u001b[0m   Downloading typing_extensions-4.1.1-py3-none-any.whl (26 kB)\n",
      "\u001b[36m5j7xsmbzwt-algo-1-srffm |\u001b[0m Requirement already satisfied: six>=1.5 in /usr/local/lib/python3.7/site-packages (from python-dateutil>=2.1->matplotlib==3.2.1->-r requirements.txt (line 1)) (1.15.0)\n",
      "\u001b[36m5j7xsmbzwt-algo-1-srffm |\u001b[0m Installing collected packages: typing-extensions, kiwisolver, cycler, matplotlib\n",
      "\u001b[36m5j7xsmbzwt-algo-1-srffm |\u001b[0m Successfully installed cycler-0.11.0 kiwisolver-1.4.2 matplotlib-3.2.1 typing-extensions-4.1.1\n",
      "\u001b[36m5j7xsmbzwt-algo-1-srffm |\u001b[0m 2022-03-31 06:41:28,830 sagemaker-training-toolkit INFO     No GPUs detected (normal if no gpus installed)\n",
      "\u001b[36m5j7xsmbzwt-algo-1-srffm |\u001b[0m 2022-03-31 06:41:28,849 sagemaker-training-toolkit INFO     No GPUs detected (normal if no gpus installed)\n",
      "\u001b[36m5j7xsmbzwt-algo-1-srffm |\u001b[0m 2022-03-31 06:41:28,864 sagemaker-training-toolkit INFO     No GPUs detected (normal if no gpus installed)\n",
      "\u001b[36m5j7xsmbzwt-algo-1-srffm |\u001b[0m 2022-03-31 06:41:28,874 sagemaker-training-toolkit INFO     Invoking user script\n",
      "\u001b[36m5j7xsmbzwt-algo-1-srffm |\u001b[0m \n",
      "\u001b[36m5j7xsmbzwt-algo-1-srffm |\u001b[0m Training Env:\n",
      "\u001b[36m5j7xsmbzwt-algo-1-srffm |\u001b[0m \n",
      "\u001b[36m5j7xsmbzwt-algo-1-srffm |\u001b[0m {\n",
      "\u001b[36m5j7xsmbzwt-algo-1-srffm |\u001b[0m     \"additional_framework_parameters\": {},\n",
      "\u001b[36m5j7xsmbzwt-algo-1-srffm |\u001b[0m     \"channel_input_dirs\": {\n",
      "\u001b[36m5j7xsmbzwt-algo-1-srffm |\u001b[0m         \"train\": \"/opt/ml/input/data/train\",\n",
      "\u001b[36m5j7xsmbzwt-algo-1-srffm |\u001b[0m         \"validation\": \"/opt/ml/input/data/validation\"\n",
      "\u001b[36m5j7xsmbzwt-algo-1-srffm |\u001b[0m     },\n",
      "\u001b[36m5j7xsmbzwt-algo-1-srffm |\u001b[0m     \"current_host\": \"algo-1-srffm\",\n",
      "\u001b[36m5j7xsmbzwt-algo-1-srffm |\u001b[0m     \"framework_module\": \"sagemaker_tensorflow_container.training:main\",\n",
      "\u001b[36m5j7xsmbzwt-algo-1-srffm |\u001b[0m     \"hosts\": [\n",
      "\u001b[36m5j7xsmbzwt-algo-1-srffm |\u001b[0m         \"algo-1-srffm\"\n",
      "\u001b[36m5j7xsmbzwt-algo-1-srffm |\u001b[0m     ],\n",
      "\u001b[36m5j7xsmbzwt-algo-1-srffm |\u001b[0m     \"hyperparameters\": {\n",
      "\u001b[36m5j7xsmbzwt-algo-1-srffm |\u001b[0m         \"epochs\": 2,\n",
      "\u001b[36m5j7xsmbzwt-algo-1-srffm |\u001b[0m         \"batch-size\": 256,\n",
      "\u001b[36m5j7xsmbzwt-algo-1-srffm |\u001b[0m         \"tf-logs-path\": \"s3://sagemaker-us-east-1-889750940888/tensorboard_keras_cifar10/logs\",\n",
      "\u001b[36m5j7xsmbzwt-algo-1-srffm |\u001b[0m         \"model_dir\": \"s3://sagemaker-us-east-1-889750940888/tensorboard-example-2022-03-31-06-41-20-386/model\"\n",
      "\u001b[36m5j7xsmbzwt-algo-1-srffm |\u001b[0m     },\n",
      "\u001b[36m5j7xsmbzwt-algo-1-srffm |\u001b[0m     \"input_config_dir\": \"/opt/ml/input/config\",\n",
      "\u001b[36m5j7xsmbzwt-algo-1-srffm |\u001b[0m     \"input_data_config\": {\n",
      "\u001b[36m5j7xsmbzwt-algo-1-srffm |\u001b[0m         \"train\": {\n",
      "\u001b[36m5j7xsmbzwt-algo-1-srffm |\u001b[0m             \"TrainingInputMode\": \"File\"\n",
      "\u001b[36m5j7xsmbzwt-algo-1-srffm |\u001b[0m         },\n",
      "\u001b[36m5j7xsmbzwt-algo-1-srffm |\u001b[0m         \"validation\": {\n",
      "\u001b[36m5j7xsmbzwt-algo-1-srffm |\u001b[0m             \"TrainingInputMode\": \"File\"\n",
      "\u001b[36m5j7xsmbzwt-algo-1-srffm |\u001b[0m         }\n",
      "\u001b[36m5j7xsmbzwt-algo-1-srffm |\u001b[0m     },\n",
      "\u001b[36m5j7xsmbzwt-algo-1-srffm |\u001b[0m     \"input_dir\": \"/opt/ml/input\",\n",
      "\u001b[36m5j7xsmbzwt-algo-1-srffm |\u001b[0m     \"is_master\": true,\n",
      "\u001b[36m5j7xsmbzwt-algo-1-srffm |\u001b[0m     \"job_name\": \"tensorboard-example-2022-03-31-06-41-20-386\",\n",
      "\u001b[36m5j7xsmbzwt-algo-1-srffm |\u001b[0m     \"log_level\": 20,\n",
      "\u001b[36m5j7xsmbzwt-algo-1-srffm |\u001b[0m     \"master_hostname\": \"algo-1-srffm\",\n",
      "\u001b[36m5j7xsmbzwt-algo-1-srffm |\u001b[0m     \"model_dir\": \"/opt/ml/model\",\n",
      "\u001b[36m5j7xsmbzwt-algo-1-srffm |\u001b[0m     \"module_dir\": \"s3://sagemaker-us-east-1-889750940888/tensorboard-example-2022-03-31-06-41-20-386/source/sourcedir.tar.gz\",\n",
      "\u001b[36m5j7xsmbzwt-algo-1-srffm |\u001b[0m     \"module_name\": \"tensorboard_keras_cifar10\",\n",
      "\u001b[36m5j7xsmbzwt-algo-1-srffm |\u001b[0m     \"network_interface_name\": \"eth0\",\n",
      "\u001b[36m5j7xsmbzwt-algo-1-srffm |\u001b[0m     \"num_cpus\": 4,\n",
      "\u001b[36m5j7xsmbzwt-algo-1-srffm |\u001b[0m     \"num_gpus\": 0,\n",
      "\u001b[36m5j7xsmbzwt-algo-1-srffm |\u001b[0m     \"output_data_dir\": \"/opt/ml/output/data\",\n",
      "\u001b[36m5j7xsmbzwt-algo-1-srffm |\u001b[0m     \"output_dir\": \"/opt/ml/output\",\n",
      "\u001b[36m5j7xsmbzwt-algo-1-srffm |\u001b[0m     \"output_intermediate_dir\": \"/opt/ml/output/intermediate\",\n",
      "\u001b[36m5j7xsmbzwt-algo-1-srffm |\u001b[0m     \"resource_config\": {\n",
      "\u001b[36m5j7xsmbzwt-algo-1-srffm |\u001b[0m         \"current_host\": \"algo-1-srffm\",\n",
      "\u001b[36m5j7xsmbzwt-algo-1-srffm |\u001b[0m         \"hosts\": [\n",
      "\u001b[36m5j7xsmbzwt-algo-1-srffm |\u001b[0m             \"algo-1-srffm\"\n",
      "\u001b[36m5j7xsmbzwt-algo-1-srffm |\u001b[0m         ]\n",
      "\u001b[36m5j7xsmbzwt-algo-1-srffm |\u001b[0m     },\n",
      "\u001b[36m5j7xsmbzwt-algo-1-srffm |\u001b[0m     \"user_entry_point\": \"tensorboard_keras_cifar10.py\"\n",
      "\u001b[36m5j7xsmbzwt-algo-1-srffm |\u001b[0m }\n",
      "\u001b[36m5j7xsmbzwt-algo-1-srffm |\u001b[0m \n",
      "\u001b[36m5j7xsmbzwt-algo-1-srffm |\u001b[0m Environment variables:\n",
      "\u001b[36m5j7xsmbzwt-algo-1-srffm |\u001b[0m \n",
      "\u001b[36m5j7xsmbzwt-algo-1-srffm |\u001b[0m SM_HOSTS=[\"algo-1-srffm\"]\n",
      "\u001b[36m5j7xsmbzwt-algo-1-srffm |\u001b[0m SM_NETWORK_INTERFACE_NAME=eth0\n",
      "\u001b[36m5j7xsmbzwt-algo-1-srffm |\u001b[0m SM_HPS={\"batch-size\":256,\"epochs\":2,\"model_dir\":\"s3://sagemaker-us-east-1-889750940888/tensorboard-example-2022-03-31-06-41-20-386/model\",\"tf-logs-path\":\"s3://sagemaker-us-east-1-889750940888/tensorboard_keras_cifar10/logs\"}\n",
      "\u001b[36m5j7xsmbzwt-algo-1-srffm |\u001b[0m SM_USER_ENTRY_POINT=tensorboard_keras_cifar10.py\n",
      "\u001b[36m5j7xsmbzwt-algo-1-srffm |\u001b[0m SM_FRAMEWORK_PARAMS={}\n",
      "\u001b[36m5j7xsmbzwt-algo-1-srffm |\u001b[0m SM_RESOURCE_CONFIG={\"current_host\":\"algo-1-srffm\",\"hosts\":[\"algo-1-srffm\"]}\n",
      "\u001b[36m5j7xsmbzwt-algo-1-srffm |\u001b[0m SM_INPUT_DATA_CONFIG={\"train\":{\"TrainingInputMode\":\"File\"},\"validation\":{\"TrainingInputMode\":\"File\"}}\n",
      "\u001b[36m5j7xsmbzwt-algo-1-srffm |\u001b[0m SM_OUTPUT_DATA_DIR=/opt/ml/output/data\n",
      "\u001b[36m5j7xsmbzwt-algo-1-srffm |\u001b[0m SM_CHANNELS=[\"train\",\"validation\"]\n",
      "\u001b[36m5j7xsmbzwt-algo-1-srffm |\u001b[0m SM_CURRENT_HOST=algo-1-srffm\n",
      "\u001b[36m5j7xsmbzwt-algo-1-srffm |\u001b[0m SM_MODULE_NAME=tensorboard_keras_cifar10\n",
      "\u001b[36m5j7xsmbzwt-algo-1-srffm |\u001b[0m SM_LOG_LEVEL=20\n",
      "\u001b[36m5j7xsmbzwt-algo-1-srffm |\u001b[0m SM_FRAMEWORK_MODULE=sagemaker_tensorflow_container.training:main\n",
      "\u001b[36m5j7xsmbzwt-algo-1-srffm |\u001b[0m SM_INPUT_DIR=/opt/ml/input\n",
      "\u001b[36m5j7xsmbzwt-algo-1-srffm |\u001b[0m SM_INPUT_CONFIG_DIR=/opt/ml/input/config\n",
      "\u001b[36m5j7xsmbzwt-algo-1-srffm |\u001b[0m SM_OUTPUT_DIR=/opt/ml/output\n",
      "\u001b[36m5j7xsmbzwt-algo-1-srffm |\u001b[0m SM_NUM_CPUS=4\n",
      "\u001b[36m5j7xsmbzwt-algo-1-srffm |\u001b[0m SM_NUM_GPUS=0\n",
      "\u001b[36m5j7xsmbzwt-algo-1-srffm |\u001b[0m SM_MODEL_DIR=/opt/ml/model\n",
      "\u001b[36m5j7xsmbzwt-algo-1-srffm |\u001b[0m SM_MODULE_DIR=s3://sagemaker-us-east-1-889750940888/tensorboard-example-2022-03-31-06-41-20-386/source/sourcedir.tar.gz\n",
      "\u001b[36m5j7xsmbzwt-algo-1-srffm |\u001b[0m SM_TRAINING_ENV={\"additional_framework_parameters\":{},\"channel_input_dirs\":{\"train\":\"/opt/ml/input/data/train\",\"validation\":\"/opt/ml/input/data/validation\"},\"current_host\":\"algo-1-srffm\",\"framework_module\":\"sagemaker_tensorflow_container.training:main\",\"hosts\":[\"algo-1-srffm\"],\"hyperparameters\":{\"batch-size\":256,\"epochs\":2,\"model_dir\":\"s3://sagemaker-us-east-1-889750940888/tensorboard-example-2022-03-31-06-41-20-386/model\",\"tf-logs-path\":\"s3://sagemaker-us-east-1-889750940888/tensorboard_keras_cifar10/logs\"},\"input_config_dir\":\"/opt/ml/input/config\",\"input_data_config\":{\"train\":{\"TrainingInputMode\":\"File\"},\"validation\":{\"TrainingInputMode\":\"File\"}},\"input_dir\":\"/opt/ml/input\",\"is_master\":true,\"job_name\":\"tensorboard-example-2022-03-31-06-41-20-386\",\"log_level\":20,\"master_hostname\":\"algo-1-srffm\",\"model_dir\":\"/opt/ml/model\",\"module_dir\":\"s3://sagemaker-us-east-1-889750940888/tensorboard-example-2022-03-31-06-41-20-386/source/sourcedir.tar.gz\",\"module_name\":\"tensorboard_keras_cifar10\",\"network_interface_name\":\"eth0\",\"num_cpus\":4,\"num_gpus\":0,\"output_data_dir\":\"/opt/ml/output/data\",\"output_dir\":\"/opt/ml/output\",\"output_intermediate_dir\":\"/opt/ml/output/intermediate\",\"resource_config\":{\"current_host\":\"algo-1-srffm\",\"hosts\":[\"algo-1-srffm\"]},\"user_entry_point\":\"tensorboard_keras_cifar10.py\"}\n",
      "\u001b[36m5j7xsmbzwt-algo-1-srffm |\u001b[0m SM_USER_ARGS=[\"--batch-size\",\"256\",\"--epochs\",\"2\",\"--model_dir\",\"s3://sagemaker-us-east-1-889750940888/tensorboard-example-2022-03-31-06-41-20-386/model\",\"--tf-logs-path\",\"s3://sagemaker-us-east-1-889750940888/tensorboard_keras_cifar10/logs\"]\n",
      "\u001b[36m5j7xsmbzwt-algo-1-srffm |\u001b[0m SM_OUTPUT_INTERMEDIATE_DIR=/opt/ml/output/intermediate\n",
      "\u001b[36m5j7xsmbzwt-algo-1-srffm |\u001b[0m SM_CHANNEL_TRAIN=/opt/ml/input/data/train\n",
      "\u001b[36m5j7xsmbzwt-algo-1-srffm |\u001b[0m SM_CHANNEL_VALIDATION=/opt/ml/input/data/validation\n",
      "\u001b[36m5j7xsmbzwt-algo-1-srffm |\u001b[0m SM_HP_EPOCHS=2\n",
      "\u001b[36m5j7xsmbzwt-algo-1-srffm |\u001b[0m SM_HP_BATCH-SIZE=256\n",
      "\u001b[36m5j7xsmbzwt-algo-1-srffm |\u001b[0m SM_HP_TF-LOGS-PATH=s3://sagemaker-us-east-1-889750940888/tensorboard_keras_cifar10/logs\n",
      "\u001b[36m5j7xsmbzwt-algo-1-srffm |\u001b[0m SM_HP_MODEL_DIR=s3://sagemaker-us-east-1-889750940888/tensorboard-example-2022-03-31-06-41-20-386/model\n",
      "\u001b[36m5j7xsmbzwt-algo-1-srffm |\u001b[0m PYTHONPATH=/opt/ml/code:/usr/local/bin:/usr/local/lib/python37.zip:/usr/local/lib/python3.7:/usr/local/lib/python3.7/lib-dynload:/usr/local/lib/python3.7/site-packages\n",
      "\u001b[36m5j7xsmbzwt-algo-1-srffm |\u001b[0m \n",
      "\u001b[36m5j7xsmbzwt-algo-1-srffm |\u001b[0m Invoking script with the following command:\n",
      "\u001b[36m5j7xsmbzwt-algo-1-srffm |\u001b[0m \n",
      "\u001b[36m5j7xsmbzwt-algo-1-srffm |\u001b[0m /usr/local/bin/python3.7 tensorboard_keras_cifar10.py --batch-size 256 --epochs 2 --model_dir s3://sagemaker-us-east-1-889750940888/tensorboard-example-2022-03-31-06-41-20-386/model --tf-logs-path s3://sagemaker-us-east-1-889750940888/tensorboard_keras_cifar10/logs\n",
      "\u001b[36m5j7xsmbzwt-algo-1-srffm |\u001b[0m \n",
      "\u001b[36m5j7xsmbzwt-algo-1-srffm |\u001b[0m \n",
      "\u001b[36m5j7xsmbzwt-algo-1-srffm |\u001b[0m Epoch 1/2\n",
      "390/390 [==============================] - 127s 326ms/step - loss: 2.0678 - accuracy: 0.2281 - val_loss: 2.1177 - val_accuracy: 0.2245\n",
      "\u001b[36m5j7xsmbzwt-algo-1-srffm |\u001b[0m Epoch 2/2\n",
      "390/390 [==============================] - 121s 311ms/step - loss: 1.6125 - accuracy: 0.3957 - val_loss: 1.5679 - val_accuracy: 0.4152\n",
      "\u001b[36m5j7xsmbzwt-algo-1-srffm |\u001b[0m 2022-03-31 06:45:57,847 sagemaker-training-toolkit INFO     Reporting training SUCCESS\n",
      "\u001b[36m5j7xsmbzwt-algo-1-srffm exited with code 0\n",
      "\u001b[0mAborting on container exit...\n",
      "===== Job Complete =====\n"
     ]
    }
   ],
   "source": [
    "from sagemaker.tensorflow import TensorFlow\n",
    "\n",
    "hyperparameters = {\"epochs\": 2, \"batch-size\": 256, \"tf-logs-path\": tensorflow_logs_path}\n",
    "\n",
    "inputs = {\"train\": train_location, \"validation\": validation_location}\n",
    "\n",
    "instance_type = 'local'\n",
    "\n",
    "estimator = TensorFlow(\n",
    "    base_job_name=\"tensorboard-example\",\n",
    "    entry_point=\"tensorboard_keras_cifar10.py\",\n",
    "    source_dir=\"source_dir\",\n",
    "    role=role,\n",
    "    framework_version=\"2.2.0\",\n",
    "    py_version=\"py37\",\n",
    "    hyperparameters=hyperparameters,\n",
    "    instance_count=1,\n",
    "    instance_type=instance_type,\n",
    "    metric_definitions=keras_metric_definition,\n",
    "    input_mode=\"Pipe\"\n",
    ")\n",
    "\n",
    "estimator.fit(inputs, wait=True)"
   ]
  },
  {
   "cell_type": "markdown",
   "id": "51b2213a",
   "metadata": {},
   "source": [
    "## Hyperparameter tuning"
   ]
  },
  {
   "cell_type": "code",
   "execution_count": 18,
   "id": "178163c7",
   "metadata": {},
   "outputs": [],
   "source": [
    "shared_hyperparameters = {\"epochs\": 6, \"tf-logs-path\": tensorflow_logs_path}\n",
    "\n",
    "estimator = TensorFlow(\n",
    "    base_job_name=\"tensorboard-example-hpo\",\n",
    "    entry_point=\"tensorboard_keras_cifar10.py\",\n",
    "    source_dir=\"source_dir\",\n",
    "    role=role,\n",
    "    framework_version=\"2.2.0\",\n",
    "    py_version=\"py37\",\n",
    "    hyperparameters=shared_hyperparameters,\n",
    "    instance_count=1,\n",
    "    instance_type=\"ml.p3.2xlarge\",\n",
    "#     instance_type=\"ml.m5.xlarge\",\n",
    "    metric_definitions=keras_metric_definition,\n",
    "    input_mode=\"Pipe\",\n",
    ")"
   ]
  },
  {
   "cell_type": "code",
   "execution_count": 19,
   "id": "0e7de936",
   "metadata": {},
   "outputs": [],
   "source": [
    "from sagemaker.tuner import (\n",
    "    IntegerParameter,\n",
    "    CategoricalParameter,\n",
    "    ContinuousParameter,\n",
    "    HyperparameterTuner,\n",
    ")\n",
    "\n",
    "hyperparameter_ranges = {\n",
    "    \"learning-rate\": ContinuousParameter(0.00001, 0.001),\n",
    "    \"batch-size\": CategoricalParameter([64, 128]),\n",
    "    \"optimizer\": CategoricalParameter([\"sgd\", \"adam\", \"rmsprop\"]),\n",
    "}\n",
    "\n",
    "objective_metric_name = \"validation:accuracy\"\n",
    "\n",
    "inputs = {\"train\": train_location, \"validation\": validation_location}\n",
    "\n",
    "tuner = HyperparameterTuner(\n",
    "    estimator,\n",
    "    objective_metric_name,\n",
    "    hyperparameter_ranges,\n",
    "    metric_definitions=keras_metric_definition,\n",
    "    objective_type=\"Maximize\",\n",
    "    max_jobs=4,\n",
    "    max_parallel_jobs=2,\n",
    "    early_stopping_type=\"Auto\",\n",
    "    base_tuning_job_name=\"remote-hpo\",\n",
    ")\n",
    "\n",
    "tuner.fit(inputs, wait=False)"
   ]
  },
  {
   "cell_type": "markdown",
   "id": "3a044ccc",
   "metadata": {},
   "source": [
    "## Tensorboard"
   ]
  },
  {
   "cell_type": "code",
   "execution_count": 20,
   "id": "672e0415",
   "metadata": {
    "collapsed": true,
    "jupyter": {
     "outputs_hidden": true
    }
   },
   "outputs": [
    {
     "name": "stdout",
     "output_type": "stream",
     "text": [
      "2021-12-09 04:51:59          0 tensorboard_keras_cifar10/logs/\n",
      "2021-12-09 05:06:03          0 tensorboard_keras_cifar10/logs/remote-hpo-211209-0500-001-1765c511/\n",
      "2021-12-09 05:11:59      65424 tensorboard_keras_cifar10/logs/remote-hpo-211209-0500-001-1765c511/events.out.tfevents.1639026363.ip-10-2-196-180.ec2.internal.38.5.v2\n",
      "2021-12-09 05:11:30        364 tensorboard_keras_cifar10/logs/remote-hpo-211209-0500-001-1765c511/events.out.tfevents.1639026365.ip-10-2-196-180.ec2.internal.38.999.v2\n",
      "2021-12-09 05:06:07          0 tensorboard_keras_cifar10/logs/remote-hpo-211209-0500-001-1765c511/train/\n",
      "2021-12-09 05:11:30     367201 tensorboard_keras_cifar10/logs/remote-hpo-211209-0500-001-1765c511/train/events.out.tfevents.1639026366.ip-10-2-196-180.ec2.internal.38.1013.v2\n",
      "2021-12-09 05:06:13         40 tensorboard_keras_cifar10/logs/remote-hpo-211209-0500-001-1765c511/train/events.out.tfevents.1639026372.ip-10-2-196-180.ec2.internal.profile-empty\n",
      "2021-12-09 05:06:13          0 tensorboard_keras_cifar10/logs/remote-hpo-211209-0500-001-1765c511/train/plugins/\n",
      "2021-12-09 05:06:13          0 tensorboard_keras_cifar10/logs/remote-hpo-211209-0500-001-1765c511/train/plugins/profile/\n",
      "2021-12-09 05:06:13          0 tensorboard_keras_cifar10/logs/remote-hpo-211209-0500-001-1765c511/train/plugins/profile/2021_12_09_05_06_11/\n",
      "2021-12-09 05:06:14       6832 tensorboard_keras_cifar10/logs/remote-hpo-211209-0500-001-1765c511/train/plugins/profile/2021_12_09_05_06_11/ip-10-2-196-180.ec2.internal.input_pipeline.pb\n",
      "2021-12-09 05:06:14     144916 tensorboard_keras_cifar10/logs/remote-hpo-211209-0500-001-1765c511/train/plugins/profile/2021_12_09_05_06_11/ip-10-2-196-180.ec2.internal.kernel_stats.pb\n",
      "2021-12-09 05:06:14       8914 tensorboard_keras_cifar10/logs/remote-hpo-211209-0500-001-1765c511/train/plugins/profile/2021_12_09_05_06_11/ip-10-2-196-180.ec2.internal.overview_page.pb\n",
      "2021-12-09 05:06:14      61346 tensorboard_keras_cifar10/logs/remote-hpo-211209-0500-001-1765c511/train/plugins/profile/2021_12_09_05_06_11/ip-10-2-196-180.ec2.internal.tensorflow_stats.pb\n",
      "2021-12-09 05:06:13    1284651 tensorboard_keras_cifar10/logs/remote-hpo-211209-0500-001-1765c511/train/plugins/profile/2021_12_09_05_06_11/ip-10-2-196-180.ec2.internal.trace.json.gz\n",
      "2021-12-09 05:07:07          0 tensorboard_keras_cifar10/logs/remote-hpo-211209-0500-001-1765c511/validation/\n",
      "2021-12-09 05:11:30        636 tensorboard_keras_cifar10/logs/remote-hpo-211209-0500-001-1765c511/validation/events.out.tfevents.1639026426.ip-10-2-196-180.ec2.internal.38.33023.v2\n",
      "2021-12-09 05:06:12          0 tensorboard_keras_cifar10/logs/remote-hpo-211209-0500-002-d77330b1/\n",
      "2021-12-09 05:13:01      64996 tensorboard_keras_cifar10/logs/remote-hpo-211209-0500-002-d77330b1/events.out.tfevents.1639026371.ip-10-0-245-32.ec2.internal.38.5.v2\n",
      "2021-12-09 05:12:31        367 tensorboard_keras_cifar10/logs/remote-hpo-211209-0500-002-d77330b1/events.out.tfevents.1639026377.ip-10-0-245-32.ec2.internal.38.999.v2\n",
      "2021-12-09 05:06:18          0 tensorboard_keras_cifar10/logs/remote-hpo-211209-0500-002-d77330b1/train/\n",
      "2021-12-09 05:12:31     359557 tensorboard_keras_cifar10/logs/remote-hpo-211209-0500-002-d77330b1/train/events.out.tfevents.1639026377.ip-10-0-245-32.ec2.internal.38.1013.v2\n",
      "2021-12-09 05:06:29         40 tensorboard_keras_cifar10/logs/remote-hpo-211209-0500-002-d77330b1/train/events.out.tfevents.1639026388.ip-10-0-245-32.ec2.internal.profile-empty\n",
      "2021-12-09 05:06:29          0 tensorboard_keras_cifar10/logs/remote-hpo-211209-0500-002-d77330b1/train/plugins/\n",
      "2021-12-09 05:06:29          0 tensorboard_keras_cifar10/logs/remote-hpo-211209-0500-002-d77330b1/train/plugins/profile/\n",
      "2021-12-09 05:06:29          0 tensorboard_keras_cifar10/logs/remote-hpo-211209-0500-002-d77330b1/train/plugins/profile/2021_12_09_05_06_27/\n",
      "2021-12-09 05:06:30       6832 tensorboard_keras_cifar10/logs/remote-hpo-211209-0500-002-d77330b1/train/plugins/profile/2021_12_09_05_06_27/ip-10-0-245-32.ec2.internal.input_pipeline.pb\n",
      "2021-12-09 05:06:30     347885 tensorboard_keras_cifar10/logs/remote-hpo-211209-0500-002-d77330b1/train/plugins/profile/2021_12_09_05_06_27/ip-10-0-245-32.ec2.internal.kernel_stats.pb\n",
      "2021-12-09 05:06:30       8914 tensorboard_keras_cifar10/logs/remote-hpo-211209-0500-002-d77330b1/train/plugins/profile/2021_12_09_05_06_27/ip-10-0-245-32.ec2.internal.overview_page.pb\n",
      "2021-12-09 05:06:30     112612 tensorboard_keras_cifar10/logs/remote-hpo-211209-0500-002-d77330b1/train/plugins/profile/2021_12_09_05_06_27/ip-10-0-245-32.ec2.internal.tensorflow_stats.pb\n",
      "2021-12-09 05:06:29    1903470 tensorboard_keras_cifar10/logs/remote-hpo-211209-0500-002-d77330b1/train/plugins/profile/2021_12_09_05_06_27/ip-10-0-245-32.ec2.internal.trace.json.gz\n",
      "2021-12-09 05:07:30          0 tensorboard_keras_cifar10/logs/remote-hpo-211209-0500-002-d77330b1/validation/\n",
      "2021-12-09 05:12:31        636 tensorboard_keras_cifar10/logs/remote-hpo-211209-0500-002-d77330b1/validation/events.out.tfevents.1639026449.ip-10-0-245-32.ec2.internal.38.33415.v2\n",
      "2021-12-09 05:18:13          0 tensorboard_keras_cifar10/logs/remote-hpo-211209-0500-003-64d02496/\n",
      "2021-12-09 05:23:16      64162 tensorboard_keras_cifar10/logs/remote-hpo-211209-0500-003-64d02496/events.out.tfevents.1639027092.ip-10-0-217-23.ec2.internal.38.5.v2\n",
      "2021-12-09 05:22:47        364 tensorboard_keras_cifar10/logs/remote-hpo-211209-0500-003-64d02496/events.out.tfevents.1639027095.ip-10-0-217-23.ec2.internal.38.999.v2\n",
      "2021-12-09 05:18:16          0 tensorboard_keras_cifar10/logs/remote-hpo-211209-0500-003-64d02496/train/\n",
      "2021-12-09 05:22:46     365359 tensorboard_keras_cifar10/logs/remote-hpo-211209-0500-003-64d02496/train/events.out.tfevents.1639027095.ip-10-0-217-23.ec2.internal.38.1013.v2\n",
      "2021-12-09 05:18:23         40 tensorboard_keras_cifar10/logs/remote-hpo-211209-0500-003-64d02496/train/events.out.tfevents.1639027102.ip-10-0-217-23.ec2.internal.profile-empty\n",
      "2021-12-09 05:18:22          0 tensorboard_keras_cifar10/logs/remote-hpo-211209-0500-003-64d02496/train/plugins/\n",
      "2021-12-09 05:18:23          0 tensorboard_keras_cifar10/logs/remote-hpo-211209-0500-003-64d02496/train/plugins/profile/\n",
      "2021-12-09 05:18:23          0 tensorboard_keras_cifar10/logs/remote-hpo-211209-0500-003-64d02496/train/plugins/profile/2021_12_09_05_18_21/\n",
      "2021-12-09 05:18:23       6836 tensorboard_keras_cifar10/logs/remote-hpo-211209-0500-003-64d02496/train/plugins/profile/2021_12_09_05_18_21/ip-10-0-217-23.ec2.internal.input_pipeline.pb\n",
      "2021-12-09 05:18:23     144101 tensorboard_keras_cifar10/logs/remote-hpo-211209-0500-003-64d02496/train/plugins/profile/2021_12_09_05_18_21/ip-10-0-217-23.ec2.internal.kernel_stats.pb\n",
      "2021-12-09 05:18:23       8882 tensorboard_keras_cifar10/logs/remote-hpo-211209-0500-003-64d02496/train/plugins/profile/2021_12_09_05_18_21/ip-10-0-217-23.ec2.internal.overview_page.pb\n",
      "2021-12-09 05:18:23      61344 tensorboard_keras_cifar10/logs/remote-hpo-211209-0500-003-64d02496/train/plugins/profile/2021_12_09_05_18_21/ip-10-0-217-23.ec2.internal.tensorflow_stats.pb\n",
      "2021-12-09 05:18:23    1633919 tensorboard_keras_cifar10/logs/remote-hpo-211209-0500-003-64d02496/train/plugins/profile/2021_12_09_05_18_21/ip-10-0-217-23.ec2.internal.trace.json.gz\n",
      "2021-12-09 05:19:07          0 tensorboard_keras_cifar10/logs/remote-hpo-211209-0500-003-64d02496/validation/\n",
      "2021-12-09 05:22:46        636 tensorboard_keras_cifar10/logs/remote-hpo-211209-0500-003-64d02496/validation/events.out.tfevents.1639027146.ip-10-0-217-23.ec2.internal.38.18021.v2\n",
      "2021-12-09 05:18:35          0 tensorboard_keras_cifar10/logs/remote-hpo-211209-0500-004-108d9643/\n",
      "2021-12-09 05:18:35         40 tensorboard_keras_cifar10/logs/remote-hpo-211209-0500-004-108d9643/events.out.tfevents.1639027114.ip-10-0-202-216.ec2.internal.38.5.v2\n",
      "2021-12-09 05:18:39        274 tensorboard_keras_cifar10/logs/remote-hpo-211209-0500-004-108d9643/events.out.tfevents.1639027118.ip-10-0-202-216.ec2.internal.38.999.v2\n",
      "2021-12-09 05:18:39          0 tensorboard_keras_cifar10/logs/remote-hpo-211209-0500-004-108d9643/train/\n",
      "2021-12-09 05:23:37     316723 tensorboard_keras_cifar10/logs/remote-hpo-211209-0500-004-108d9643/train/events.out.tfevents.1639027118.ip-10-0-202-216.ec2.internal.38.1013.v2\n",
      "2021-12-09 05:18:46         40 tensorboard_keras_cifar10/logs/remote-hpo-211209-0500-004-108d9643/train/events.out.tfevents.1639027125.ip-10-0-202-216.ec2.internal.profile-empty\n",
      "2021-12-09 05:18:46          0 tensorboard_keras_cifar10/logs/remote-hpo-211209-0500-004-108d9643/train/plugins/\n",
      "2021-12-09 05:18:46          0 tensorboard_keras_cifar10/logs/remote-hpo-211209-0500-004-108d9643/train/plugins/profile/\n",
      "2021-12-09 05:18:46          0 tensorboard_keras_cifar10/logs/remote-hpo-211209-0500-004-108d9643/train/plugins/profile/2021_12_09_05_18_44/\n",
      "2021-12-09 05:18:47       6832 tensorboard_keras_cifar10/logs/remote-hpo-211209-0500-004-108d9643/train/plugins/profile/2021_12_09_05_18_44/ip-10-0-202-216.ec2.internal.input_pipeline.pb\n",
      "2021-12-09 05:18:47     347971 tensorboard_keras_cifar10/logs/remote-hpo-211209-0500-004-108d9643/train/plugins/profile/2021_12_09_05_18_44/ip-10-0-202-216.ec2.internal.kernel_stats.pb\n",
      "2021-12-09 05:18:47       8914 tensorboard_keras_cifar10/logs/remote-hpo-211209-0500-004-108d9643/train/plugins/profile/2021_12_09_05_18_44/ip-10-0-202-216.ec2.internal.overview_page.pb\n",
      "2021-12-09 05:18:47     112612 tensorboard_keras_cifar10/logs/remote-hpo-211209-0500-004-108d9643/train/plugins/profile/2021_12_09_05_18_44/ip-10-0-202-216.ec2.internal.tensorflow_stats.pb\n",
      "2021-12-09 05:18:47    1900721 tensorboard_keras_cifar10/logs/remote-hpo-211209-0500-004-108d9643/train/plugins/profile/2021_12_09_05_18_44/ip-10-0-202-216.ec2.internal.trace.json.gz\n",
      "2021-12-09 05:19:45          0 tensorboard_keras_cifar10/logs/remote-hpo-211209-0500-004-108d9643/validation/\n",
      "2021-12-09 05:23:36        536 tensorboard_keras_cifar10/logs/remote-hpo-211209-0500-004-108d9643/validation/events.out.tfevents.1639027184.ip-10-0-202-216.ec2.internal.38.33415.v2\n",
      "2021-12-09 07:57:14          0 tensorboard_keras_cifar10/logs/remote-hpo-211209-0752-001-4a5a08ac/\n",
      "2021-12-09 08:02:27      63010 tensorboard_keras_cifar10/logs/remote-hpo-211209-0752-001-4a5a08ac/events.out.tfevents.1639036633.ip-10-2-246-7.ec2.internal.38.5.v2\n",
      "2021-12-09 08:01:57        367 tensorboard_keras_cifar10/logs/remote-hpo-211209-0752-001-4a5a08ac/events.out.tfevents.1639036636.ip-10-2-246-7.ec2.internal.38.999.v2\n",
      "2021-12-09 07:57:17          0 tensorboard_keras_cifar10/logs/remote-hpo-211209-0752-001-4a5a08ac/train/\n",
      "2021-12-09 08:01:57     358328 tensorboard_keras_cifar10/logs/remote-hpo-211209-0752-001-4a5a08ac/train/events.out.tfevents.1639036636.ip-10-2-246-7.ec2.internal.38.1013.v2\n",
      "2021-12-09 07:57:25         40 tensorboard_keras_cifar10/logs/remote-hpo-211209-0752-001-4a5a08ac/train/events.out.tfevents.1639036644.ip-10-2-246-7.ec2.internal.profile-empty\n",
      "2021-12-09 07:57:25          0 tensorboard_keras_cifar10/logs/remote-hpo-211209-0752-001-4a5a08ac/train/plugins/\n",
      "2021-12-09 07:57:25          0 tensorboard_keras_cifar10/logs/remote-hpo-211209-0752-001-4a5a08ac/train/plugins/profile/\n",
      "2021-12-09 07:57:25          0 tensorboard_keras_cifar10/logs/remote-hpo-211209-0752-001-4a5a08ac/train/plugins/profile/2021_12_09_07_57_23/\n",
      "2021-12-09 07:57:26       6831 tensorboard_keras_cifar10/logs/remote-hpo-211209-0752-001-4a5a08ac/train/plugins/profile/2021_12_09_07_57_23/ip-10-2-246-7.ec2.internal.input_pipeline.pb\n",
      "2021-12-09 07:57:26     346974 tensorboard_keras_cifar10/logs/remote-hpo-211209-0752-001-4a5a08ac/train/plugins/profile/2021_12_09_07_57_23/ip-10-2-246-7.ec2.internal.kernel_stats.pb\n",
      "2021-12-09 07:57:26       8872 tensorboard_keras_cifar10/logs/remote-hpo-211209-0752-001-4a5a08ac/train/plugins/profile/2021_12_09_07_57_23/ip-10-2-246-7.ec2.internal.overview_page.pb\n",
      "2021-12-09 07:57:26     112610 tensorboard_keras_cifar10/logs/remote-hpo-211209-0752-001-4a5a08ac/train/plugins/profile/2021_12_09_07_57_23/ip-10-2-246-7.ec2.internal.tensorflow_stats.pb\n",
      "2021-12-09 07:57:25    2324677 tensorboard_keras_cifar10/logs/remote-hpo-211209-0752-001-4a5a08ac/train/plugins/profile/2021_12_09_07_57_23/ip-10-2-246-7.ec2.internal.trace.json.gz\n",
      "2021-12-09 07:58:11          0 tensorboard_keras_cifar10/logs/remote-hpo-211209-0752-001-4a5a08ac/validation/\n",
      "2021-12-09 08:01:57        636 tensorboard_keras_cifar10/logs/remote-hpo-211209-0752-001-4a5a08ac/validation/events.out.tfevents.1639036690.ip-10-2-246-7.ec2.internal.38.18413.v2\n",
      "2021-12-09 07:57:13          0 tensorboard_keras_cifar10/logs/remote-hpo-211209-0752-002-0ce1c7f0/\n",
      "2021-12-09 08:02:20      72130 tensorboard_keras_cifar10/logs/remote-hpo-211209-0752-002-0ce1c7f0/events.out.tfevents.1639036632.ip-10-2-243-213.ec2.internal.38.5.v2\n",
      "2021-12-09 08:01:49        364 tensorboard_keras_cifar10/logs/remote-hpo-211209-0752-002-0ce1c7f0/events.out.tfevents.1639036637.ip-10-2-243-213.ec2.internal.38.999.v2\n",
      "2021-12-09 07:57:18          0 tensorboard_keras_cifar10/logs/remote-hpo-211209-0752-002-0ce1c7f0/train/\n",
      "2021-12-09 08:01:49     363885 tensorboard_keras_cifar10/logs/remote-hpo-211209-0752-002-0ce1c7f0/train/events.out.tfevents.1639036637.ip-10-2-243-213.ec2.internal.38.1013.v2\n",
      "2021-12-09 07:57:26         40 tensorboard_keras_cifar10/logs/remote-hpo-211209-0752-002-0ce1c7f0/train/events.out.tfevents.1639036645.ip-10-2-243-213.ec2.internal.profile-empty\n",
      "2021-12-09 07:57:26          0 tensorboard_keras_cifar10/logs/remote-hpo-211209-0752-002-0ce1c7f0/train/plugins/\n",
      "2021-12-09 07:57:26          0 tensorboard_keras_cifar10/logs/remote-hpo-211209-0752-002-0ce1c7f0/train/plugins/profile/\n",
      "2021-12-09 07:57:26          0 tensorboard_keras_cifar10/logs/remote-hpo-211209-0752-002-0ce1c7f0/train/plugins/profile/2021_12_09_07_57_24/\n",
      "2021-12-09 07:57:27       6682 tensorboard_keras_cifar10/logs/remote-hpo-211209-0752-002-0ce1c7f0/train/plugins/profile/2021_12_09_07_57_24/ip-10-2-243-213.ec2.internal.input_pipeline.pb\n",
      "2021-12-09 07:57:27     144100 tensorboard_keras_cifar10/logs/remote-hpo-211209-0752-002-0ce1c7f0/train/plugins/profile/2021_12_09_07_57_24/ip-10-2-243-213.ec2.internal.kernel_stats.pb\n",
      "2021-12-09 07:57:27       8727 tensorboard_keras_cifar10/logs/remote-hpo-211209-0752-002-0ce1c7f0/train/plugins/profile/2021_12_09_07_57_24/ip-10-2-243-213.ec2.internal.overview_page.pb\n",
      "2021-12-09 07:57:27      61104 tensorboard_keras_cifar10/logs/remote-hpo-211209-0752-002-0ce1c7f0/train/plugins/profile/2021_12_09_07_57_24/ip-10-2-243-213.ec2.internal.tensorflow_stats.pb\n",
      "2021-12-09 07:57:26    1763417 tensorboard_keras_cifar10/logs/remote-hpo-211209-0752-002-0ce1c7f0/train/plugins/profile/2021_12_09_07_57_24/ip-10-2-243-213.ec2.internal.trace.json.gz\n",
      "2021-12-09 07:58:11          0 tensorboard_keras_cifar10/logs/remote-hpo-211209-0752-002-0ce1c7f0/validation/\n",
      "2021-12-09 08:01:49        636 tensorboard_keras_cifar10/logs/remote-hpo-211209-0752-002-0ce1c7f0/validation/events.out.tfevents.1639036690.ip-10-2-243-213.ec2.internal.38.18021.v2\n",
      "2021-12-09 08:04:54          0 tensorboard_keras_cifar10/logs/remote-hpo-211209-0752-003-d4c98e85/\n",
      "2021-12-09 08:04:54         40 tensorboard_keras_cifar10/logs/remote-hpo-211209-0752-003-d4c98e85/events.out.tfevents.1639037093.ip-10-0-91-236.ec2.internal.38.5.v2\n",
      "2021-12-09 08:04:58        274 tensorboard_keras_cifar10/logs/remote-hpo-211209-0752-003-d4c98e85/events.out.tfevents.1639037097.ip-10-0-91-236.ec2.internal.38.999.v2\n",
      "2021-12-09 08:04:58          0 tensorboard_keras_cifar10/logs/remote-hpo-211209-0752-003-d4c98e85/train/\n",
      "2021-12-09 08:10:03     316499 tensorboard_keras_cifar10/logs/remote-hpo-211209-0752-003-d4c98e85/train/events.out.tfevents.1639037097.ip-10-0-91-236.ec2.internal.38.1013.v2\n",
      "2021-12-09 08:05:06         40 tensorboard_keras_cifar10/logs/remote-hpo-211209-0752-003-d4c98e85/train/events.out.tfevents.1639037105.ip-10-0-91-236.ec2.internal.profile-empty\n",
      "2021-12-09 08:05:06          0 tensorboard_keras_cifar10/logs/remote-hpo-211209-0752-003-d4c98e85/train/plugins/\n",
      "2021-12-09 08:05:06          0 tensorboard_keras_cifar10/logs/remote-hpo-211209-0752-003-d4c98e85/train/plugins/profile/\n",
      "2021-12-09 08:05:06          0 tensorboard_keras_cifar10/logs/remote-hpo-211209-0752-003-d4c98e85/train/plugins/profile/2021_12_09_08_05_04/\n",
      "2021-12-09 08:05:07       6832 tensorboard_keras_cifar10/logs/remote-hpo-211209-0752-003-d4c98e85/train/plugins/profile/2021_12_09_08_05_04/ip-10-0-91-236.ec2.internal.input_pipeline.pb\n",
      "2021-12-09 08:05:07     347637 tensorboard_keras_cifar10/logs/remote-hpo-211209-0752-003-d4c98e85/train/plugins/profile/2021_12_09_08_05_04/ip-10-0-91-236.ec2.internal.kernel_stats.pb\n",
      "2021-12-09 08:05:07       8914 tensorboard_keras_cifar10/logs/remote-hpo-211209-0752-003-d4c98e85/train/plugins/profile/2021_12_09_08_05_04/ip-10-0-91-236.ec2.internal.overview_page.pb\n",
      "2021-12-09 08:05:07     112424 tensorboard_keras_cifar10/logs/remote-hpo-211209-0752-003-d4c98e85/train/plugins/profile/2021_12_09_08_05_04/ip-10-0-91-236.ec2.internal.tensorflow_stats.pb\n",
      "2021-12-09 08:05:07    1876226 tensorboard_keras_cifar10/logs/remote-hpo-211209-0752-003-d4c98e85/train/plugins/profile/2021_12_09_08_05_04/ip-10-0-91-236.ec2.internal.trace.json.gz\n",
      "2021-12-09 08:06:06          0 tensorboard_keras_cifar10/logs/remote-hpo-211209-0752-003-d4c98e85/validation/\n",
      "2021-12-09 08:10:03        536 tensorboard_keras_cifar10/logs/remote-hpo-211209-0752-003-d4c98e85/validation/events.out.tfevents.1639037165.ip-10-0-91-236.ec2.internal.38.33415.v2\n",
      "2021-12-09 08:08:38          0 tensorboard_keras_cifar10/logs/remote-hpo-211209-0752-004-7872abfb/\n",
      "2021-12-09 08:15:07      63722 tensorboard_keras_cifar10/logs/remote-hpo-211209-0752-004-7872abfb/events.out.tfevents.1639037317.ip-10-0-248-221.ec2.internal.38.5.v2\n",
      "2021-12-09 08:14:37        367 tensorboard_keras_cifar10/logs/remote-hpo-211209-0752-004-7872abfb/events.out.tfevents.1639037320.ip-10-0-248-221.ec2.internal.38.999.v2\n",
      "2021-12-09 08:08:41          0 tensorboard_keras_cifar10/logs/remote-hpo-211209-0752-004-7872abfb/train/\n",
      "2021-12-09 08:14:37     363087 tensorboard_keras_cifar10/logs/remote-hpo-211209-0752-004-7872abfb/train/events.out.tfevents.1639037320.ip-10-0-248-221.ec2.internal.38.1013.v2\n",
      "2021-12-09 08:08:49         40 tensorboard_keras_cifar10/logs/remote-hpo-211209-0752-004-7872abfb/train/events.out.tfevents.1639037328.ip-10-0-248-221.ec2.internal.profile-empty\n",
      "2021-12-09 08:08:49          0 tensorboard_keras_cifar10/logs/remote-hpo-211209-0752-004-7872abfb/train/plugins/\n",
      "2021-12-09 08:08:49          0 tensorboard_keras_cifar10/logs/remote-hpo-211209-0752-004-7872abfb/train/plugins/profile/\n",
      "2021-12-09 08:08:49          0 tensorboard_keras_cifar10/logs/remote-hpo-211209-0752-004-7872abfb/train/plugins/profile/2021_12_09_08_08_47/\n",
      "2021-12-09 08:08:50       6832 tensorboard_keras_cifar10/logs/remote-hpo-211209-0752-004-7872abfb/train/plugins/profile/2021_12_09_08_08_47/ip-10-0-248-221.ec2.internal.input_pipeline.pb\n",
      "2021-12-09 08:08:50     347790 tensorboard_keras_cifar10/logs/remote-hpo-211209-0752-004-7872abfb/train/plugins/profile/2021_12_09_08_08_47/ip-10-0-248-221.ec2.internal.kernel_stats.pb\n",
      "2021-12-09 08:08:50       8914 tensorboard_keras_cifar10/logs/remote-hpo-211209-0752-004-7872abfb/train/plugins/profile/2021_12_09_08_08_47/ip-10-0-248-221.ec2.internal.overview_page.pb\n",
      "2021-12-09 08:08:50     112612 tensorboard_keras_cifar10/logs/remote-hpo-211209-0752-004-7872abfb/train/plugins/profile/2021_12_09_08_08_47/ip-10-0-248-221.ec2.internal.tensorflow_stats.pb\n",
      "2021-12-09 08:08:49    1946071 tensorboard_keras_cifar10/logs/remote-hpo-211209-0752-004-7872abfb/train/plugins/profile/2021_12_09_08_08_47/ip-10-0-248-221.ec2.internal.trace.json.gz\n",
      "2021-12-09 08:09:48          0 tensorboard_keras_cifar10/logs/remote-hpo-211209-0752-004-7872abfb/validation/\n",
      "2021-12-09 08:14:37        636 tensorboard_keras_cifar10/logs/remote-hpo-211209-0752-004-7872abfb/validation/events.out.tfevents.1639037387.ip-10-0-248-221.ec2.internal.38.33415.v2\n",
      "2021-12-09 04:51:59          0 tensorboard_keras_cifar10/logs/tensorboard-example-2021-12-09-04-51-00-000/\n",
      "2021-12-09 04:51:59         40 tensorboard_keras_cifar10/logs/tensorboard-example-2021-12-09-04-51-00-000/events.out.tfevents.1639025518.f6cfe78625fc.27.5.v2\n",
      "2021-12-09 04:52:00        279 tensorboard_keras_cifar10/logs/tensorboard-example-2021-12-09-04-51-00-000/events.out.tfevents.1639025519.f6cfe78625fc.27.1009.v2\n",
      "2021-12-09 04:52:00          0 tensorboard_keras_cifar10/logs/tensorboard-example-2021-12-09-04-51-00-000/train/\n",
      "2021-12-09 04:53:49     127413 tensorboard_keras_cifar10/logs/tensorboard-example-2021-12-09-04-51-00-000/train/events.out.tfevents.1639025519.f6cfe78625fc.27.1023.v2\n",
      "2021-12-09 04:52:12         40 tensorboard_keras_cifar10/logs/tensorboard-example-2021-12-09-04-51-00-000/train/events.out.tfevents.1639025531.f6cfe78625fc.profile-empty\n",
      "2021-12-09 04:52:11          0 tensorboard_keras_cifar10/logs/tensorboard-example-2021-12-09-04-51-00-000/train/plugins/\n",
      "2021-12-09 04:52:12          0 tensorboard_keras_cifar10/logs/tensorboard-example-2021-12-09-04-51-00-000/train/plugins/profile/\n",
      "2021-12-09 04:52:12          0 tensorboard_keras_cifar10/logs/tensorboard-example-2021-12-09-04-51-00-000/train/plugins/profile/2021_12_09_04_52_10/\n",
      "2021-12-09 04:52:12       6223 tensorboard_keras_cifar10/logs/tensorboard-example-2021-12-09-04-51-00-000/train/plugins/profile/2021_12_09_04_52_10/f6cfe78625fc.input_pipeline.pb\n",
      "2021-12-09 04:52:12          0 tensorboard_keras_cifar10/logs/tensorboard-example-2021-12-09-04-51-00-000/train/plugins/profile/2021_12_09_04_52_10/f6cfe78625fc.kernel_stats.pb\n",
      "2021-12-09 04:52:12       7036 tensorboard_keras_cifar10/logs/tensorboard-example-2021-12-09-04-51-00-000/train/plugins/profile/2021_12_09_04_52_10/f6cfe78625fc.overview_page.pb\n",
      "2021-12-09 04:52:12      87653 tensorboard_keras_cifar10/logs/tensorboard-example-2021-12-09-04-51-00-000/train/plugins/profile/2021_12_09_04_52_10/f6cfe78625fc.tensorflow_stats.pb\n",
      "2021-12-09 04:52:12    1695390 tensorboard_keras_cifar10/logs/tensorboard-example-2021-12-09-04-51-00-000/train/plugins/profile/2021_12_09_04_52_10/f6cfe78625fc.trace.json.gz\n",
      "2021-12-09 04:53:49          0 tensorboard_keras_cifar10/logs/tensorboard-example-2021-12-09-04-51-00-000/validation/\n",
      "2021-12-09 04:53:49        136 tensorboard_keras_cifar10/logs/tensorboard-example-2021-12-09-04-51-00-000/validation/events.out.tfevents.1639025628.f6cfe78625fc.27.5533.v2\n",
      "2021-12-09 05:13:37          0 tensorboard_keras_cifar10/logs/tensorboard-example-2021-12-09-05-13-26-251/\n",
      "2021-12-09 05:17:23      71161 tensorboard_keras_cifar10/logs/tensorboard-example-2021-12-09-05-13-26-251/events.out.tfevents.1639026816.9b97ea189753.27.5.v2\n",
      "2021-12-09 05:17:11        372 tensorboard_keras_cifar10/logs/tensorboard-example-2021-12-09-05-13-26-251/events.out.tfevents.1639026817.9b97ea189753.27.1009.v2\n",
      "2021-12-09 05:13:38          0 tensorboard_keras_cifar10/logs/tensorboard-example-2021-12-09-05-13-26-251/train/\n",
      "2021-12-09 05:17:10     182147 tensorboard_keras_cifar10/logs/tensorboard-example-2021-12-09-05-13-26-251/train/events.out.tfevents.1639026817.9b97ea189753.27.1023.v2\n",
      "2021-12-09 05:13:50         40 tensorboard_keras_cifar10/logs/tensorboard-example-2021-12-09-05-13-26-251/train/events.out.tfevents.1639026829.9b97ea189753.profile-empty\n",
      "2021-12-09 05:13:50          0 tensorboard_keras_cifar10/logs/tensorboard-example-2021-12-09-05-13-26-251/train/plugins/\n",
      "2021-12-09 05:13:50          0 tensorboard_keras_cifar10/logs/tensorboard-example-2021-12-09-05-13-26-251/train/plugins/profile/\n",
      "2021-12-09 05:13:50          0 tensorboard_keras_cifar10/logs/tensorboard-example-2021-12-09-05-13-26-251/train/plugins/profile/2021_12_09_05_13_48/\n",
      "2021-12-09 05:13:50       6270 tensorboard_keras_cifar10/logs/tensorboard-example-2021-12-09-05-13-26-251/train/plugins/profile/2021_12_09_05_13_48/9b97ea189753.input_pipeline.pb\n",
      "2021-12-09 05:13:50          0 tensorboard_keras_cifar10/logs/tensorboard-example-2021-12-09-05-13-26-251/train/plugins/profile/2021_12_09_05_13_48/9b97ea189753.kernel_stats.pb\n",
      "2021-12-09 05:13:50       7103 tensorboard_keras_cifar10/logs/tensorboard-example-2021-12-09-05-13-26-251/train/plugins/profile/2021_12_09_05_13_48/9b97ea189753.overview_page.pb\n",
      "2021-12-09 05:13:50      87653 tensorboard_keras_cifar10/logs/tensorboard-example-2021-12-09-05-13-26-251/train/plugins/profile/2021_12_09_05_13_48/9b97ea189753.tensorflow_stats.pb\n",
      "2021-12-09 05:13:50    1696250 tensorboard_keras_cifar10/logs/tensorboard-example-2021-12-09-05-13-26-251/train/plugins/profile/2021_12_09_05_13_48/9b97ea189753.trace.json.gz\n",
      "2021-12-09 05:15:25          0 tensorboard_keras_cifar10/logs/tensorboard-example-2021-12-09-05-13-26-251/validation/\n",
      "2021-12-09 05:17:10        236 tensorboard_keras_cifar10/logs/tensorboard-example-2021-12-09-05-13-26-251/validation/events.out.tfevents.1639026924.9b97ea189753.27.5533.v2\n",
      "2022-03-31 06:41:32          0 tensorboard_keras_cifar10/logs/tensorboard-example-2022-03-31-06-41-20-386/\n",
      "2022-03-31 06:45:58      72788 tensorboard_keras_cifar10/logs/tensorboard-example-2022-03-31-06-41-20-386/events.out.tfevents.1648708891.564d8e037d91.28.5.v2\n",
      "2022-03-31 06:45:44        372 tensorboard_keras_cifar10/logs/tensorboard-example-2022-03-31-06-41-20-386/events.out.tfevents.1648708892.564d8e037d91.28.1009.v2\n",
      "2022-03-31 06:41:33          0 tensorboard_keras_cifar10/logs/tensorboard-example-2022-03-31-06-41-20-386/train/\n",
      "2022-03-31 06:45:44     180723 tensorboard_keras_cifar10/logs/tensorboard-example-2022-03-31-06-41-20-386/train/events.out.tfevents.1648708892.564d8e037d91.28.1023.v2\n",
      "2022-03-31 06:41:46         40 tensorboard_keras_cifar10/logs/tensorboard-example-2022-03-31-06-41-20-386/train/events.out.tfevents.1648708905.564d8e037d91.profile-empty\n",
      "2022-03-31 06:41:46          0 tensorboard_keras_cifar10/logs/tensorboard-example-2022-03-31-06-41-20-386/train/plugins/\n",
      "2022-03-31 06:41:46          0 tensorboard_keras_cifar10/logs/tensorboard-example-2022-03-31-06-41-20-386/train/plugins/profile/\n",
      "2022-03-31 06:41:46          0 tensorboard_keras_cifar10/logs/tensorboard-example-2022-03-31-06-41-20-386/train/plugins/profile/2022_03_31_06_41_45/\n",
      "2022-03-31 06:41:47       6270 tensorboard_keras_cifar10/logs/tensorboard-example-2022-03-31-06-41-20-386/train/plugins/profile/2022_03_31_06_41_45/564d8e037d91.input_pipeline.pb\n",
      "2022-03-31 06:41:47          0 tensorboard_keras_cifar10/logs/tensorboard-example-2022-03-31-06-41-20-386/train/plugins/profile/2022_03_31_06_41_45/564d8e037d91.kernel_stats.pb\n",
      "2022-03-31 06:41:47       7103 tensorboard_keras_cifar10/logs/tensorboard-example-2022-03-31-06-41-20-386/train/plugins/profile/2022_03_31_06_41_45/564d8e037d91.overview_page.pb\n",
      "2022-03-31 06:41:47      87653 tensorboard_keras_cifar10/logs/tensorboard-example-2022-03-31-06-41-20-386/train/plugins/profile/2022_03_31_06_41_45/564d8e037d91.tensorflow_stats.pb\n",
      "2022-03-31 06:41:47    1706588 tensorboard_keras_cifar10/logs/tensorboard-example-2022-03-31-06-41-20-386/train/plugins/profile/2022_03_31_06_41_45/564d8e037d91.trace.json.gz\n",
      "2022-03-31 06:43:42          0 tensorboard_keras_cifar10/logs/tensorboard-example-2022-03-31-06-41-20-386/validation/\n",
      "2022-03-31 06:45:43        236 tensorboard_keras_cifar10/logs/tensorboard-example-2022-03-31-06-41-20-386/validation/events.out.tfevents.1648709021.564d8e037d91.28.5533.v2\n"
     ]
    }
   ],
   "source": [
    "!aws s3 ls {tensorflow_logs_path} --recursive"
   ]
  },
  {
   "cell_type": "code",
   "execution_count": 25,
   "id": "8cb7c8e7",
   "metadata": {},
   "outputs": [
    {
     "name": "stdout",
     "output_type": "stream",
     "text": [
      "2.6.0\n"
     ]
    }
   ],
   "source": [
    "!tensorboard --version"
   ]
  },
  {
   "cell_type": "code",
   "execution_count": 24,
   "id": "eb45eba5",
   "metadata": {},
   "outputs": [
    {
     "name": "stdout",
     "output_type": "stream",
     "text": [
      "Exception in thread Reloader:\n",
      "Traceback (most recent call last):\n",
      "  File \"/home/ec2-user/anaconda3/envs/tensorflow2_p36/lib/python3.6/threading.py\", line 916, in _bootstrap_inner\n",
      "    self.run()\n",
      "  File \"/home/ec2-user/anaconda3/envs/tensorflow2_p36/lib/python3.6/threading.py\", line 864, in run\n",
      "    self._target(*self._args, **self._kwargs)\n",
      "  File \"/home/ec2-user/anaconda3/envs/tensorflow2_p36/lib/python3.6/site-packages/tensorboard/backend/event_processing/data_ingester.py\", line 98, in _reload\n",
      "    self._multiplexer.AddRunsFromDirectory(path, name)\n",
      "  File \"/home/ec2-user/anaconda3/envs/tensorflow2_p36/lib/python3.6/site-packages/tensorboard/backend/event_processing/plugin_event_multiplexer.py\", line 198, in AddRunsFromDirectory\n",
      "    for subdir in io_wrapper.GetLogdirSubdirectories(path):\n",
      "  File \"/home/ec2-user/anaconda3/envs/tensorflow2_p36/lib/python3.6/site-packages/tensorboard/backend/event_processing/io_wrapper.py\", line 202, in GetLogdirSubdirectories\n",
      "    if not tf.io.gfile.exists(path):\n",
      "  File \"/home/ec2-user/anaconda3/envs/tensorflow2_p36/lib/python3.6/site-packages/tensorflow/python/lib/io/file_io.py\", line 291, in file_exists_v2\n",
      "    _pywrap_file_io.FileExists(compat.path_to_bytes(path))\n",
      "tensorflow.python.framework.errors_impl.UnimplementedError: File system scheme 's3' not implemented (file: 's3://sagemaker-us-east-1-889750940888/tensorboard_keras_cifar10/logs')\n",
      "\n",
      "Serving TensorBoard on localhost; to expose to the network, use a proxy or pass --bind_all\n",
      "TensorBoard 2.6.0 at http://localhost:6006/ (Press CTRL+C to quit)\n",
      "^C\n"
     ]
    }
   ],
   "source": [
    "aws_region = sagemaker_session.boto_region_name\n",
    "!AWS_REGION={aws_region}\n",
    "# !echo tensorboard --logdir {tensorflow_logs_path}\n",
    "!tensorboard --logdir {tensorflow_logs_path}"
   ]
  },
  {
   "cell_type": "markdown",
   "id": "45cccc78",
   "metadata": {},
   "source": [
    "Tensorboard URL: https://YOUR-NOTEBOK-INSTANCE-NAME.notebook.YOUR-REGION.sagemaker.aws/proxy/6006/ \n",
    "\n",
    "https://sinjoonk-p2.notebook.us-east-1.sagemaker.aws/proxy/6006/"
   ]
  },
  {
   "cell_type": "code",
   "execution_count": 22,
   "id": "1a1879c7",
   "metadata": {},
   "outputs": [
    {
     "data": {
      "text/plain": [
       "'s3://sagemaker-us-east-1-889750940888/tensorboard_keras_cifar10/logs'"
      ]
     },
     "execution_count": 22,
     "metadata": {},
     "output_type": "execute_result"
    }
   ],
   "source": [
    "tensorflow_logs_path"
   ]
  },
  {
   "cell_type": "code",
   "execution_count": null,
   "id": "17f94b7a",
   "metadata": {},
   "outputs": [],
   "source": []
  }
 ],
 "metadata": {
  "kernelspec": {
   "display_name": "conda_tensorflow2_p36",
   "language": "python",
   "name": "conda_tensorflow2_p36"
  },
  "language_info": {
   "codemirror_mode": {
    "name": "ipython",
    "version": 3
   },
   "file_extension": ".py",
   "mimetype": "text/x-python",
   "name": "python",
   "nbconvert_exporter": "python",
   "pygments_lexer": "ipython3",
   "version": "3.6.13"
  }
 },
 "nbformat": 4,
 "nbformat_minor": 5
}
