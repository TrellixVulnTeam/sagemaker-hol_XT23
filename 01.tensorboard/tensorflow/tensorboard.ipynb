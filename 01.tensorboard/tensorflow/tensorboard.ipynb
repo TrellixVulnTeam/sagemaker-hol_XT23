{
 "cells": [
  {
   "cell_type": "markdown",
   "id": "b4afc41d",
   "metadata": {},
   "source": [
    "# CIFAR-10 image classification w/ Tensorboard\n",
    "\n",
    "- Source: https://github.com/aws/amazon-sagemaker-examples/tree/master/sagemaker-python-sdk/tensorboard_keras/source_dir"
   ]
  },
  {
   "cell_type": "markdown",
   "id": "5ad433b3",
   "metadata": {},
   "source": [
    "## Set up the environment"
   ]
  },
  {
   "cell_type": "code",
   "execution_count": 1,
   "id": "dbd66cc3",
   "metadata": {},
   "outputs": [
    {
     "name": "stdout",
     "output_type": "stream",
     "text": [
      "Bucket: sagemaker-ap-northeast-2-889750940888\n",
      "SageMaker ver: 2.68.0\n",
      "Tensorflow ver: 2.4.3\n"
     ]
    }
   ],
   "source": [
    "import os\n",
    "import sagemaker\n",
    "from sagemaker import get_execution_role\n",
    "import tensorflow as tf\n",
    "from tensorflow import keras\n",
    "\n",
    "sagemaker_session = sagemaker.Session()\n",
    "\n",
    "role = get_execution_role()\n",
    "\n",
    "bucket = sagemaker_session.default_bucket()\n",
    "prefix = \"tensorboard_keras_cifar10\"\n",
    "tensorflow_logs_path = \"s3://{}/{}/logs\".format(bucket, prefix) # Key points\n",
    "\n",
    "print(\"Bucket: {}\".format(bucket))\n",
    "print(\"SageMaker ver: \" + sagemaker.__version__)\n",
    "print(\"Tensorflow ver: \" + tf.__version__)"
   ]
  },
  {
   "cell_type": "markdown",
   "id": "5688f1ec",
   "metadata": {},
   "source": [
    "## Download the CIFAR-10 dataset"
   ]
  },
  {
   "cell_type": "code",
   "execution_count": 2,
   "id": "67963e30",
   "metadata": {},
   "outputs": [
    {
     "name": "stdout",
     "output_type": "stream",
     "text": [
      "Downloading data from https://www.cs.toronto.edu/~kriz/cifar-10-python.tar.gz\n",
      "170500096/170498071 [==============================] - 12s 0us/step\n",
      "x_train shape: (50000, 32, 32, 3)\n",
      "50000 train samples\n",
      "10000 test samples\n"
     ]
    }
   ],
   "source": [
    "from tensorflow.keras.datasets import cifar10\n",
    "\n",
    "(x_train, y_train), (x_test, y_test) = cifar10.load_data()\n",
    "print(\"x_train shape:\", x_train.shape)\n",
    "print(x_train.shape[0], \"train samples\")\n",
    "print(x_test.shape[0], \"test samples\")"
   ]
  },
  {
   "cell_type": "markdown",
   "id": "1e34b42d",
   "metadata": {},
   "source": [
    "Converting dataset into TFRecord files to allow us to use SageMaker Pipe Mode."
   ]
  },
  {
   "cell_type": "code",
   "execution_count": 3,
   "id": "83a9ae40",
   "metadata": {},
   "outputs": [],
   "source": [
    "import os\n",
    "\n",
    "if not os.path.exists(\"./data/validation\"):\n",
    "    os.makedirs(\"./data/validation\")\n",
    "\n",
    "if not os.path.exists(\"./data/train\"):\n",
    "    os.makedirs(\"./data/train\")\n",
    "\n",
    "\n",
    "def write_tfrecords(x, y, filename):\n",
    "    writer = tf.io.TFRecordWriter(filename)\n",
    "\n",
    "    for image, label in zip(x, y):\n",
    "        example = tf.train.Example(\n",
    "            features=tf.train.Features(\n",
    "                feature={\n",
    "                    \"image\": tf.train.Feature(\n",
    "                        bytes_list=tf.train.BytesList(value=[image.tobytes()])\n",
    "                    ),\n",
    "                    \"label\": tf.train.Feature(int64_list=tf.train.Int64List(value=[label])),\n",
    "                }\n",
    "            )\n",
    "        )\n",
    "        writer.write(example.SerializeToString())\n",
    "\n",
    "\n",
    "write_tfrecords(x_test, y_test, \"./data/validation/validation.tfrecords\")\n",
    "\n",
    "write_tfrecords(x_train, y_train, \"./data/train/train.tfrecords\")"
   ]
  },
  {
   "cell_type": "markdown",
   "id": "467fc271",
   "metadata": {},
   "source": [
    "## Uploading the data to s3"
   ]
  },
  {
   "cell_type": "code",
   "execution_count": 4,
   "id": "b5c8b106",
   "metadata": {},
   "outputs": [],
   "source": [
    "train_location = 's3://{}/{}/train'.format(bucket, prefix)\n",
    "validation_location = 's3://{}/{}/validation'.format(bucket, prefix)"
   ]
  },
  {
   "cell_type": "code",
   "execution_count": 5,
   "id": "e2eda76d",
   "metadata": {},
   "outputs": [
    {
     "name": "stdout",
     "output_type": "stream",
     "text": [
      "upload: data/validation/validation.tfrecords to s3://sagemaker-ap-northeast-2-889750940888/tensorboard_keras_cifar10/validation/validation.tfrecords\n",
      "upload: data/train/train.tfrecords to s3://sagemaker-ap-northeast-2-889750940888/tensorboard_keras_cifar10/train/train.tfrecords\n"
     ]
    }
   ],
   "source": [
    "!aws s3 sync ./data s3://{bucket}/{prefix}"
   ]
  },
  {
   "cell_type": "code",
   "execution_count": 6,
   "id": "a70a1c22",
   "metadata": {},
   "outputs": [
    {
     "name": "stdout",
     "output_type": "stream",
     "text": [
      "2021-12-22 01:04:36  156300000 tensorboard_keras_cifar10/train/train.tfrecords\n"
     ]
    }
   ],
   "source": [
    "!aws s3 ls {train_location} --recursive"
   ]
  },
  {
   "cell_type": "code",
   "execution_count": 7,
   "id": "9e9217e0",
   "metadata": {},
   "outputs": [
    {
     "name": "stdout",
     "output_type": "stream",
     "text": [
      "2021-12-22 01:04:36   31260000 tensorboard_keras_cifar10/validation/validation.tfrecords\n"
     ]
    }
   ],
   "source": [
    "!aws s3 ls {validation_location} --recursive"
   ]
  },
  {
   "cell_type": "markdown",
   "id": "3346bfbb",
   "metadata": {},
   "source": [
    "## Local mode training"
   ]
  },
  {
   "cell_type": "code",
   "execution_count": 8,
   "id": "fc6b43ef",
   "metadata": {},
   "outputs": [],
   "source": [
    "keras_metric_definition = [\n",
    "    {\"Name\": \"train:loss\", \"Regex\": \".*loss: ([0-9\\\\.]+) - accuracy: [0-9\\\\.]+.*\"},\n",
    "    {\"Name\": \"train:accuracy\", \"Regex\": \".*loss: [0-9\\\\.]+ - accuracy: ([0-9\\\\.]+).*\"},\n",
    "    {\n",
    "        \"Name\": \"validation:accuracy\",\n",
    "        \"Regex\": \".*step - loss: [0-9\\\\.]+ - accuracy: [0-9\\\\.]+ - val_loss: [0-9\\\\.]+ - val_accuracy: ([0-9\\\\.]+).*\",\n",
    "    },\n",
    "    {\n",
    "        \"Name\": \"validation:loss\",\n",
    "        \"Regex\": \".*step - loss: [0-9\\\\.]+ - accuracy: [0-9\\\\.]+ - val_loss: ([0-9\\\\.]+) - val_accuracy: [0-9\\\\.]+.*\",\n",
    "    },\n",
    "    {\n",
    "        \"Name\": \"sec/steps\",\n",
    "        \"Regex\": \".* (\\d+)[mu]s/step - loss: [0-9\\\\.]+ - accuracy: [0-9\\\\.]+ - val_loss: [0-9\\\\.]+ - val_accuracy: [0-9\\\\.]+\",\n",
    "    },\n",
    "]"
   ]
  },
  {
   "cell_type": "code",
   "execution_count": 9,
   "id": "67ccda85",
   "metadata": {},
   "outputs": [
    {
     "name": "stdout",
     "output_type": "stream",
     "text": [
      "Creating fo1f85hu2q-algo-1-4yc1s ... \n",
      "Creating fo1f85hu2q-algo-1-4yc1s ... done\n",
      "Attaching to fo1f85hu2q-algo-1-4yc1s\n",
      "\u001b[36mfo1f85hu2q-algo-1-4yc1s |\u001b[0m 2021-12-22 01:05:26.169000: W tensorflow/core/profiler/internal/smprofiler_timeline.cc:425] Initializing the SageMaker Profiler.\n",
      "\u001b[36mfo1f85hu2q-algo-1-4yc1s |\u001b[0m 2021-12-22 01:05:26.169144: W tensorflow/core/profiler/internal/smprofiler_timeline.cc:106] SageMaker Profiler is not enabled. The timeline writer thread will not be started, future recorded events will be dropped.\n",
      "\u001b[36mfo1f85hu2q-algo-1-4yc1s |\u001b[0m 2021-12-22 01:05:26.190062: W tensorflow/core/profiler/internal/smprofiler_timeline.cc:425] Initializing the SageMaker Profiler.\n",
      "\u001b[36mfo1f85hu2q-algo-1-4yc1s |\u001b[0m 2021-12-22 01:05:27,610 sagemaker-training-toolkit INFO     Imported framework sagemaker_tensorflow_container.training\n",
      "\u001b[36mfo1f85hu2q-algo-1-4yc1s |\u001b[0m 2021-12-22 01:05:27,618 sagemaker-training-toolkit INFO     No GPUs detected (normal if no gpus installed)\n",
      "\u001b[36mfo1f85hu2q-algo-1-4yc1s |\u001b[0m 2021-12-22 01:05:27,797 sagemaker-training-toolkit INFO     Installing dependencies from requirements.txt:\n",
      "\u001b[36mfo1f85hu2q-algo-1-4yc1s |\u001b[0m /usr/local/bin/python3.7 -m pip install -r requirements.txt\n",
      "\u001b[36mfo1f85hu2q-algo-1-4yc1s |\u001b[0m Collecting matplotlib==3.2.1\n",
      "\u001b[36mfo1f85hu2q-algo-1-4yc1s |\u001b[0m   Downloading matplotlib-3.2.1-cp37-cp37m-manylinux1_x86_64.whl (12.4 MB)\n",
      "\u001b[K     |████████████████████████████████| 12.4 MB 2.1 MB/s eta 0:00:01\n",
      "\u001b[36mfo1f85hu2q-algo-1-4yc1s |\u001b[0m \u001b[?25hCollecting cycler>=0.10\n",
      "\u001b[36mfo1f85hu2q-algo-1-4yc1s |\u001b[0m   Downloading cycler-0.11.0-py3-none-any.whl (6.4 kB)\n",
      "\u001b[36mfo1f85hu2q-algo-1-4yc1s |\u001b[0m Requirement already satisfied: numpy>=1.11 in /usr/local/lib/python3.7/site-packages (from matplotlib==3.2.1->-r requirements.txt (line 1)) (1.18.5)\n",
      "\u001b[36mfo1f85hu2q-algo-1-4yc1s |\u001b[0m Requirement already satisfied: pyparsing!=2.0.4,!=2.1.2,!=2.1.6,>=2.0.1 in /usr/local/lib/python3.7/site-packages (from matplotlib==3.2.1->-r requirements.txt (line 1)) (2.4.7)\n",
      "\u001b[36mfo1f85hu2q-algo-1-4yc1s |\u001b[0m Collecting kiwisolver>=1.0.1\n",
      "\u001b[36mfo1f85hu2q-algo-1-4yc1s |\u001b[0m   Downloading kiwisolver-1.3.2-cp37-cp37m-manylinux_2_5_x86_64.manylinux1_x86_64.whl (1.1 MB)\n",
      "\u001b[K     |████████████████████████████████| 1.1 MB 31.8 MB/s eta 0:00:01\n",
      "\u001b[36mfo1f85hu2q-algo-1-4yc1s |\u001b[0m \u001b[?25hRequirement already satisfied: python-dateutil>=2.1 in /usr/local/lib/python3.7/site-packages (from matplotlib==3.2.1->-r requirements.txt (line 1)) (2.8.1)\n",
      "\u001b[36mfo1f85hu2q-algo-1-4yc1s |\u001b[0m Requirement already satisfied: six>=1.5 in /usr/local/lib/python3.7/site-packages (from python-dateutil>=2.1->matplotlib==3.2.1->-r requirements.txt (line 1)) (1.15.0)\n",
      "\u001b[36mfo1f85hu2q-algo-1-4yc1s |\u001b[0m Installing collected packages: cycler, kiwisolver, matplotlib\n",
      "\u001b[36mfo1f85hu2q-algo-1-4yc1s |\u001b[0m Successfully installed cycler-0.11.0 kiwisolver-1.3.2 matplotlib-3.2.1\n",
      "\u001b[36mfo1f85hu2q-algo-1-4yc1s |\u001b[0m 2021-12-22 01:05:30,990 sagemaker-training-toolkit INFO     No GPUs detected (normal if no gpus installed)\n",
      "\u001b[36mfo1f85hu2q-algo-1-4yc1s |\u001b[0m 2021-12-22 01:05:31,007 sagemaker-training-toolkit INFO     No GPUs detected (normal if no gpus installed)\n",
      "\u001b[36mfo1f85hu2q-algo-1-4yc1s |\u001b[0m 2021-12-22 01:05:31,022 sagemaker-training-toolkit INFO     No GPUs detected (normal if no gpus installed)\n",
      "\u001b[36mfo1f85hu2q-algo-1-4yc1s |\u001b[0m 2021-12-22 01:05:31,032 sagemaker-training-toolkit INFO     Invoking user script\n",
      "\u001b[36mfo1f85hu2q-algo-1-4yc1s |\u001b[0m \n",
      "\u001b[36mfo1f85hu2q-algo-1-4yc1s |\u001b[0m Training Env:\n",
      "\u001b[36mfo1f85hu2q-algo-1-4yc1s |\u001b[0m \n",
      "\u001b[36mfo1f85hu2q-algo-1-4yc1s |\u001b[0m {\n",
      "\u001b[36mfo1f85hu2q-algo-1-4yc1s |\u001b[0m     \"additional_framework_parameters\": {},\n",
      "\u001b[36mfo1f85hu2q-algo-1-4yc1s |\u001b[0m     \"channel_input_dirs\": {\n",
      "\u001b[36mfo1f85hu2q-algo-1-4yc1s |\u001b[0m         \"train\": \"/opt/ml/input/data/train\",\n",
      "\u001b[36mfo1f85hu2q-algo-1-4yc1s |\u001b[0m         \"validation\": \"/opt/ml/input/data/validation\"\n",
      "\u001b[36mfo1f85hu2q-algo-1-4yc1s |\u001b[0m     },\n",
      "\u001b[36mfo1f85hu2q-algo-1-4yc1s |\u001b[0m     \"current_host\": \"algo-1-4yc1s\",\n",
      "\u001b[36mfo1f85hu2q-algo-1-4yc1s |\u001b[0m     \"framework_module\": \"sagemaker_tensorflow_container.training:main\",\n",
      "\u001b[36mfo1f85hu2q-algo-1-4yc1s |\u001b[0m     \"hosts\": [\n",
      "\u001b[36mfo1f85hu2q-algo-1-4yc1s |\u001b[0m         \"algo-1-4yc1s\"\n",
      "\u001b[36mfo1f85hu2q-algo-1-4yc1s |\u001b[0m     ],\n",
      "\u001b[36mfo1f85hu2q-algo-1-4yc1s |\u001b[0m     \"hyperparameters\": {\n",
      "\u001b[36mfo1f85hu2q-algo-1-4yc1s |\u001b[0m         \"epochs\": 2,\n",
      "\u001b[36mfo1f85hu2q-algo-1-4yc1s |\u001b[0m         \"batch-size\": 256,\n",
      "\u001b[36mfo1f85hu2q-algo-1-4yc1s |\u001b[0m         \"tf-logs-path\": \"s3://sagemaker-ap-northeast-2-889750940888/tensorboard_keras_cifar10/logs\",\n",
      "\u001b[36mfo1f85hu2q-algo-1-4yc1s |\u001b[0m         \"model_dir\": \"s3://sagemaker-ap-northeast-2-889750940888/tensorboard-example-2021-12-22-01-04-38-203/model\"\n",
      "\u001b[36mfo1f85hu2q-algo-1-4yc1s |\u001b[0m     },\n",
      "\u001b[36mfo1f85hu2q-algo-1-4yc1s |\u001b[0m     \"input_config_dir\": \"/opt/ml/input/config\",\n",
      "\u001b[36mfo1f85hu2q-algo-1-4yc1s |\u001b[0m     \"input_data_config\": {\n",
      "\u001b[36mfo1f85hu2q-algo-1-4yc1s |\u001b[0m         \"train\": {\n",
      "\u001b[36mfo1f85hu2q-algo-1-4yc1s |\u001b[0m             \"TrainingInputMode\": \"File\"\n",
      "\u001b[36mfo1f85hu2q-algo-1-4yc1s |\u001b[0m         },\n",
      "\u001b[36mfo1f85hu2q-algo-1-4yc1s |\u001b[0m         \"validation\": {\n",
      "\u001b[36mfo1f85hu2q-algo-1-4yc1s |\u001b[0m             \"TrainingInputMode\": \"File\"\n",
      "\u001b[36mfo1f85hu2q-algo-1-4yc1s |\u001b[0m         }\n",
      "\u001b[36mfo1f85hu2q-algo-1-4yc1s |\u001b[0m     },\n",
      "\u001b[36mfo1f85hu2q-algo-1-4yc1s |\u001b[0m     \"input_dir\": \"/opt/ml/input\",\n",
      "\u001b[36mfo1f85hu2q-algo-1-4yc1s |\u001b[0m     \"is_master\": true,\n",
      "\u001b[36mfo1f85hu2q-algo-1-4yc1s |\u001b[0m     \"job_name\": \"tensorboard-example-2021-12-22-01-04-38-203\",\n",
      "\u001b[36mfo1f85hu2q-algo-1-4yc1s |\u001b[0m     \"log_level\": 20,\n",
      "\u001b[36mfo1f85hu2q-algo-1-4yc1s |\u001b[0m     \"master_hostname\": \"algo-1-4yc1s\",\n",
      "\u001b[36mfo1f85hu2q-algo-1-4yc1s |\u001b[0m     \"model_dir\": \"/opt/ml/model\",\n",
      "\u001b[36mfo1f85hu2q-algo-1-4yc1s |\u001b[0m     \"module_dir\": \"s3://sagemaker-ap-northeast-2-889750940888/tensorboard-example-2021-12-22-01-04-38-203/source/sourcedir.tar.gz\",\n",
      "\u001b[36mfo1f85hu2q-algo-1-4yc1s |\u001b[0m     \"module_name\": \"tensorboard_keras_cifar10\",\n",
      "\u001b[36mfo1f85hu2q-algo-1-4yc1s |\u001b[0m     \"network_interface_name\": \"eth0\",\n",
      "\u001b[36mfo1f85hu2q-algo-1-4yc1s |\u001b[0m     \"num_cpus\": 4,\n",
      "\u001b[36mfo1f85hu2q-algo-1-4yc1s |\u001b[0m     \"num_gpus\": 0,\n",
      "\u001b[36mfo1f85hu2q-algo-1-4yc1s |\u001b[0m     \"output_data_dir\": \"/opt/ml/output/data\",\n",
      "\u001b[36mfo1f85hu2q-algo-1-4yc1s |\u001b[0m     \"output_dir\": \"/opt/ml/output\",\n",
      "\u001b[36mfo1f85hu2q-algo-1-4yc1s |\u001b[0m     \"output_intermediate_dir\": \"/opt/ml/output/intermediate\",\n",
      "\u001b[36mfo1f85hu2q-algo-1-4yc1s |\u001b[0m     \"resource_config\": {\n",
      "\u001b[36mfo1f85hu2q-algo-1-4yc1s |\u001b[0m         \"current_host\": \"algo-1-4yc1s\",\n",
      "\u001b[36mfo1f85hu2q-algo-1-4yc1s |\u001b[0m         \"hosts\": [\n",
      "\u001b[36mfo1f85hu2q-algo-1-4yc1s |\u001b[0m             \"algo-1-4yc1s\"\n",
      "\u001b[36mfo1f85hu2q-algo-1-4yc1s |\u001b[0m         ]\n",
      "\u001b[36mfo1f85hu2q-algo-1-4yc1s |\u001b[0m     },\n",
      "\u001b[36mfo1f85hu2q-algo-1-4yc1s |\u001b[0m     \"user_entry_point\": \"tensorboard_keras_cifar10.py\"\n",
      "\u001b[36mfo1f85hu2q-algo-1-4yc1s |\u001b[0m }\n",
      "\u001b[36mfo1f85hu2q-algo-1-4yc1s |\u001b[0m \n",
      "\u001b[36mfo1f85hu2q-algo-1-4yc1s |\u001b[0m Environment variables:\n",
      "\u001b[36mfo1f85hu2q-algo-1-4yc1s |\u001b[0m \n",
      "\u001b[36mfo1f85hu2q-algo-1-4yc1s |\u001b[0m SM_HOSTS=[\"algo-1-4yc1s\"]\n",
      "\u001b[36mfo1f85hu2q-algo-1-4yc1s |\u001b[0m SM_NETWORK_INTERFACE_NAME=eth0\n",
      "\u001b[36mfo1f85hu2q-algo-1-4yc1s |\u001b[0m SM_HPS={\"batch-size\":256,\"epochs\":2,\"model_dir\":\"s3://sagemaker-ap-northeast-2-889750940888/tensorboard-example-2021-12-22-01-04-38-203/model\",\"tf-logs-path\":\"s3://sagemaker-ap-northeast-2-889750940888/tensorboard_keras_cifar10/logs\"}\n",
      "\u001b[36mfo1f85hu2q-algo-1-4yc1s |\u001b[0m SM_USER_ENTRY_POINT=tensorboard_keras_cifar10.py\n",
      "\u001b[36mfo1f85hu2q-algo-1-4yc1s |\u001b[0m SM_FRAMEWORK_PARAMS={}\n",
      "\u001b[36mfo1f85hu2q-algo-1-4yc1s |\u001b[0m SM_RESOURCE_CONFIG={\"current_host\":\"algo-1-4yc1s\",\"hosts\":[\"algo-1-4yc1s\"]}\n",
      "\u001b[36mfo1f85hu2q-algo-1-4yc1s |\u001b[0m SM_INPUT_DATA_CONFIG={\"train\":{\"TrainingInputMode\":\"File\"},\"validation\":{\"TrainingInputMode\":\"File\"}}\n",
      "\u001b[36mfo1f85hu2q-algo-1-4yc1s |\u001b[0m SM_OUTPUT_DATA_DIR=/opt/ml/output/data\n",
      "\u001b[36mfo1f85hu2q-algo-1-4yc1s |\u001b[0m SM_CHANNELS=[\"train\",\"validation\"]\n",
      "\u001b[36mfo1f85hu2q-algo-1-4yc1s |\u001b[0m SM_CURRENT_HOST=algo-1-4yc1s\n",
      "\u001b[36mfo1f85hu2q-algo-1-4yc1s |\u001b[0m SM_MODULE_NAME=tensorboard_keras_cifar10\n",
      "\u001b[36mfo1f85hu2q-algo-1-4yc1s |\u001b[0m SM_LOG_LEVEL=20\n",
      "\u001b[36mfo1f85hu2q-algo-1-4yc1s |\u001b[0m SM_FRAMEWORK_MODULE=sagemaker_tensorflow_container.training:main\n",
      "\u001b[36mfo1f85hu2q-algo-1-4yc1s |\u001b[0m SM_INPUT_DIR=/opt/ml/input\n",
      "\u001b[36mfo1f85hu2q-algo-1-4yc1s |\u001b[0m SM_INPUT_CONFIG_DIR=/opt/ml/input/config\n",
      "\u001b[36mfo1f85hu2q-algo-1-4yc1s |\u001b[0m SM_OUTPUT_DIR=/opt/ml/output\n",
      "\u001b[36mfo1f85hu2q-algo-1-4yc1s |\u001b[0m SM_NUM_CPUS=4\n",
      "\u001b[36mfo1f85hu2q-algo-1-4yc1s |\u001b[0m SM_NUM_GPUS=0\n",
      "\u001b[36mfo1f85hu2q-algo-1-4yc1s |\u001b[0m SM_MODEL_DIR=/opt/ml/model\n",
      "\u001b[36mfo1f85hu2q-algo-1-4yc1s |\u001b[0m SM_MODULE_DIR=s3://sagemaker-ap-northeast-2-889750940888/tensorboard-example-2021-12-22-01-04-38-203/source/sourcedir.tar.gz\n",
      "\u001b[36mfo1f85hu2q-algo-1-4yc1s |\u001b[0m SM_TRAINING_ENV={\"additional_framework_parameters\":{},\"channel_input_dirs\":{\"train\":\"/opt/ml/input/data/train\",\"validation\":\"/opt/ml/input/data/validation\"},\"current_host\":\"algo-1-4yc1s\",\"framework_module\":\"sagemaker_tensorflow_container.training:main\",\"hosts\":[\"algo-1-4yc1s\"],\"hyperparameters\":{\"batch-size\":256,\"epochs\":2,\"model_dir\":\"s3://sagemaker-ap-northeast-2-889750940888/tensorboard-example-2021-12-22-01-04-38-203/model\",\"tf-logs-path\":\"s3://sagemaker-ap-northeast-2-889750940888/tensorboard_keras_cifar10/logs\"},\"input_config_dir\":\"/opt/ml/input/config\",\"input_data_config\":{\"train\":{\"TrainingInputMode\":\"File\"},\"validation\":{\"TrainingInputMode\":\"File\"}},\"input_dir\":\"/opt/ml/input\",\"is_master\":true,\"job_name\":\"tensorboard-example-2021-12-22-01-04-38-203\",\"log_level\":20,\"master_hostname\":\"algo-1-4yc1s\",\"model_dir\":\"/opt/ml/model\",\"module_dir\":\"s3://sagemaker-ap-northeast-2-889750940888/tensorboard-example-2021-12-22-01-04-38-203/source/sourcedir.tar.gz\",\"module_name\":\"tensorboard_keras_cifar10\",\"network_interface_name\":\"eth0\",\"num_cpus\":4,\"num_gpus\":0,\"output_data_dir\":\"/opt/ml/output/data\",\"output_dir\":\"/opt/ml/output\",\"output_intermediate_dir\":\"/opt/ml/output/intermediate\",\"resource_config\":{\"current_host\":\"algo-1-4yc1s\",\"hosts\":[\"algo-1-4yc1s\"]},\"user_entry_point\":\"tensorboard_keras_cifar10.py\"}\n",
      "\u001b[36mfo1f85hu2q-algo-1-4yc1s |\u001b[0m SM_USER_ARGS=[\"--batch-size\",\"256\",\"--epochs\",\"2\",\"--model_dir\",\"s3://sagemaker-ap-northeast-2-889750940888/tensorboard-example-2021-12-22-01-04-38-203/model\",\"--tf-logs-path\",\"s3://sagemaker-ap-northeast-2-889750940888/tensorboard_keras_cifar10/logs\"]\n",
      "\u001b[36mfo1f85hu2q-algo-1-4yc1s |\u001b[0m SM_OUTPUT_INTERMEDIATE_DIR=/opt/ml/output/intermediate\n",
      "\u001b[36mfo1f85hu2q-algo-1-4yc1s |\u001b[0m SM_CHANNEL_TRAIN=/opt/ml/input/data/train\n",
      "\u001b[36mfo1f85hu2q-algo-1-4yc1s |\u001b[0m SM_CHANNEL_VALIDATION=/opt/ml/input/data/validation\n",
      "\u001b[36mfo1f85hu2q-algo-1-4yc1s |\u001b[0m SM_HP_EPOCHS=2\n",
      "\u001b[36mfo1f85hu2q-algo-1-4yc1s |\u001b[0m SM_HP_BATCH-SIZE=256\n",
      "\u001b[36mfo1f85hu2q-algo-1-4yc1s |\u001b[0m SM_HP_TF-LOGS-PATH=s3://sagemaker-ap-northeast-2-889750940888/tensorboard_keras_cifar10/logs\n",
      "\u001b[36mfo1f85hu2q-algo-1-4yc1s |\u001b[0m SM_HP_MODEL_DIR=s3://sagemaker-ap-northeast-2-889750940888/tensorboard-example-2021-12-22-01-04-38-203/model\n",
      "\u001b[36mfo1f85hu2q-algo-1-4yc1s |\u001b[0m PYTHONPATH=/opt/ml/code:/usr/local/bin:/usr/local/lib/python37.zip:/usr/local/lib/python3.7:/usr/local/lib/python3.7/lib-dynload:/usr/local/lib/python3.7/site-packages\n",
      "\u001b[36mfo1f85hu2q-algo-1-4yc1s |\u001b[0m \n",
      "\u001b[36mfo1f85hu2q-algo-1-4yc1s |\u001b[0m Invoking script with the following command:\n",
      "\u001b[36mfo1f85hu2q-algo-1-4yc1s |\u001b[0m \n",
      "\u001b[36mfo1f85hu2q-algo-1-4yc1s |\u001b[0m /usr/local/bin/python3.7 tensorboard_keras_cifar10.py --batch-size 256 --epochs 2 --model_dir s3://sagemaker-ap-northeast-2-889750940888/tensorboard-example-2021-12-22-01-04-38-203/model --tf-logs-path s3://sagemaker-ap-northeast-2-889750940888/tensorboard_keras_cifar10/logs\n",
      "\u001b[36mfo1f85hu2q-algo-1-4yc1s |\u001b[0m \n",
      "\u001b[36mfo1f85hu2q-algo-1-4yc1s |\u001b[0m \n",
      "\u001b[36mfo1f85hu2q-algo-1-4yc1s |\u001b[0m Epoch 1/2\n",
      "390/390 [==============================] - 107s 275ms/step - loss: 2.2072 - accuracy: 0.1673 - val_loss: 2.4511 - val_accuracy: 0.1443\n",
      "\u001b[36mfo1f85hu2q-algo-1-4yc1s |\u001b[0m Epoch 2/2\n",
      "390/390 [==============================] - 103s 264ms/step - loss: 1.8546 - accuracy: 0.2629 - val_loss: 1.6974 - val_accuracy: 0.3526\n",
      "\u001b[36mfo1f85hu2q-algo-1-4yc1s |\u001b[0m 2021-12-22 01:09:20,109 sagemaker-training-toolkit INFO     Reporting training SUCCESS\n",
      "\u001b[36mfo1f85hu2q-algo-1-4yc1s exited with code 0\n",
      "\u001b[0mAborting on container exit...\n",
      "===== Job Complete =====\n"
     ]
    }
   ],
   "source": [
    "from sagemaker.tensorflow import TensorFlow\n",
    "\n",
    "hyperparameters = {\"epochs\": 2, \"batch-size\": 256, \"tf-logs-path\": tensorflow_logs_path}\n",
    "\n",
    "inputs = {\"train\": train_location, \"validation\": validation_location}\n",
    "\n",
    "instance_type = 'local'\n",
    "\n",
    "estimator = TensorFlow(\n",
    "    base_job_name=\"tensorboard-example\",\n",
    "    entry_point=\"tensorboard_keras_cifar10.py\",\n",
    "    source_dir=\"source_dir\",\n",
    "    role=role,\n",
    "    framework_version=\"2.2.0\",\n",
    "    py_version=\"py37\",\n",
    "    hyperparameters=hyperparameters,\n",
    "    instance_count=1,\n",
    "    instance_type=instance_type,\n",
    "    metric_definitions=keras_metric_definition,\n",
    "    input_mode=\"Pipe\",\n",
    ")\n",
    "\n",
    "estimator.fit(inputs, wait=True)"
   ]
  },
  {
   "cell_type": "markdown",
   "id": "71497193",
   "metadata": {},
   "source": [
    "## Hyperparameter tuning"
   ]
  },
  {
   "cell_type": "code",
   "execution_count": 10,
   "id": "f37a157f",
   "metadata": {},
   "outputs": [],
   "source": [
    "shared_hyperparameters = {\"epochs\": 6, \"tf-logs-path\": tensorflow_logs_path}\n",
    "\n",
    "estimator = TensorFlow(\n",
    "    base_job_name=\"tensorboard-example-hpo\",\n",
    "    entry_point=\"tensorboard_keras_cifar10.py\",\n",
    "    source_dir=\"source_dir\",\n",
    "    role=role,\n",
    "    framework_version=\"2.2.0\",\n",
    "    py_version=\"py37\",\n",
    "    hyperparameters=shared_hyperparameters,\n",
    "    instance_count=1,\n",
    "    instance_type=\"ml.p3.2xlarge\",\n",
    "    metric_definitions=keras_metric_definition,\n",
    "    input_mode=\"Pipe\",\n",
    ")"
   ]
  },
  {
   "cell_type": "code",
   "execution_count": 11,
   "id": "44c08240",
   "metadata": {},
   "outputs": [],
   "source": [
    "from sagemaker.tuner import (\n",
    "    IntegerParameter,\n",
    "    CategoricalParameter,\n",
    "    ContinuousParameter,\n",
    "    HyperparameterTuner,\n",
    ")\n",
    "\n",
    "hyperparameter_ranges = {\n",
    "    \"learning-rate\": ContinuousParameter(0.00001, 0.001),\n",
    "    \"batch-size\": CategoricalParameter([64, 128]),\n",
    "    \"optimizer\": CategoricalParameter([\"sgd\", \"adam\", \"rmsprop\"]),\n",
    "}\n",
    "\n",
    "objective_metric_name = \"validation:accuracy\"\n",
    "\n",
    "inputs = {\"train\": train_location, \"validation\": validation_location}\n",
    "\n",
    "tuner = HyperparameterTuner(\n",
    "    estimator,\n",
    "    objective_metric_name,\n",
    "    hyperparameter_ranges,\n",
    "    metric_definitions=keras_metric_definition,\n",
    "    objective_type=\"Maximize\",\n",
    "    max_jobs=4,\n",
    "    max_parallel_jobs=2,\n",
    "    early_stopping_type=\"Auto\",\n",
    "    base_tuning_job_name=\"remote-hpo\",\n",
    ")\n",
    "\n",
    "tuner.fit(inputs, wait=False)"
   ]
  },
  {
   "cell_type": "markdown",
   "id": "4555253a",
   "metadata": {},
   "source": [
    "## Tensorboard"
   ]
  },
  {
   "cell_type": "code",
   "execution_count": 12,
   "id": "ae9b593f",
   "metadata": {},
   "outputs": [
    {
     "name": "stdout",
     "output_type": "stream",
     "text": [
      "2021-12-22 01:05:34          0 tensorboard_keras_cifar10/logs/\n",
      "2021-12-22 01:05:34          0 tensorboard_keras_cifar10/logs/tensorboard-example-2021-12-22-01-04-38-203/\n",
      "2021-12-22 01:09:20      75489 tensorboard_keras_cifar10/logs/tensorboard-example-2021-12-22-01-04-38-203/events.out.tfevents.1640135133.85a17b79ad69.27.5.v2\n",
      "2021-12-22 01:09:08        372 tensorboard_keras_cifar10/logs/tensorboard-example-2021-12-22-01-04-38-203/events.out.tfevents.1640135134.85a17b79ad69.27.1009.v2\n",
      "2021-12-22 01:05:35          0 tensorboard_keras_cifar10/logs/tensorboard-example-2021-12-22-01-04-38-203/train/\n",
      "2021-12-22 01:09:08     179889 tensorboard_keras_cifar10/logs/tensorboard-example-2021-12-22-01-04-38-203/train/events.out.tfevents.1640135134.85a17b79ad69.27.1023.v2\n",
      "2021-12-22 01:05:46         40 tensorboard_keras_cifar10/logs/tensorboard-example-2021-12-22-01-04-38-203/train/events.out.tfevents.1640135145.85a17b79ad69.profile-empty\n",
      "2021-12-22 01:05:46          0 tensorboard_keras_cifar10/logs/tensorboard-example-2021-12-22-01-04-38-203/train/plugins/\n",
      "2021-12-22 01:05:46          0 tensorboard_keras_cifar10/logs/tensorboard-example-2021-12-22-01-04-38-203/train/plugins/profile/\n",
      "2021-12-22 01:05:46          0 tensorboard_keras_cifar10/logs/tensorboard-example-2021-12-22-01-04-38-203/train/plugins/profile/2021_12_22_01_05_45/\n",
      "2021-12-22 01:05:47       6270 tensorboard_keras_cifar10/logs/tensorboard-example-2021-12-22-01-04-38-203/train/plugins/profile/2021_12_22_01_05_45/85a17b79ad69.input_pipeline.pb\n",
      "2021-12-22 01:05:47          0 tensorboard_keras_cifar10/logs/tensorboard-example-2021-12-22-01-04-38-203/train/plugins/profile/2021_12_22_01_05_45/85a17b79ad69.kernel_stats.pb\n",
      "2021-12-22 01:05:47       7103 tensorboard_keras_cifar10/logs/tensorboard-example-2021-12-22-01-04-38-203/train/plugins/profile/2021_12_22_01_05_45/85a17b79ad69.overview_page.pb\n",
      "2021-12-22 01:05:47      87653 tensorboard_keras_cifar10/logs/tensorboard-example-2021-12-22-01-04-38-203/train/plugins/profile/2021_12_22_01_05_45/85a17b79ad69.tensorflow_stats.pb\n",
      "2021-12-22 01:05:47    1694645 tensorboard_keras_cifar10/logs/tensorboard-example-2021-12-22-01-04-38-203/train/plugins/profile/2021_12_22_01_05_45/85a17b79ad69.trace.json.gz\n",
      "2021-12-22 01:07:24          0 tensorboard_keras_cifar10/logs/tensorboard-example-2021-12-22-01-04-38-203/validation/\n",
      "2021-12-22 01:09:07        236 tensorboard_keras_cifar10/logs/tensorboard-example-2021-12-22-01-04-38-203/validation/events.out.tfevents.1640135243.85a17b79ad69.27.5533.v2\n"
     ]
    }
   ],
   "source": [
    "!aws s3 ls {tensorflow_logs_path} --recursive"
   ]
  },
  {
   "cell_type": "code",
   "execution_count": 15,
   "id": "779f3820",
   "metadata": {},
   "outputs": [
    {
     "name": "stdout",
     "output_type": "stream",
     "text": [
      "Serving TensorBoard on localhost; to expose to the network, use a proxy or pass --bind_all\n",
      "TensorBoard 2.4.0 at http://localhost:6006/ (Press CTRL+C to quit)\n",
      "^C\n"
     ]
    }
   ],
   "source": [
    "aws_region = sagemaker_session.boto_region_name\n",
    "!AWS_REGION={aws_region}\n",
    "# !echo tensorboard --logdir {tensorflow_logs_path}\n",
    "!tensorboard --logdir {tensorflow_logs_path}"
   ]
  },
  {
   "cell_type": "markdown",
   "id": "5b74bb8c",
   "metadata": {},
   "source": [
    "Tensorboard URL: https://YOUR-NOTEBOK-INSTANCE-NAME.notebook.YOUR-REGION.sagemaker.aws/proxy/6006/   \n",
    "https://sinjoonk-p2.notebook.us-east-1.sagemaker.aws/proxy/6006/"
   ]
  },
  {
   "cell_type": "code",
   "execution_count": 16,
   "id": "32f88ce7",
   "metadata": {},
   "outputs": [
    {
     "data": {
      "text/plain": [
       "'s3://sagemaker-ap-northeast-2-889750940888/tensorboard_keras_cifar10/logs'"
      ]
     },
     "execution_count": 16,
     "metadata": {},
     "output_type": "execute_result"
    }
   ],
   "source": [
    "tensorflow_logs_path"
   ]
  },
  {
   "cell_type": "code",
   "execution_count": null,
   "id": "5a33c20f",
   "metadata": {},
   "outputs": [],
   "source": []
  }
 ],
 "metadata": {
  "kernelspec": {
   "display_name": "conda_tensorflow2_latest_p37",
   "language": "python",
   "name": "conda_tensorflow2_latest_p37"
  },
  "language_info": {
   "codemirror_mode": {
    "name": "ipython",
    "version": 3
   },
   "file_extension": ".py",
   "mimetype": "text/x-python",
   "name": "python",
   "nbconvert_exporter": "python",
   "pygments_lexer": "ipython3",
   "version": "3.7.10"
  }
 },
 "nbformat": 4,
 "nbformat_minor": 5
}
