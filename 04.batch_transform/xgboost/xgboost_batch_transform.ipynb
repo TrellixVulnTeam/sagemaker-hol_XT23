{
 "cells": [
  {
   "cell_type": "markdown",
   "id": "6983f970",
   "metadata": {},
   "source": [
    "# XGBoost 로컬 학습 후 Batch Transform"
   ]
  },
  {
   "cell_type": "code",
   "execution_count": 20,
   "id": "fe2fb7ff",
   "metadata": {},
   "outputs": [
    {
     "name": "stdout",
     "output_type": "stream",
     "text": [
      "Collecting xgboost\n",
      "  Downloading xgboost-1.5.1-py3-none-manylinux2014_x86_64.whl (173.5 MB)\n",
      "\u001b[K     |████████████████████████████████| 173.5 MB 59.9 MB/s eta 0:00:01   |█████                           | 27.3 MB 1.6 MB/s eta 0:01:29\n",
      "\u001b[?25hRequirement already satisfied: scipy in /home/ec2-user/anaconda3/envs/python3/lib/python3.6/site-packages (from xgboost) (1.5.3)\n",
      "Requirement already satisfied: numpy in /home/ec2-user/anaconda3/envs/python3/lib/python3.6/site-packages (from xgboost) (1.19.5)\n",
      "Installing collected packages: xgboost\n",
      "Successfully installed xgboost-1.5.1\n",
      "\u001b[33mWARNING: You are using pip version 21.2.4; however, version 21.3.1 is available.\n",
      "You should consider upgrading via the '/home/ec2-user/anaconda3/envs/python3/bin/python -m pip install --upgrade pip' command.\u001b[0m\n"
     ]
    }
   ],
   "source": [
    "!pip install xgboost"
   ]
  },
  {
   "cell_type": "code",
   "execution_count": 22,
   "id": "b7493505",
   "metadata": {},
   "outputs": [
    {
     "name": "stdout",
     "output_type": "stream",
     "text": [
      "Overwriting source_dir/train.py\n"
     ]
    }
   ],
   "source": [
    "%%writefile source_dir/train.py\n",
    "\n",
    "import xgboost as xgb\n",
    "from sklearn.metrics import mean_squared_error\n",
    "import pandas as pd\n",
    "import numpy as np\n",
    "\n",
    "from sklearn.model_selection import train_test_split\n",
    "from sklearn.datasets import load_boston\n",
    "boston = load_boston()\n",
    "print(boston.keys())\n",
    "print(boston.data.shape)\n",
    "print(boston.feature_names)\n",
    "print(boston.DESCR)\n",
    "\n",
    "data = pd.DataFrame(boston.data)\n",
    "data.columns = boston.feature_names\n",
    "data.head()\n",
    "data['PRICE'] = boston.target\n",
    "\n",
    "X, y = data.iloc[:,:-1], data.iloc[:,-1]\n",
    "data_dmatrix = xgb.DMatrix(data=X,label=y)\n",
    "\n",
    "\n",
    "X_train, X_test, y_train, y_test = train_test_split(X, y, test_size=0.2, random_state=123)\n",
    "\n",
    "xg_reg = xgb.XGBRegressor(objective ='reg:squarederror',\n",
    "                          colsample_bytree = 0.3,\n",
    "                          learning_rate = 0.1,\n",
    "                          max_depth = 5,\n",
    "                          alpha = 10,\n",
    "                          n_estimators = 10)\n",
    "\n",
    "xg_reg.fit(X_train,y_train)\n",
    "\n",
    "preds = xg_reg.predict(X_test)\n",
    "\n",
    "rmse = np.sqrt(mean_squared_error(y_test, preds))\n",
    "print(\"RMSE: %f\" % (rmse))"
   ]
  },
  {
   "cell_type": "code",
   "execution_count": 43,
   "id": "e46dbb30",
   "metadata": {},
   "outputs": [
    {
     "name": "stdout",
     "output_type": "stream",
     "text": [
      "RMSE: 10.915755\n",
      "[0]\ttrain-rmse:21.48545\tvalidation-rmse:22.21274\n",
      "[1]\ttrain-rmse:19.59179\tvalidation-rmse:20.35016\n",
      "[2]\ttrain-rmse:17.87300\tvalidation-rmse:18.58683\n",
      "[3]\ttrain-rmse:16.31317\tvalidation-rmse:16.99754\n",
      "[4]\ttrain-rmse:14.93596\tvalidation-rmse:15.59446\n",
      "[5]\ttrain-rmse:13.72222\tvalidation-rmse:14.32433\n",
      "[6]\ttrain-rmse:12.62987\tvalidation-rmse:13.20950\n",
      "[7]\ttrain-rmse:11.55021\tvalidation-rmse:12.05585\n",
      "[8]\ttrain-rmse:10.68027\tvalidation-rmse:11.12384\n",
      "[9]\ttrain-rmse:9.79266\tvalidation-rmse:10.18393\n",
      "[10]\ttrain-rmse:9.08310\tvalidation-rmse:9.42841\n",
      "[11]\ttrain-rmse:8.47408\tvalidation-rmse:8.83133\n",
      "[12]\ttrain-rmse:7.89037\tvalidation-rmse:8.18891\n",
      "[13]\ttrain-rmse:7.27345\tvalidation-rmse:7.62061\n",
      "[14]\ttrain-rmse:6.86154\tvalidation-rmse:7.15773\n",
      "[15]\ttrain-rmse:6.49340\tvalidation-rmse:6.73034\n",
      "[16]\ttrain-rmse:6.12574\tvalidation-rmse:6.33825\n",
      "[17]\ttrain-rmse:5.72472\tvalidation-rmse:5.89568\n",
      "[18]\ttrain-rmse:5.33770\tvalidation-rmse:5.55162\n",
      "[19]\ttrain-rmse:5.00136\tvalidation-rmse:5.19489\n",
      "[20]\ttrain-rmse:4.68880\tvalidation-rmse:4.92763\n",
      "[21]\ttrain-rmse:4.49267\tvalidation-rmse:4.66409\n",
      "[22]\ttrain-rmse:4.32593\tvalidation-rmse:4.46570\n",
      "[23]\ttrain-rmse:4.17455\tvalidation-rmse:4.28943\n",
      "[24]\ttrain-rmse:4.06163\tvalidation-rmse:4.16129\n",
      "[25]\ttrain-rmse:3.88031\tvalidation-rmse:3.95994\n",
      "[26]\ttrain-rmse:3.77022\tvalidation-rmse:3.80731\n",
      "[27]\ttrain-rmse:3.67919\tvalidation-rmse:3.67198\n",
      "[28]\ttrain-rmse:3.58897\tvalidation-rmse:3.50580\n",
      "[29]\ttrain-rmse:3.51390\tvalidation-rmse:3.39786\n",
      "[30]\ttrain-rmse:3.42381\tvalidation-rmse:3.27866\n",
      "[31]\ttrain-rmse:3.29868\tvalidation-rmse:3.13459\n",
      "[32]\ttrain-rmse:3.23457\tvalidation-rmse:3.06722\n",
      "[33]\ttrain-rmse:3.11865\tvalidation-rmse:2.95893\n",
      "[34]\ttrain-rmse:3.02394\tvalidation-rmse:2.89435\n",
      "[35]\ttrain-rmse:2.91110\tvalidation-rmse:2.82023\n",
      "[36]\ttrain-rmse:2.85695\tvalidation-rmse:2.74836\n",
      "[37]\ttrain-rmse:2.81255\tvalidation-rmse:2.68006\n",
      "[38]\ttrain-rmse:2.75083\tvalidation-rmse:2.61389\n",
      "[39]\ttrain-rmse:2.72246\tvalidation-rmse:2.58796\n",
      "[40]\ttrain-rmse:2.69587\tvalidation-rmse:2.54046\n",
      "[41]\ttrain-rmse:2.66579\tvalidation-rmse:2.49424\n",
      "[42]\ttrain-rmse:2.65379\tvalidation-rmse:2.48235\n",
      "[43]\ttrain-rmse:2.59415\tvalidation-rmse:2.41958\n",
      "[44]\ttrain-rmse:2.53904\tvalidation-rmse:2.38319\n",
      "[45]\ttrain-rmse:2.48718\tvalidation-rmse:2.31925\n",
      "[46]\ttrain-rmse:2.46835\tvalidation-rmse:2.28430\n",
      "[47]\ttrain-rmse:2.43271\tvalidation-rmse:2.23533\n",
      "[48]\ttrain-rmse:2.39494\tvalidation-rmse:2.21196\n",
      "[49]\ttrain-rmse:2.37682\tvalidation-rmse:2.19353\n"
     ]
    }
   ],
   "source": [
    "import xgboost as xgb\n",
    "from sklearn.metrics import mean_squared_error\n",
    "import pandas as pd\n",
    "import numpy as np\n",
    "import pickle\n",
    "\n",
    "from sklearn.model_selection import train_test_split\n",
    "from sklearn.datasets import load_boston\n",
    "boston = load_boston()\n",
    "# print(boston.keys())\n",
    "# print(boston.data.shape)\n",
    "# print(boston.feature_names)\n",
    "# print(boston.DESCR)\n",
    "\n",
    "data = pd.DataFrame(boston.data)\n",
    "data.columns = boston.feature_names\n",
    "data.head()\n",
    "data['PRICE'] = boston.target\n",
    "\n",
    "X, y = data.iloc[:,:-1], data.iloc[:,-1]\n",
    "\n",
    "X_train, X_test, y_train, y_test = train_test_split(X, y, test_size=0.2, random_state=123)\n",
    "\n",
    "train = xgb.DMatrix(X_train, y_train)\n",
    "test = xgb.DMatrix(X_test, y_test)\n",
    "\n",
    "xg_reg = xgb.XGBRegressor(objective ='reg:squarederror',\n",
    "                          colsample_bytree = 0.3,\n",
    "                          learning_rate = 0.1,\n",
    "                          max_depth = 5,\n",
    "                          alpha = 10,\n",
    "                          n_estimators = 10)\n",
    "\n",
    "xg_reg.fit(X_train,y_train)\n",
    "\n",
    "preds = xg_reg.predict(X_test)\n",
    "\n",
    "rmse = np.sqrt(mean_squared_error(y_test, preds))\n",
    "print(\"RMSE: %f\" % (rmse))\n",
    "\n",
    "params = {'objective':'reg:squarederror',\n",
    "          'colsample_bytree': 0.3,\n",
    "          'learning_rate': 0.1,\n",
    "          'max_depth': 5,\n",
    "          'alpha': 10}\n",
    "\n",
    "# cv_results = xgb.cv(dtrain=data_dmatrix,\n",
    "#                     params=params,\n",
    "#                     nfold=3,\n",
    "#                     num_boost_round=50,\n",
    "#                     early_stopping_rounds=10,\n",
    "#                     metrics=\"rmse\",\n",
    "#                     as_pandas=True, seed=123)\n",
    "\n",
    "model = xgb.train(params=params,\n",
    "                  dtrain=dtrain,\n",
    "                  evals=[(train, \"train\"), (test, \"validation\")],\n",
    "                  num_boost_round=50,\n",
    "                  early_stopping_rounds=20)\n",
    "\n",
    "with open('./model/model.pkl', 'wb') as f:\n",
    "    pickle.dump(model, f)"
   ]
  },
  {
   "cell_type": "markdown",
   "id": "dfe16354",
   "metadata": {},
   "source": [
    "## Load model"
   ]
  },
  {
   "cell_type": "code",
   "execution_count": 44,
   "id": "f498b06b",
   "metadata": {},
   "outputs": [],
   "source": [
    "loaded_model = pickle.load(open('./model/model.pkl', 'rb'))"
   ]
  },
  {
   "cell_type": "code",
   "execution_count": 47,
   "id": "36506769",
   "metadata": {},
   "outputs": [
    {
     "ename": "TypeError",
     "evalue": "('Expecting data to be a DMatrix object, got: ', <class 'pandas.core.series.Series'>)",
     "output_type": "error",
     "traceback": [
      "\u001b[0;31m---------------------------------------------------------------------------\u001b[0m",
      "\u001b[0;31mTypeError\u001b[0m                                 Traceback (most recent call last)",
      "\u001b[0;32m<ipython-input-47-2c39edd592c2>\u001b[0m in \u001b[0;36m<module>\u001b[0;34m\u001b[0m\n\u001b[0;32m----> 1\u001b[0;31m \u001b[0mpreds\u001b[0m \u001b[0;34m=\u001b[0m \u001b[0mloaded_model\u001b[0m\u001b[0;34m.\u001b[0m\u001b[0mpredict\u001b[0m\u001b[0;34m(\u001b[0m\u001b[0my_train\u001b[0m\u001b[0;34m)\u001b[0m\u001b[0;34m\u001b[0m\u001b[0;34m\u001b[0m\u001b[0m\n\u001b[0m",
      "\u001b[0;32m~/anaconda3/envs/python3/lib/python3.6/site-packages/xgboost/core.py\u001b[0m in \u001b[0;36mpredict\u001b[0;34m(self, data, output_margin, ntree_limit, pred_leaf, pred_contribs, approx_contribs, pred_interactions, validate_features, training, iteration_range, strict_shape)\u001b[0m\n\u001b[1;32m   1883\u001b[0m         \"\"\"\n\u001b[1;32m   1884\u001b[0m         \u001b[0;32mif\u001b[0m \u001b[0;32mnot\u001b[0m \u001b[0misinstance\u001b[0m\u001b[0;34m(\u001b[0m\u001b[0mdata\u001b[0m\u001b[0;34m,\u001b[0m \u001b[0mDMatrix\u001b[0m\u001b[0;34m)\u001b[0m\u001b[0;34m:\u001b[0m\u001b[0;34m\u001b[0m\u001b[0;34m\u001b[0m\u001b[0m\n\u001b[0;32m-> 1885\u001b[0;31m             \u001b[0;32mraise\u001b[0m \u001b[0mTypeError\u001b[0m\u001b[0;34m(\u001b[0m\u001b[0;34m'Expecting data to be a DMatrix object, got: '\u001b[0m\u001b[0;34m,\u001b[0m \u001b[0mtype\u001b[0m\u001b[0;34m(\u001b[0m\u001b[0mdata\u001b[0m\u001b[0;34m)\u001b[0m\u001b[0;34m)\u001b[0m\u001b[0;34m\u001b[0m\u001b[0;34m\u001b[0m\u001b[0m\n\u001b[0m\u001b[1;32m   1886\u001b[0m         \u001b[0;32mif\u001b[0m \u001b[0mvalidate_features\u001b[0m\u001b[0;34m:\u001b[0m\u001b[0;34m\u001b[0m\u001b[0;34m\u001b[0m\u001b[0m\n\u001b[1;32m   1887\u001b[0m             \u001b[0mself\u001b[0m\u001b[0;34m.\u001b[0m\u001b[0m_validate_features\u001b[0m\u001b[0;34m(\u001b[0m\u001b[0mdata\u001b[0m\u001b[0;34m)\u001b[0m\u001b[0;34m\u001b[0m\u001b[0;34m\u001b[0m\u001b[0m\n",
      "\u001b[0;31mTypeError\u001b[0m: ('Expecting data to be a DMatrix object, got: ', <class 'pandas.core.series.Series'>)"
     ]
    }
   ],
   "source": [
    "preds = loaded_model.predict(y_train)"
   ]
  },
  {
   "cell_type": "code",
   "execution_count": null,
   "id": "e94f1f14",
   "metadata": {},
   "outputs": [],
   "source": []
  }
 ],
 "metadata": {
  "kernelspec": {
   "display_name": "conda_python3",
   "language": "python",
   "name": "conda_python3"
  },
  "language_info": {
   "codemirror_mode": {
    "name": "ipython",
    "version": 3
   },
   "file_extension": ".py",
   "mimetype": "text/x-python",
   "name": "python",
   "nbconvert_exporter": "python",
   "pygments_lexer": "ipython3",
   "version": "3.6.13"
  }
 },
 "nbformat": 4,
 "nbformat_minor": 5
}
