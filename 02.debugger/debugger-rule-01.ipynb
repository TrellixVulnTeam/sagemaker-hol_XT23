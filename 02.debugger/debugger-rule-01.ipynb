{
 "cells": [
  {
   "cell_type": "markdown",
   "id": "f6ca40f5",
   "metadata": {},
   "source": [
    "# SageMaker Debugger rules\n",
    "\n",
    "Source\n",
    "- https://sagemaker.readthedocs.io/en/stable/amazon_sagemaker_debugger.html\n",
    "- https://gitlab.com/juliensimon/dlnotebooks/blob/master/keras/05-keras-blog-post/Fashion%20MNIST-SageMaker.ipynb"
   ]
  },
  {
   "cell_type": "code",
   "execution_count": 65,
   "id": "392ecb3c",
   "metadata": {},
   "outputs": [],
   "source": [
    "install_needed = True\n",
    "# install_needed = False"
   ]
  },
  {
   "cell_type": "code",
   "execution_count": 66,
   "id": "9520ab58",
   "metadata": {
    "collapsed": true,
    "jupyter": {
     "outputs_hidden": true
    }
   },
   "outputs": [
    {
     "name": "stdout",
     "output_type": "stream",
     "text": [
      "installing deps and restarting kernel\n",
      "Requirement already satisfied: sagemaker[local] in /home/ec2-user/anaconda3/envs/tensorflow2_p36/lib/python3.6/site-packages (2.68.0)\n",
      "Collecting sagemaker[local]\n",
      "  Using cached sagemaker-2.70.0-py2.py3-none-any.whl\n",
      "Requirement already satisfied: attrs in /home/ec2-user/anaconda3/envs/tensorflow2_p36/lib/python3.6/site-packages (from sagemaker[local]) (21.2.0)\n",
      "Requirement already satisfied: smdebug-rulesconfig==1.0.1 in /home/ec2-user/anaconda3/envs/tensorflow2_p36/lib/python3.6/site-packages (from sagemaker[local]) (1.0.1)\n",
      "Collecting boto3>=1.20.18\n",
      "  Downloading boto3-1.20.23-py3-none-any.whl (131 kB)\n",
      "\u001b[K     |████████████████████████████████| 131 kB 1.7 MB/s eta 0:00:01\n",
      "\u001b[?25hRequirement already satisfied: protobuf>=3.1 in /home/ec2-user/anaconda3/envs/tensorflow2_p36/lib/python3.6/site-packages (from sagemaker[local]) (3.19.1)\n",
      "Requirement already satisfied: pandas in /home/ec2-user/anaconda3/envs/tensorflow2_p36/lib/python3.6/site-packages (from sagemaker[local]) (1.1.5)\n",
      "Requirement already satisfied: protobuf3-to-dict>=0.1.5 in /home/ec2-user/anaconda3/envs/tensorflow2_p36/lib/python3.6/site-packages (from sagemaker[local]) (0.1.5)\n",
      "Requirement already satisfied: packaging>=20.0 in /home/ec2-user/anaconda3/envs/tensorflow2_p36/lib/python3.6/site-packages (from sagemaker[local]) (21.2)\n",
      "Requirement already satisfied: google-pasta in /home/ec2-user/anaconda3/envs/tensorflow2_p36/lib/python3.6/site-packages (from sagemaker[local]) (0.2.0)\n",
      "Requirement already satisfied: pathos in /home/ec2-user/anaconda3/envs/tensorflow2_p36/lib/python3.6/site-packages (from sagemaker[local]) (0.2.8)\n",
      "Requirement already satisfied: importlib-metadata>=1.4.0 in /home/ec2-user/anaconda3/envs/tensorflow2_p36/lib/python3.6/site-packages (from sagemaker[local]) (4.8.2)\n",
      "Requirement already satisfied: numpy>=1.9.0 in /home/ec2-user/anaconda3/envs/tensorflow2_p36/lib/python3.6/site-packages (from sagemaker[local]) (1.19.5)\n",
      "Requirement already satisfied: docker==5.0.0 in /home/ec2-user/anaconda3/envs/tensorflow2_p36/lib/python3.6/site-packages (from sagemaker[local]) (5.0.0)\n",
      "Requirement already satisfied: docker-compose>=1.25.2 in /home/ec2-user/anaconda3/envs/tensorflow2_p36/lib/python3.6/site-packages (from sagemaker[local]) (1.29.2)\n",
      "Requirement already satisfied: PyYAML<6,>=5.3 in /home/ec2-user/anaconda3/envs/tensorflow2_p36/lib/python3.6/site-packages (from sagemaker[local]) (5.4.1)\n",
      "Requirement already satisfied: urllib3!=1.25,!=1.25.1,>=1.21.1 in /home/ec2-user/anaconda3/envs/tensorflow2_p36/lib/python3.6/site-packages (from sagemaker[local]) (1.26.7)\n",
      "Requirement already satisfied: websocket-client>=0.32.0 in /home/ec2-user/anaconda3/envs/tensorflow2_p36/lib/python3.6/site-packages (from docker==5.0.0->sagemaker[local]) (0.59.0)\n",
      "Requirement already satisfied: requests!=2.18.0,>=2.14.2 in /home/ec2-user/anaconda3/envs/tensorflow2_p36/lib/python3.6/site-packages (from docker==5.0.0->sagemaker[local]) (2.26.0)\n",
      "Requirement already satisfied: jmespath<1.0.0,>=0.7.1 in /home/ec2-user/anaconda3/envs/tensorflow2_p36/lib/python3.6/site-packages (from boto3>=1.20.18->sagemaker[local]) (0.10.0)\n",
      "Collecting botocore<1.24.0,>=1.23.23\n",
      "  Downloading botocore-1.23.23-py3-none-any.whl (8.4 MB)\n",
      "\u001b[K     |████████████████████████████████| 8.4 MB 9.7 MB/s eta 0:00:01\n",
      "\u001b[?25hRequirement already satisfied: s3transfer<0.6.0,>=0.5.0 in /home/ec2-user/anaconda3/envs/tensorflow2_p36/lib/python3.6/site-packages (from boto3>=1.20.18->sagemaker[local]) (0.5.0)\n",
      "Requirement already satisfied: python-dateutil<3.0.0,>=2.1 in /home/ec2-user/anaconda3/envs/tensorflow2_p36/lib/python3.6/site-packages (from botocore<1.24.0,>=1.23.23->boto3>=1.20.18->sagemaker[local]) (2.8.2)\n",
      "Requirement already satisfied: python-dotenv<1,>=0.13.0 in /home/ec2-user/anaconda3/envs/tensorflow2_p36/lib/python3.6/site-packages (from docker-compose>=1.25.2->sagemaker[local]) (0.19.2)\n",
      "Requirement already satisfied: dockerpty<1,>=0.4.1 in /home/ec2-user/anaconda3/envs/tensorflow2_p36/lib/python3.6/site-packages (from docker-compose>=1.25.2->sagemaker[local]) (0.4.1)\n",
      "Requirement already satisfied: docopt<1,>=0.6.1 in /home/ec2-user/anaconda3/envs/tensorflow2_p36/lib/python3.6/site-packages (from docker-compose>=1.25.2->sagemaker[local]) (0.6.2)\n",
      "Requirement already satisfied: jsonschema<4,>=2.5.1 in /home/ec2-user/anaconda3/envs/tensorflow2_p36/lib/python3.6/site-packages (from docker-compose>=1.25.2->sagemaker[local]) (3.2.0)\n",
      "Requirement already satisfied: cached-property<2,>=1.2.0 in /home/ec2-user/anaconda3/envs/tensorflow2_p36/lib/python3.6/site-packages (from docker-compose>=1.25.2->sagemaker[local]) (1.5.2)\n",
      "Requirement already satisfied: texttable<2,>=0.9.0 in /home/ec2-user/anaconda3/envs/tensorflow2_p36/lib/python3.6/site-packages (from docker-compose>=1.25.2->sagemaker[local]) (1.6.4)\n",
      "Requirement already satisfied: distro<2,>=1.5.0 in /home/ec2-user/anaconda3/envs/tensorflow2_p36/lib/python3.6/site-packages (from docker-compose>=1.25.2->sagemaker[local]) (1.6.0)\n",
      "Requirement already satisfied: paramiko>=2.4.2 in /home/ec2-user/anaconda3/envs/tensorflow2_p36/lib/python3.6/site-packages (from docker==5.0.0->sagemaker[local]) (2.8.0)\n",
      "Requirement already satisfied: six>=1.3.0 in /home/ec2-user/anaconda3/envs/tensorflow2_p36/lib/python3.6/site-packages (from dockerpty<1,>=0.4.1->docker-compose>=1.25.2->sagemaker[local]) (1.16.0)\n",
      "Requirement already satisfied: typing-extensions>=3.6.4 in /home/ec2-user/anaconda3/envs/tensorflow2_p36/lib/python3.6/site-packages (from importlib-metadata>=1.4.0->sagemaker[local]) (3.10.0.2)\n",
      "Requirement already satisfied: zipp>=0.5 in /home/ec2-user/anaconda3/envs/tensorflow2_p36/lib/python3.6/site-packages (from importlib-metadata>=1.4.0->sagemaker[local]) (3.6.0)\n",
      "Requirement already satisfied: setuptools in /home/ec2-user/anaconda3/envs/tensorflow2_p36/lib/python3.6/site-packages (from jsonschema<4,>=2.5.1->docker-compose>=1.25.2->sagemaker[local]) (58.5.3)\n",
      "Requirement already satisfied: pyrsistent>=0.14.0 in /home/ec2-user/anaconda3/envs/tensorflow2_p36/lib/python3.6/site-packages (from jsonschema<4,>=2.5.1->docker-compose>=1.25.2->sagemaker[local]) (0.18.0)\n",
      "Requirement already satisfied: pyparsing<3,>=2.0.2 in /home/ec2-user/anaconda3/envs/tensorflow2_p36/lib/python3.6/site-packages (from packaging>=20.0->sagemaker[local]) (2.4.7)\n",
      "Requirement already satisfied: pynacl>=1.0.1 in /home/ec2-user/anaconda3/envs/tensorflow2_p36/lib/python3.6/site-packages (from paramiko>=2.4.2->docker==5.0.0->sagemaker[local]) (1.4.0)\n",
      "Requirement already satisfied: bcrypt>=3.1.3 in /home/ec2-user/anaconda3/envs/tensorflow2_p36/lib/python3.6/site-packages (from paramiko>=2.4.2->docker==5.0.0->sagemaker[local]) (3.2.0)\n",
      "Requirement already satisfied: cryptography>=2.5 in /home/ec2-user/anaconda3/envs/tensorflow2_p36/lib/python3.6/site-packages (from paramiko>=2.4.2->docker==5.0.0->sagemaker[local]) (35.0.0)\n",
      "Requirement already satisfied: cffi>=1.1 in /home/ec2-user/anaconda3/envs/tensorflow2_p36/lib/python3.6/site-packages (from bcrypt>=3.1.3->paramiko>=2.4.2->docker==5.0.0->sagemaker[local]) (1.15.0)\n",
      "Requirement already satisfied: pycparser in /home/ec2-user/anaconda3/envs/tensorflow2_p36/lib/python3.6/site-packages (from cffi>=1.1->bcrypt>=3.1.3->paramiko>=2.4.2->docker==5.0.0->sagemaker[local]) (2.21)\n",
      "Requirement already satisfied: charset-normalizer~=2.0.0 in /home/ec2-user/anaconda3/envs/tensorflow2_p36/lib/python3.6/site-packages (from requests!=2.18.0,>=2.14.2->docker==5.0.0->sagemaker[local]) (2.0.7)\n",
      "Requirement already satisfied: certifi>=2017.4.17 in /home/ec2-user/anaconda3/envs/tensorflow2_p36/lib/python3.6/site-packages (from requests!=2.18.0,>=2.14.2->docker==5.0.0->sagemaker[local]) (2021.10.8)\n",
      "Requirement already satisfied: idna<4,>=2.5 in /home/ec2-user/anaconda3/envs/tensorflow2_p36/lib/python3.6/site-packages (from requests!=2.18.0,>=2.14.2->docker==5.0.0->sagemaker[local]) (3.3)\n",
      "Requirement already satisfied: pytz>=2017.2 in /home/ec2-user/anaconda3/envs/tensorflow2_p36/lib/python3.6/site-packages (from pandas->sagemaker[local]) (2021.3)\n",
      "Requirement already satisfied: pox>=0.3.0 in /home/ec2-user/anaconda3/envs/tensorflow2_p36/lib/python3.6/site-packages (from pathos->sagemaker[local]) (0.3.0)\n",
      "Requirement already satisfied: dill>=0.3.4 in /home/ec2-user/anaconda3/envs/tensorflow2_p36/lib/python3.6/site-packages (from pathos->sagemaker[local]) (0.3.4)\n",
      "Requirement already satisfied: multiprocess>=0.70.12 in /home/ec2-user/anaconda3/envs/tensorflow2_p36/lib/python3.6/site-packages (from pathos->sagemaker[local]) (0.70.12.2)\n",
      "Requirement already satisfied: ppft>=1.6.6.4 in /home/ec2-user/anaconda3/envs/tensorflow2_p36/lib/python3.6/site-packages (from pathos->sagemaker[local]) (1.6.6.4)\n",
      "Installing collected packages: botocore, boto3, sagemaker\n",
      "  Attempting uninstall: botocore\n",
      "    Found existing installation: botocore 1.23.4\n",
      "    Uninstalling botocore-1.23.4:\n",
      "      Successfully uninstalled botocore-1.23.4\n",
      "  Attempting uninstall: boto3\n",
      "    Found existing installation: boto3 1.20.4\n",
      "    Uninstalling boto3-1.20.4:\n",
      "      Successfully uninstalled boto3-1.20.4\n",
      "  Attempting uninstall: sagemaker\n",
      "    Found existing installation: sagemaker 2.68.0\n",
      "    Uninstalling sagemaker-2.68.0:\n",
      "      Successfully uninstalled sagemaker-2.68.0\n",
      "\u001b[31mERROR: pip's dependency resolver does not currently take into account all the packages that are installed. This behaviour is the source of the following dependency conflicts.\n",
      "awscli 1.22.4 requires botocore==1.23.4, but you have botocore 1.23.23 which is incompatible.\n",
      "aiobotocore 1.3.0 requires botocore<1.20.50,>=1.20.49, but you have botocore 1.23.23 which is incompatible.\u001b[0m\n",
      "Successfully installed boto3-1.20.23 botocore-1.23.23 sagemaker-2.70.0\n",
      "\u001b[33mWARNING: You are using pip version 21.2.4; however, version 21.3.1 is available.\n",
      "You should consider upgrading via the '/home/ec2-user/anaconda3/envs/tensorflow2_p36/bin/python -m pip install --upgrade pip' command.\u001b[0m\n",
      "Collecting sagemaker-experiments\n",
      "  Using cached sagemaker_experiments-0.1.35-py3-none-any.whl (42 kB)\n",
      "Requirement already satisfied: boto3>=1.16.27 in /home/ec2-user/anaconda3/envs/tensorflow2_p36/lib/python3.6/site-packages (from sagemaker-experiments) (1.20.23)\n",
      "Requirement already satisfied: botocore<1.24.0,>=1.23.23 in /home/ec2-user/anaconda3/envs/tensorflow2_p36/lib/python3.6/site-packages (from boto3>=1.16.27->sagemaker-experiments) (1.23.23)\n",
      "Requirement already satisfied: s3transfer<0.6.0,>=0.5.0 in /home/ec2-user/anaconda3/envs/tensorflow2_p36/lib/python3.6/site-packages (from boto3>=1.16.27->sagemaker-experiments) (0.5.0)\n",
      "Requirement already satisfied: jmespath<1.0.0,>=0.7.1 in /home/ec2-user/anaconda3/envs/tensorflow2_p36/lib/python3.6/site-packages (from boto3>=1.16.27->sagemaker-experiments) (0.10.0)\n",
      "Requirement already satisfied: urllib3<1.27,>=1.25.4 in /home/ec2-user/anaconda3/envs/tensorflow2_p36/lib/python3.6/site-packages (from botocore<1.24.0,>=1.23.23->boto3>=1.16.27->sagemaker-experiments) (1.26.7)\n",
      "Requirement already satisfied: python-dateutil<3.0.0,>=2.1 in /home/ec2-user/anaconda3/envs/tensorflow2_p36/lib/python3.6/site-packages (from botocore<1.24.0,>=1.23.23->boto3>=1.16.27->sagemaker-experiments) (2.8.2)\n",
      "Requirement already satisfied: six>=1.5 in /home/ec2-user/anaconda3/envs/tensorflow2_p36/lib/python3.6/site-packages (from python-dateutil<3.0.0,>=2.1->botocore<1.24.0,>=1.23.23->boto3>=1.16.27->sagemaker-experiments) (1.16.0)\n",
      "Installing collected packages: sagemaker-experiments\n",
      "Successfully installed sagemaker-experiments-0.1.35\n",
      "\u001b[33mWARNING: You are using pip version 21.2.4; however, version 21.3.1 is available.\n",
      "You should consider upgrading via the '/home/ec2-user/anaconda3/envs/tensorflow2_p36/bin/python -m pip install --upgrade pip' command.\u001b[0m\n",
      "Requirement already satisfied: sagemaker in /home/ec2-user/anaconda3/envs/tensorflow2_p36/lib/python3.6/site-packages (2.70.0)\n",
      "Requirement already satisfied: smdebug-rulesconfig==1.0.1 in /home/ec2-user/anaconda3/envs/tensorflow2_p36/lib/python3.6/site-packages (from sagemaker) (1.0.1)\n",
      "Requirement already satisfied: boto3>=1.20.18 in /home/ec2-user/anaconda3/envs/tensorflow2_p36/lib/python3.6/site-packages (from sagemaker) (1.20.23)\n",
      "Requirement already satisfied: packaging>=20.0 in /home/ec2-user/anaconda3/envs/tensorflow2_p36/lib/python3.6/site-packages (from sagemaker) (21.2)\n",
      "Requirement already satisfied: pandas in /home/ec2-user/anaconda3/envs/tensorflow2_p36/lib/python3.6/site-packages (from sagemaker) (1.1.5)\n",
      "Requirement already satisfied: importlib-metadata>=1.4.0 in /home/ec2-user/anaconda3/envs/tensorflow2_p36/lib/python3.6/site-packages (from sagemaker) (4.8.2)\n",
      "Requirement already satisfied: pathos in /home/ec2-user/anaconda3/envs/tensorflow2_p36/lib/python3.6/site-packages (from sagemaker) (0.2.8)\n",
      "Requirement already satisfied: protobuf3-to-dict>=0.1.5 in /home/ec2-user/anaconda3/envs/tensorflow2_p36/lib/python3.6/site-packages (from sagemaker) (0.1.5)\n",
      "Requirement already satisfied: protobuf>=3.1 in /home/ec2-user/anaconda3/envs/tensorflow2_p36/lib/python3.6/site-packages (from sagemaker) (3.19.1)\n",
      "Requirement already satisfied: attrs in /home/ec2-user/anaconda3/envs/tensorflow2_p36/lib/python3.6/site-packages (from sagemaker) (21.2.0)\n",
      "Requirement already satisfied: google-pasta in /home/ec2-user/anaconda3/envs/tensorflow2_p36/lib/python3.6/site-packages (from sagemaker) (0.2.0)\n",
      "Requirement already satisfied: numpy>=1.9.0 in /home/ec2-user/anaconda3/envs/tensorflow2_p36/lib/python3.6/site-packages (from sagemaker) (1.19.5)\n",
      "Requirement already satisfied: botocore<1.24.0,>=1.23.23 in /home/ec2-user/anaconda3/envs/tensorflow2_p36/lib/python3.6/site-packages (from boto3>=1.20.18->sagemaker) (1.23.23)\n",
      "Requirement already satisfied: s3transfer<0.6.0,>=0.5.0 in /home/ec2-user/anaconda3/envs/tensorflow2_p36/lib/python3.6/site-packages (from boto3>=1.20.18->sagemaker) (0.5.0)\n",
      "Requirement already satisfied: jmespath<1.0.0,>=0.7.1 in /home/ec2-user/anaconda3/envs/tensorflow2_p36/lib/python3.6/site-packages (from boto3>=1.20.18->sagemaker) (0.10.0)\n",
      "Requirement already satisfied: urllib3<1.27,>=1.25.4 in /home/ec2-user/anaconda3/envs/tensorflow2_p36/lib/python3.6/site-packages (from botocore<1.24.0,>=1.23.23->boto3>=1.20.18->sagemaker) (1.26.7)\n",
      "Requirement already satisfied: python-dateutil<3.0.0,>=2.1 in /home/ec2-user/anaconda3/envs/tensorflow2_p36/lib/python3.6/site-packages (from botocore<1.24.0,>=1.23.23->boto3>=1.20.18->sagemaker) (2.8.2)\n",
      "Requirement already satisfied: zipp>=0.5 in /home/ec2-user/anaconda3/envs/tensorflow2_p36/lib/python3.6/site-packages (from importlib-metadata>=1.4.0->sagemaker) (3.6.0)\n",
      "Requirement already satisfied: typing-extensions>=3.6.4 in /home/ec2-user/anaconda3/envs/tensorflow2_p36/lib/python3.6/site-packages (from importlib-metadata>=1.4.0->sagemaker) (3.10.0.2)\n",
      "Requirement already satisfied: pyparsing<3,>=2.0.2 in /home/ec2-user/anaconda3/envs/tensorflow2_p36/lib/python3.6/site-packages (from packaging>=20.0->sagemaker) (2.4.7)\n",
      "Requirement already satisfied: six in /home/ec2-user/anaconda3/envs/tensorflow2_p36/lib/python3.6/site-packages (from protobuf3-to-dict>=0.1.5->sagemaker) (1.16.0)\n",
      "Requirement already satisfied: pytz>=2017.2 in /home/ec2-user/anaconda3/envs/tensorflow2_p36/lib/python3.6/site-packages (from pandas->sagemaker) (2021.3)\n",
      "Requirement already satisfied: ppft>=1.6.6.4 in /home/ec2-user/anaconda3/envs/tensorflow2_p36/lib/python3.6/site-packages (from pathos->sagemaker) (1.6.6.4)\n",
      "Requirement already satisfied: dill>=0.3.4 in /home/ec2-user/anaconda3/envs/tensorflow2_p36/lib/python3.6/site-packages (from pathos->sagemaker) (0.3.4)\n",
      "Requirement already satisfied: pox>=0.3.0 in /home/ec2-user/anaconda3/envs/tensorflow2_p36/lib/python3.6/site-packages (from pathos->sagemaker) (0.3.0)\n",
      "Requirement already satisfied: multiprocess>=0.70.12 in /home/ec2-user/anaconda3/envs/tensorflow2_p36/lib/python3.6/site-packages (from pathos->sagemaker) (0.70.12.2)\n",
      "\u001b[33mWARNING: You are using pip version 21.2.4; however, version 21.3.1 is available.\n",
      "You should consider upgrading via the '/home/ec2-user/anaconda3/envs/tensorflow2_p36/bin/python -m pip install --upgrade pip' command.\u001b[0m\n",
      "/bin/bash: ./local/local_mode_setup.sh: No such file or directory\n"
     ]
    }
   ],
   "source": [
    "import sys\n",
    "import IPython\n",
    "\n",
    "if install_needed:\n",
    "    print(\"installing deps and restarting kernel\")\n",
    "    !{sys.executable} -m pip install -U 'sagemaker[local]'\n",
    "    !{sys.executable} -m pip install -U sagemaker-experiments # SageMaker Experiments SDK \n",
    "    !{sys.executable} -m pip install -U sagemaker             # SageMaker Python SDK\n",
    "#     !/bin/bash ./local/local_mode_setup.sh\n",
    "    IPython.Application.instance().kernel.do_shutdown(True)"
   ]
  },
  {
   "cell_type": "code",
   "execution_count": null,
   "id": "ded2d8d0",
   "metadata": {},
   "outputs": [],
   "source": [
    "from IPython.display import Image\n",
    "Image(\"fashion-mnist-sprite.png\")"
   ]
  },
  {
   "cell_type": "code",
   "execution_count": 14,
   "id": "7fe20918",
   "metadata": {},
   "outputs": [],
   "source": [
    "import sagemaker\n",
    "\n",
    "from smexperiments.experiment import Experiment ### SM Experiment\n",
    "from smexperiments.trial import Trial           ### SM Experiment\n",
    "\n",
    "from sagemaker.debugger import (\n",
    "    Rule,\n",
    "    DebuggerHookConfig,\n",
    "    TensorBoardOutputConfig,\n",
    "    CollectionConfig,\n",
    "    rule_configs,\n",
    "    ProfilerRule\n",
    ")\n",
    "\n",
    "from time import strftime\n",
    "\n",
    "sess = sagemaker.Session()\n",
    "role = sagemaker.get_execution_role()\n",
    "bucket = sess.default_bucket()\n",
    "prefix = 'keras-fashion-mnist-debugger'\n",
    "\n",
    "output_path = 's3://{}/{}/output'.format(bucket, prefix)\n",
    "s3_input_path = 's3://{}/{}/data'.format(bucket, prefix)\n",
    "training_input_path = s3_input_path + '/train'\n",
    "validation_input_path = s3_input_path + '/val'"
   ]
  },
  {
   "cell_type": "markdown",
   "id": "abf72c49",
   "metadata": {},
   "source": [
    "## Download the Fashion-MNIST dataset"
   ]
  },
  {
   "cell_type": "code",
   "execution_count": 3,
   "id": "7859630f",
   "metadata": {},
   "outputs": [
    {
     "name": "stderr",
     "output_type": "stream",
     "text": [
      "Using TensorFlow backend.\n"
     ]
    }
   ],
   "source": [
    "import os\n",
    "import keras\n",
    "import numpy as np\n",
    "from keras.datasets import fashion_mnist\n",
    "(x_train, y_train), (x_val, y_val) = fashion_mnist.load_data()\n",
    "\n",
    "os.makedirs(\"./data/train\", exist_ok = True)\n",
    "os.makedirs(\"./data/val\", exist_ok = True)\n",
    "\n",
    "np.save('./data/train/x_train.npy', x_train)\n",
    "np.save('./data/train/y_train.npy', y_train)\n",
    "np.save('./data/val/x_val.npy', x_val)\n",
    "np.save('./data/val/y_val.npy', y_val)"
   ]
  },
  {
   "cell_type": "code",
   "execution_count": 4,
   "id": "0587ff10",
   "metadata": {},
   "outputs": [
    {
     "name": "stdout",
     "output_type": "stream",
     "text": [
      "total 20\n",
      "drwxrwxr-x 4 ec2-user ec2-user 4096 Dec 10 01:31 ..\n",
      "drwxrwxr-x 2 ec2-user ec2-user 4096 Dec 10 01:01 val\n",
      "drwxrwxr-x 2 ec2-user ec2-user 4096 Dec 10 01:01 train\n",
      "drwxrwxr-x 5 ec2-user ec2-user 4096 Dec 10 01:01 .\n",
      "drwxrwxr-x 2 ec2-user ec2-user 4096 Dec 10 00:57 .ipynb_checkpoints\n"
     ]
    }
   ],
   "source": [
    "!ls -lat ./data"
   ]
  },
  {
   "cell_type": "markdown",
   "id": "1f359263",
   "metadata": {},
   "source": [
    "##  Upload Fashion-MNIST data to S3"
   ]
  },
  {
   "cell_type": "code",
   "execution_count": 5,
   "id": "2d5c3a12",
   "metadata": {},
   "outputs": [
    {
     "name": "stdout",
     "output_type": "stream",
     "text": [
      "upload: data/val/y_val.npy to s3://sagemaker-ap-northeast-2-889750940888/keras-fashion-mnist-debugger/data/val/y_val.npy\n",
      "upload: data/train/y_train.npy to s3://sagemaker-ap-northeast-2-889750940888/keras-fashion-mnist-debugger/data/train/y_train.npy\n",
      "upload: data/val/x_val.npy to s3://sagemaker-ap-northeast-2-889750940888/keras-fashion-mnist-debugger/data/val/x_val.npy\n",
      "upload: data/train/x_train.npy to s3://sagemaker-ap-northeast-2-889750940888/keras-fashion-mnist-debugger/data/train/x_train.npy\n"
     ]
    }
   ],
   "source": [
    "!aws s3 sync ./data {s3_input_path}"
   ]
  },
  {
   "cell_type": "markdown",
   "id": "ccb7d8bf",
   "metadata": {},
   "source": [
    "## Local mode training"
   ]
  },
  {
   "cell_type": "code",
   "execution_count": 6,
   "id": "76efa9b7",
   "metadata": {
    "collapsed": true,
    "jupyter": {
     "outputs_hidden": true
    }
   },
   "outputs": [
    {
     "name": "stdout",
     "output_type": "stream",
     "text": [
      "\u001b[34mimport\u001b[39;49;00m \u001b[04m\u001b[36margparse\u001b[39;49;00m, \u001b[04m\u001b[36mos\u001b[39;49;00m\n",
      "\u001b[34mimport\u001b[39;49;00m \u001b[04m\u001b[36mnumpy\u001b[39;49;00m \u001b[34mas\u001b[39;49;00m \u001b[04m\u001b[36mnp\u001b[39;49;00m\n",
      "\n",
      "\u001b[34mimport\u001b[39;49;00m \u001b[04m\u001b[36mtensorflow\u001b[39;49;00m \u001b[34mas\u001b[39;49;00m \u001b[04m\u001b[36mtf\u001b[39;49;00m\n",
      "\u001b[34mimport\u001b[39;49;00m \u001b[04m\u001b[36mkeras\u001b[39;49;00m\n",
      "\u001b[34mfrom\u001b[39;49;00m \u001b[04m\u001b[36mkeras\u001b[39;49;00m \u001b[34mimport\u001b[39;49;00m backend \u001b[34mas\u001b[39;49;00m K\n",
      "\u001b[34mfrom\u001b[39;49;00m \u001b[04m\u001b[36mkeras\u001b[39;49;00m\u001b[04m\u001b[36m.\u001b[39;49;00m\u001b[04m\u001b[36mmodels\u001b[39;49;00m \u001b[34mimport\u001b[39;49;00m Sequential\n",
      "\u001b[34mfrom\u001b[39;49;00m \u001b[04m\u001b[36mkeras\u001b[39;49;00m\u001b[04m\u001b[36m.\u001b[39;49;00m\u001b[04m\u001b[36mlayers\u001b[39;49;00m \u001b[34mimport\u001b[39;49;00m Dense, Dropout, Activation, Flatten, BatchNormalization, Conv2D, MaxPooling2D\n",
      "\u001b[34mfrom\u001b[39;49;00m \u001b[04m\u001b[36mkeras\u001b[39;49;00m\u001b[04m\u001b[36m.\u001b[39;49;00m\u001b[04m\u001b[36moptimizers\u001b[39;49;00m \u001b[34mimport\u001b[39;49;00m SGD\n",
      "\u001b[34mfrom\u001b[39;49;00m \u001b[04m\u001b[36mkeras\u001b[39;49;00m\u001b[04m\u001b[36m.\u001b[39;49;00m\u001b[04m\u001b[36mutils\u001b[39;49;00m \u001b[34mimport\u001b[39;49;00m multi_gpu_model\n",
      "\n",
      "\u001b[34mif\u001b[39;49;00m \u001b[31m__name__\u001b[39;49;00m == \u001b[33m'\u001b[39;49;00m\u001b[33m__main__\u001b[39;49;00m\u001b[33m'\u001b[39;49;00m:\n",
      "        \n",
      "    parser = argparse.ArgumentParser()\n",
      "\n",
      "    parser.add_argument(\u001b[33m'\u001b[39;49;00m\u001b[33m--epochs\u001b[39;49;00m\u001b[33m'\u001b[39;49;00m, \u001b[36mtype\u001b[39;49;00m=\u001b[36mint\u001b[39;49;00m, default=\u001b[34m10\u001b[39;49;00m)\n",
      "    parser.add_argument(\u001b[33m'\u001b[39;49;00m\u001b[33m--learning-rate\u001b[39;49;00m\u001b[33m'\u001b[39;49;00m, \u001b[36mtype\u001b[39;49;00m=\u001b[36mfloat\u001b[39;49;00m, default=\u001b[34m0.01\u001b[39;49;00m)\n",
      "    parser.add_argument(\u001b[33m'\u001b[39;49;00m\u001b[33m--batch-size\u001b[39;49;00m\u001b[33m'\u001b[39;49;00m, \u001b[36mtype\u001b[39;49;00m=\u001b[36mint\u001b[39;49;00m, default=\u001b[34m128\u001b[39;49;00m)\n",
      "    parser.add_argument(\u001b[33m'\u001b[39;49;00m\u001b[33m--gpu-count\u001b[39;49;00m\u001b[33m'\u001b[39;49;00m, \u001b[36mtype\u001b[39;49;00m=\u001b[36mint\u001b[39;49;00m, default=os.environ[\u001b[33m'\u001b[39;49;00m\u001b[33mSM_NUM_GPUS\u001b[39;49;00m\u001b[33m'\u001b[39;49;00m])\n",
      "    parser.add_argument(\u001b[33m'\u001b[39;49;00m\u001b[33m--model-dir\u001b[39;49;00m\u001b[33m'\u001b[39;49;00m, \u001b[36mtype\u001b[39;49;00m=\u001b[36mstr\u001b[39;49;00m, default=os.environ[\u001b[33m'\u001b[39;49;00m\u001b[33mSM_MODEL_DIR\u001b[39;49;00m\u001b[33m'\u001b[39;49;00m])\n",
      "    parser.add_argument(\u001b[33m'\u001b[39;49;00m\u001b[33m--training\u001b[39;49;00m\u001b[33m'\u001b[39;49;00m, \u001b[36mtype\u001b[39;49;00m=\u001b[36mstr\u001b[39;49;00m, default=os.environ[\u001b[33m'\u001b[39;49;00m\u001b[33mSM_CHANNEL_TRAINING\u001b[39;49;00m\u001b[33m'\u001b[39;49;00m])\n",
      "    parser.add_argument(\u001b[33m'\u001b[39;49;00m\u001b[33m--validation\u001b[39;49;00m\u001b[33m'\u001b[39;49;00m, \u001b[36mtype\u001b[39;49;00m=\u001b[36mstr\u001b[39;49;00m, default=os.environ[\u001b[33m'\u001b[39;49;00m\u001b[33mSM_CHANNEL_VALIDATION\u001b[39;49;00m\u001b[33m'\u001b[39;49;00m])\n",
      "    \n",
      "    args, _ = parser.parse_known_args()\n",
      "    \n",
      "    epochs     = args.epochs\n",
      "    lr         = args.learning_rate\n",
      "    batch_size = args.batch_size\n",
      "    gpu_count  = args.gpu_count\n",
      "    model_dir  = args.model_dir\n",
      "    training_dir   = args.training\n",
      "    validation_dir = args.validation\n",
      "    \n",
      "    x_train = np.load(os.path.join(training_dir, \u001b[33m'\u001b[39;49;00m\u001b[33mx_train.npy\u001b[39;49;00m\u001b[33m'\u001b[39;49;00m))\n",
      "    y_train = np.load(os.path.join(training_dir, \u001b[33m'\u001b[39;49;00m\u001b[33my_train.npy\u001b[39;49;00m\u001b[33m'\u001b[39;49;00m))\n",
      "    x_val  = np.load(os.path.join(validation_dir, \u001b[33m'\u001b[39;49;00m\u001b[33mx_val.npy\u001b[39;49;00m\u001b[33m'\u001b[39;49;00m))\n",
      "    y_val  = np.load(os.path.join(validation_dir, \u001b[33m'\u001b[39;49;00m\u001b[33my_val.npy\u001b[39;49;00m\u001b[33m'\u001b[39;49;00m))\n",
      "    \n",
      "    \u001b[37m# input image dimensions\u001b[39;49;00m\n",
      "    img_rows, img_cols = \u001b[34m28\u001b[39;49;00m, \u001b[34m28\u001b[39;49;00m\n",
      "\n",
      "    \u001b[36mprint\u001b[39;49;00m(\u001b[33m'\u001b[39;49;00m\u001b[33mx_train shape:\u001b[39;49;00m\u001b[33m'\u001b[39;49;00m, x_train.shape)\n",
      "    \u001b[36mprint\u001b[39;49;00m(x_train.shape[\u001b[34m0\u001b[39;49;00m], \u001b[33m'\u001b[39;49;00m\u001b[33mtrain samples\u001b[39;49;00m\u001b[33m'\u001b[39;49;00m)\n",
      "    \u001b[36mprint\u001b[39;49;00m(x_val.shape[\u001b[34m0\u001b[39;49;00m], \u001b[33m'\u001b[39;49;00m\u001b[33mtest samples\u001b[39;49;00m\u001b[33m'\u001b[39;49;00m)\n",
      "    \n",
      "    \u001b[37m# Normalize pixel values\u001b[39;49;00m\n",
      "    x_train  = x_train.astype(\u001b[33m'\u001b[39;49;00m\u001b[33mfloat32\u001b[39;49;00m\u001b[33m'\u001b[39;49;00m)\n",
      "    x_val    = x_val.astype(\u001b[33m'\u001b[39;49;00m\u001b[33mfloat32\u001b[39;49;00m\u001b[33m'\u001b[39;49;00m)\n",
      "    x_train /= \u001b[34m255\u001b[39;49;00m\n",
      "    x_val   /= \u001b[34m255\u001b[39;49;00m\n",
      "    \n",
      "    \u001b[37m# Convert class vectors to binary class matrices\u001b[39;49;00m\n",
      "    num_classes = \u001b[34m10\u001b[39;49;00m\n",
      "\u001b[37m#     y_train = keras.utils.to_categorical(y_train, num_classes)\u001b[39;49;00m\n",
      "\u001b[37m#     y_val   = keras.utils.to_categorical(y_val, num_classes)\u001b[39;49;00m\n",
      "    \n",
      "\u001b[37m#     model = Sequential()\u001b[39;49;00m\n",
      "    \n",
      "\u001b[37m#     # 1st convolution block\u001b[39;49;00m\n",
      "\u001b[37m#     model.add(Conv2D(64, kernel_size=(3,3), padding='same', input_shape=input_shape))\u001b[39;49;00m\n",
      "\u001b[37m#     model.add(BatchNormalization(axis=batch_norm_axis))\u001b[39;49;00m\n",
      "\u001b[37m#     model.add(Activation('relu'))\u001b[39;49;00m\n",
      "\u001b[37m#     model.add(MaxPooling2D(pool_size=(2,2), strides=2))\u001b[39;49;00m\n",
      "    \n",
      "\u001b[37m#     # 2nd convolution block\u001b[39;49;00m\n",
      "\u001b[37m#     model.add(Conv2D(128, kernel_size=(3,3), padding='valid'))\u001b[39;49;00m\n",
      "\u001b[37m#     model.add(BatchNormalization(axis=batch_norm_axis))\u001b[39;49;00m\n",
      "\u001b[37m#     model.add(Activation('relu'))\u001b[39;49;00m\n",
      "\u001b[37m#     model.add(MaxPooling2D(pool_size=(2,2), strides=2))\u001b[39;49;00m\n",
      "\n",
      "\u001b[37m#     # Fully connected block\u001b[39;49;00m\n",
      "\u001b[37m#     model.add(Flatten())\u001b[39;49;00m\n",
      "\u001b[37m#     model.add(Dense(512))\u001b[39;49;00m\n",
      "\u001b[37m#     model.add(Activation('relu'))\u001b[39;49;00m\n",
      "\u001b[37m#     model.add(Dropout(0.3))\u001b[39;49;00m\n",
      "\n",
      "\u001b[37m#     # Output layer\u001b[39;49;00m\n",
      "\u001b[37m#     model.add(Dense(num_classes, activation='softmax'))\u001b[39;49;00m\n",
      "\n",
      "    model = tf.keras.Sequential([\n",
      "        tf.keras.layers.Flatten(input_shape=(\u001b[34m28\u001b[39;49;00m, \u001b[34m28\u001b[39;49;00m)),\n",
      "        tf.keras.layers.Dense(\u001b[34m512\u001b[39;49;00m, activation=\u001b[33m'\u001b[39;49;00m\u001b[33mrelu\u001b[39;49;00m\u001b[33m'\u001b[39;49;00m),\n",
      "        tf.keras.layers.Dense(\u001b[34m10\u001b[39;49;00m, activation=\u001b[33m'\u001b[39;49;00m\u001b[33msoftmax\u001b[39;49;00m\u001b[33m'\u001b[39;49;00m)\n",
      "    ])\n",
      "    \n",
      "    \u001b[36mprint\u001b[39;49;00m(model.summary())\n",
      "\n",
      "    \u001b[34mif\u001b[39;49;00m gpu_count > \u001b[34m1\u001b[39;49;00m:\n",
      "        model = multi_gpu_model(model, gpus=gpu_count)\n",
      "        \n",
      "\u001b[37m#     model.compile(loss=keras.losses.categorical_crossentropy,\u001b[39;49;00m\n",
      "\u001b[37m#                   optimizer=SGD(lr=lr, decay=1e-6, momentum=0.9, nesterov=True),\u001b[39;49;00m\n",
      "\u001b[37m#                   metrics=['accuracy', 'mse'])\u001b[39;49;00m\n",
      "\n",
      "    model.compile(optimizer=\u001b[33m'\u001b[39;49;00m\u001b[33madam\u001b[39;49;00m\u001b[33m'\u001b[39;49;00m,\n",
      "                  loss=\u001b[33m'\u001b[39;49;00m\u001b[33msparse_categorical_crossentropy\u001b[39;49;00m\u001b[33m'\u001b[39;49;00m,\n",
      "                  metrics=[\u001b[33m'\u001b[39;49;00m\u001b[33maccuracy\u001b[39;49;00m\u001b[33m'\u001b[39;49;00m])\n",
      "    \n",
      "    model.fit(x_train, y_train, batch_size=batch_size,\n",
      "                  validation_data=(x_val, y_val), \n",
      "                  epochs=epochs,\n",
      "                  verbose=\u001b[34m1\u001b[39;49;00m)\n",
      "    \n",
      "    score = model.evaluate(x_val, y_val, verbose=\u001b[34m0\u001b[39;49;00m)\n",
      "    \u001b[36mprint\u001b[39;49;00m(\u001b[33m'\u001b[39;49;00m\u001b[33mValidation loss    :\u001b[39;49;00m\u001b[33m'\u001b[39;49;00m, score[\u001b[34m0\u001b[39;49;00m])\n",
      "    \u001b[36mprint\u001b[39;49;00m(\u001b[33m'\u001b[39;49;00m\u001b[33mValidation accuracy:\u001b[39;49;00m\u001b[33m'\u001b[39;49;00m, score[\u001b[34m1\u001b[39;49;00m])\n",
      "    \n",
      "    model.save(args.model_dir + \u001b[33m'\u001b[39;49;00m\u001b[33m/1\u001b[39;49;00m\u001b[33m'\u001b[39;49;00m)\n",
      "    \n",
      "\u001b[37m#     # save Keras model for Tensorflow Serving\u001b[39;49;00m\n",
      "\u001b[37m#     sess = K.get_session()\u001b[39;49;00m\n",
      "\u001b[37m#     tf.saved_model.simple_save(\u001b[39;49;00m\n",
      "\u001b[37m#         sess,\u001b[39;49;00m\n",
      "\u001b[37m#         os.path.join(model_dir, 'model/1'),\u001b[39;49;00m\n",
      "\u001b[37m#         inputs={'inputs': model.input},\u001b[39;49;00m\n",
      "\u001b[37m#         outputs={t.name: t for t in model.outputs})\u001b[39;49;00m\n",
      "    \n"
     ]
    }
   ],
   "source": [
    "!pygmentize mnist_keras_tf.py"
   ]
  },
  {
   "cell_type": "code",
   "execution_count": 27,
   "id": "819ce871",
   "metadata": {},
   "outputs": [],
   "source": [
    "from sagemaker.tensorflow import TensorFlow\n",
    "\n",
    "hyperparams_local={'epochs': 1,\n",
    "                   'learning-rate': 0.5\n",
    "                  }\n",
    "\n",
    "metric_definitions=[\n",
    "    {'Name': 'train:loss', 'Regex': ' loss: ([0-9\\\\.]+)'},\n",
    "    {'Name': 'train:acc', 'Regex': ' accuracy: ([0-9\\\\.]+)'},\n",
    "    {'Name': 'val:loss', 'Regex': ' val_loss: ([0-9\\\\.]+)'},\n",
    "    {'Name': 'val:acc', 'Regex': ' val_accuracy: ([0-9\\\\.]+)'}\n",
    "]\n",
    "\n",
    "est_local = TensorFlow(entry_point='mnist_keras_tf.py', \n",
    "                       role=role,\n",
    "                       instance_count=1, \n",
    "                       instance_type='local',\n",
    "                       framework_version='2.1', \n",
    "                       py_version='py3',\n",
    "                       output_path=output_path,\n",
    "                       hyperparameters=hyperparams_local,\n",
    "                       metric_definitions=metric_definitions\n",
    "                       )"
   ]
  },
  {
   "cell_type": "code",
   "execution_count": 28,
   "id": "32eef02c",
   "metadata": {},
   "outputs": [
    {
     "name": "stderr",
     "output_type": "stream",
     "text": [
      "INFO:sagemaker.image_uris:Defaulting to the only supported framework/algorithm version: latest.\n",
      "INFO:sagemaker.image_uris:Ignoring unnecessary instance type: None.\n",
      "INFO:sagemaker:Creating training-job with name: tensorflow-training-2021-12-10-01-40-52-533\n",
      "INFO:sagemaker.local.local_session:Starting training job\n",
      "INFO:sagemaker.local.image:No AWS credentials found in session but credentials from EC2 Metadata Service are available.\n",
      "INFO:sagemaker.local.image:docker compose file: \n",
      "networks:\n",
      "  sagemaker-local:\n",
      "    name: sagemaker-local\n",
      "services:\n",
      "  algo-1-inz3f:\n",
      "    command: train\n",
      "    container_name: faf3gttjnl-algo-1-inz3f\n",
      "    environment:\n",
      "    - '[Masked]'\n",
      "    - '[Masked]'\n",
      "    image: 763104351884.dkr.ecr.ap-northeast-2.amazonaws.com/tensorflow-training:2.1-cpu-py3\n",
      "    networks:\n",
      "      sagemaker-local:\n",
      "        aliases:\n",
      "        - algo-1-inz3f\n",
      "    stdin_open: true\n",
      "    tty: true\n",
      "    volumes:\n",
      "    - /tmp/tmp6om5a0du/algo-1-inz3f/input:/opt/ml/input\n",
      "    - /tmp/tmp6om5a0du/algo-1-inz3f/output/data:/opt/ml/output/data\n",
      "    - /tmp/tmp6om5a0du/algo-1-inz3f/output:/opt/ml/output\n",
      "    - /tmp/tmp6om5a0du/model:/opt/ml/model\n",
      "    - /opt/ml/metadata:/opt/ml/metadata\n",
      "    - /tmp/tmpcxxw0ru4:/opt/ml/input/data/training\n",
      "    - /tmp/tmp_diqzszm:/opt/ml/input/data/validation\n",
      "version: '2.3'\n",
      "\n",
      "INFO:sagemaker.local.image:docker command: docker-compose -f /tmp/tmp6om5a0du/docker-compose.yaml up --build --abort-on-container-exit\n"
     ]
    },
    {
     "name": "stdout",
     "output_type": "stream",
     "text": [
      "Creating faf3gttjnl-algo-1-inz3f ... \n",
      "Creating faf3gttjnl-algo-1-inz3f ... done\n",
      "Attaching to faf3gttjnl-algo-1-inz3f\n",
      "\u001b[36mfaf3gttjnl-algo-1-inz3f |\u001b[0m 2021-12-10 01:40:57,497 sagemaker-training-toolkit INFO     Imported framework sagemaker_tensorflow_container.training\n",
      "\u001b[36mfaf3gttjnl-algo-1-inz3f |\u001b[0m 2021-12-10 01:40:57,503 sagemaker-training-toolkit INFO     No GPUs detected (normal if no gpus installed)\n",
      "\u001b[36mfaf3gttjnl-algo-1-inz3f |\u001b[0m 2021-12-10 01:40:57,712 sagemaker-training-toolkit INFO     No GPUs detected (normal if no gpus installed)\n",
      "\u001b[36mfaf3gttjnl-algo-1-inz3f |\u001b[0m 2021-12-10 01:40:57,729 sagemaker-training-toolkit INFO     No GPUs detected (normal if no gpus installed)\n",
      "\u001b[36mfaf3gttjnl-algo-1-inz3f |\u001b[0m 2021-12-10 01:40:57,744 sagemaker-training-toolkit INFO     No GPUs detected (normal if no gpus installed)\n",
      "\u001b[36mfaf3gttjnl-algo-1-inz3f |\u001b[0m 2021-12-10 01:40:57,755 sagemaker-training-toolkit INFO     Invoking user script\n",
      "\u001b[36mfaf3gttjnl-algo-1-inz3f |\u001b[0m \n",
      "\u001b[36mfaf3gttjnl-algo-1-inz3f |\u001b[0m Training Env:\n",
      "\u001b[36mfaf3gttjnl-algo-1-inz3f |\u001b[0m \n",
      "\u001b[36mfaf3gttjnl-algo-1-inz3f |\u001b[0m {\n",
      "\u001b[36mfaf3gttjnl-algo-1-inz3f |\u001b[0m     \"additional_framework_parameters\": {},\n",
      "\u001b[36mfaf3gttjnl-algo-1-inz3f |\u001b[0m     \"channel_input_dirs\": {\n",
      "\u001b[36mfaf3gttjnl-algo-1-inz3f |\u001b[0m         \"training\": \"/opt/ml/input/data/training\",\n",
      "\u001b[36mfaf3gttjnl-algo-1-inz3f |\u001b[0m         \"validation\": \"/opt/ml/input/data/validation\"\n",
      "\u001b[36mfaf3gttjnl-algo-1-inz3f |\u001b[0m     },\n",
      "\u001b[36mfaf3gttjnl-algo-1-inz3f |\u001b[0m     \"current_host\": \"algo-1-inz3f\",\n",
      "\u001b[36mfaf3gttjnl-algo-1-inz3f |\u001b[0m     \"framework_module\": \"sagemaker_tensorflow_container.training:main\",\n",
      "\u001b[36mfaf3gttjnl-algo-1-inz3f |\u001b[0m     \"hosts\": [\n",
      "\u001b[36mfaf3gttjnl-algo-1-inz3f |\u001b[0m         \"algo-1-inz3f\"\n",
      "\u001b[36mfaf3gttjnl-algo-1-inz3f |\u001b[0m     ],\n",
      "\u001b[36mfaf3gttjnl-algo-1-inz3f |\u001b[0m     \"hyperparameters\": {\n",
      "\u001b[36mfaf3gttjnl-algo-1-inz3f |\u001b[0m         \"epochs\": 1,\n",
      "\u001b[36mfaf3gttjnl-algo-1-inz3f |\u001b[0m         \"learning-rate\": 0.5,\n",
      "\u001b[36mfaf3gttjnl-algo-1-inz3f |\u001b[0m         \"model_dir\": \"s3://sagemaker-ap-northeast-2-889750940888/keras-fashion-mnist-debugger/output/tensorflow-training-2021-12-10-01-40-52-533/model\"\n",
      "\u001b[36mfaf3gttjnl-algo-1-inz3f |\u001b[0m     },\n",
      "\u001b[36mfaf3gttjnl-algo-1-inz3f |\u001b[0m     \"input_config_dir\": \"/opt/ml/input/config\",\n",
      "\u001b[36mfaf3gttjnl-algo-1-inz3f |\u001b[0m     \"input_data_config\": {\n",
      "\u001b[36mfaf3gttjnl-algo-1-inz3f |\u001b[0m         \"training\": {\n",
      "\u001b[36mfaf3gttjnl-algo-1-inz3f |\u001b[0m             \"TrainingInputMode\": \"File\"\n",
      "\u001b[36mfaf3gttjnl-algo-1-inz3f |\u001b[0m         },\n",
      "\u001b[36mfaf3gttjnl-algo-1-inz3f |\u001b[0m         \"validation\": {\n",
      "\u001b[36mfaf3gttjnl-algo-1-inz3f |\u001b[0m             \"TrainingInputMode\": \"File\"\n",
      "\u001b[36mfaf3gttjnl-algo-1-inz3f |\u001b[0m         }\n",
      "\u001b[36mfaf3gttjnl-algo-1-inz3f |\u001b[0m     },\n",
      "\u001b[36mfaf3gttjnl-algo-1-inz3f |\u001b[0m     \"input_dir\": \"/opt/ml/input\",\n",
      "\u001b[36mfaf3gttjnl-algo-1-inz3f |\u001b[0m     \"is_master\": true,\n",
      "\u001b[36mfaf3gttjnl-algo-1-inz3f |\u001b[0m     \"job_name\": \"tensorflow-training-2021-12-10-01-40-52-533\",\n",
      "\u001b[36mfaf3gttjnl-algo-1-inz3f |\u001b[0m     \"log_level\": 20,\n",
      "\u001b[36mfaf3gttjnl-algo-1-inz3f |\u001b[0m     \"master_hostname\": \"algo-1-inz3f\",\n",
      "\u001b[36mfaf3gttjnl-algo-1-inz3f |\u001b[0m     \"model_dir\": \"/opt/ml/model\",\n",
      "\u001b[36mfaf3gttjnl-algo-1-inz3f |\u001b[0m     \"module_dir\": \"s3://sagemaker-ap-northeast-2-889750940888/tensorflow-training-2021-12-10-01-40-52-533/source/sourcedir.tar.gz\",\n",
      "\u001b[36mfaf3gttjnl-algo-1-inz3f |\u001b[0m     \"module_name\": \"mnist_keras_tf\",\n",
      "\u001b[36mfaf3gttjnl-algo-1-inz3f |\u001b[0m     \"network_interface_name\": \"eth0\",\n",
      "\u001b[36mfaf3gttjnl-algo-1-inz3f |\u001b[0m     \"num_cpus\": 8,\n",
      "\u001b[36mfaf3gttjnl-algo-1-inz3f |\u001b[0m     \"num_gpus\": 0,\n",
      "\u001b[36mfaf3gttjnl-algo-1-inz3f |\u001b[0m     \"output_data_dir\": \"/opt/ml/output/data\",\n",
      "\u001b[36mfaf3gttjnl-algo-1-inz3f |\u001b[0m     \"output_dir\": \"/opt/ml/output\",\n",
      "\u001b[36mfaf3gttjnl-algo-1-inz3f |\u001b[0m     \"output_intermediate_dir\": \"/opt/ml/output/intermediate\",\n",
      "\u001b[36mfaf3gttjnl-algo-1-inz3f |\u001b[0m     \"resource_config\": {\n",
      "\u001b[36mfaf3gttjnl-algo-1-inz3f |\u001b[0m         \"current_host\": \"algo-1-inz3f\",\n",
      "\u001b[36mfaf3gttjnl-algo-1-inz3f |\u001b[0m         \"hosts\": [\n",
      "\u001b[36mfaf3gttjnl-algo-1-inz3f |\u001b[0m             \"algo-1-inz3f\"\n",
      "\u001b[36mfaf3gttjnl-algo-1-inz3f |\u001b[0m         ]\n",
      "\u001b[36mfaf3gttjnl-algo-1-inz3f |\u001b[0m     },\n",
      "\u001b[36mfaf3gttjnl-algo-1-inz3f |\u001b[0m     \"user_entry_point\": \"mnist_keras_tf.py\"\n",
      "\u001b[36mfaf3gttjnl-algo-1-inz3f |\u001b[0m }\n",
      "\u001b[36mfaf3gttjnl-algo-1-inz3f |\u001b[0m \n",
      "\u001b[36mfaf3gttjnl-algo-1-inz3f |\u001b[0m Environment variables:\n",
      "\u001b[36mfaf3gttjnl-algo-1-inz3f |\u001b[0m \n",
      "\u001b[36mfaf3gttjnl-algo-1-inz3f |\u001b[0m SM_HOSTS=[\"algo-1-inz3f\"]\n",
      "\u001b[36mfaf3gttjnl-algo-1-inz3f |\u001b[0m SM_NETWORK_INTERFACE_NAME=eth0\n",
      "\u001b[36mfaf3gttjnl-algo-1-inz3f |\u001b[0m SM_HPS={\"epochs\":1,\"learning-rate\":0.5,\"model_dir\":\"s3://sagemaker-ap-northeast-2-889750940888/keras-fashion-mnist-debugger/output/tensorflow-training-2021-12-10-01-40-52-533/model\"}\n",
      "\u001b[36mfaf3gttjnl-algo-1-inz3f |\u001b[0m SM_USER_ENTRY_POINT=mnist_keras_tf.py\n",
      "\u001b[36mfaf3gttjnl-algo-1-inz3f |\u001b[0m SM_FRAMEWORK_PARAMS={}\n",
      "\u001b[36mfaf3gttjnl-algo-1-inz3f |\u001b[0m SM_RESOURCE_CONFIG={\"current_host\":\"algo-1-inz3f\",\"hosts\":[\"algo-1-inz3f\"]}\n",
      "\u001b[36mfaf3gttjnl-algo-1-inz3f |\u001b[0m SM_INPUT_DATA_CONFIG={\"training\":{\"TrainingInputMode\":\"File\"},\"validation\":{\"TrainingInputMode\":\"File\"}}\n",
      "\u001b[36mfaf3gttjnl-algo-1-inz3f |\u001b[0m SM_OUTPUT_DATA_DIR=/opt/ml/output/data\n",
      "\u001b[36mfaf3gttjnl-algo-1-inz3f |\u001b[0m SM_CHANNELS=[\"training\",\"validation\"]\n",
      "\u001b[36mfaf3gttjnl-algo-1-inz3f |\u001b[0m SM_CURRENT_HOST=algo-1-inz3f\n",
      "\u001b[36mfaf3gttjnl-algo-1-inz3f |\u001b[0m SM_MODULE_NAME=mnist_keras_tf\n",
      "\u001b[36mfaf3gttjnl-algo-1-inz3f |\u001b[0m SM_LOG_LEVEL=20\n",
      "\u001b[36mfaf3gttjnl-algo-1-inz3f |\u001b[0m SM_FRAMEWORK_MODULE=sagemaker_tensorflow_container.training:main\n",
      "\u001b[36mfaf3gttjnl-algo-1-inz3f |\u001b[0m SM_INPUT_DIR=/opt/ml/input\n",
      "\u001b[36mfaf3gttjnl-algo-1-inz3f |\u001b[0m SM_INPUT_CONFIG_DIR=/opt/ml/input/config\n",
      "\u001b[36mfaf3gttjnl-algo-1-inz3f |\u001b[0m SM_OUTPUT_DIR=/opt/ml/output\n",
      "\u001b[36mfaf3gttjnl-algo-1-inz3f |\u001b[0m SM_NUM_CPUS=8\n",
      "\u001b[36mfaf3gttjnl-algo-1-inz3f |\u001b[0m SM_NUM_GPUS=0\n",
      "\u001b[36mfaf3gttjnl-algo-1-inz3f |\u001b[0m SM_MODEL_DIR=/opt/ml/model\n",
      "\u001b[36mfaf3gttjnl-algo-1-inz3f |\u001b[0m SM_MODULE_DIR=s3://sagemaker-ap-northeast-2-889750940888/tensorflow-training-2021-12-10-01-40-52-533/source/sourcedir.tar.gz\n",
      "\u001b[36mfaf3gttjnl-algo-1-inz3f |\u001b[0m SM_TRAINING_ENV={\"additional_framework_parameters\":{},\"channel_input_dirs\":{\"training\":\"/opt/ml/input/data/training\",\"validation\":\"/opt/ml/input/data/validation\"},\"current_host\":\"algo-1-inz3f\",\"framework_module\":\"sagemaker_tensorflow_container.training:main\",\"hosts\":[\"algo-1-inz3f\"],\"hyperparameters\":{\"epochs\":1,\"learning-rate\":0.5,\"model_dir\":\"s3://sagemaker-ap-northeast-2-889750940888/keras-fashion-mnist-debugger/output/tensorflow-training-2021-12-10-01-40-52-533/model\"},\"input_config_dir\":\"/opt/ml/input/config\",\"input_data_config\":{\"training\":{\"TrainingInputMode\":\"File\"},\"validation\":{\"TrainingInputMode\":\"File\"}},\"input_dir\":\"/opt/ml/input\",\"is_master\":true,\"job_name\":\"tensorflow-training-2021-12-10-01-40-52-533\",\"log_level\":20,\"master_hostname\":\"algo-1-inz3f\",\"model_dir\":\"/opt/ml/model\",\"module_dir\":\"s3://sagemaker-ap-northeast-2-889750940888/tensorflow-training-2021-12-10-01-40-52-533/source/sourcedir.tar.gz\",\"module_name\":\"mnist_keras_tf\",\"network_interface_name\":\"eth0\",\"num_cpus\":8,\"num_gpus\":0,\"output_data_dir\":\"/opt/ml/output/data\",\"output_dir\":\"/opt/ml/output\",\"output_intermediate_dir\":\"/opt/ml/output/intermediate\",\"resource_config\":{\"current_host\":\"algo-1-inz3f\",\"hosts\":[\"algo-1-inz3f\"]},\"user_entry_point\":\"mnist_keras_tf.py\"}\n",
      "\u001b[36mfaf3gttjnl-algo-1-inz3f |\u001b[0m SM_USER_ARGS=[\"--epochs\",\"1\",\"--learning-rate\",\"0.5\",\"--model_dir\",\"s3://sagemaker-ap-northeast-2-889750940888/keras-fashion-mnist-debugger/output/tensorflow-training-2021-12-10-01-40-52-533/model\"]\n",
      "\u001b[36mfaf3gttjnl-algo-1-inz3f |\u001b[0m SM_OUTPUT_INTERMEDIATE_DIR=/opt/ml/output/intermediate\n",
      "\u001b[36mfaf3gttjnl-algo-1-inz3f |\u001b[0m SM_CHANNEL_TRAINING=/opt/ml/input/data/training\n",
      "\u001b[36mfaf3gttjnl-algo-1-inz3f |\u001b[0m SM_CHANNEL_VALIDATION=/opt/ml/input/data/validation\n",
      "\u001b[36mfaf3gttjnl-algo-1-inz3f |\u001b[0m SM_HP_EPOCHS=1\n",
      "\u001b[36mfaf3gttjnl-algo-1-inz3f |\u001b[0m SM_HP_LEARNING-RATE=0.5\n",
      "\u001b[36mfaf3gttjnl-algo-1-inz3f |\u001b[0m SM_HP_MODEL_DIR=s3://sagemaker-ap-northeast-2-889750940888/keras-fashion-mnist-debugger/output/tensorflow-training-2021-12-10-01-40-52-533/model\n",
      "\u001b[36mfaf3gttjnl-algo-1-inz3f |\u001b[0m PYTHONPATH=/opt/ml/code:/usr/local/bin:/usr/local/lib/python36.zip:/usr/local/lib/python3.6:/usr/local/lib/python3.6/lib-dynload:/usr/local/lib/python3.6/site-packages\n",
      "\u001b[36mfaf3gttjnl-algo-1-inz3f |\u001b[0m \n",
      "\u001b[36mfaf3gttjnl-algo-1-inz3f |\u001b[0m Invoking script with the following command:\n",
      "\u001b[36mfaf3gttjnl-algo-1-inz3f |\u001b[0m \n",
      "\u001b[36mfaf3gttjnl-algo-1-inz3f |\u001b[0m /usr/local/bin/python3.6 mnist_keras_tf.py --epochs 1 --learning-rate 0.5 --model_dir s3://sagemaker-ap-northeast-2-889750940888/keras-fashion-mnist-debugger/output/tensorflow-training-2021-12-10-01-40-52-533/model\n",
      "\u001b[36mfaf3gttjnl-algo-1-inz3f |\u001b[0m \n",
      "\u001b[36mfaf3gttjnl-algo-1-inz3f |\u001b[0m \n",
      "\u001b[36mfaf3gttjnl-algo-1-inz3f |\u001b[0m x_train shape: (60000, 28, 28)\n",
      "\u001b[36mfaf3gttjnl-algo-1-inz3f |\u001b[0m 60000 train samples\n",
      "\u001b[36mfaf3gttjnl-algo-1-inz3f |\u001b[0m 10000 test samples\n",
      "\u001b[36mfaf3gttjnl-algo-1-inz3f |\u001b[0m Model: \"sequential\"\n",
      "\u001b[36mfaf3gttjnl-algo-1-inz3f |\u001b[0m _________________________________________________________________\n",
      "\u001b[36mfaf3gttjnl-algo-1-inz3f |\u001b[0m Layer (type)                 Output Shape              Param #   \n",
      "\u001b[36mfaf3gttjnl-algo-1-inz3f |\u001b[0m =================================================================\n",
      "\u001b[36mfaf3gttjnl-algo-1-inz3f |\u001b[0m flatten (Flatten)            (None, 784)               0         \n",
      "\u001b[36mfaf3gttjnl-algo-1-inz3f |\u001b[0m _________________________________________________________________\n",
      "\u001b[36mfaf3gttjnl-algo-1-inz3f |\u001b[0m dense (Dense)                (None, 512)               401920    \n",
      "\u001b[36mfaf3gttjnl-algo-1-inz3f |\u001b[0m _________________________________________________________________\n",
      "\u001b[36mfaf3gttjnl-algo-1-inz3f |\u001b[0m dense_1 (Dense)              (None, 10)                5130      \n",
      "\u001b[36mfaf3gttjnl-algo-1-inz3f |\u001b[0m =================================================================\n",
      "\u001b[36mfaf3gttjnl-algo-1-inz3f |\u001b[0m Total params: 407,050\n",
      "\u001b[36mfaf3gttjnl-algo-1-inz3f |\u001b[0m Trainable params: 407,050\n",
      "\u001b[36mfaf3gttjnl-algo-1-inz3f |\u001b[0m Non-trainable params: 0\n",
      "\u001b[36mfaf3gttjnl-algo-1-inz3f |\u001b[0m _________________________________________________________________\n",
      "\u001b[36mfaf3gttjnl-algo-1-inz3f |\u001b[0m None\n",
      "\u001b[36mfaf3gttjnl-algo-1-inz3f |\u001b[0m Train on 60000 samples, validate on 10000 samples\n",
      "60000/60000 [==============================] - 3s 46us/sample - loss: 0.5107 - accuracy: 0.8209 - val_loss: 0.4232 - val_accuracy: 0.8529\n",
      "\u001b[36mfaf3gttjnl-algo-1-inz3f |\u001b[0m Validation loss    : 0.42322997529506684\n",
      "\u001b[36mfaf3gttjnl-algo-1-inz3f |\u001b[0m Validation accuracy: 0.8529\n",
      "\u001b[36mfaf3gttjnl-algo-1-inz3f |\u001b[0m Using TensorFlow backend.\n",
      "\u001b[36mfaf3gttjnl-algo-1-inz3f |\u001b[0m 2021-12-10 01:41:03.793896: W tensorflow/python/util/util.cc:319] Sets are not currently considered sequences, but this may change in the future, so consider avoiding using them.\n",
      "\u001b[36mfaf3gttjnl-algo-1-inz3f |\u001b[0m WARNING:tensorflow:From /usr/local/lib/python3.6/site-packages/tensorflow_core/python/ops/resource_variable_ops.py:1786: calling BaseResourceVariable.__init__ (from tensorflow.python.ops.resource_variable_ops) with constraint is deprecated and will be removed in a future version.\n",
      "\u001b[36mfaf3gttjnl-algo-1-inz3f |\u001b[0m Instructions for updating:\n",
      "\u001b[36mfaf3gttjnl-algo-1-inz3f |\u001b[0m If using Keras pass *_constraint arguments to layers.\n",
      "\u001b[36mfaf3gttjnl-algo-1-inz3f |\u001b[0m WARNING:tensorflow:From /usr/local/lib/python3.6/site-packages/tensorflow_core/python/ops/resource_variable_ops.py:1786: calling BaseResourceVariable.__init__ (from tensorflow.python.ops.resource_variable_ops) with constraint is deprecated and will be removed in a future version.\n",
      "\u001b[36mfaf3gttjnl-algo-1-inz3f |\u001b[0m Instructions for updating:\n",
      "\u001b[36mfaf3gttjnl-algo-1-inz3f |\u001b[0m If using Keras pass *_constraint arguments to layers.\n",
      "\u001b[36mfaf3gttjnl-algo-1-inz3f |\u001b[0m INFO:tensorflow:Assets written to: /opt/ml/model/1/assets\n",
      "\u001b[36mfaf3gttjnl-algo-1-inz3f |\u001b[0m INFO:tensorflow:Assets written to: /opt/ml/model/1/assets\n",
      "\u001b[36mfaf3gttjnl-algo-1-inz3f |\u001b[0m \n",
      "\u001b[36mfaf3gttjnl-algo-1-inz3f |\u001b[0m 2021-12-10 01:41:04,299 sagemaker-training-toolkit INFO     Reporting training SUCCESS\n",
      "\u001b[36mfaf3gttjnl-algo-1-inz3f exited with code 0\n",
      "\u001b[0mAborting on container exit...\n",
      "===== Job Complete =====\n"
     ]
    }
   ],
   "source": [
    "est_local.fit({'training': training_input_path, 'validation': validation_input_path}) "
   ]
  },
  {
   "cell_type": "markdown",
   "id": "5c42cc66",
   "metadata": {},
   "source": [
    "## Experiments"
   ]
  },
  {
   "cell_type": "code",
   "execution_count": 29,
   "id": "0bde5e08",
   "metadata": {},
   "outputs": [],
   "source": [
    "def create_experiment(experiment_name):\n",
    "    try:\n",
    "        sm_experiment = Experiment.load(experiment_name)\n",
    "    except:\n",
    "        sm_experiment = Experiment.create(experiment_name=experiment_name,\n",
    "                                          tags=[\n",
    "                                              {\n",
    "                                                  'Key': 'modelname',\n",
    "                                                  'Value': 'fashion-mnist'\n",
    "                                              },\n",
    "                                          ])"
   ]
  },
  {
   "cell_type": "code",
   "execution_count": 30,
   "id": "c269b49a",
   "metadata": {},
   "outputs": [],
   "source": [
    "def create_trial(experiment_name, i_type, i_cnt, spot):\n",
    "    create_date = strftime(\"%m%d-%H%M%s\")\n",
    "    \n",
    "    algo = 'dp'\n",
    "    \n",
    "    spot = 's' if spot else 'd'\n",
    "    i_tag = 'test'\n",
    "    \n",
    "    if i_type == 'ml.p3.16xlarge':\n",
    "        i_tag = 'p3'\n",
    "    elif i_type == 'ml.p2.8xlarge':\n",
    "        i_tag = 'p2'\n",
    "    elif i_type == 'ml.p3dn.24xlarge':\n",
    "        i_tag = 'p3dn'\n",
    "    elif i_type == 'ml.p4d.24xlarge':\n",
    "        i_tag = 'p4d'\n",
    "    else:\n",
    "        i_tag = 'others'\n",
    "        \n",
    "    trial = \"-\".join([i_tag,str(i_cnt),algo, spot])\n",
    "       \n",
    "    sm_trial = Trial.create(trial_name=f'{experiment_name}-{trial}-{create_date}',\n",
    "                            experiment_name=experiment_name)\n",
    "\n",
    "    job_name = f'{sm_trial.trial_name}'\n",
    "    return job_name"
   ]
  },
  {
   "cell_type": "code",
   "execution_count": 31,
   "id": "7b4e6c0b",
   "metadata": {},
   "outputs": [
    {
     "data": {
      "text/plain": [
       "'fashion-mnist-debugger-others-1-dp-d-1210-01411639100465'"
      ]
     },
     "execution_count": 31,
     "metadata": {},
     "output_type": "execute_result"
    }
   ],
   "source": [
    "experiment_name = 'fashion-mnist-debugger'\n",
    "instance_type = 'ml.p3.2xlarge'\n",
    "instance_count = 1\n",
    "do_spot_training=False\n",
    "\n",
    "create_experiment(experiment_name)\n",
    "job_name = create_trial(experiment_name, instance_type, instance_count, do_spot_training)\n",
    "job_name"
   ]
  },
  {
   "cell_type": "markdown",
   "id": "191c3c03",
   "metadata": {},
   "source": [
    "## Debugger\n",
    "- https://github.com/aws/amazon-sagemaker-examples/blob/master/sagemaker-debugger/tensorflow2/tensorflow2_zero_code_change/tf2-keras-default-container.ipynb"
   ]
  },
  {
   "cell_type": "markdown",
   "id": "a7d31019",
   "metadata": {},
   "source": [
    "### Hook"
   ]
  },
  {
   "cell_type": "code",
   "execution_count": 56,
   "id": "cac7fb6a",
   "metadata": {},
   "outputs": [],
   "source": [
    "hook_config = DebuggerHookConfig(\n",
    "    hook_parameters={\"save_interval\": \"100\"},\n",
    "    collection_configs=[\n",
    "        CollectionConfig(\"weights\"),\n",
    "        CollectionConfig(name=\"biases\", parameters={\"save_interval\": \"10\", \"end_step\": \"500\"}),\n",
    "    ],\n",
    ")"
   ]
  },
  {
   "cell_type": "markdown",
   "id": "ddfb2689",
   "metadata": {},
   "source": [
    "### Rules"
   ]
  },
  {
   "cell_type": "code",
   "execution_count": 57,
   "id": "2fa0ca61",
   "metadata": {},
   "outputs": [],
   "source": [
    "rules = [\n",
    "    Rule.sagemaker(rule_configs.vanishing_gradient()),\n",
    "    Rule.sagemaker(rule_configs.loss_not_decreasing()),\n",
    "    ProfilerRule.sagemaker(rule_configs.ProfilerReport()),\n",
    "]"
   ]
  },
  {
   "cell_type": "markdown",
   "id": "467c3bd8",
   "metadata": {},
   "source": [
    "### Profiler"
   ]
  },
  {
   "cell_type": "code",
   "execution_count": 58,
   "id": "81870720",
   "metadata": {},
   "outputs": [],
   "source": [
    "from sagemaker.debugger import ProfilerConfig, FrameworkProfile\n",
    "\n",
    "profiler_config = ProfilerConfig(\n",
    "    system_monitor_interval_millis=500,\n",
    "    framework_profile_params=FrameworkProfile(num_steps=10)\n",
    ")"
   ]
  },
  {
   "cell_type": "markdown",
   "id": "633906ec",
   "metadata": {},
   "source": [
    "### Training"
   ]
  },
  {
   "cell_type": "code",
   "execution_count": 60,
   "id": "15e376c4",
   "metadata": {},
   "outputs": [],
   "source": [
    "hyperparams_managed={'epochs': 500,\n",
    "                     'learning-rate': 0.05\n",
    "                    }"
   ]
  },
  {
   "cell_type": "code",
   "execution_count": 61,
   "id": "91d7563a",
   "metadata": {},
   "outputs": [],
   "source": [
    "est_managed = TensorFlow(entry_point='mnist_keras_tf.py', \n",
    "                         role=role,\n",
    "                         instance_count=instance_count, \n",
    "                         instance_type=instance_type,\n",
    "                         framework_version='2.1', \n",
    "                         py_version='py3',\n",
    "                         output_path=output_path,\n",
    "                         hyperparameters=hyperparams_managed,\n",
    "                         metric_definitions=metric_definitions,\n",
    "                         base_job_name='tensorflow-debugger',\n",
    "#                          rules=rules,\n",
    "#                          debugger_hook_config=hook_config,\n",
    "                         disable_profiler=False # default: False\n",
    "                         )"
   ]
  },
  {
   "cell_type": "code",
   "execution_count": 62,
   "id": "1d538a53",
   "metadata": {},
   "outputs": [
    {
     "name": "stderr",
     "output_type": "stream",
     "text": [
      "INFO:sagemaker.image_uris:Defaulting to the only supported framework/algorithm version: latest.\n",
      "INFO:sagemaker.image_uris:Ignoring unnecessary instance type: None.\n",
      "INFO:sagemaker:Creating training-job with name: tensorflow-debugger-2021-12-10-02-38-05-880\n"
     ]
    }
   ],
   "source": [
    "est_managed.fit(inputs={'training': training_input_path, 'validation': validation_input_path},\n",
    "                experiment_config={\n",
    "                    'TrialName': job_name,\n",
    "                    'TrialComponentDisplayName': job_name,\n",
    "                },\n",
    "                wait=False)"
   ]
  },
  {
   "cell_type": "markdown",
   "id": "988c3ef4",
   "metadata": {},
   "source": [
    "### Download profiler report"
   ]
  },
  {
   "cell_type": "code",
   "execution_count": 50,
   "id": "600dfcf2",
   "metadata": {},
   "outputs": [],
   "source": [
    "profiler_path = './profiler-{}'.format(strftime(\"%m%d-%H%M%s\"))"
   ]
  },
  {
   "cell_type": "code",
   "execution_count": 52,
   "id": "f7caeaf6",
   "metadata": {},
   "outputs": [],
   "source": [
    "os.makedirs(profiler_path, exist_ok=True)"
   ]
  },
  {
   "cell_type": "code",
   "execution_count": 53,
   "id": "5537895b",
   "metadata": {},
   "outputs": [
    {
     "data": {
      "text/plain": [
       "'s3://sagemaker-ap-northeast-2-889750940888/keras-fashion-mnist-debugger/output/tensorflow-debugger-2021-12-10-02-17-49-503/rule-output'"
      ]
     },
     "execution_count": 53,
     "metadata": {},
     "output_type": "execute_result"
    }
   ],
   "source": [
    "rule_output_path = est_managed.output_path + '/' + est_managed.latest_training_job.job_name + \"/rule-output\"\n",
    "rule_output_path"
   ]
  },
  {
   "cell_type": "code",
   "execution_count": 54,
   "id": "0e952649",
   "metadata": {},
   "outputs": [
    {
     "name": "stdout",
     "output_type": "stream",
     "text": [
      "download: s3://sagemaker-ap-northeast-2-889750940888/keras-fashion-mnist-debugger/output/tensorflow-debugger-2021-12-10-02-17-49-503/rule-output/ProfilerReport/profiler-output/profiler-report.ipynb to profiler-1210-02271639103253/ProfilerReport/profiler-output/profiler-report.ipynb\n",
      "download: s3://sagemaker-ap-northeast-2-889750940888/keras-fashion-mnist-debugger/output/tensorflow-debugger-2021-12-10-02-17-49-503/rule-output/ProfilerReport/profiler-output/profiler-reports/LowGPUUtilization.json to profiler-1210-02271639103253/ProfilerReport/profiler-output/profiler-reports/LowGPUUtilization.json\n",
      "download: s3://sagemaker-ap-northeast-2-889750940888/keras-fashion-mnist-debugger/output/tensorflow-debugger-2021-12-10-02-17-49-503/rule-output/ProfilerReport/profiler-output/profiler-reports/Dataloader.json to profiler-1210-02271639103253/ProfilerReport/profiler-output/profiler-reports/Dataloader.json\n",
      "download: s3://sagemaker-ap-northeast-2-889750940888/keras-fashion-mnist-debugger/output/tensorflow-debugger-2021-12-10-02-17-49-503/rule-output/ProfilerReport/profiler-output/profiler-reports/IOBottleneck.json to profiler-1210-02271639103253/ProfilerReport/profiler-output/profiler-reports/IOBottleneck.json\n",
      "download: s3://sagemaker-ap-northeast-2-889750940888/keras-fashion-mnist-debugger/output/tensorflow-debugger-2021-12-10-02-17-49-503/rule-output/ProfilerReport/profiler-output/profiler-reports/BatchSize.json to profiler-1210-02271639103253/ProfilerReport/profiler-output/profiler-reports/BatchSize.json\n",
      "download: s3://sagemaker-ap-northeast-2-889750940888/keras-fashion-mnist-debugger/output/tensorflow-debugger-2021-12-10-02-17-49-503/rule-output/ProfilerReport/profiler-output/profiler-reports/GPUMemoryIncrease.json to profiler-1210-02271639103253/ProfilerReport/profiler-output/profiler-reports/GPUMemoryIncrease.json\n",
      "download: s3://sagemaker-ap-northeast-2-889750940888/keras-fashion-mnist-debugger/output/tensorflow-debugger-2021-12-10-02-17-49-503/rule-output/ProfilerReport/profiler-output/profiler-reports/CPUBottleneck.json to profiler-1210-02271639103253/ProfilerReport/profiler-output/profiler-reports/CPUBottleneck.json\n",
      "download: s3://sagemaker-ap-northeast-2-889750940888/keras-fashion-mnist-debugger/output/tensorflow-debugger-2021-12-10-02-17-49-503/rule-output/ProfilerReport/profiler-output/profiler-reports/MaxInitializationTime.json to profiler-1210-02271639103253/ProfilerReport/profiler-output/profiler-reports/MaxInitializationTime.json\n",
      "download: s3://sagemaker-ap-northeast-2-889750940888/keras-fashion-mnist-debugger/output/tensorflow-debugger-2021-12-10-02-17-49-503/rule-output/ProfilerReport/profiler-output/profiler-reports/LoadBalancing.json to profiler-1210-02271639103253/ProfilerReport/profiler-output/profiler-reports/LoadBalancing.json\n",
      "download: s3://sagemaker-ap-northeast-2-889750940888/keras-fashion-mnist-debugger/output/tensorflow-debugger-2021-12-10-02-17-49-503/rule-output/ProfilerReport/profiler-output/profiler-report.html to profiler-1210-02271639103253/ProfilerReport/profiler-output/profiler-report.html\n",
      "download: s3://sagemaker-ap-northeast-2-889750940888/keras-fashion-mnist-debugger/output/tensorflow-debugger-2021-12-10-02-17-49-503/rule-output/ProfilerReport/profiler-output/profiler-reports/OverallFrameworkMetrics.json to profiler-1210-02271639103253/ProfilerReport/profiler-output/profiler-reports/OverallFrameworkMetrics.json\n",
      "download: s3://sagemaker-ap-northeast-2-889750940888/keras-fashion-mnist-debugger/output/tensorflow-debugger-2021-12-10-02-17-49-503/rule-output/ProfilerReport/profiler-output/profiler-reports/OverallSystemUsage.json to profiler-1210-02271639103253/ProfilerReport/profiler-output/profiler-reports/OverallSystemUsage.json\n",
      "download: s3://sagemaker-ap-northeast-2-889750940888/keras-fashion-mnist-debugger/output/tensorflow-debugger-2021-12-10-02-17-49-503/rule-output/ProfilerReport/profiler-output/profiler-reports/StepOutlier.json to profiler-1210-02271639103253/ProfilerReport/profiler-output/profiler-reports/StepOutlier.json\n"
     ]
    }
   ],
   "source": [
    "! aws s3 cp {rule_output_path} {profiler_path} --recursive"
   ]
  },
  {
   "cell_type": "code",
   "execution_count": null,
   "id": "429bf399",
   "metadata": {},
   "outputs": [],
   "source": []
  }
 ],
 "metadata": {
  "kernelspec": {
   "display_name": "conda_tensorflow2_p36",
   "language": "python",
   "name": "conda_tensorflow2_p36"
  },
  "language_info": {
   "codemirror_mode": {
    "name": "ipython",
    "version": 3
   },
   "file_extension": ".py",
   "mimetype": "text/x-python",
   "name": "python",
   "nbconvert_exporter": "python",
   "pygments_lexer": "ipython3",
   "version": "3.6.13"
  }
 },
 "nbformat": 4,
 "nbformat_minor": 5
}
